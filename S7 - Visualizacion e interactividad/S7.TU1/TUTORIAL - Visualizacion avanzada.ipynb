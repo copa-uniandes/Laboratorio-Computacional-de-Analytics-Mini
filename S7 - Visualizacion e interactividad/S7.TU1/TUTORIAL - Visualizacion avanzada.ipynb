{
 "cells": [
  {
   "cell_type": "markdown",
   "metadata": {},
   "source": [
    "![miad4.png](Archivos/miad4.png)"
   ]
  },
  {
   "cell_type": "code",
   "execution_count": null,
   "metadata": {
    "tags": [
     "hide-input",
     "thebe-init"
    ]
   },
   "outputs": [],
   "source": [
    "import os\n",
    "# Por precaución, cambiamos el directorio activo de Python a aquel que contenga este notebook\n",
    "if \"PAD-book\" in os.listdir():\n",
    "    os.chdir(r\"PAD-book/Laboratorio-Computacional-de-Analytics/S7 - Visualizacion e interactividad/S7.TU1/\")"
   ]
  },
  {
   "cell_type": "markdown",
   "metadata": {},
   "source": [
    "# Visualización interactiva"
   ]
  },
  {
   "cell_type": "markdown",
   "metadata": {},
   "source": [
    "Cuando abordamos un proyecto de analítica de datos nos enfrentamos al siguiente reto: ¿Cómo generar valor a partir de grandes volúmenes de información recolectada? Visualizar la información a través de mapas o gráficos simplifica este reto, ya que facilita la identificación de tendencias, patrones y valores atípicos. Usualmente utilizamos las visualizaciones para decidir cómo orientar nuestro análisis."
   ]
  },
  {
   "cell_type": "markdown",
   "metadata": {},
   "source": [
    "En este tutorial establecemos nociones fundamentales sobre el uso de las librerías `plotly` y `ipywidgets` para integrarlas en procesos de visualización de datos."
   ]
  },
  {
   "cell_type": "markdown",
   "metadata": {},
   "source": [
    "## Requisitos"
   ]
  },
  {
   "cell_type": "markdown",
   "metadata": {},
   "source": [
    "Para desarrollar este tutorial necesitarás:\n",
    "\n",
    "* Utilizar estructuras de datos.\n",
    "* Implementar estructuras de control.\n",
    "* Utilizar la librería `pandas`. "
   ]
  },
  {
   "cell_type": "markdown",
   "metadata": {},
   "source": [
    "## Objetivos"
   ]
  },
  {
   "cell_type": "markdown",
   "metadata": {},
   "source": [
    "Al final de este tutorial podrás:\n",
    "\n",
    "**1.** Crear diferentes tipos de visualizaciones en `plotly` y personalizarlas de manera amigable. <br />\n",
    "**2.** Utilizar `ipywidgets` para explorar datos de forma interactiva. <br />\n",
    "**3.** Crear visualizaciones interactivas en `plotly` con `ipywidgets`."
   ]
  },
  {
   "cell_type": "markdown",
   "metadata": {},
   "source": [
    "## 1. Librería `plotly`"
   ]
  },
  {
   "cell_type": "markdown",
   "metadata": {},
   "source": [
    "`plotly` es una librería interactiva de uso abierto para el lenguaje Python, que soporta más de 40 tipos de visualizaciones únicas. Estas cubren una amplia gama de casos de uso estadístico, financiero, geográfico y científico. Esta librería nos permite crear visualizaciones interactivas que podemos mostrar en Jupyter Notebook, guardar en archivos HTML o utilizar como parte de aplicaciones web construidas con Python utilizando Dash. "
   ]
  },
  {
   "cell_type": "markdown",
   "metadata": {},
   "source": [
    "### 1.1. Declarar una figura en `plotly`"
   ]
  },
  {
   "cell_type": "markdown",
   "metadata": {},
   "source": [
    "#### Declarar una figura como un diccionario"
   ]
  },
  {
   "cell_type": "markdown",
   "metadata": {},
   "source": [
    "Declarar una figura haciendo uso de una estructura de datos conocida como un diccionario es el primer paso para entender el funcionamiento de `plotly`. Te recomendamos importar el módulo `plotly.io` utilizando el nombre `pio`(su alias más frecuentemente usado), como se muestra a continuación."
   ]
  },
  {
   "cell_type": "code",
   "execution_count": null,
   "metadata": {},
   "outputs": [],
   "source": [
    "import plotly.io as pio"
   ]
  },
  {
   "cell_type": "markdown",
   "metadata": {},
   "source": [
    "A continuación definimos los componentes necesarios para declarar una figura haciendo uso de un diccionario."
   ]
  },
  {
   "cell_type": "code",
   "execution_count": null,
   "metadata": {},
   "outputs": [],
   "source": [
    "# Declaramos una figura.\n",
    "fig = {\n",
    "        # Definimos los datos para crear una figura.\n",
    "        \"data\": [\n",
    "                    # Definimos la primera serie de datos de nuestra figura.\n",
    "                    {\n",
    "                        \"type\": \"bar\",   # Tipo de visualización. En este caso definimos un gráfico de barras.\n",
    "                        \"x\": [1, 2, 3],  # Eje x. En este caso corresponde a los nombres de las categorías del eje.\n",
    "                        \"y\": [1, 3, 2]   # Eje y. En este caso corresponde a la frecuencia observada para cada categoría.\n",
    "                    }, \n",
    "            \n",
    "                    # Definimos la segunda serie de datos de nuestra figura.\n",
    "                    {\n",
    "                        \"type\": \"bar\",\n",
    "                        \"x\": [1, 2, 3],\n",
    "                        \"y\": [3, 4, 5]\n",
    "                    }\n",
    "                ]\n",
    "       }"
   ]
  },
  {
   "cell_type": "markdown",
   "metadata": {},
   "source": [
    "Después de definir la figura utilizamos la función `show` para mostrarla."
   ]
  },
  {
   "cell_type": "code",
   "execution_count": null,
   "metadata": {
    "scrolled": false
   },
   "outputs": [],
   "source": [
    "pio.show(fig)"
   ]
  },
  {
   "cell_type": "markdown",
   "metadata": {},
   "source": [
    "#### Declarar una figura como un objeto gráfico"
   ]
  },
  {
   "cell_type": "markdown",
   "metadata": {},
   "source": [
    "Declarar una figura haciendo uso de un objeto gráfico tiene ventajas frente a declararla como un diccionario. De esta manera, podemos:\n",
    "\n",
    "1. Realizar una validación de los datos de manera precisa.\n",
    "2. Acceder a las propiedades de los objetos gráficos utilizando dos tipos de sintaxis: la de los diccionarios (e. g., `fig['layout']`) y la de las clases (e. g., `fig.layout`).\n",
    "3. Acceder a funciones útiles al momento de modificar figuras (e. g., `add_trace` y `update_layout`)."
   ]
  },
  {
   "cell_type": "markdown",
   "metadata": {},
   "source": [
    "Para declarar una figura haciendo uso de un objeto gráfico, te recomendamos importar el módulo `plotly.graph_objects` utilizando el nombre `go` (su alias más frecuentemente usado), como se muestra a continuación."
   ]
  },
  {
   "cell_type": "code",
   "execution_count": null,
   "metadata": {},
   "outputs": [],
   "source": [
    "import plotly.graph_objects as go"
   ]
  },
  {
   "cell_type": "markdown",
   "metadata": {},
   "source": [
    "A continuación definimos los componentes necesarios para declarar una figura haciendo uso de un objeto gráfico."
   ]
  },
  {
   "cell_type": "code",
   "execution_count": null,
   "metadata": {},
   "outputs": [],
   "source": [
    "# Declaramos una figura.\n",
    "fig = go.Figure(\n",
    "                # Definimos los datos para crear una figura.\n",
    "                data = [\n",
    "                        # Definimos la primera serie de datos de nuestra figura.\n",
    "                        # Tipo de visualización. En este caso definimos un gráfico de barras.\n",
    "                        go.Bar(\n",
    "                                x = [1, 2, 3], # Eje x. En este caso corresponde a los nombres de las categorias del eje.\n",
    "                                y = [1, 3, 2] # Eje y. En este caso corresponde a la frecuencia observada para cada categoria.\n",
    "                              ),\n",
    "\n",
    "                        # Definimos la segunda serie de datos de nuestra figura.\n",
    "                        go.Bar(\n",
    "                                x = [1, 2, 3], \n",
    "                                y = [3, 4, 5]\n",
    "                              )\n",
    "                       ]\n",
    "                )"
   ]
  },
  {
   "cell_type": "markdown",
   "metadata": {},
   "source": [
    "Despúes de definir la figura, utilizamos el método `show` para mostrarla."
   ]
  },
  {
   "cell_type": "code",
   "execution_count": null,
   "metadata": {
    "scrolled": true
   },
   "outputs": [],
   "source": [
    "fig.show()"
   ]
  },
  {
   "cell_type": "markdown",
   "metadata": {},
   "source": [
    "### 1.2. Tipos de visualizaciones"
   ]
  },
  {
   "cell_type": "markdown",
   "metadata": {},
   "source": [
    "#### Principales tipos de visualizaciones"
   ]
  },
  {
   "cell_type": "markdown",
   "metadata": {},
   "source": [
    "La siguiente tabla asocia algunos de los métodos del módulo `go` con el respectivo tipo de visualización que genera. "
   ]
  },
  {
   "cell_type": "markdown",
   "metadata": {},
   "source": [
    "| <center>Método<center> | <center>Tipo de visualización<center> | \n",
    "| :--- | :--- | \n",
    "| `Scatter` | Gráfico de línea, dispersión y burbuja |\n",
    "| `Histogram` | Histogramas |\n",
    "| `Bar` | Gráfico de barras |\n",
    "| `Waterfall` | Gráfico de cascada |\n",
    "| `Pie` | Diagrama de torta |\n",
    "| `Box` | Diagrama de caja |\n",
    "| `Splom` | Matriz de dispersión  |"
   ]
  },
  {
   "cell_type": "markdown",
   "metadata": {},
   "source": [
    "#### Gráfico de línea"
   ]
  },
  {
   "cell_type": "markdown",
   "metadata": {},
   "source": [
    "Para crear un gráfico de línea utilizamos colecciones de objetos llamadas trazos (`traces`). En primer lugar, creamos un objeto figura. Posteriormente, utilizamos el método `add_trace` para agregar un trazo por cada una de las series de datos que queremos mostrar en nuestra figura. Para finalizar, modificaremos el gráfico añadiéndole títulos y leyendas."
   ]
  },
  {
   "cell_type": "code",
   "execution_count": null,
   "metadata": {},
   "outputs": [],
   "source": [
    "# Creamos el objeto figura.\n",
    "fig = go.Figure()\n",
    "\n",
    "# Agregamos el primer trazo.\n",
    "fig.add_trace(\n",
    "        go.Scatter(\n",
    "                    x = [2017,2018,2019,2020], # Coordenadas en el eje x.\n",
    "                    y = [10,20,30,40],         # Coordenadas en el eje y.\n",
    "                    name = \"A\"                 # Nombre de la serie.\n",
    "                  )\n",
    "            )\n",
    "\n",
    "# Agregamos el segundo trazo.\n",
    "fig.add_trace(\n",
    "        go.Scatter(\n",
    "                    x = [2017,2018,2019,2020], # Coordenadas en el eje x.\n",
    "                    y = [32,34,36,38],         # Coordenadas en el eje y.\n",
    "                    name = \"B\"                 # Nombre de la serie.\n",
    "                  )\n",
    "            )\n",
    "\n",
    "# Modificamos el estilo del diseño.\n",
    "fig.update_layout(\n",
    "        # Definimos el título del gráfico.\n",
    "        title = \"Unidades Vendidas entre 2017 y 2020\",\n",
    "        # Definimos el título del eje x.\n",
    "        xaxis_title = \"Año\",\n",
    "        # Definimos el título del eje y.\n",
    "        yaxis_title = \"Unidades Vendidas\",\n",
    "        # Definimos el título de la leyenda.\n",
    "        legend_title = \"Producto\",\n",
    "        # Agregamos los años como etiquetas del eje x.\n",
    "        xaxis = dict(\n",
    "                      tickmode = 'linear', # Modo de las etiquetas.\n",
    "                      tick0 = 2017,        # Etiqueta de inicio. En este caso, 2017.\n",
    "                      dtick = 1            # Aumento entre etiquetas. En este caso, 1.\n",
    "                    )\n",
    "                )\n",
    "\n",
    "# Mostramos la figura.\n",
    "fig.show()"
   ]
  },
  {
   "cell_type": "markdown",
   "metadata": {},
   "source": [
    "#### Serie de tiempo"
   ]
  },
  {
   "cell_type": "markdown",
   "metadata": {},
   "source": [
    "A continuación, crearemos una serie de tiempo y modificaremos los siguientes elementos del gráfico: el color de la línea, el color de fondo del área del gráfico y los colores de los ejes."
   ]
  },
  {
   "cell_type": "code",
   "execution_count": null,
   "metadata": {},
   "outputs": [],
   "source": [
    "# Importamos la librería de números aleatorios.\n",
    "from random import random\n",
    "\n",
    "# Declaramos una figura.\n",
    "fig = go.Figure(\n",
    "                data = [\n",
    "                        # Tipo de visualización. En este caso definimos una serie de tiempo.\n",
    "                        go.Scatter(\n",
    "                                    x = [i for i in range(100)],              # Coordenadas en el eje x. Estas se encuentran entre 0 y 100.\n",
    "                                    y = [2*random()-1 for i in range(100)],   # Coordenadas en el eje y. Estas de detrminan de manera aleatoria.\n",
    "                                    line = go.scatter.Line(color = \"#228b22\") # Modificamos el color de la línea. Código HEX. \n",
    "                                  )\n",
    "                       ],\n",
    "                # Modificamos el estilo del diseño.       \n",
    "                layout = go.Layout(\n",
    "                                    title = \"Serie de tiempo\",  # Definimos el título del gráfico.\n",
    "                                    plot_bgcolor = \"#1a2421\",   # Modificamos el fondo del área del gráfico. Código HEX.\n",
    "                                  )\n",
    "                )\n",
    "\n",
    "fig.update_xaxes(gridcolor = '#d3d3d3') # Modificamos los colores del eje x. Código HEX.\n",
    "fig.update_yaxes(gridcolor = '#d3d3d3') # Modificamos los colores del eje y. Código HEX.\n",
    "\n",
    "# Mostramos la figura.\n",
    "fig.show()"
   ]
  },
  {
   "cell_type": "markdown",
   "metadata": {},
   "source": [
    "#### Diagrama de caja"
   ]
  },
  {
   "cell_type": "markdown",
   "metadata": {},
   "source": [
    "A continuación crearemos una diagrama de caja."
   ]
  },
  {
   "cell_type": "code",
   "execution_count": null,
   "metadata": {
    "scrolled": true
   },
   "outputs": [],
   "source": [
    "# Declaramos una figura.\n",
    "fig = go.Figure(\n",
    "                data = [ \n",
    "                    # Tipo de visualización. En este caso definimos un diagrama de caja.\n",
    "                    go.Box(\n",
    "                            y = [2*random()-1 for i in range(100)], # Definimos los valores de la serie de datos.\n",
    "                            name = \"Grupo 1\",                       # Definimos nombre de la serie de datos.\n",
    "                            marker_color = 'yellow'                 # Definimos el color del diagrama.\n",
    "                               ),\n",
    "                    # Tipo de visualización. En este caso definimos un diagrama de caja.\n",
    "                    go.Box(\n",
    "                            y = [2*random()-.5 for i in range(100)], # Definimos los valores de la serie de datos.\n",
    "                            name = \"Grupo 2\",                        # Definimos nombre de la serie de datos.\n",
    "                            marker_color = 'green'                   # Definimos color del diagrama.\n",
    "                               ) \n",
    "                       ],\n",
    "                # Modificamos el estilo del diseño.\n",
    "                layout = go.Layout(\n",
    "                                    title = \"Distribución valores\",  # Definimos el título del gráfico.\n",
    "                                    xaxis_title = \"Grupos\",          # Definimos el título del eje x.\n",
    "                                    yaxis_title = \"Valor\"            # Definimos el título del eje y.\n",
    "                                  )\n",
    "                )\n",
    "\n",
    "fig.show()"
   ]
  },
  {
   "cell_type": "markdown",
   "metadata": {},
   "source": [
    "## 2. Librería `ipywidgets`"
   ]
  },
  {
   "cell_type": "markdown",
   "metadata": {},
   "source": [
    "`ipywidgets` es una librería de controles HTML interactivos para Jupyter. Esta librería agrega interactividad a los gráficos y al manejo de datos, al otorgar control a los usuarios por medio de controles. Te recomendamos importar la librería `ipywidgets` utilizando el nombre `widgets` (su alias más frecuentemente usado), como se muestra a continuación."
   ]
  },
  {
   "cell_type": "code",
   "execution_count": null,
   "metadata": {},
   "outputs": [],
   "source": [
    "import ipywidgets as widgets"
   ]
  },
  {
   "cell_type": "markdown",
   "metadata": {},
   "source": [
    "A continuación se presenta una tabla que asocia algunos de los principales métodos del objeto `widgets`, que importamos anteriormente, con su respectivo tipo de control. "
   ]
  },
  {
   "cell_type": "markdown",
   "metadata": {},
   "source": [
    "| <center>Método<center> | <center>Tipo de control<center> | \n",
    "| :--- | :--- | \n",
    "| `IntSlider*` | Control deslizante |\n",
    "| `IntRangeSlider*` | Control deslizante (selecciona un rango) |\n",
    "| `IntProgress*` | Barra que muestra el progreso dentro de un total |\n",
    "| `ToggleButton` | Botón de activación |\n",
    "| `Checkbox` | Caja de selección |\n",
    "| `Dropdown` | Lista desplegable |\n",
    "| `RadioButtons` | Botón para seleccionar entre múltiples opciones |\n",
    "| `Select` | Cuadro de selección |\n",
    "| `SelectMultiple` | Cuadro de selección múltiple |\n",
    "| `SelectionSlider` | Control deslizante de selección entre múltiples opciones |\n",
    "| `Text` | Cuadro de texto |\n",
    "\n",
    "*Este método se utiliza para números enteros, para el caso de números decimales reemplazamos `Int` por `Float`. Por ejemplo, el método `IntSlider` para números decimales es `FloatSlider`."
   ]
  },
  {
   "cell_type": "markdown",
   "metadata": {},
   "source": [
    "### 2.1. Controles simples"
   ]
  },
  {
   "cell_type": "markdown",
   "metadata": {},
   "source": [
    "#### Barra deslizante  "
   ]
  },
  {
   "cell_type": "markdown",
   "metadata": {},
   "source": [
    "A continuación, crearemos una barra deslizante (`slider`) y posteriormente, capturaremos su valor para mostrarlo. En primer lugar, declaramos la barra deslizante. Esta tiene un valor mínimo de 1, un valor máximo de 10 y va de 1 en 1.  "
   ]
  },
  {
   "cell_type": "code",
   "execution_count": null,
   "metadata": {},
   "outputs": [],
   "source": [
    "barra_deslizante = widgets.IntSlider(min = 1, max = 10, step = 1)"
   ]
  },
  {
   "cell_type": "markdown",
   "metadata": {},
   "source": [
    "Luego, capturamos el valor seleccionado de la barra deslizante en la variable `seleccion`."
   ]
  },
  {
   "cell_type": "code",
   "execution_count": null,
   "metadata": {},
   "outputs": [],
   "source": [
    "seleccion = widgets.Output()"
   ]
  },
  {
   "cell_type": "markdown",
   "metadata": {},
   "source": [
    "Ahora, definimos una función que actualice el valor de la barra deslizante de acuerdo con la `seleccion` y lo muestre en un mensaje. "
   ]
  },
  {
   "cell_type": "code",
   "execution_count": null,
   "metadata": {},
   "outputs": [],
   "source": [
    "def funcion_a_correr_tras_cambio(info_control): \n",
    "    # Reestablecemos la variable seleccion.\n",
    "    seleccion.clear_output()\n",
    "    # Cuando seleccion toma un nuevo valor.\n",
    "    with seleccion:\n",
    "        # Mostramos un mensaje con el valor del control.\n",
    "        print(\"La barra deslizante toma un valor de \"+ str(info_control['new']))"
   ]
  },
  {
   "cell_type": "markdown",
   "metadata": {},
   "source": [
    "Posteriormente, vinculamos la barra deslizante con la función definida."
   ]
  },
  {
   "cell_type": "code",
   "execution_count": null,
   "metadata": {},
   "outputs": [],
   "source": [
    "barra_deslizante.observe(funcion_a_correr_tras_cambio, names='value')"
   ]
  },
  {
   "cell_type": "markdown",
   "metadata": {},
   "source": [
    "Podemos visualizar e interactuar con la barra deslizante."
   ]
  },
  {
   "cell_type": "code",
   "execution_count": null,
   "metadata": {},
   "outputs": [],
   "source": [
    "barra_deslizante"
   ]
  },
  {
   "cell_type": "markdown",
   "metadata": {},
   "source": [
    "Podemos actualizar el valor de la barra de manera programática (el valor por defecto es el parámetro `min=1`)."
   ]
  },
  {
   "cell_type": "code",
   "execution_count": null,
   "metadata": {},
   "outputs": [],
   "source": [
    "barra_deslizante.value = 2"
   ]
  },
  {
   "cell_type": "markdown",
   "metadata": {},
   "source": [
    "Finalmente, verificamos nuestra implementación mostrando el valor de la barra deslizante."
   ]
  },
  {
   "cell_type": "code",
   "execution_count": null,
   "metadata": {},
   "outputs": [],
   "source": [
    "seleccion"
   ]
  },
  {
   "cell_type": "markdown",
   "metadata": {},
   "source": [
    "#### Casilla de verificación"
   ]
  },
  {
   "cell_type": "markdown",
   "metadata": {},
   "source": [
    "A continuación, crearemos una casilla de verificación (`checkbox`) y posteriormente, capturaremos su valor para mostrarlo. En primer lugar, declaramos la casilla de verificación."
   ]
  },
  {
   "cell_type": "code",
   "execution_count": null,
   "metadata": {},
   "outputs": [],
   "source": [
    "casilla_verificacion = widgets.Checkbox(description='Acepto')"
   ]
  },
  {
   "cell_type": "markdown",
   "metadata": {},
   "source": [
    "Luego, capturamos la selección de la casilla de verificación en la variable `seleccion`."
   ]
  },
  {
   "cell_type": "code",
   "execution_count": null,
   "metadata": {},
   "outputs": [],
   "source": [
    "seleccion = widgets.Output()"
   ]
  },
  {
   "cell_type": "markdown",
   "metadata": {},
   "source": [
    "Ahora, definimos una función que actualice el valor de la casilla de verificación de acuerdo con la `seleccion` y muestre un mensaje. "
   ]
  },
  {
   "cell_type": "code",
   "execution_count": null,
   "metadata": {},
   "outputs": [],
   "source": [
    "def actualizacion(info_control):  \n",
    "    # Reestablecemos la variable seleccion.\n",
    "    seleccion.clear_output()\n",
    "    # Cuando seleccion toma un nuevo valor.\n",
    "    with seleccion:\n",
    "        # Cuando se selecciona la casilla de verificación.\n",
    "        if info_control['new']:\n",
    "            print(\"La persona aceptó\")\n",
    "        # De lo contario.    \n",
    "        else:\n",
    "            print(\"La persona NO aceptó\")"
   ]
  },
  {
   "cell_type": "markdown",
   "metadata": {},
   "source": [
    "Posteriormente, vinculamos la casilla de verificación con la función definida."
   ]
  },
  {
   "cell_type": "code",
   "execution_count": null,
   "metadata": {},
   "outputs": [],
   "source": [
    "casilla_verificacion.observe(actualizacion, names='value')"
   ]
  },
  {
   "cell_type": "markdown",
   "metadata": {},
   "source": [
    "Visualicemos la casilla de verificación."
   ]
  },
  {
   "cell_type": "code",
   "execution_count": null,
   "metadata": {},
   "outputs": [],
   "source": [
    "casilla_verificacion"
   ]
  },
  {
   "cell_type": "markdown",
   "metadata": {},
   "source": [
    "Podemos actualizar el valor de la casilla de manera programática (el valor por defecto es `False`)."
   ]
  },
  {
   "cell_type": "code",
   "execution_count": null,
   "metadata": {},
   "outputs": [],
   "source": [
    "casilla_verificacion.value = True"
   ]
  },
  {
   "cell_type": "markdown",
   "metadata": {},
   "source": [
    "Finalmente, verificamos nuestra implementación mostrando el mensaje definido."
   ]
  },
  {
   "cell_type": "code",
   "execution_count": null,
   "metadata": {
    "scrolled": true
   },
   "outputs": [],
   "source": [
    "seleccion"
   ]
  },
  {
   "cell_type": "markdown",
   "metadata": {},
   "source": [
    "### 2.2.  Integración con bases de datos"
   ]
  },
  {
   "cell_type": "markdown",
   "metadata": {},
   "source": [
    "#### Filtrar valores en una base de datos"
   ]
  },
  {
   "cell_type": "markdown",
   "metadata": {},
   "source": [
    "A continuación, filtraremos valores en una base de datos. Para esto, utilizamos una base de datos que contiene la oferta de alojamientos de Airbnb en Nueva York para el año 2019. En primer lugar, importamos la librería `pandas` para el manejo de la base datos."
   ]
  },
  {
   "cell_type": "code",
   "execution_count": null,
   "metadata": {},
   "outputs": [],
   "source": [
    "import pandas as pd"
   ]
  },
  {
   "cell_type": "markdown",
   "metadata": {},
   "source": [
    "Luego, importamos la base de datos de la oferta de alojamientos de Airbnb en Nueva York y realizamos una breve exploración de esta."
   ]
  },
  {
   "cell_type": "code",
   "execution_count": null,
   "metadata": {
    "scrolled": false,
    "tags": [
     "output_scroll"
    ]
   },
   "outputs": [],
   "source": [
    "datos = pd.read_csv(\"Archivos/AB_NYC_2019.csv\")\n",
    "datos.head()"
   ]
  },
  {
   "cell_type": "markdown",
   "metadata": {},
   "source": [
    "Las variables que utilizaremos se encuentran en la siguiente tabla:"
   ]
  },
  {
   "cell_type": "markdown",
   "metadata": {},
   "source": [
    "| <center>Variable<center> | <center>Descripción<center> | \n",
    "| :--- | :--- | \n",
    "| `neighbourhood_group` | Distrito|\n",
    "| `room_type` | Tipo de alojamiento |\n",
    "| `price` | Precio de una noche de hospedaje |"
   ]
  },
  {
   "cell_type": "markdown",
   "metadata": {},
   "source": [
    "Definimos una función que retorne una lista con los valores únicos de una columna cualquiera."
   ]
  },
  {
   "cell_type": "code",
   "execution_count": null,
   "metadata": {},
   "outputs": [],
   "source": [
    "def valores_filtro_columna(columna):\n",
    "    columna = columna.astype(str)       # Convertimos en str los valores de la columna que entra por parámetro.\n",
    "    valores = columna.unique().tolist() # Guardamos una lista con los valores únicos de la columna que entra por parámetro.\n",
    "    valores = sorted(valores)           # Organizamos la lista de valores únicos de manera ascedente.\n",
    "    valores.insert(0, \"Todos\")          # Agregamos el elemento \"Todos\" en la primera posición de la lista.\n",
    "    return valores "
   ]
  },
  {
   "cell_type": "markdown",
   "metadata": {},
   "source": [
    "Creamos una lista desplegable (`dropdown`) dónde las opciones sean los valores únicos de la columna `neighbourhood_group`."
   ]
  },
  {
   "cell_type": "code",
   "execution_count": null,
   "metadata": {},
   "outputs": [],
   "source": [
    "menu = widgets.Dropdown(options = valores_filtro_columna(datos[\"neighbourhood_group\"]))"
   ]
  },
  {
   "cell_type": "markdown",
   "metadata": {},
   "source": [
    "Luego, capturamos el valor seleccionado de la lista desplegable en la variable `seleccion`."
   ]
  },
  {
   "cell_type": "code",
   "execution_count": null,
   "metadata": {},
   "outputs": [],
   "source": [
    "seleccion = widgets.Output()"
   ]
  },
  {
   "cell_type": "markdown",
   "metadata": {},
   "source": [
    "Ahora, definimos una función que filtre los valores del `DataFrame` de acuerdo con la `seleccion`."
   ]
  },
  {
   "cell_type": "code",
   "execution_count": null,
   "metadata": {},
   "outputs": [],
   "source": [
    "def accion_cambio_menu(change):\n",
    "    # Reestablecemos la variable seleccion.\n",
    "    seleccion.clear_output() \n",
    "    # Cuando seleccion toma un nuevo valor.\n",
    "    with seleccion:\n",
    "        # Si el nuevo valor es \"Todos\".\n",
    "        if (change[\"new\"] == \"Todos\"):\n",
    "            # Muestre todos los registros.\n",
    "            display(datos)\n",
    "        # Si el nuevo valor es diferente de \"Todos\".  \n",
    "        else:\n",
    "            # Muestre los registros correspondientes al nuevo valor. \n",
    "            display(datos[ datos[\"neighbourhood_group\"] == change[\"new\"] ])"
   ]
  },
  {
   "cell_type": "markdown",
   "metadata": {},
   "source": [
    "Posteriormente, vinculamos la lista desplegable con la función definida."
   ]
  },
  {
   "cell_type": "code",
   "execution_count": null,
   "metadata": {},
   "outputs": [],
   "source": [
    "menu.observe(accion_cambio_menu, names='value')"
   ]
  },
  {
   "cell_type": "markdown",
   "metadata": {},
   "source": [
    "Finalmente, visualizamos la lista desplegable y los registros según la selección."
   ]
  },
  {
   "cell_type": "code",
   "execution_count": null,
   "metadata": {},
   "outputs": [],
   "source": [
    "menu"
   ]
  },
  {
   "cell_type": "code",
   "execution_count": null,
   "metadata": {
    "scrolled": true,
    "tags": []
   },
   "outputs": [],
   "source": [
    "seleccion"
   ]
  },
  {
   "cell_type": "markdown",
   "metadata": {},
   "source": [
    "Podemos actualizar el valor del menu de manera programática (el valor por defecto es el primer elemento de la lista, `\"Todos\"`)."
   ]
  },
  {
   "cell_type": "code",
   "execution_count": null,
   "metadata": {},
   "outputs": [],
   "source": [
    "menu.value = \"Bronx\""
   ]
  },
  {
   "cell_type": "markdown",
   "metadata": {},
   "source": [
    "#### Controles con `interactive`"
   ]
  },
  {
   "cell_type": "markdown",
   "metadata": {},
   "source": [
    "`interactive` es una función que nos permite agregarle interactividad a la exploración de los datos. Para usar esta función, en primer lugar, debemos importar el módulo `interactive` de `ipywidgets`."
   ]
  },
  {
   "cell_type": "code",
   "execution_count": null,
   "metadata": {},
   "outputs": [],
   "source": [
    "from ipywidgets import interactive"
   ]
  },
  {
   "cell_type": "markdown",
   "metadata": {},
   "source": [
    "Definimos una función para filtrar los registros de la base datos de la oferta de alojamientos de Airbnb en Nueva York de acuerdo a múltiples criterios. Queremos que el usuario defina los siguientes criterios: el distrito donde se ubica el alojamiento, el tipo de alojamiento y el precio máximo que está dispuesto a pagar. \n",
    " "
   ]
  },
  {
   "cell_type": "code",
   "execution_count": null,
   "metadata": {},
   "outputs": [],
   "source": [
    "def filtrar(Distrito, Tipo_Alojamiento, Precio_Maximo):\n",
    "    # Guardamos las columnas de interés en un nuevo DataFrame.\n",
    "    DF = datos[['id','host_name','price','neighbourhood_group', 'room_type']]\n",
    "    # Los siguientes cuatro casos ajustan los registros a mostrar de acuerdo con la selección del usuario.\n",
    "    if  Distrito != \"Todos\" and Tipo_Alojamiento != \"Todos\":\n",
    "        return DF[(DF[\"neighbourhood_group\"] == Distrito) & (DF[\"room_type\"] == Tipo_Alojamiento)\n",
    "                   & (DF[\"price\"] <= Precio_Maximo)]\n",
    "    elif Distrito == \"Todos\" and Tipo_Alojamiento != \"Todos\":\n",
    "        return DF[(DF[\"room_type\"] == Tipo_Alojamiento) & (DF[\"price\"] <= Precio_Maximo)]\n",
    "    elif Distrito != \"Todos\" and Tipo_Alojamiento == \"Todos\":\n",
    "        return DF[(DF[\"neighbourhood_group\"] == Distrito) & (DF[\"price\"] <= Precio_Maximo)]\n",
    "    else:\n",
    "        return DF[(DF[\"price\"] <= Precio_Maximo)]"
   ]
  },
  {
   "cell_type": "markdown",
   "metadata": {},
   "source": [
    "Luego, utilizamos el método `interactive` para definir el objeto `interactive_plot`. Este método recibe por parámetro la función `filtrar` y la lista de valores que puede tomar el control asocidado a cada uno de sus parámetros (`Distrito`, `Tipo_Alojamiento` y `Precio_Maximo`). Para esto, utilizamos la función `valores_filtro_columna` definida previamente."
   ]
  },
  {
   "cell_type": "code",
   "execution_count": null,
   "metadata": {
    "tags": [
     "output_scroll"
    ]
   },
   "outputs": [],
   "source": [
    "_ = widgets.interact(\n",
    "                     filtrar, \n",
    "                     Distrito = valores_filtro_columna(datos[\"neighbourhood_group\"]),\n",
    "                     Tipo_Alojamiento = valores_filtro_columna(datos[\"room_type\"]),\n",
    "                     Precio_Maximo = (0, 500, 10)\n",
    "                    )"
   ]
  },
  {
   "cell_type": "markdown",
   "metadata": {},
   "source": [
    "Finalmente, visualizamos los controles y los registros según la selección."
   ]
  },
  {
   "cell_type": "markdown",
   "metadata": {},
   "source": [
    "## 3. `plotly` con `ipywidgets`"
   ]
  },
  {
   "cell_type": "markdown",
   "metadata": {},
   "source": [
    "Al combinar las librerías `ipywidgets` y `plotly` obtenemos gráficos visualmente agradables e interactivos, los cuales nos facilitan el filtrado de datos para su respectivo análisis. A continuación, crearemos un gráfico interactivo a partir de una base de datos de la oferta de alojamientos de Airbnb en Buenos Aires. Este gráfico se actualizará de acuerdo con los filtros aplicados a los registros de la base de datos. Aplicaremos filtros al tipo de alojamiento, barrio de la ciudad y número de huéspedes por alojamiento. "
   ]
  },
  {
   "cell_type": "markdown",
   "metadata": {},
   "source": [
    "Importamos las librerías `ipywidgets` y `pandas` y el módulo `plotly.graph_objects` de `plotly`."
   ]
  },
  {
   "cell_type": "code",
   "execution_count": null,
   "metadata": {},
   "outputs": [],
   "source": [
    "import ipywidgets as widgets\n",
    "import pandas as pd\n",
    "import plotly.graph_objects as go"
   ]
  },
  {
   "cell_type": "markdown",
   "metadata": {},
   "source": [
    "Luego, importamos la base de datos de la oferta de alojamientos de Airbnb en Buenos Aires y realizamos una breve exploración de esta. "
   ]
  },
  {
   "cell_type": "code",
   "execution_count": null,
   "metadata": {
    "scrolled": true,
    "tags": [
     "output_scroll"
    ]
   },
   "outputs": [],
   "source": [
    "df = pd.read_csv('Archivos/listings.csv')\n",
    "df.head()"
   ]
  },
  {
   "cell_type": "markdown",
   "metadata": {},
   "source": [
    "Asimismo, las variables que utilizaremos se encuentran en la siguiente tabla:"
   ]
  },
  {
   "cell_type": "markdown",
   "metadata": {},
   "source": [
    "| <center> Variable <center>| <center> Descripción <center>| \n",
    "| :--- | :--- | \n",
    "| `price` | Precio de una noche de hospedaje |\n",
    "| `room_type` | Tipo de alojamiento |\n",
    "| `neighbourhood_cleansed` | Barrio de la ciudad |\n",
    "| `accommodates` | Máximo de huéspedes por alojamiento |"
   ]
  },
  {
   "cell_type": "markdown",
   "metadata": {},
   "source": [
    "Es de nuestro interés conocer qué barrios hay en Buenos Aires. Para esto, exploramos los registros únicos de la variable `neighbourhood_cleansed`."
   ]
  },
  {
   "cell_type": "code",
   "execution_count": null,
   "metadata": {
    "scrolled": false
   },
   "outputs": [],
   "source": [
    "df['neighbourhood_cleansed'].unique()"
   ]
  },
  {
   "cell_type": "markdown",
   "metadata": {},
   "source": [
    "Declaramos la barra deslizante y las listas desplegables. En primer lugar, declaramos la barra deslizante que hace referencia al número de huéspedes por alojamiento."
   ]
  },
  {
   "cell_type": "code",
   "execution_count": null,
   "metadata": {},
   "outputs": [],
   "source": [
    "num_huespedes = widgets.IntSlider(min = 1.0, max = 16.0, step = 1.0)"
   ]
  },
  {
   "cell_type": "markdown",
   "metadata": {},
   "source": [
    "En segundo lugar, declaramos la lista desplegable de tipos de alojamiento."
   ]
  },
  {
   "cell_type": "code",
   "execution_count": null,
   "metadata": {},
   "outputs": [],
   "source": [
    "tipo = widgets.Dropdown(\n",
    "                        description = 'Tipo Alojamiento:',\n",
    "                        options = df['room_type'].unique().tolist(),\n",
    "                        style = {'description_width': 'initial'}       # Mostrar el nombre completo.\n",
    "                       )"
   ]
  },
  {
   "cell_type": "markdown",
   "metadata": {},
   "source": [
    "En tercer lugar, declaramos la lista desplegable de barrios."
   ]
  },
  {
   "cell_type": "code",
   "execution_count": null,
   "metadata": {},
   "outputs": [],
   "source": [
    "barrio = widgets.Dropdown(\n",
    "                          description = 'Barrio:',\n",
    "                          options = df['neighbourhood_cleansed'].unique().tolist(),\n",
    "                          style = {'description_width': 'initial'}                    # Mostrar el nombre completo.\n",
    "                         )"
   ]
  },
  {
   "cell_type": "markdown",
   "metadata": {},
   "source": [
    "Declaramos la figura y sus componentes. Como es una figura interactiva, utilizamos el método `FigureWidget` del módulo `plotly.graph_objects`."
   ]
  },
  {
   "cell_type": "code",
   "execution_count": null,
   "metadata": {},
   "outputs": [],
   "source": [
    "fig = go.FigureWidget(\n",
    "                      data = go.Histogram(name = 'Precio'),\n",
    "                      layout = go.Layout(\n",
    "                                         title = 'Acomodación en Buenos Aires',\n",
    "                                         xaxis_title = 'Precio en pesos argentinos',\n",
    "                                         yaxis_title = 'Número de alojamientos'\n",
    "                                        )\n",
    "                     )"
   ]
  },
  {
   "cell_type": "markdown",
   "metadata": {},
   "source": [
    "Luego, le agregamos funcionalidad e interactividad al gráfico. En primer lugar, definimos la función `filtrar` que filtre los datos de acuerdo con lo seleccionado por el usuario."
   ]
  },
  {
   "cell_type": "code",
   "execution_count": null,
   "metadata": {},
   "outputs": [],
   "source": [
    "def filtrar():\n",
    "    filtrar_lista = [i and j and k for i, j, k in zip(\n",
    "                                                      df['accommodates'] >= num_huespedes.value, \n",
    "                                                      df['room_type'] == tipo.value,\n",
    "                                                      df['neighbourhood_cleansed'] == barrio.value\n",
    "                                                     )\n",
    "                    ]\n",
    "    \n",
    "    df_temporal = df[filtrar_lista]\n",
    "    fig.data[0].x = df_temporal['price'] # Establecemos los datos en el eje x."
   ]
  },
  {
   "cell_type": "markdown",
   "metadata": {},
   "source": [
    "En segundo lugar, definimos una función que guarda los cambios en el gráfico."
   ]
  },
  {
   "cell_type": "code",
   "execution_count": null,
   "metadata": {},
   "outputs": [],
   "source": [
    "def respuesta(change):\n",
    "    filtrar()"
   ]
  },
  {
   "cell_type": "markdown",
   "metadata": {},
   "source": [
    "Posteriormente, vinculamos los controles con la función de `respuesta`."
   ]
  },
  {
   "cell_type": "code",
   "execution_count": null,
   "metadata": {},
   "outputs": [],
   "source": [
    "barrio.observe(respuesta, names = 'value')\n",
    "tipo.observe(respuesta, names = 'value')\n",
    "num_huespedes.observe(respuesta, names = 'value')"
   ]
  },
  {
   "cell_type": "markdown",
   "metadata": {},
   "source": [
    "Inicializamos los valores del gráfico invocando la función `filtrar`."
   ]
  },
  {
   "cell_type": "code",
   "execution_count": null,
   "metadata": {},
   "outputs": [],
   "source": [
    "filtrar()"
   ]
  },
  {
   "cell_type": "markdown",
   "metadata": {},
   "source": [
    "Definimos los componentes de la parte superior del gráfico. Utilizamos las funciones `HBox` y `Label` de `ipywidgets` para definir estos componentes."
   ]
  },
  {
   "cell_type": "code",
   "execution_count": null,
   "metadata": {},
   "outputs": [],
   "source": [
    "parte_superior = widgets.HBox([widgets.Label('Acomodacion para:'), num_huespedes])"
   ]
  },
  {
   "cell_type": "markdown",
   "metadata": {},
   "source": [
    "Definimos los componentes de la parte inferior del gráfico. "
   ]
  },
  {
   "cell_type": "code",
   "execution_count": null,
   "metadata": {},
   "outputs": [],
   "source": [
    "parte_inferior = widgets.HBox([barrio, tipo])"
   ]
  },
  {
   "cell_type": "markdown",
   "metadata": {},
   "source": [
    "Luego, enlazamos los controles usando la función `VBox`."
   ]
  },
  {
   "cell_type": "code",
   "execution_count": null,
   "metadata": {
    "scrolled": false
   },
   "outputs": [],
   "source": [
    "visualizacion = widgets.VBox(\n",
    "                             [\n",
    "                              parte_superior,\n",
    "                              parte_inferior,\n",
    "                              fig\n",
    "                             ]\n",
    "                            )"
   ]
  },
  {
   "cell_type": "markdown",
   "metadata": {},
   "source": [
    "Finalmente, visualizamos los controles y podemos interactuar con el gráfico."
   ]
  },
  {
   "cell_type": "code",
   "execution_count": null,
   "metadata": {
    "scrolled": false
   },
   "outputs": [],
   "source": [
    "visualizacion"
   ]
  },
  {
   "cell_type": "markdown",
   "metadata": {},
   "source": [
    "## Referencias"
   ]
  },
  {
   "cell_type": "markdown",
   "metadata": {},
   "source": [
    "Analytiks (2020). Why Data Visualization Is Important. Recuperado el 11 de febrero de 2021 de: https://analytiks.co/importance-of-data-visualization/\n",
    "\n",
    "Inside Airbnb (2021). Buenos Aires. Recuperado el 11 de febrero de 2021 de: \n",
    "http://data.insideairbnb.com/argentina/ciudad-aut%C3%B3noma-de-buenos-aires/buenos-aires/2021-01-29/visualisations/listings.csv\n",
    "\n",
    "Dgomonov (2021). New York City Airbnb Open Data. Recuperado el 11 de febrero de 2021 de: \n",
    "https://www.kaggle.com/dgomonov/new-york-city-airbnb-open-data\n",
    "\n",
    "Jupyter Widgets (2021). Simple Widget Introduction. Recuperado el 11 de febrero de 2021 de: https://ipywidgets.readthedocs.io/en/stable/examples/Widget%20Basics.html\n",
    "\n",
    "Jupyter Widgets (2021). Simple Widget Introduction. Recuperado el 11 de febrero de 2021 de: https://ipywidgets.readthedocs.io/en/stable/examples/Widget%20List.html\n",
    "\n",
    "Plotly (2021). Creating and Updating Figures in Python. Recuperado el 11 de febrero de 2021 de: https://plotly.com/python/creating-and-updating-figures/\n",
    "\n",
    "Plotly (2021). The Figure Data Structure in Python. Recuperado el 11 de febrero de 2021 de: https://plotly.com/python/figure-structure/\n",
    "\n",
    "Plotly (2021). Interactive Data Analysis with FigureWidget ipywidgets in Python. Recuperado el 11 de febrero de 2021 de: https://plotly.com/python/figurewidget-app/"
   ]
  },
  {
   "cell_type": "markdown",
   "metadata": {},
   "source": [
    "## Créditos"
   ]
  },
  {
   "cell_type": "markdown",
   "metadata": {},
   "source": [
    "**Autores:** Juan David Reyes Jaimes, Alejandro Mantilla Redondo, Diego Alejandro Cely Gómez\n",
    "\n",
    "**Fecha última actualización:** 27/07/2022"
   ]
  }
 ],
 "metadata": {
  "celltoolbar": "Edit Metadata",
  "kernelspec": {
   "display_name": "Python 3 (ipykernel)",
   "language": "python",
   "name": "python3"
  },
  "language_info": {
   "codemirror_mode": {
    "name": "ipython",
    "version": 3
   },
   "file_extension": ".py",
   "mimetype": "text/x-python",
   "name": "python",
   "nbconvert_exporter": "python",
   "pygments_lexer": "ipython3",
   "version": "3.8.13"
  }
 },
 "nbformat": 4,
 "nbformat_minor": 2
}

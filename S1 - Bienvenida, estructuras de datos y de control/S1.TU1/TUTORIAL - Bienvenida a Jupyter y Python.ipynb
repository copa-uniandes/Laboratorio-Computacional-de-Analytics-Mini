{
 "cells": [
  {
   "cell_type": "markdown",
   "metadata": {},
   "source": [
    "![miad4.png](Archivos/miad4.png)"
   ]
  },
  {
   "cell_type": "markdown",
   "metadata": {},
   "source": [
    "# Bienvenida a Jupyter y Python"
   ]
  },
  {
   "cell_type": "markdown",
   "metadata": {},
   "source": [
    "Al iniciar el desarrollo de un proyecto de analítica de datos, debemos elegir el lenguaje de programación y la aplicación que utilizaremos para programar. En este tutorial exploraremos cómo utilizar el lenguaje Python en la aplicación Jupyter."
   ]
  },
  {
   "cell_type": "markdown",
   "metadata": {},
   "source": [
    "## Requisitos"
   ]
  },
  {
   "cell_type": "markdown",
   "metadata": {},
   "source": [
    "Para desarrollar este tutorial necesitarás:\n",
    "\n",
    "+ Descargar e instalar la aplicación Jupyter."
   ]
  },
  {
   "cell_type": "markdown",
   "metadata": {},
   "source": [
    "## Objetivos"
   ]
  },
  {
   "cell_type": "markdown",
   "metadata": {},
   "source": [
    "Al final de este tutorial podrás:\n",
    "\n",
    "**1.** Comprender los usos y las características principales de algunos tipos de celdas que puedes crear en un Jupyter Notebook.<br>\n",
    "**2.** Declarar variables e identificar su tipo.<br>\n",
    "**3.** Importar y utilizar paquetes.<br>\n",
    "**4.** Comprender algunos de los tipos de errores que te pueden ocurrir.<br>\n",
    "**5.** Conocer algunas buenas prácticas de programación.<br>"
   ]
  },
  {
   "cell_type": "markdown",
   "metadata": {},
   "source": [
    "## 1. Celdas"
   ]
  },
  {
   "cell_type": "markdown",
   "metadata": {},
   "source": [
    "En un Jupyter Notebook podemos insertar diversos tipos de celdas. En este tutorial nos enfocaremos en los tipos Code y Markdown."
   ]
  },
  {
   "cell_type": "markdown",
   "metadata": {},
   "source": [
    "**Seleccionar una celda**\n",
    "\n",
    "Para seleccionar una celda damos un clic sobre esta. Para poder usar los comandos de teclado, asegúrate de que tu cursor no esté en la caja de texto de la celda seleccionada."
   ]
  },
  {
   "cell_type": "markdown",
   "metadata": {},
   "source": [
    "**Agregar una celda**\n",
    "\n",
    "Para agregar una celda tenemos múltiples opciones. Una de ellas es a través de comandos en el teclado: selecccionamos una celda y luego oprimimos la tecla `A` o `B` para agregar una celda arriba o abajo de la seleccionada, respectivamente. De manera predeterminada, el tipo de la celda agregada es Code. Si queremos cambiar su tipo a Markdown, oprimimos la tecla `M`. Si queremos que la celda vuelva a ser tipo Code, oprimimos la tecla `Y`."
   ]
  },
  {
   "cell_type": "markdown",
   "metadata": {},
   "source": [
    "**Eliminar una celda**\n",
    "\n",
    "Para eliminar una celda tenemos múltiples opciones. Una de ellas es a través de comandos en el teclado: selecccionamos la celda a eliminar y luego oprimimos dos veces la tecla `D`. Podemos también oprimir la tecla `X` una sola vez."
   ]
  },
  {
   "cell_type": "markdown",
   "metadata": {},
   "source": [
    "**Ejecutar el contenido de una celda**\n",
    "\n",
    "Para ejecutar el contenido de una celda seleccionamos la celda que queremos ejecutar y oprimimos las teclas `Shift` + `Enter`. Al ejecutarla, obtenemos el resultado o la salida correspondiente a la celda seleccionada y automáticamente se selecciona la celda siguiente. Oprimir `Ctrl` + `Enter` nos permite ejecutar la celda seleccionada y permanecer en ella."
   ]
  },
  {
   "cell_type": "markdown",
   "metadata": {},
   "source": [
    "### 1.1. Markdown"
   ]
  },
  {
   "cell_type": "markdown",
   "metadata": {},
   "source": [
    "Utilizamos este tipo de celdas para escribir texto. Podemos agregar títulos para establecer orden y jerarquía en nuestro Notebook. Asimismo, podemos agregar expresiones matemáticas en lenguaje LaTeX y añadir imágenes."
   ]
  },
  {
   "cell_type": "markdown",
   "metadata": {},
   "source": [
    "**Acceder al código de una celda Markdown**\n",
    "\n",
    "Cuando ejecutamos una celda de tipo Markdown, pasamos de ver el código escrito en la celda a ver el resultado de su compilación. Para volver a acceder al código escrito en la celda damos doble clic sobre esta u oprimimos la tecla `Enter`.\n",
    "\n",
    "**Nota:** te recomendamos acceder a las celdas Markdown de este Notebook para ver la sintaxis correspondiente."
   ]
  },
  {
   "cell_type": "markdown",
   "metadata": {},
   "source": [
    "**Encabezado**\n",
    "\n",
    "Para agregar un encabezado a nuestro Notebook escribimos el símbolo numeral (`#`) antes del texto que corresponde al encabezado. Podemos agregar desde uno hasta seis niveles a la jerarquía, según de la cantidad de numerales que antepongamos al encabezado. A continuación, encuentras un ejemplo del uso de los niveles de jerarquización de encabezados."
   ]
  },
  {
   "cell_type": "markdown",
   "metadata": {},
   "source": [
    "```markdown\n",
    "# Utilizamos el primer nivel de jerarquía para el encabezado de primer nivel.\n",
    "## Utilizamos el segundo nivel de jerarquía para los encabezados de segundo nivel.\n",
    "### Utilizamos el tercer nivel de jerarquía para los encabezados de tercer nivel.\n",
    "#### Utilizamos el cuarto nivel de jerarquía para los encabezados de cuarto nivel.\n",
    "##### Utilizamos el quinto nivel de jerarquía para los encabezados de quinto nivel.\n",
    "###### Utilizamos el sexto nivel de jerarquía para los encabezados de sexto nivel.\n",
    "```"
   ]
  },
  {
   "cell_type": "markdown",
   "metadata": {},
   "source": [
    "Pega este código en una celda tipo Markdown para ilustrar la jerarquía de encabezados."
   ]
  },
  {
   "cell_type": "markdown",
   "metadata": {},
   "source": [
    "**Expresiones matemáticas**\n",
    "\n",
    "Para agregar una expresión matemática en lenguaje LaTeX es necesario abrirla y cerrarla con el símbolo peso (`$`).\n",
    "\n",
    "Tenemos dos opciones para agregar expresiones matemáticas:\n",
    "\n",
    "1. Si escribimos un solo símbolo peso al abrir y cerrar la expresión matemática, esta mantiene su posición dentro del texto. Ejemplo:\n",
    "\n",
    "    `La ecuación general de una recta es $y = mx + b.$` produce:\n",
    "    \n",
    "    La ecuación general de una recta es $y = mx + b.$<br><br>\n",
    "    \n",
    "2. Si escribimos dos símbolos peso al abrir y cerrar la expresión matemática, esta aparecerá centrada en la siguiente línea. Ejemplo:\n",
    "    \n",
    "    `La ecuación general de una recta es la siguiente: $$y = mx + b.$$` produce:\n",
    "    \n",
    "    La ecuación general de una recta es la siguiente:\n",
    "    \n",
    "    $$y = mx + b.$$\n",
    "\n",
    "Asimismo, podemos agregar expresiones matemáticas más complejas como esta: $\\sum\\limits_{t=1}^{N}\\frac{\\pi}{1-e^{-\\kappa t}}$."
   ]
  },
  {
   "cell_type": "markdown",
   "metadata": {},
   "source": [
    "**Imágenes**\n",
    "\n",
    "Para agregar una imagen utilizamos el siguiente código: \n",
    "\n",
    "`![ejemplo_imagen.png](Archivos/ejemplo_imagen.png)`."
   ]
  },
  {
   "cell_type": "markdown",
   "metadata": {},
   "source": [
    "A continuación, un ejemplo de cómo se vería la imagen correspondiente."
   ]
  },
  {
   "cell_type": "markdown",
   "metadata": {},
   "source": [
    "![ejemplo_imagen.png](Archivos/ejemplo_imagen.png)"
   ]
  },
  {
   "cell_type": "markdown",
   "metadata": {},
   "source": [
    "¿Quieres intentarlo? Accede a una celda Markdown, referencia una imagen con la sintaxis descrita y ejecuta la celda para visualizar el resultado."
   ]
  },
  {
   "cell_type": "markdown",
   "metadata": {},
   "source": [
    "### 1.2. Code"
   ]
  },
  {
   "cell_type": "markdown",
   "metadata": {},
   "source": [
    "Utilizamos este tipo de celdas para escribir y ejecutar código en el lenguaje del Notebook (para nosotros, Python). Cada celda de código se compone de dos partes:\n",
    "\n",
    "1. `In`: en esta parte de la celda se escribe el código a ejecutar con sus respectivos comentarios; un comentario es una línea de texto que describe el código y no se ejecuta. A los comentarios los precede el símbolo numeral (`#`).\n",
    "\n",
    "2. `Out`: en esta parte de la celda se visualiza el ultimo resultado de ejecutar el código escrito en la parte `In`. Para visualizar el valor de una o varias variables, utilizamos la función `print` o `display`.\n",
    "\n",
    "**Nota:** cuando la variable a visualizar esta escrita en la última línea de código no es necesario utilizar estas funciones.\n",
    "\n",
    "A continuación se muestra un ejemplo:"
   ]
  },
  {
   "cell_type": "code",
   "execution_count": 1,
   "metadata": {},
   "outputs": [
    {
     "name": "stdout",
     "output_type": "stream",
     "text": [
      "Con print\n"
     ]
    },
    {
     "data": {
      "text/plain": [
       "'Con display'"
      ]
     },
     "metadata": {},
     "output_type": "display_data"
    },
    {
     "data": {
      "text/plain": [
       "'Sin función'"
      ]
     },
     "execution_count": 1,
     "metadata": {},
     "output_type": "execute_result"
    }
   ],
   "source": [
    "variable = \"Con print\"\n",
    "print(variable)\n",
    "\n",
    "variable_2 = \"Con display\"\n",
    "display(variable_2)\n",
    "\n",
    "variable_3 = \"Sin función\"\n",
    "variable_3"
   ]
  },
  {
   "cell_type": "markdown",
   "metadata": {},
   "source": [
    "## 2. Variables y tipos de datos"
   ]
  },
  {
   "cell_type": "markdown",
   "metadata": {},
   "source": [
    "Cuando programamos, declaramos variables para almacenar diversos tipos de datos tales como cadenas de caracteres, números, entre otros. Al declarar una variable, Python identifica de manera automática el tipo de dato al que corresponde. En esta sección, veremos los principales tipos de datos que existen en Python."
   ]
  },
  {
   "cell_type": "markdown",
   "metadata": {},
   "source": [
    "### 2.1. Variables"
   ]
  },
  {
   "cell_type": "markdown",
   "metadata": {},
   "source": [
    "**Declaración**\n",
    "\n",
    "Para declarar una variable debes escribir el nombre que quieres para tu variable. Luego, con el símbolo igual (`=`) asignas el valor que quieres guardar en la variable. En la siguiente celda puedes ver un ejemplo."
   ]
  },
  {
   "cell_type": "code",
   "execution_count": 2,
   "metadata": {},
   "outputs": [
    {
     "data": {
      "text/plain": [
       "'Valor a guardar'"
      ]
     },
     "execution_count": 2,
     "metadata": {},
     "output_type": "execute_result"
    }
   ],
   "source": [
    "variable = \"Valor a guardar\"\n",
    "variable"
   ]
  },
  {
   "cell_type": "markdown",
   "metadata": {},
   "source": [
    "**Obtener el tipo de una variable**\n",
    "\n",
    "Para obtener el tipo de una variable utilizamos la función `type`."
   ]
  },
  {
   "cell_type": "markdown",
   "metadata": {},
   "source": [
    "### 2.2. Cadenas de caracteres\n",
    "\n",
    "El tipo de dato que Python asigna a las variables que almacenan cadenas texto se llama `str`. Al escribir una cadena de caracteres puedes utilizar comillas dobles (`\"\"`) o simples (`''`). En la siguiente celda declaramos una variable que guarda una cadena de caracteres y mostramos su valor."
   ]
  },
  {
   "cell_type": "code",
   "execution_count": 3,
   "metadata": {
    "tags": []
   },
   "outputs": [
    {
     "data": {
      "text/plain": [
       "'Cadena de caracteres'"
      ]
     },
     "execution_count": 3,
     "metadata": {},
     "output_type": "execute_result"
    }
   ],
   "source": [
    "variable_str = \"Cadena de caracteres\"\n",
    "variable_str"
   ]
  },
  {
   "cell_type": "markdown",
   "metadata": {},
   "source": [
    "Al revisar el tipo de la variable `variable_str` obtenemos que, efectivamente, es una variable de tipo `str`."
   ]
  },
  {
   "cell_type": "code",
   "execution_count": 4,
   "metadata": {},
   "outputs": [
    {
     "data": {
      "text/plain": [
       "str"
      ]
     },
     "execution_count": 4,
     "metadata": {},
     "output_type": "execute_result"
    }
   ],
   "source": [
    "type(variable_str)"
   ]
  },
  {
   "cell_type": "markdown",
   "metadata": {},
   "source": [
    "Podemos concatenar variables de tipo `str` con el operador de suma (`+`). Veamos un ejemplo:"
   ]
  },
  {
   "cell_type": "code",
   "execution_count": 5,
   "metadata": {
    "tags": []
   },
   "outputs": [
    {
     "data": {
      "text/plain": [
       "'Hola, ¿cómo vas?'"
      ]
     },
     "execution_count": 5,
     "metadata": {},
     "output_type": "execute_result"
    }
   ],
   "source": [
    "saludo = \"Hola\"\n",
    "union = \", \"\n",
    "pregunta = \"¿cómo vas?\"\n",
    "\n",
    "concatenado = saludo + union + pregunta\n",
    "concatenado"
   ]
  },
  {
   "cell_type": "markdown",
   "metadata": {},
   "source": [
    "De manera alternativa, el método `print` nos permite imprimir cadenas concatenadas de caracteres dentro de él. "
   ]
  },
  {
   "cell_type": "code",
   "execution_count": 6,
   "metadata": {},
   "outputs": [
    {
     "name": "stdout",
     "output_type": "stream",
     "text": [
      "Hola, ¿cómo vas?\n"
     ]
    }
   ],
   "source": [
    "print(saludo, union, pregunta, sep='')"
   ]
  },
  {
   "cell_type": "markdown",
   "metadata": {},
   "source": [
    "### 2.3. Números\n",
    "\n",
    "Python asigna uno de dos tipos de datos a las variables que almacenan números. Para números enteros asigna el tipo `int`, mientras que para números con decimales asigna el tipo `float`. \n",
    "\n",
    "**Nota:** el separador decimal de Python es el punto.\n",
    "\n",
    "En la siguiente celda declaramos una variable que guarda un número entero y otra variable que guarda un número con decimales."
   ]
  },
  {
   "cell_type": "code",
   "execution_count": 7,
   "metadata": {},
   "outputs": [],
   "source": [
    "numero_int = 3\n",
    "numero_float_1 = 8.75\n",
    "numero_float_2 = .2\n",
    "numero_float_3 = 2."
   ]
  },
  {
   "cell_type": "markdown",
   "metadata": {},
   "source": [
    "Revisemos el tipo de cada variable."
   ]
  },
  {
   "cell_type": "code",
   "execution_count": 8,
   "metadata": {},
   "outputs": [
    {
     "data": {
      "text/plain": [
       "int"
      ]
     },
     "execution_count": 8,
     "metadata": {},
     "output_type": "execute_result"
    }
   ],
   "source": [
    "type(numero_int)"
   ]
  },
  {
   "cell_type": "code",
   "execution_count": 9,
   "metadata": {},
   "outputs": [
    {
     "data": {
      "text/plain": [
       "float"
      ]
     },
     "execution_count": 9,
     "metadata": {},
     "output_type": "execute_result"
    }
   ],
   "source": [
    "type(numero_float_1)"
   ]
  },
  {
   "cell_type": "code",
   "execution_count": 10,
   "metadata": {},
   "outputs": [
    {
     "data": {
      "text/plain": [
       "float"
      ]
     },
     "execution_count": 10,
     "metadata": {},
     "output_type": "execute_result"
    }
   ],
   "source": [
    "type(numero_float_2)"
   ]
  },
  {
   "cell_type": "code",
   "execution_count": 11,
   "metadata": {},
   "outputs": [
    {
     "data": {
      "text/plain": [
       "float"
      ]
     },
     "execution_count": 11,
     "metadata": {},
     "output_type": "execute_result"
    }
   ],
   "source": [
    "type(numero_float_3)"
   ]
  },
  {
   "cell_type": "markdown",
   "metadata": {},
   "source": [
    "Al hacer operaciones entre variables de tipo `int` y tipo `float`, el resultado será de tipo `float`."
   ]
  },
  {
   "cell_type": "code",
   "execution_count": 12,
   "metadata": {},
   "outputs": [
    {
     "data": {
      "text/plain": [
       "float"
      ]
     },
     "execution_count": 12,
     "metadata": {},
     "output_type": "execute_result"
    }
   ],
   "source": [
    "suma = numero_int + numero_float_1\n",
    "type(suma)"
   ]
  },
  {
   "cell_type": "markdown",
   "metadata": {},
   "source": [
    "**Operaciones con números**\n",
    "\n",
    "|<center>Operación<center>|<center>Operador<center>\n",
    "|:-----|:-----:|\n",
    "|Suma|`+`|\n",
    "|Resta|`-`|\n",
    "|Multiplicación|`*`|\n",
    "|Potencia|`**`|\n",
    "|División|`/`|\n",
    "|División entera|`//`|\n",
    "|Módulo o residuo<br/>de una división entera|`%`|\n",
    "\n",
    "Veamos algunos ejemplos."
   ]
  },
  {
   "cell_type": "code",
   "execution_count": 13,
   "metadata": {},
   "outputs": [
    {
     "data": {
      "text/plain": [
       "2.9166666666666665"
      ]
     },
     "execution_count": 13,
     "metadata": {},
     "output_type": "execute_result"
    }
   ],
   "source": [
    "numero_float_1 / numero_int"
   ]
  },
  {
   "cell_type": "code",
   "execution_count": 14,
   "metadata": {},
   "outputs": [
    {
     "data": {
      "text/plain": [
       "2.0"
      ]
     },
     "execution_count": 14,
     "metadata": {},
     "output_type": "execute_result"
    }
   ],
   "source": [
    "numero_float_1 // numero_int"
   ]
  },
  {
   "cell_type": "markdown",
   "metadata": {},
   "source": [
    "### 2.4. Valores lógicos"
   ]
  },
  {
   "cell_type": "markdown",
   "metadata": {},
   "source": [
    "El tipo de dato que Python asigna a las variables que almacenan valores lógicos se llama `bool`. Los dos posibles valores lógicos son `True` y `False`.\n",
    "\n",
    "**Nota:** la mayúscula en la primera letra de cada uno de los valores lógicos es escencial para que Python los identifique.\n",
    "\n",
    "En la siguiente celda declaramos una variable que guarda un valor lógico y revisamos su tipo."
   ]
  },
  {
   "cell_type": "code",
   "execution_count": 15,
   "metadata": {},
   "outputs": [
    {
     "data": {
      "text/plain": [
       "bool"
      ]
     },
     "execution_count": 15,
     "metadata": {},
     "output_type": "execute_result"
    }
   ],
   "source": [
    "valor_logico = False\n",
    "type(valor_logico)"
   ]
  },
  {
   "cell_type": "markdown",
   "metadata": {},
   "source": [
    "### 2.5. Cambio de tipo de una variable"
   ]
  },
  {
   "cell_type": "markdown",
   "metadata": {},
   "source": [
    "En caso de ser necesario, podemos utilizar los métodos constructores `str`, `int` , `float` y `bool` para cambiarle el tipo a nuestras variables."
   ]
  },
  {
   "cell_type": "markdown",
   "metadata": {},
   "source": [
    "**Concatenar una cadena de caracteres con variables de otro tipo**\n",
    "\n",
    "Para concatenar una cadena de caracteres con variables de otro tipo, debemos convertir las variables en objetos de tipo `str`."
   ]
  },
  {
   "cell_type": "markdown",
   "metadata": {},
   "source": [
    "Una manera de convertir variables en objetos de tipo `str` es haciendo uso del método `str`. A continuación, se muestra un ejemplo de lo anterior."
   ]
  },
  {
   "cell_type": "code",
   "execution_count": 16,
   "metadata": {
    "tags": []
   },
   "outputs": [
    {
     "data": {
      "text/plain": [
       "'El residuo de la división entera de 8.75 sobre 3 es igual a: 2.75'"
      ]
     },
     "execution_count": 16,
     "metadata": {},
     "output_type": "execute_result"
    }
   ],
   "source": [
    "residuo = numero_float_1 % numero_int\n",
    "\"El residuo de la división entera de \" + str(numero_float_1) + \" sobre \" + str(numero_int) + \" es igual a: \" + str(residuo)"
   ]
  },
  {
   "cell_type": "markdown",
   "metadata": {
    "jp-MarkdownHeadingCollapsed": true,
    "tags": []
   },
   "source": [
    "Una alternativa más eficiente para concatenar una cadena de caracteres con variables de otro tipo, es escribir la letra `f` antes de la cadena de caracteres y encerrar la variable entre llaves (`{<variable>}`). A continuación se muestra un ejemplo de lo anterior."
   ]
  },
  {
   "cell_type": "code",
   "execution_count": 17,
   "metadata": {
    "tags": []
   },
   "outputs": [
    {
     "data": {
      "text/plain": [
       "'El residuo de la división entera de 8.75 sobre 3 es igual a: 2.75'"
      ]
     },
     "execution_count": 17,
     "metadata": {},
     "output_type": "execute_result"
    }
   ],
   "source": [
    "residuo = numero_float_1 % numero_int\n",
    "f\"El residuo de la división entera de {numero_float_1} sobre {numero_int} es igual a: {residuo}\""
   ]
  },
  {
   "cell_type": "markdown",
   "metadata": {},
   "source": [
    "## 3. Importar paquetes"
   ]
  },
  {
   "cell_type": "markdown",
   "metadata": {},
   "source": [
    "Frecuentemente es necesario apoyarse de paquetes para realizar tareas específicas, dado que estos contienen variables y funciones que son de ayuda a la hora de realizar código. Así, evitamos invertir tiempo en implementar código ya existente. Adicionalmente, los podemos utilizar para acceder rápidamente a valores conocidos tales como las constantes matemáticas. Por ejemplo:\n",
    "\n",
    "* Existe la función `random` dentro del paquete `random`.\n",
    "* Existen las funciones `sqrt` y `exp` dentro del paquete `math`."
   ]
  },
  {
   "cell_type": "markdown",
   "metadata": {},
   "source": [
    "En Python hay diversas formas de importar paquetes y sus funciones. Primero, para importar una única función de un paquete, escribimos `from` seguido del nombre del paquete y luego `import` seguido del nombre de la función. En la siguiente celda importamos y utilizamos una función."
   ]
  },
  {
   "cell_type": "code",
   "execution_count": 18,
   "metadata": {},
   "outputs": [
    {
     "name": "stdout",
     "output_type": "stream",
     "text": [
      "Tu número de la suerte es 3.\n"
     ]
    }
   ],
   "source": [
    "from random import random\n",
    "\n",
    "aleatorio = int(10 * random())\n",
    "print(f\"Tu número de la suerte es {aleatorio}.\")"
   ]
  },
  {
   "cell_type": "markdown",
   "metadata": {},
   "source": [
    "Asimismo, podemos importar múltiples funciones de un paquete de la siguiente manera:"
   ]
  },
  {
   "cell_type": "code",
   "execution_count": 19,
   "metadata": {},
   "outputs": [
    {
     "name": "stdout",
     "output_type": "stream",
     "text": [
      "La raiz cuadrada de 9 es: 3.0\n",
      "La constante de euler (e) elevada al cubo es: 20.085536923187668\n"
     ]
    }
   ],
   "source": [
    "from math import sqrt, exp\n",
    "\n",
    "raiz = sqrt(9) \n",
    "expo = exp(3)\n",
    "\n",
    "print(f\"La raiz cuadrada de 9 es: {raiz}\")\n",
    "print(f\"La constante de euler (e) elevada al cubo es: {expo}\")"
   ]
  },
  {
   "cell_type": "markdown",
   "metadata": {},
   "source": [
    "Por otro lado, existe la opción de importar todo el paquete y acceder a sus funciones como se muestra a continuación:"
   ]
  },
  {
   "cell_type": "code",
   "execution_count": 20,
   "metadata": {},
   "outputs": [
    {
     "name": "stdout",
     "output_type": "stream",
     "text": [
      "La raiz cuadrada de 9 es: 3.0\n",
      "La constante de euler (e) elevada al cubo es: 20.085536923187668\n"
     ]
    }
   ],
   "source": [
    "import math\n",
    "\n",
    "raiz = math.sqrt(9)\n",
    "expo = math.exp(3)\n",
    "\n",
    "print(f\"La raiz cuadrada de 9 es: {raiz}\")\n",
    "print(f\"La constante de euler (e) elevada al cubo es: {expo}\")"
   ]
  },
  {
   "cell_type": "markdown",
   "metadata": {},
   "source": [
    "Adicionalmente, al importar todo un paquete, puedes ponerle un alias para abreviar el nombre del paquete al utilizar sus funciones. En la siguiente celda podrás ver un ejemplo."
   ]
  },
  {
   "cell_type": "code",
   "execution_count": 21,
   "metadata": {},
   "outputs": [
    {
     "name": "stdout",
     "output_type": "stream",
     "text": [
      "La raiz cuadrada de 9 es: 3.0\n",
      "La constante de euler (e) elevada al cubo es: 20.085536923187668\n"
     ]
    }
   ],
   "source": [
    "import math as m\n",
    "\n",
    "raiz = m.sqrt(9)\n",
    "expo = m.exp(3)\n",
    "\n",
    "print(f\"La raiz cuadrada de 9 es: {raiz}\")\n",
    "print(f\"La constante de euler (e) elevada al cubo es: {expo}\")"
   ]
  },
  {
   "cell_type": "markdown",
   "metadata": {},
   "source": [
    "## 4. Erorres"
   ]
  },
  {
   "cell_type": "markdown",
   "metadata": {},
   "source": [
    "Cuando Python no es capaz de ejecutar el código escrito en una celda, nos aparece una excepción en el `Out` indicandonos qué línea está generando el error, el tipo de error y su causa. Esta información es útil, ya que nos da indicios de como corregir el error. A continuación, algunos ejemplos de errores en Python."
   ]
  },
  {
   "cell_type": "markdown",
   "metadata": {},
   "source": [
    "**`NameError`**"
   ]
  },
  {
   "cell_type": "code",
   "execution_count": 22,
   "metadata": {},
   "outputs": [
    {
     "ename": "NameError",
     "evalue": "name 'b' is not defined",
     "output_type": "error",
     "traceback": [
      "\u001b[0;31m---------------------------------------------------------------------------\u001b[0m",
      "\u001b[0;31mNameError\u001b[0m                                 Traceback (most recent call last)",
      "Input \u001b[0;32mIn [22]\u001b[0m, in \u001b[0;36m<cell line: 2>\u001b[0;34m()\u001b[0m\n\u001b[1;32m      1\u001b[0m a \u001b[38;5;241m=\u001b[39m \u001b[38;5;241m5\u001b[39m\n\u001b[0;32m----> 2\u001b[0m suma \u001b[38;5;241m=\u001b[39m a \u001b[38;5;241m+\u001b[39m \u001b[43mb\u001b[49m\n\u001b[1;32m      3\u001b[0m suma\n",
      "\u001b[0;31mNameError\u001b[0m: name 'b' is not defined"
     ]
    }
   ],
   "source": [
    "a = 5\n",
    "suma = a + b\n",
    "suma"
   ]
  },
  {
   "cell_type": "markdown",
   "metadata": {},
   "source": [
    "La anterior excepción nos muestra que el error se produjo en la segunda línea del código, en la cual estamos realizando la suma `a + b`. Adicionalmente, el error nos explica que el error se debe a que la variable `b` no está definida. Después de interpretar la excepción, podemos corregir este error de la siguiente manera:"
   ]
  },
  {
   "cell_type": "code",
   "execution_count": 23,
   "metadata": {},
   "outputs": [
    {
     "data": {
      "text/plain": [
       "12"
      ]
     },
     "execution_count": 23,
     "metadata": {},
     "output_type": "execute_result"
    }
   ],
   "source": [
    "a = 5\n",
    "b = 7\n",
    "suma = a + b\n",
    "suma"
   ]
  },
  {
   "cell_type": "markdown",
   "metadata": {},
   "source": [
    "**`ZeroDivisionError`**"
   ]
  },
  {
   "cell_type": "code",
   "execution_count": 24,
   "metadata": {},
   "outputs": [
    {
     "ename": "ZeroDivisionError",
     "evalue": "division by zero",
     "output_type": "error",
     "traceback": [
      "\u001b[0;31m---------------------------------------------------------------------------\u001b[0m",
      "\u001b[0;31mZeroDivisionError\u001b[0m                         Traceback (most recent call last)",
      "Input \u001b[0;32mIn [24]\u001b[0m, in \u001b[0;36m<cell line: 3>\u001b[0;34m()\u001b[0m\n\u001b[1;32m      1\u001b[0m c \u001b[38;5;241m=\u001b[39m \u001b[38;5;241m100\u001b[39m\n\u001b[1;32m      2\u001b[0m d \u001b[38;5;241m=\u001b[39m \u001b[38;5;241m0\u001b[39m\n\u001b[0;32m----> 3\u001b[0m division \u001b[38;5;241m=\u001b[39m \u001b[43mc\u001b[49m\u001b[43m \u001b[49m\u001b[38;5;241;43m/\u001b[39;49m\u001b[43m \u001b[49m\u001b[43md\u001b[49m\n\u001b[1;32m      4\u001b[0m division\n",
      "\u001b[0;31mZeroDivisionError\u001b[0m: division by zero"
     ]
    }
   ],
   "source": [
    "c = 100\n",
    "d = 0\n",
    "division = c / d\n",
    "division"
   ]
  },
  {
   "cell_type": "markdown",
   "metadata": {},
   "source": [
    "En este caso, la excepción se debe a que la división entre 0 no es posible. Podemos corregir este error de la siguiente manera:"
   ]
  },
  {
   "cell_type": "code",
   "execution_count": 25,
   "metadata": {},
   "outputs": [
    {
     "data": {
      "text/plain": [
       "10.0"
      ]
     },
     "execution_count": 25,
     "metadata": {},
     "output_type": "execute_result"
    }
   ],
   "source": [
    "c = 100\n",
    "d = 10\n",
    "division = c / d\n",
    "division"
   ]
  },
  {
   "cell_type": "markdown",
   "metadata": {},
   "source": [
    "## Tips y recursos adicionales"
   ]
  },
  {
   "cell_type": "markdown",
   "metadata": {},
   "source": [
    "**Tip 1**\n",
    "\n",
    "Cuando te salga un error que no entiendas, te recomendamos copiar la última línea del error y pegarla en tu buscador web de preferencia. En internet hay una gran variedad de foros en los que se explican la mayoría de los errores que te pueden ocurrir. Te recomendamos acceder a los enlaces de la página Stack Overflow."
   ]
  },
  {
   "cell_type": "markdown",
   "metadata": {},
   "source": [
    "**Tip 2**\n",
    "\n",
    "La función `help` de Python te permite consultar la documentación de cualquier método o función."
   ]
  },
  {
   "cell_type": "markdown",
   "metadata": {},
   "source": [
    "**Recursos adicionales**\n",
    "\n",
    "Para finalizar nuestro primer tutorial, te invitamos a reforzar y complementar tu conocimiento con los siguientes recursos:\n",
    "\n",
    "+ La página de iPython donde se encuentra la documentación, ejemplos y una variedad de recursos. http://ipython.org/\n",
    "+ La página nbviewer donde se encuentran ejemplos y tutoriales de Jupyter Notebook. https://nbviewer.jupyter.org/\n",
    "+ Uno de los libros del curso: https://jakevdp.github.io/PythonDataScienceHandbook/"
   ]
  },
  {
   "cell_type": "markdown",
   "metadata": {},
   "source": [
    "## Créditos"
   ]
  },
  {
   "cell_type": "markdown",
   "metadata": {},
   "source": [
    "__Autores__: Juan Felipe Rengifo Méndez, Ariadna Sofía de Ávila Bula, Alejandro Mantilla Redondo, Diego Alejandro Cely Gómez\n",
    " \n",
    "__Fecha última actualización__: 12/07/2022"
   ]
  }
 ],
 "metadata": {
  "kernelspec": {
   "display_name": "Python 3 (ipykernel)",
   "language": "python",
   "name": "python3"
  },
  "language_info": {
   "codemirror_mode": {
    "name": "ipython",
    "version": 3
   },
   "file_extension": ".py",
   "mimetype": "text/x-python",
   "name": "python",
   "nbconvert_exporter": "python",
   "pygments_lexer": "ipython3",
   "version": "3.8.13"
  }
 },
 "nbformat": 4,
 "nbformat_minor": 4
}

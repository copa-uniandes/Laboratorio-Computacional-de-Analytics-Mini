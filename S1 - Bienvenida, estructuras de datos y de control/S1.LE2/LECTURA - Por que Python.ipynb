{
 "cells": [
  {
   "cell_type": "markdown",
   "metadata": {},
   "source": [
    "![miad4.png](Archivos/miad4.png)"
   ]
  },
  {
   "cell_type": "markdown",
   "metadata": {},
   "source": [
    "# ¿Por qué Python?"
   ]
  },
  {
   "cell_type": "markdown",
   "metadata": {},
   "source": [
    "Python es un lenguaje de propósito general y de alto nivel, lo cual lo hace muy versátil y fácil de usar sin mayor experiencia previa. Esto, sumado a la disponibilidad de librerías especializadas en análisis de datos, hace de Python una gran opción para abordar la programación en *Analytics*. Jupyter, por su parte, es una interfaz para usar Python desde cualquier navegador *web*, la cual permite explorar datos fácilmente y generar documentos y aplicaciones interactivas."
   ]
  },
  {
   "cell_type": "markdown",
   "metadata": {},
   "source": [
    "## Python – Un lenguaje que ofrece versatilidad y usabilidad"
   ]
  },
  {
   "cell_type": "markdown",
   "metadata": {},
   "source": [
    "Son muchas las discusiones sobre cuál es la herramienta más adecuada para el análisis de datos, desde productos como PowerBI o Tableau, hasta lenguajes de programación como Python o R. La mejor respuesta es: depende, porque, como hemos visto, son muchos los roles que se dan en el contexto de los datos. En algunos casos, las herramientas comerciales que no requieren programación por parte del usuario pueden ser suficientes. Sin embargo, cualquier profesional en análisis de datos debe tener un dominio básico de un lenguaje de programación de cabecera. Allí, son Python y R quienes marcan la pauta. En esta lectura veremos por qué el curso se enfoca en Python, resaltando algunas de sus ventajas en versatilidad y usabilidad."
   ]
  },
  {
   "cell_type": "markdown",
   "metadata": {},
   "source": [
    "Cuando se habla de programación en el contexto de análisis de datos, casi inmediatamente se piensa en Python y R; en algunos casos, quizá más especializados en programación científica, se incluye también Julia. La disyuntiva entre casarse con Python o R es difícil de resolver, ya que depende mucho del usuario y del propósito; realmente no es tanto una disyuntiva, porque bien podrían usarse ambos de forma complementaria. A lo largo de este curso trabajaremos en Python. Si bien todos los aprendizajes del curso pueden extenderse a otros lenguajes de programación, a continuación exponemos algunas razones que soportan esta elección."
   ]
  },
  {
   "cell_type": "markdown",
   "metadata": {},
   "source": [
    "### Versatilidad"
   ]
  },
  {
   "cell_type": "markdown",
   "metadata": {},
   "source": [
    "Se ha vuelto popular una frase que dice que “Python es el segundo mejor lenguaje en casi cualquier área”. Por supuesto, no se trata de una afirmación fáctica comprobable, sino de una forma de llamar la atención sobre su característica de ser un lenguaje de propósito general. Cuando se compara con R, algunas de las críticas son: que R es un lenguaje concebido para computación estadística y esto lo hace limitado en otros contextos; también, que R es menos competitivo en términos de desempeño computacional (aunque, al tratarse de *open source software* y debido a su popularización, R y sus librerías han evolucionado para contrarrestar dichas limitaciones)."
   ]
  },
  {
   "cell_type": "markdown",
   "metadata": {},
   "source": [
    "Por su lado, Python se origina como un lenguaje de propósito general y es ampliamente usado por fuera del área de análisis de datos (ej., en desarrollo *web*, bases de datos, aplicaciones, computación científica, educación). También, por tratarse de *open source software* (de código libre) y debido a su popularidad, se han desarrollado muchas librerías que permiten usarlo en contextos especializados. En el área de análisis de datos, algunos de los desarrollos más importantes son: la librería `pandas`, que permite usar estructuras de datos similares a las de R; la librería `seaborn`, que facilita la visualización de datos para su análisis, junto a otras librerías especializadas en modelos estadísticos y de *machine learning*. El uso combinado de estas librerías en Python permite lograr las capacidades a nivel estadístico y de análisis de datos que se pueden tener en R, con la ventaja de tener mayor aplicabilidad por fuera del mundo del análisis de datos."
   ]
  },
  {
   "cell_type": "markdown",
   "metadata": {},
   "source": [
    "Recordemos que el análisis de datos es un área altamente interdisciplinar y transversal a muchos sectores y divisiones dentro de las organizaciones. Por esto, no es extraño que los desarrollos en análisis de datos deban interactuar con otros módulos (ej., aplicaciones *web*, algoritmos operativos, etc.), donde un lenguaje como Python se vuelve muy conveniente."
   ]
  },
  {
   "cell_type": "markdown",
   "metadata": {},
   "source": [
    "### Usabilidad"
   ]
  },
  {
   "cell_type": "markdown",
   "metadata": {},
   "source": [
    "Otra frase popular dice que “Python, bien escrito, es casi como escribir inglés” y de esto podremos ver ejemplos en este curso. Por esa razón, es muy común ver cursos de iniciación a la programación en Python, precisamente porque la curva de aprendizaje se hace muy llevadera para personas sin experiencia previa. Una de las premisas detrás de Python fue simplificar el lenguaje, evitando formalismos requeridos en otros lenguajes, como es el caso de la definición de tipos en las variables. Esta simplificación ha contribuido a que el lenguaje se haya popularizado entre profesionales que se pueden valer de la programación sin alto nivel de experticia (o sin tener que dedicarle demasiado tiempo a los aspectos técnicos) y a que existan numerosas librerías, cada vez más sofisticadas, que apoyan el desarrollo de soluciones en múltiples industrias. Por supuesto, estas simplificaciones tienen un costo en términos de desempeño computacional, aunque al momento de explorar datos o prototipar soluciones, estas limitaciones suelen ser menores y se pueden corregir al momento de desplegar soluciones, ya sea optimizando el código de Python o transfiriendo estos prototipos a otros lenguajes. El beneficio está en que Python se presta para el desarrollo rápido de prototipos en la etapa crítica de evaluar posibles soluciones mediante ensayo y error.                  "
   ]
  },
  {
   "cell_type": "markdown",
   "metadata": {},
   "source": [
    "Si bien los cursos que se enfocan en modelos estadísticos suelen utilizar R (realmente se usa bastante en la práctica), es recomendable que cada quien use aquel lenguaje con el que se sienta más cómodo; muchos lenguajes son de propósito general y las limitaciones suelen ser solo del desarrollador. Mi posición personal es que elijo el diseño centrado en el usuario que encuentro en Python. Si yo quiero que mi equipo de desarrollo haga cosas geniales, tiene sentido que me preocupe por cómo es la experiencia del programador. La simplicidad, elegancia y semántica de la sintaxis de Python hacen que la experiencia de programar sea mucho más amena. Aunque parezca un criterio estético, realmente no es menor; mientras no esté sacrificando funcionalidad y desempeño, pensar en el diseño de un producto y la experiencia del usuario es parte del trabajo. El profesional en analítica de datos debe diseñar herramientas de apoyo a la decisión, con interfaces de usuario simples y efectivas, así que ser sensible a la usabilidad es una competencia valiosa."
   ]
  },
  {
   "cell_type": "markdown",
   "metadata": {},
   "source": [
    "## El ecosistema Python"
   ]
  },
  {
   "cell_type": "markdown",
   "metadata": {},
   "source": [
    "Más que pensar en Python, nuestra apuesta es por el material *open source* y aquí caben R, Python y Julia. Una razón importante para elegir este material es que no nos ata a un producto comercial y tiene amplio soporte de la comunidad: por una parte, constantemente se están desarrollando nuevos módulos y librerías útiles en diferentes contextos, o generando actualizaciones de librerías existentes; por otra parte, las comunidades activamente responden inquietudes en Internet sobre el uso del *software*, por lo cual es relativamente fácil encontrar soluciones a problemas que se puede encontrar un principiante, e incluso para problemas sorprendentemente especializados."
   ]
  },
  {
   "cell_type": "markdown",
   "metadata": {},
   "source": [
    "Uno de los retos que se encuentran los nuevos usuarios de Python es la variedad de herramientas disponibles, principalmente, los múltiples entornos desde los que se puede trabajar; también, la variedad de librerías y herramientas que existen alrededor de Python. La siguiente figura muestra un panorama general de este ecosistema."
   ]
  },
  {
   "cell_type": "markdown",
   "metadata": {},
   "source": [
    "![ecoPy.png](Archivos/ecoPy.png)"
   ]
  },
  {
   "cell_type": "markdown",
   "metadata": {},
   "source": [
    "* En el centro encontramos a Python, que es el lenguaje y además lo que se conoce como el *kernel*: el *software* que interpreta el lenguaje y lo ejecuta en la máquina.</br></br>\n",
    "\n",
    "* En la parte superior, se listan algunos entornos desde los cuales se puede usar o desarrollar código Python.</br></br>\n",
    "\n",
    "    * Típicamente, personas de perfil gerencial únicamente utilizan productos terminados, como aplicaciones *web* (ej., basadas en Django) o tableros de control desarrollados en las librerías `dash` o `panel`, entre otros.</br></br>\n",
    "    \n",
    "    * Productos como Anaconda le facilitan al usuario su inmersión en Python. Proveen entornos como Spyder, que permite desarrollar *scripts* de código en archivos con extensión `.py` con funcionalidades para desarrollar y depurar código como cualquier *IDE* (*Interactive Development Environment*) del mercado. Adicionalmente, Anaconda permite acceder fácilmente a Jupyter, que es una interfaz para desarrollar código Python en un navegador *web* a través de documentos interactivos (Jupyter Notebook) con extensión `.ipynb`, que combinan texto, imágenes, expresiones matemáticas, etc., con desarrollo de código que se puede ejecutar directamente en el documento.</br></br>\n",
    "    \n",
    "    * Los programadores puristas suelen preferir entornos de desarrollo minimalistas, pues por lo general no quieren agregar un costo computacional al usar interfaces gráficas pesadas; ellos prefieren algo más cercano a un bloc de notas, pero con funcionalidades especiales para desarrollar y depurar código. Ejemplos de esto son Sublime, Atom o PyCharm; incluso, siendo aun más purista, se suele utilizar Vim desde la Consola o Terminal del computador.</br></br>\n",
    "    \n",
    "* En la parte inferior, se listan algunas librerías comunes que se instalan en el entorno de Python para extender sus capacidades. Python en si mismo es relativamente simple y permite programación a nivel general. Las librerías son las que lo enriquecen con funciones especializadas en matemáticas, gráficas, optimización, *machine learning*, entre muchos otros campos."
   ]
  },
  {
   "cell_type": "markdown",
   "metadata": {},
   "source": [
    "### ¿Por qué Jupyter?"
   ]
  },
  {
   "cell_type": "markdown",
   "metadata": {},
   "source": [
    "En este curso, utilizaremos la interfaz Jupyter. Particularmente, nos interesa poder ejecutar código Python de forma interactiva en un navegador y combinarlo con texto enriquecido y contenido multimedia. De esta forma, es posible generar reportes con imágenes, ecuaciones y código Python ejecutable por bloques con visualización inmediata de resultados. "
   ]
  },
  {
   "cell_type": "markdown",
   "metadata": {},
   "source": [
    "Estas características hacen de Jupyter una opción muy atractiva en el contexto de análisis de datos por ser un área en la que, más que programar rutinas pensadas para ejecutarse completas, se pasa buena parte del tiempo explorando y manipulando datos iterativamente, lo cual resulta muy práctico en la interfaz interactiva de Jupyter. "
   ]
  },
  {
   "cell_type": "markdown",
   "metadata": {},
   "source": [
    "Como ventajas adicionales, encontramos: \n",
    "\n",
    "1. existen plataformas como Anaconda, Google Colab, entre otras que permiten trabajar en archivos de Jupyter sin complicaciones de instalación (ya sea como aplicaciones de escritorio o servicios *web*);</br></br>\n",
    "\n",
    "2. Jupyter permite ejecutar código en otros lenguajes además de Python; de hecho, su nombre proviene de las palabras Julia, Python y R (los lenguajes base que soporta)."
   ]
  },
  {
   "cell_type": "markdown",
   "metadata": {},
   "source": [
    "En síntesis, Python es una opción muy recomendable para usuarios con poca experiencia en programación y, aunque parezca contradictorio, para usuarios con altas ambiciones o bagaje en programación que quieran ir más allá del análisis estadístico típico de R (ej., desarrollo *web*, aplicaciones, manejo de varios paradigmas de programación). Por otro lado, Jupyter es una interfaz altamente versátil al poderse acceder desde cualquier navegador *web* y se desempeña bien en las tareas de analítica de datos por su interactividad y facilidad para generar reportes que comuniquen los resultados, más allá del resultado en código."
   ]
  },
  {
   "cell_type": "markdown",
   "metadata": {},
   "source": [
    "## Créditos"
   ]
  },
  {
   "cell_type": "markdown",
   "metadata": {},
   "source": [
    "__Autores__: Camilo Hernando Gómez Castro, Alejandro Mantilla Redondo, Diego Alejandro Cely Gómez\n",
    " \n",
    "__Fecha última actualización__: 07/07/2022"
   ]
  }
 ],
 "metadata": {
  "kernelspec": {
   "display_name": "Python 3 (ipykernel)",
   "language": "python",
   "name": "python3"
  },
  "language_info": {
   "codemirror_mode": {
    "name": "ipython",
    "version": 3
   },
   "file_extension": ".py",
   "mimetype": "text/x-python",
   "name": "python",
   "nbconvert_exporter": "python",
   "pygments_lexer": "ipython3",
   "version": "3.9.7"
  }
 },
 "nbformat": 4,
 "nbformat_minor": 4
}

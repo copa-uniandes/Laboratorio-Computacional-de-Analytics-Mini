{
 "cells": [
  {
   "cell_type": "markdown",
   "metadata": {},
   "source": [
    "![miad4.png](Archivos/miad4.png)"
   ]
  },
  {
   "cell_type": "code",
   "execution_count": null,
   "metadata": {
    "tags": [
     "hide-input",
     "thebe-init"
    ]
   },
   "outputs": [],
   "source": [
    "import os\n",
    "# Por precaución, cambiamos el directorio activo de Python a aquel que contenga este notebook\n",
    "if \"PAD-book\" in os.listdir():\n",
    "    os.chdir(r\"PAD-book/Laboratorio-Computacional-de-Analytics/S1 - Bienvenida, estructuras de datos y de control/S1.TU2/\")"
   ]
  },
  {
   "cell_type": "markdown",
   "metadata": {},
   "source": [
    "# Estructuras de datos: listas, tuplas, conjuntos y diccionarios"
   ]
  },
  {
   "cell_type": "markdown",
   "metadata": {},
   "source": [
    "Al inciar un proyecto de analítica de datos resulta fundamental almacenar información en la máquina con el fin de procesarla de una manera eficiente. Las estructuras de datos resuelven esta necesidad, ya que nos proveen diferentes formas de representar información computacionalmente. "
   ]
  },
  {
   "cell_type": "markdown",
   "metadata": {},
   "source": [
    "## Requisitos"
   ]
  },
  {
   "cell_type": "markdown",
   "metadata": {},
   "source": [
    "Para desarrollar este tutorial necesitarás:\n",
    "* Aplicar las funcionalidades básicas de un Jupyter Notebook.\n",
    "* Declarar y utilizar variables."
   ]
  },
  {
   "cell_type": "markdown",
   "metadata": {},
   "source": [
    "## Objetivos"
   ]
  },
  {
   "cell_type": "markdown",
   "metadata": {},
   "source": [
    "Al final de este tutorial podrás:\n",
    "\n",
    "**1.** Comprender los usos y características principales de las estructuras de datos más comunes.<br>\n",
    "**2.** Declarar estructuras de datos para almacenar información de una manera eficiente.<br>\n",
    "**3.** Consultar y modificar la información almacenada en las diferentes estructuras de datos.<br>\n",
    "**4.** Conocer métodos y particularidades para cada una de las estructuras de datos más comunes.<br>  "
   ]
  },
  {
   "cell_type": "markdown",
   "metadata": {},
   "source": [
    "## 1. Listas"
   ]
  },
  {
   "cell_type": "markdown",
   "metadata": {},
   "source": [
    "### 1.1. Usos y características principales"
   ]
  },
  {
   "cell_type": "markdown",
   "metadata": {},
   "source": [
    "Una lista permite representar una colección ordenada de cualquier cantidad de elementos. Estos elementos pueden ser números, palabras, otras listas, etc. Una lista es una estructura de datos flexible debido a que no necesariamente todos sus elementos tienen que ser del mismo tipo. Adicionalmente, es mutable debido a que podemos modificar sus elementos. "
   ]
  },
  {
   "cell_type": "markdown",
   "metadata": {},
   "source": [
    "### 1.2. Declaración "
   ]
  },
  {
   "cell_type": "markdown",
   "metadata": {},
   "source": [
    "Para declarar una lista inciamos abriendo un corchete (`[ ]`), escribimos uno a uno sus elementos separados por medio de comas (`,`) y finalizamos cerrando el corchete. En particular, notemos que es posible declarar listas vacías. A continuación, declaramos de forma general una lista y la almacenamos con el nombre `nombre_lista`:\n",
    "\n",
    "```python\n",
    "nombre_lista = [elemento_1, elemento_2, elemento_3]\n",
    "```"
   ]
  },
  {
   "cell_type": "markdown",
   "metadata": {},
   "source": [
    "<!--<a id='Ej1'></a>-->\n",
    "#### Ejemplo 1 "
   ]
  },
  {
   "cell_type": "markdown",
   "metadata": {},
   "source": [
    "Un agricultor quiere registrar la producción de su cultivo de sandías para los primeros cinco meses del año. Él produjo 25, 30, 15, 16 y 13 sandías en cada uno de estos meses, respectivamente. Para representar está información resulta útil declarar la siguiente lista:"
   ]
  },
  {
   "cell_type": "code",
   "execution_count": 1,
   "metadata": {
    "scrolled": true
   },
   "outputs": [
    {
     "data": {
      "text/plain": [
       "[25, 30, 15, 16, 13]"
      ]
     },
     "execution_count": 1,
     "metadata": {},
     "output_type": "execute_result"
    }
   ],
   "source": [
    "lista_produccion = [25, 30, 15, 16, 13]\n",
    "lista_produccion"
   ]
  },
  {
   "cell_type": "markdown",
   "metadata": {},
   "source": [
    "### 1.3. Consulta y modificación de elementos"
   ]
  },
  {
   "cell_type": "markdown",
   "metadata": {},
   "source": [
    "#### Consulta "
   ]
  },
  {
   "cell_type": "markdown",
   "metadata": {},
   "source": [
    "Los elementos de una lista son almacenados de manera ordenada de acuerdo al orden en que se hayan declarado. Podemos consultar cada uno de ellos utilizando el índice único que Python le asigna con el fin de identificarlo. Es importante tener en cuenta que en Python los índices comienzan en el número 0. Así, el índice 0 se asigna al primer elemento de la lista, el índice 1 al segundo, etc. También es posible consultarlos utilizando una indexación negativa, en la cual el índice -1 se asigna a la última posición de la lista, el índice -2 a la penúltima, etc. La imagen a continuación ejemplifica estas dos maneras de consultar cada uno de los elementos de la lista `nombre_lista` que declaramos anteriormente."
   ]
  },
  {
   "cell_type": "markdown",
   "metadata": {},
   "source": [
    "![listas.png](Archivos/listas.png)"
   ]
  },
  {
   "cell_type": "markdown",
   "metadata": {},
   "source": [
    "Para consultar un elemento de una lista escribimos el nombre de la lista seguido del índice del elemento que queremos consultar entre corchetes. Por ejemplo, para acceder al segundo elemento de la lista `nombre_lista` escribimos: \n",
    "\n",
    "```python\n",
    "nombre_lista[1]\n",
    "```\n",
    "\n",
    "De manera equivalente, utilizando la indexación negativa escribimos:\n",
    "\n",
    "```python\n",
    "nombre_lista[-2]\n",
    "```"
   ]
  },
  {
   "cell_type": "markdown",
   "metadata": {},
   "source": [
    "#### Ejemplo 2"
   ]
  },
  {
   "cell_type": "markdown",
   "metadata": {},
   "source": [
    "El mismo agricultor de sandías del Ejemplo 1 desea saber la producción del último mes de su cultivo de sandías. Escribimos la siguiente instrucción para este propósito: "
   ]
  },
  {
   "cell_type": "code",
   "execution_count": 2,
   "metadata": {},
   "outputs": [
    {
     "data": {
      "text/plain": [
       "13"
      ]
     },
     "execution_count": 2,
     "metadata": {},
     "output_type": "execute_result"
    }
   ],
   "source": [
    "lista_produccion[4]"
   ]
  },
  {
   "cell_type": "markdown",
   "metadata": {},
   "source": [
    "Dado que este es el último elemento de nuestra lista, intentar consultar un índice mayor, que exceda el rango de la lista, nos arrojará un error de tipo `IndexError`. A continuación mostramos un ejemplo de este."
   ]
  },
  {
   "cell_type": "code",
   "execution_count": 3,
   "metadata": {},
   "outputs": [
    {
     "ename": "IndexError",
     "evalue": "list index out of range",
     "output_type": "error",
     "traceback": [
      "\u001b[0;31m---------------------------------------------------------------------------\u001b[0m",
      "\u001b[0;31mIndexError\u001b[0m                                Traceback (most recent call last)",
      "Input \u001b[0;32mIn [3]\u001b[0m, in \u001b[0;36m<cell line: 1>\u001b[0;34m()\u001b[0m\n\u001b[0;32m----> 1\u001b[0m \u001b[43mlista_produccion\u001b[49m\u001b[43m[\u001b[49m\u001b[38;5;241;43m5\u001b[39;49m\u001b[43m]\u001b[49m\n",
      "\u001b[0;31mIndexError\u001b[0m: list index out of range"
     ]
    }
   ],
   "source": [
    "lista_produccion[5]"
   ]
  },
  {
   "cell_type": "markdown",
   "metadata": {},
   "source": [
    "#### Modificación"
   ]
  },
  {
   "cell_type": "markdown",
   "metadata": {},
   "source": [
    "Como se mencionó anteriormente, una lista es una estructura de datos mutable. Para modificar un elemento, lo consultamos y con un signo igual (`=`) le asignamos un nuevo valor. Por ejemplo, para modificar el segundo elemento de la lista `nombre_lista` y asignarle el valor `nuevo_valor`, escribimos: \n",
    "\n",
    "```python\n",
    "nombre_lista[1] = nuevo_valor\n",
    "```"
   ]
  },
  {
   "cell_type": "markdown",
   "metadata": {},
   "source": [
    "##### Ejemplo 3"
   ]
  },
  {
   "cell_type": "markdown",
   "metadata": {},
   "source": [
    "Volvamos a la lista `lista_produccion` declarada en el Ejemplo 1, la cual registra la producción del cultivo de sandías del agricultor. Requerimos lo siguiente:\n",
    "\n",
    "* Consultar la producción del primer y del tercer mes del año.\n",
    "* Modificar el registro de la producción del último mes puesto que se conoció que realmente fue de 22 sandías."
   ]
  },
  {
   "cell_type": "markdown",
   "metadata": {},
   "source": [
    "Resolvamos el primer requerimiento."
   ]
  },
  {
   "cell_type": "code",
   "execution_count": 4,
   "metadata": {},
   "outputs": [
    {
     "name": "stdout",
     "output_type": "stream",
     "text": [
      "La producción del primer mes es 25\n",
      "La producción del tercer mes es 15\n"
     ]
    }
   ],
   "source": [
    "print(\"La producción del primer mes es \" + str(lista_produccion[0]))\n",
    "print(\"La producción del tercer mes es \" + str(lista_produccion[2]))"
   ]
  },
  {
   "cell_type": "markdown",
   "metadata": {},
   "source": [
    "Resolvamos el segundo requerimiento teniendo en cuenta que la manera mas intuitiva de hacerlo es utilizando la indexación negativa."
   ]
  },
  {
   "cell_type": "code",
   "execution_count": 5,
   "metadata": {},
   "outputs": [
    {
     "name": "stdout",
     "output_type": "stream",
     "text": [
      "La lista modificada es: [25, 30, 15, 16, 22]\n"
     ]
    }
   ],
   "source": [
    "lista_produccion[-1] = 22\n",
    "print(\"La lista modificada es: \" + str(lista_produccion))"
   ]
  },
  {
   "cell_type": "markdown",
   "metadata": {},
   "source": [
    "Ahora, resolvamos nuevamente el segundo requerimiento utilizando indexación positiva. Considerando que la función `len` nos permite conocer el tamaño de una lista, podemos resolverlo como se muestra a continuación:"
   ]
  },
  {
   "cell_type": "code",
   "execution_count": 6,
   "metadata": {},
   "outputs": [
    {
     "name": "stdout",
     "output_type": "stream",
     "text": [
      "El tamaño de la lista es: 5\n",
      "La lista modificada es: [25, 30, 15, 16, 22]\n"
     ]
    }
   ],
   "source": [
    "print(\"El tamaño de la lista es: \" + str(len(lista_produccion)))\n",
    "lista_produccion[len(lista_produccion) - 1] = 22\n",
    "print(\"La lista modificada es: \" + str(lista_produccion))"
   ]
  },
  {
   "cell_type": "markdown",
   "metadata": {},
   "source": [
    "### 1.4. Métodos y particularidades"
   ]
  },
  {
   "cell_type": "markdown",
   "metadata": {},
   "source": [
    "#### Rebanado"
   ]
  },
  {
   "cell_type": "markdown",
   "metadata": {},
   "source": [
    "En las estructuras de datos ordenadas como las listas es posible hacer referencia a una porción de los datos. Esto se conoce como rebanado (*slicing*) y consiste en seleccionar los elementos desde cierto índice inicial hasta cierto índice final, tomando una porción de los datos de alguna estructura de datos y no necesariamente su totalidad.  "
   ]
  },
  {
   "cell_type": "markdown",
   "metadata": {},
   "source": [
    "Pensemos nuevamente en nuestra lista `nombre_lista` declarada anteriormente. Para aplicar una instrucción de rebanado sobre esta lista elegimos cuáles elementos queremos extraer de la lista original. Supongamos que queremos extraer únicamente los primeros dos elementos. Podemos hacerlo utilizando la siguiente instrucción: `nombre_lista[0:2]`, donde el número ubicado a la izquierda del caracter dos puntos (`:`) establece desde cuál índice realizamos nuestro rebanado (incluyéndolo), mientras que el número a la derecha establece hasta cuál índice realizamos nuestro rebanado (sin incluirlo). Si no escribimos el número a la izquierda del caracter dos puntos, el rebanado inicia desde el primer elemento. De la misma manera, si no escribimos el número a la derecha del caracter dos puntos, el rebanado finaliza en el último elemento."
   ]
  },
  {
   "cell_type": "markdown",
   "metadata": {},
   "source": [
    "##### Ejemplo 4"
   ]
  },
  {
   "cell_type": "markdown",
   "metadata": {},
   "source": [
    "En la siguiente celda de código encuentras declarada una lista que contiene las 27 letras del abecedario. Basándonos en ella, queremos crear tres listas:\n",
    "\n",
    "* Una lista que contenga las primeras cuatro letras del abecedario. \n",
    "* Una lista que contenga desde la decimosexta letra hasta la última letra del abecedario.\n",
    "* Una lista que contenga desde la tercera letra del abecedario hasta la antepenúltima letra."
   ]
  },
  {
   "cell_type": "code",
   "execution_count": 7,
   "metadata": {},
   "outputs": [],
   "source": [
    "lista_abc = ['a', 'b', 'c', 'd', 'e', 'f', 'g', 'h', 'i', 'j', 'k', 'l', 'm', 'n', 'ñ', 'o', 'p', 'q', \n",
    "             'r', 's', 't', 'u', 'v', 'w', 'x', 'y', 'z']"
   ]
  },
  {
   "cell_type": "markdown",
   "metadata": {},
   "source": [
    "Para crear la primera lista, podemos utilizar cualquiera de las siguientes dos instrucciones:"
   ]
  },
  {
   "cell_type": "code",
   "execution_count": 8,
   "metadata": {},
   "outputs": [
    {
     "name": "stdout",
     "output_type": "stream",
     "text": [
      "['a', 'b', 'c', 'd']\n",
      "['a', 'b', 'c', 'd']\n"
     ]
    }
   ],
   "source": [
    "print(lista_abc[0:4])\n",
    "print(lista_abc[:4])"
   ]
  },
  {
   "cell_type": "markdown",
   "metadata": {},
   "source": [
    "De forma similar, utilizamos la siguiente instrucción para crear la segunda lista, prescindiendo de especificar el número a la derecha del rebanado. "
   ]
  },
  {
   "cell_type": "code",
   "execution_count": 9,
   "metadata": {
    "scrolled": true
   },
   "outputs": [
    {
     "data": {
      "text/plain": [
       "['o', 'p', 'q', 'r', 's', 't', 'u', 'v', 'w', 'x', 'y', 'z']"
      ]
     },
     "execution_count": 9,
     "metadata": {},
     "output_type": "execute_result"
    }
   ],
   "source": [
    "lista_abc[15:]"
   ]
  },
  {
   "cell_type": "markdown",
   "metadata": {},
   "source": [
    "En el rebanado también podemos utilizar la indexación negativa e incluso hacerlo de forma mixta con la indexación positiva. Para esto último debemos tener un especial cuidado, procurando que el elemento asociado al primer índice que se le suministra a la instrucción de rebanado se encuentre antes del elemento asociado al segundo índice suministrado, pues de lo contrario, la instrucción retornaría una lista vacía. "
   ]
  },
  {
   "cell_type": "markdown",
   "metadata": {},
   "source": [
    "Para crear la tercera lista podemos usar la indexación de forma mixta puesto que tenemos presente que la tercera letra del abecedario (`'c'`) antecede a la antepenúltima (`'x'`). "
   ]
  },
  {
   "cell_type": "code",
   "execution_count": 10,
   "metadata": {
    "scrolled": true
   },
   "outputs": [
    {
     "data": {
      "text/plain": [
       "['c',\n",
       " 'd',\n",
       " 'e',\n",
       " 'f',\n",
       " 'g',\n",
       " 'h',\n",
       " 'i',\n",
       " 'j',\n",
       " 'k',\n",
       " 'l',\n",
       " 'm',\n",
       " 'n',\n",
       " 'ñ',\n",
       " 'o',\n",
       " 'p',\n",
       " 'q',\n",
       " 'r',\n",
       " 's',\n",
       " 't',\n",
       " 'u',\n",
       " 'v',\n",
       " 'w',\n",
       " 'x']"
      ]
     },
     "execution_count": 10,
     "metadata": {},
     "output_type": "execute_result"
    }
   ],
   "source": [
    "lista_abc[2:-2]"
   ]
  },
  {
   "cell_type": "markdown",
   "metadata": {},
   "source": [
    "#### Listas anidadas"
   ]
  },
  {
   "cell_type": "markdown",
   "metadata": {},
   "source": [
    "En Python, a una lista que se encuentra contenida dentro de otra se le denomina una lista anidada. De esta manera, podemos tener listas que contengan una o más listas con el fin de tener agrupaciones que tengan un sentido dentro del contexto de nuestro problema. Su declaración general sería así: \n",
    "\n",
    "```python\n",
    "lista_anidada = [elemento_1, elemento_2, elemento_3]\n",
    "\n",
    "lista_contenedora = [elemento_4, lista_anidada, elemento_5, elemento_6]\n",
    "```"
   ]
  },
  {
   "cell_type": "markdown",
   "metadata": {},
   "source": [
    "##### Ejemplo 5"
   ]
  },
  {
   "cell_type": "markdown",
   "metadata": {},
   "source": [
    "Se nos solicita que declaremos una lista que contenga los números del 0 al 9, diferenciando los números naturales del cero. "
   ]
  },
  {
   "cell_type": "code",
   "execution_count": 11,
   "metadata": {
    "scrolled": true
   },
   "outputs": [
    {
     "data": {
      "text/plain": [
       "[0, [1, 2, 3, 4, 5, 6, 7, 8, 9]]"
      ]
     },
     "execution_count": 11,
     "metadata": {},
     "output_type": "execute_result"
    }
   ],
   "source": [
    "lista_nums_naturales = [1,2,3,4,5,6,7,8,9]\n",
    "lista_nums_del_0_al_9 = [0, lista_nums_naturales]\n",
    "lista_nums_del_0_al_9"
   ]
  },
  {
   "cell_type": "markdown",
   "metadata": {},
   "source": [
    "Esta declaración también la habríamos podido realizar elemento a elemento."
   ]
  },
  {
   "cell_type": "code",
   "execution_count": 12,
   "metadata": {
    "scrolled": true
   },
   "outputs": [
    {
     "data": {
      "text/plain": [
       "[0, [1, 2, 3, 4, 5, 6, 7, 8, 9]]"
      ]
     },
     "execution_count": 12,
     "metadata": {},
     "output_type": "execute_result"
    }
   ],
   "source": [
    "lista_nums_del_0_al_9_opcion_2 = [0,[1,2,3,4,5,6,7,8,9]]\n",
    "lista_nums_del_0_al_9_opcion_2"
   ]
  },
  {
   "cell_type": "markdown",
   "metadata": {},
   "source": [
    "#### Consulta y modificación de elementos dentro de una lista anidada."
   ]
  },
  {
   "cell_type": "markdown",
   "metadata": {},
   "source": [
    "Para consultar o modificar un elemento dentro de una lista anidada, también utilizamos los corchetes que empleábamos al consultar un elemento de una lista convencional; esta vez debemos hacerlo recursivamente. Para ejemplificar esto, recordemos las listas `lista_anidada` y `lista_contenedora` declaradas anteriormente."
   ]
  },
  {
   "cell_type": "markdown",
   "metadata": {},
   "source": [
    "El primer paso consiste en consultar el índice que le corresponde a la lista anidada dentro de la lista que la contiene; en este caso el índice 1 de la lista `lista_contenedora`.\n",
    "```python\n",
    "lista_contenedora[1]\n",
    "```"
   ]
  },
  {
   "cell_type": "markdown",
   "metadata": {},
   "source": [
    "Una vez consultada la lista, consultamos dentro de la lista anidada el índice corresponidente al elemento de interés. Por ejemplo, para consultar el primer elemento de la lista `lista_anidada` escribimos:\n",
    "\n",
    "```python\n",
    "lista_contenedora[1][0]\n",
    "```"
   ]
  },
  {
   "cell_type": "markdown",
   "metadata": {},
   "source": [
    "Para modificarlo, asignamos un nuevo valor con un signo igual (`=`) tal y como se hace con las listas convencionales.\n",
    "\n",
    "```python\n",
    "lista_contenedora[1][0] = nuevo_valor\n",
    "```"
   ]
  },
  {
   "cell_type": "markdown",
   "metadata": {},
   "source": [
    "##### Ejemplo 6"
   ]
  },
  {
   "cell_type": "markdown",
   "metadata": {},
   "source": [
    "Un periódico local sostiene sus operaciones principalmente con la publicidad que se encuentra en su página web y con las donaciones que recibe durante sus transmisiones en vivo, las cuales suelen durar tres horas. En la hora 1 únicamente recibieron dos donaciones de un dólar, en la hora 2 cinco donaciones de tres dólares, y en la hora 3 cuatro donaciones de siete dólares. La lista se encuentra declarada en la siguiente celda."
   ]
  },
  {
   "cell_type": "code",
   "execution_count": 13,
   "metadata": {
    "scrolled": true
   },
   "outputs": [],
   "source": [
    "lista_donaciones = [[1, 1], [3, 3, 3, 3, 3], [7, 7, 7, 7]]"
   ]
  },
  {
   "cell_type": "markdown",
   "metadata": {},
   "source": [
    "Más tarde se percataron de que la primera donación del día en realidad había sido de cinco dólares. Se nos solicita modificar la lista para corregir ese error de registro."
   ]
  },
  {
   "cell_type": "code",
   "execution_count": 14,
   "metadata": {
    "scrolled": true
   },
   "outputs": [
    {
     "data": {
      "text/plain": [
       "[[5, 1], [3, 3, 3, 3, 3], [7, 7, 7, 7]]"
      ]
     },
     "execution_count": 14,
     "metadata": {},
     "output_type": "execute_result"
    }
   ],
   "source": [
    "lista_donaciones[0][0] = 5 \n",
    "lista_donaciones"
   ]
  },
  {
   "cell_type": "markdown",
   "metadata": {},
   "source": [
    "#### Operaciones con listas"
   ]
  },
  {
   "cell_type": "markdown",
   "metadata": {},
   "source": [
    "En Python es posible utilizar el operador de suma (`+`) y el de multiplicación (`*`) para concatenar y repetir las listas, respectivamente. Si tenemos dos listas y ubicamos el operador de suma en medio de las dos, la lista resultante tendrá todos los elementos de ambas listas. \n",
    "\n",
    "```python\n",
    "lista_1 = [elemento_1_lista_1, elemento_2_lista_1, elemento_3_lista_1]\n",
    "lista_2 = [elemento_1_lista_2, elemento_2_lista_2, elemento_3_lista_2]\n",
    "lista_3 = lista_1 + lista_2\n",
    "```"
   ]
  },
  {
   "cell_type": "markdown",
   "metadata": {},
   "source": [
    "En este caso `lista_3` tendrá 3+3 elementos, donde los elementos de la lista `lista_2` serán posicionados justo después de los elementos de la lista `lista_1`. Así, la lista `lista_3` tendrá los siguientes elementos:\n",
    "\n",
    "```python\n",
    "lista_3 = [elemento_1_lista_1, elemento_2_lista_1, elemento_3_lista_1, elemento_1_lista_2,\n",
    "           elemento_2_lista_2, elemento_3_lista_2]\n",
    "```"
   ]
  },
  {
   "cell_type": "markdown",
   "metadata": {},
   "source": [
    "Por su parte, el operador de multiplicación permite repetir una lista las veces que se considere necesario. De forma genérica:\n",
    "\n",
    "```python\n",
    "lista_4 = [elemento_1, elemento_2] * 3 \n",
    "```"
   ]
  },
  {
   "cell_type": "markdown",
   "metadata": {},
   "source": [
    "La lista 4 tendría los siguientes elementos:\n",
    "```python\n",
    "lista_4 =  [elemento_1, elemento_2, elemento_1, elemento_2, elemento_1, elemento_2]\n",
    "```"
   ]
  },
  {
   "cell_type": "markdown",
   "metadata": {},
   "source": [
    "##### Ejemplo 7"
   ]
  },
  {
   "cell_type": "markdown",
   "metadata": {},
   "source": [
    "En la siguiente transmisión que realizó el periódico del Ejemplo 6, en la hora 1 se registraron cinco donaciones de un dólar, en la hora 2 tres donaciones de nueve dólares, y en la hora 3 solo una donación de dos dólares. Se nos solicita que creemos esta lista usando los operadores de concatenación (`+`) y repetición (`*`). Ahora, el periodico nos indicó que ya no es necesario que las listas se encuentren anidadas por horas."
   ]
  },
  {
   "cell_type": "code",
   "execution_count": 15,
   "metadata": {},
   "outputs": [
    {
     "data": {
      "text/plain": [
       "[1, 1, 1, 1, 1, 9, 9, 9, 2]"
      ]
     },
     "execution_count": 15,
     "metadata": {},
     "output_type": "execute_result"
    }
   ],
   "source": [
    "lista_donaciones_2 = [1] * 5 + [9] * 3 + [2]\n",
    "lista_donaciones_2"
   ]
  },
  {
   "cell_type": "markdown",
   "metadata": {},
   "source": [
    "#### Métodos de las listas "
   ]
  },
  {
   "cell_type": "markdown",
   "metadata": {},
   "source": [
    "Las listas cuentan con métodos base, los cuales nos permiten realizar una diversas operaciones. Los métodos pueden retornar una nueva lista, modificar la original, o retornar un valor de interés. La siguiente tabla contiene algunos de los métodos de las listas y su descripción. "
   ]
  },
  {
   "cell_type": "markdown",
   "metadata": {},
   "source": [
    "|<center>Método<center>|<center>Descripción<center>\n",
    "|:-----|:-----|\n",
    "|`sorted()` o `sort()`| Ordena ascendentemente una lista numérica|\n",
    "|`append(a)`| Agrega el elemento `a` al final de la lista|\n",
    "|`insert(pos , a)`| Inserta el elemento `a` en la posición `pos`|\n",
    "|`extend(otra_lista)`| Concatena la lista actual con la lista `otra_lista`|\n",
    "|`remove(a)`| Remueve el primer elemento de la lista que sea igual a `a` |\n",
    "|`pop(pos)`| Remueve el elemento en la posición `pos` de la lista|\n",
    "|`index(a)`| Devuelve el índice del primer elemento igual a `a` en la lista|\n",
    "|`count(a)`| Cuenta el número de veces que el elemento `a` está en la lista|\n",
    "|`reverse()`|Invierte los elementos de la lista|\n",
    "|`copy()`| Devuelve una copia de la lista|"
   ]
  },
  {
   "cell_type": "markdown",
   "metadata": {},
   "source": [
    "##### Ejemplo 8"
   ]
  },
  {
   "cell_type": "markdown",
   "metadata": {},
   "source": [
    "Seguimos con el periodico del Ejemplo 6. Esta vez, el área de tesorería está interesada en obtener algunos indicadores sobre una lista que unifique las donaciones recibidas en sus dos últimas transmisiones. En particular nos solicita lo siguiente: \n",
    "\n",
    "* Unir ambas listas (`lista_donaciones` y `lista_donaciones_2`).\n",
    "* Agregar una donación de 3 dólares que olvidaron registrar en la última transmisión. \n",
    "* Obtener el número de donaciones de un dólar que recibió el periódico.\n",
    "* Encontrar la donación más alta que recibió el periódico. "
   ]
  },
  {
   "cell_type": "markdown",
   "metadata": {},
   "source": [
    "Antes de cumplir con el primer requerimiento, recordemos que que ya no es necesario que las listas se encuentren anidadas por horas y que en la lista `lista_donaciones` las donaciones aún se encuentran así. Solucionemos esto de la siguiente manera:"
   ]
  },
  {
   "cell_type": "code",
   "execution_count": 16,
   "metadata": {},
   "outputs": [
    {
     "data": {
      "text/plain": [
       "[5, 1, 3, 3, 3, 3, 3, 7, 7, 7, 7]"
      ]
     },
     "execution_count": 16,
     "metadata": {},
     "output_type": "execute_result"
    }
   ],
   "source": [
    "lista_donaciones = lista_donaciones[0] + lista_donaciones[1] + lista_donaciones[2]\n",
    "lista_donaciones"
   ]
  },
  {
   "cell_type": "markdown",
   "metadata": {},
   "source": [
    "Para cumplir con el primer requerimiento, utilizamos el método `extend`, el cual permite ingresar como parámetro una segunda lista para anexarla a la primera. Recuerda que esta operación también se puede hacer con el operador de concatenación."
   ]
  },
  {
   "cell_type": "code",
   "execution_count": 17,
   "metadata": {},
   "outputs": [
    {
     "data": {
      "text/plain": [
       "[5, 1, 3, 3, 3, 3, 3, 7, 7, 7, 7, 1, 1, 1, 1, 1, 9, 9, 9, 2]"
      ]
     },
     "execution_count": 17,
     "metadata": {},
     "output_type": "execute_result"
    }
   ],
   "source": [
    "lista_donaciones.extend(lista_donaciones_2)\n",
    "lista_donaciones"
   ]
  },
  {
   "cell_type": "markdown",
   "metadata": {},
   "source": [
    "Para añadir un único elemento al final de la lista, el método más práctico es `append`."
   ]
  },
  {
   "cell_type": "code",
   "execution_count": 18,
   "metadata": {
    "scrolled": false
   },
   "outputs": [
    {
     "data": {
      "text/plain": [
       "[5, 1, 3, 3, 3, 3, 3, 7, 7, 7, 7, 1, 1, 1, 1, 1, 9, 9, 9, 2, 3]"
      ]
     },
     "execution_count": 18,
     "metadata": {},
     "output_type": "execute_result"
    }
   ],
   "source": [
    "lista_donaciones.append(3)\n",
    "lista_donaciones"
   ]
  },
  {
   "cell_type": "markdown",
   "metadata": {},
   "source": [
    "Para contar el número de donaciones de un dólar, lo más práctico es utilizar el método `count`, ingresando como parámetro el número a contar."
   ]
  },
  {
   "cell_type": "code",
   "execution_count": 19,
   "metadata": {
    "scrolled": false
   },
   "outputs": [
    {
     "data": {
      "text/plain": [
       "6"
      ]
     },
     "execution_count": 19,
     "metadata": {},
     "output_type": "execute_result"
    }
   ],
   "source": [
    "lista_donaciones.count(1)"
   ]
  },
  {
   "cell_type": "markdown",
   "metadata": {},
   "source": [
    "Para encontrar la donación más alta tenemos dos aproximaciones. La primera consiste en ordenar la lista (ascendentemente) con el método `sort` y consultar el último elemento."
   ]
  },
  {
   "cell_type": "code",
   "execution_count": 20,
   "metadata": {
    "scrolled": false
   },
   "outputs": [
    {
     "data": {
      "text/plain": [
       "9"
      ]
     },
     "execution_count": 20,
     "metadata": {},
     "output_type": "execute_result"
    }
   ],
   "source": [
    "lista_donaciones.sort()\n",
    "lista_donaciones[-1]"
   ]
  },
  {
   "cell_type": "markdown",
   "metadata": {},
   "source": [
    "La segunda aproximación consiste en utilizar la función `max` de Python."
   ]
  },
  {
   "cell_type": "code",
   "execution_count": 21,
   "metadata": {
    "scrolled": false
   },
   "outputs": [
    {
     "data": {
      "text/plain": [
       "9"
      ]
     },
     "execution_count": 21,
     "metadata": {},
     "output_type": "execute_result"
    }
   ],
   "source": [
    "max(lista_donaciones)"
   ]
  },
  {
   "cell_type": "markdown",
   "metadata": {},
   "source": [
    "## 2. Tuplas"
   ]
  },
  {
   "cell_type": "markdown",
   "metadata": {},
   "source": [
    "### 2.1. Usos y características principales"
   ]
  },
  {
   "cell_type": "markdown",
   "metadata": {},
   "source": [
    "Las tuplas son otra estructura de datos ordenada que, al igual que las listas, pueden guardar diferentes tipos de datos o incluso elementos repetidos. No obstante, la principal diferencia es que son inmutables; esto significa que no se podemos añadir, alterar, ni eliminar elementos. "
   ]
  },
  {
   "cell_type": "markdown",
   "metadata": {},
   "source": [
    "#### Diferencias y similitudes entre tuplas y listas"
   ]
  },
  {
   "cell_type": "markdown",
   "metadata": {},
   "source": [
    "* Diferencias:\n",
    "    1. No podemos agregar ni eliminar elementos a una tupla. \n",
    "    2. No podemos modificar el orden de una tupla.\n",
    "    3. No podemos modificar el valor de un elemento perteneciente a una tupla.<br><br>\n",
    "\n",
    "* Similitudes:\n",
    "    1. Podemos crear tuplas vacías. Aunque, como se mencionó anteriormente, ya no podrán ser rellenadas. \n",
    "    2. La función `len` nos sirve para conocer su tamaño.\n",
    "    3. Al ser estructuras ordenadas, podemos realizar rebanados. \n",
    "    4. Disponemos de los métodos expuestos en la tabla de métodos de las listas, desde que no impliquen mutar una tupla. Por ejemplo: `index`, `count`, `copy`."
   ]
  },
  {
   "cell_type": "markdown",
   "metadata": {},
   "source": [
    "### 2.2. Declaración"
   ]
  },
  {
   "cell_type": "markdown",
   "metadata": {},
   "source": [
    "Para declarar una tupla empleamos paréntesis (`()`) y separamos los elementos contenidos por medio de comas, como se muestra a continuación:\n",
    "\n",
    "```python\n",
    "nombre_tupla = (elemento_1, elemento_2, elemento_3)\n",
    "```"
   ]
  },
  {
   "cell_type": "markdown",
   "metadata": {},
   "source": [
    "También es una práctica común prescindir de los paréntesis:\n",
    "\n",
    "```python\n",
    "nombre_tupla = elemento_1, elemento_2, elemento_3\n",
    "```"
   ]
  },
  {
   "cell_type": "markdown",
   "metadata": {},
   "source": [
    "#### Ejemplo 9"
   ]
  },
  {
   "cell_type": "markdown",
   "metadata": {},
   "source": [
    "Para un proyecto se quiere realizar un pronóstico de la posición que ocupará cada país sudamericano en las eliminatorias de Catar 2022. Para ello, registremos en una tupla la tabla de posiciones de las pasadas eliminatorias de Rusia 2018. Eligimos almacenar esta tabla de posiciones en una tupla, ya que no existe una razón para agregar o quitar países, ni para modificar la posición de los países en la tabla."
   ]
  },
  {
   "cell_type": "code",
   "execution_count": 22,
   "metadata": {},
   "outputs": [
    {
     "data": {
      "text/plain": [
       "('Brasil',\n",
       " 'Uruguay',\n",
       " 'Argentina',\n",
       " 'Colombia',\n",
       " 'Perú',\n",
       " 'Chile',\n",
       " 'Paraguay',\n",
       " 'Ecuador',\n",
       " 'Bolivia',\n",
       " 'Venezuela')"
      ]
     },
     "execution_count": 22,
     "metadata": {},
     "output_type": "execute_result"
    }
   ],
   "source": [
    "tupla_eliminatorias_2018 = (\"Brasil\", \"Uruguay\", \"Argentina\", \"Colombia\", \"Perú\", \"Chile\", \"Paraguay\", \"Ecuador\", \"Bolivia\", \"Venezuela\") \n",
    "tupla_eliminatorias_2018"
   ]
  },
  {
   "cell_type": "markdown",
   "metadata": {},
   "source": [
    "Comprobemos que no es posible modificar una tupla:"
   ]
  },
  {
   "cell_type": "code",
   "execution_count": 23,
   "metadata": {},
   "outputs": [
    {
     "name": "stdout",
     "output_type": "stream",
     "text": [
      "No es posible cambiar el elemento\n"
     ]
    }
   ],
   "source": [
    "try:                                               # Aquí tratamos de\n",
    "    tupla_eliminatorias_2018[2] = \"Colombia\"       # ejecutar esta instrucción.\n",
    "except:                                            # En caso de que no se pueda ejecutar la instrucción,\n",
    "    print(\"No es posible cambiar el elemento\")     # imprimimos lo siguiente."
   ]
  },
  {
   "cell_type": "markdown",
   "metadata": {},
   "source": [
    "### 2.3. Consulta "
   ]
  },
  {
   "cell_type": "markdown",
   "metadata": {},
   "source": [
    "De la misma forma que en las listas, para una tupla de tamaño n, al primer elemento se le asigna el índice 0 y al último el índice n-1. También disponemos de la indexación negativa."
   ]
  },
  {
   "cell_type": "markdown",
   "metadata": {},
   "source": [
    "![tuplas.png](Archivos/tuplas.png)"
   ]
  },
  {
   "cell_type": "markdown",
   "metadata": {},
   "source": [
    "#### Ejemplo 10"
   ]
  },
  {
   "cell_type": "markdown",
   "metadata": {},
   "source": [
    "El líder del proyecto del Ejemplo 9 nos ha solicitado dos tareas:\n",
    "\n",
    "* Conocer los últimos tres países de la tabla de posiciones de las eliminatorias de Rusia 2018.\n",
    "* Consultar la posición que ocupó Colombia en las eliminatorias de Rusia 2018."
   ]
  },
  {
   "cell_type": "markdown",
   "metadata": {},
   "source": [
    "Para resolver la primera tarea creemos la siguiente tupla:"
   ]
  },
  {
   "cell_type": "code",
   "execution_count": 24,
   "metadata": {},
   "outputs": [
    {
     "data": {
      "text/plain": [
       "('Ecuador', 'Bolivia', 'Venezuela')"
      ]
     },
     "execution_count": 24,
     "metadata": {},
     "output_type": "execute_result"
    }
   ],
   "source": [
    "tupla_tarea_1 = tupla_eliminatorias_2018[-3:]\n",
    "tupla_tarea_1"
   ]
  },
  {
   "cell_type": "markdown",
   "metadata": {},
   "source": [
    "Para resolver la segunda tarea utilizamos el método `index`."
   ]
  },
  {
   "cell_type": "code",
   "execution_count": 25,
   "metadata": {},
   "outputs": [
    {
     "data": {
      "text/plain": [
       "3"
      ]
     },
     "execution_count": 25,
     "metadata": {},
     "output_type": "execute_result"
    }
   ],
   "source": [
    "tupla_eliminatorias_2018.index(\"Colombia\")"
   ]
  },
  {
   "cell_type": "markdown",
   "metadata": {},
   "source": [
    "### 2.4. Métodos y particularidades"
   ]
  },
  {
   "cell_type": "markdown",
   "metadata": {},
   "source": [
    "#### De tuplas a listas y de listas a tuplas "
   ]
  },
  {
   "cell_type": "markdown",
   "metadata": {},
   "source": [
    "Pese a que su sintaxis es parecida, una tupla y una lista no se deben confundir, puesto que son dos representaciones del sistema totalmente distintas. Como se mencionó, se diferencian principalmente por su inmutabilidad. Sin embargo, Python establece expresiones que nos permiten crear una lista a través de una tupla, y viceversa. Esto resulta útil si queremos volver inmutable la información contenida en una lista, o cuando tenemos argumentos de peso para modificar la información que antes considerábamos inmutable. "
   ]
  },
  {
   "cell_type": "markdown",
   "metadata": {},
   "source": [
    "Para generar una lista a partir de una tupla utilizamos la función `list` de Python."
   ]
  },
  {
   "cell_type": "code",
   "execution_count": 26,
   "metadata": {},
   "outputs": [
    {
     "data": {
      "text/plain": [
       "['Brasil',\n",
       " 'Uruguay',\n",
       " 'Argentina',\n",
       " 'Colombia',\n",
       " 'Perú',\n",
       " 'Chile',\n",
       " 'Paraguay',\n",
       " 'Ecuador',\n",
       " 'Bolivia',\n",
       " 'Venezuela']"
      ]
     },
     "execution_count": 26,
     "metadata": {},
     "output_type": "execute_result"
    }
   ],
   "source": [
    "lista_eliminatorias_2018 = list(tupla_eliminatorias_2018)\n",
    "lista_eliminatorias_2018"
   ]
  },
  {
   "cell_type": "markdown",
   "metadata": {},
   "source": [
    "Por su parte, para generar una tupla a partir de una lista utilizamos la función `tuple` de Python."
   ]
  },
  {
   "cell_type": "code",
   "execution_count": 27,
   "metadata": {},
   "outputs": [
    {
     "data": {
      "text/plain": [
       "('Brasil',\n",
       " 'Uruguay',\n",
       " 'Argentina',\n",
       " 'Colombia',\n",
       " 'Perú',\n",
       " 'Chile',\n",
       " 'Paraguay',\n",
       " 'Ecuador',\n",
       " 'Bolivia',\n",
       " 'Venezuela')"
      ]
     },
     "execution_count": 27,
     "metadata": {},
     "output_type": "execute_result"
    }
   ],
   "source": [
    "tupla_eliminatorias_2018 = tuple(lista_eliminatorias_2018)\n",
    "tupla_eliminatorias_2018"
   ]
  },
  {
   "cell_type": "markdown",
   "metadata": {},
   "source": [
    "## 3. Conjuntos "
   ]
  },
  {
   "cell_type": "markdown",
   "metadata": {},
   "source": [
    "### 3.1. Usos y características principales"
   ]
  },
  {
   "cell_type": "markdown",
   "metadata": {},
   "source": [
    "Los conjuntos son una estructura de datos que no está indexada y tampoco está ordenada. Pese a que su contenido no puede ser modificado, tampoco son inmutables porque se les pueden añadir elementos. Vistas estas características, es muy difícil pensar un contexto en el que su uso sea preferible a una lista o a una tupla. Sin embargo, resulta necesario conocerlas para familiarizarse con las estructuras no ordenadas. "
   ]
  },
  {
   "cell_type": "markdown",
   "metadata": {},
   "source": [
    "### 3.2. Declaración"
   ]
  },
  {
   "cell_type": "markdown",
   "metadata": {},
   "source": [
    "Para declarar un conjunto utilizamos unas llaves (`{}`) y separamos sus elementos con comas. Por ejemplo:\n",
    "\n",
    "```python\n",
    "conjunto_1 = {elemento_1, elemento_2, elemento_3}\n",
    "```"
   ]
  },
  {
   "cell_type": "markdown",
   "metadata": {},
   "source": [
    "### 3.3. Consulta"
   ]
  },
  {
   "cell_type": "markdown",
   "metadata": {},
   "source": [
    "De la misma forma que en una lista o en una tupla, los elementos de un conjunto pueden ser de cualquier tipo, un número, una lista, una tupla, una cadena de caracteres, entre otros. Siendo que los conjuntos no están indexados, no disponemos de un índice para encontrar un elemento específico de un conjunto, por lo que podemos limitarnos a consultar si un elemento existe dentro de un conjunto utilizando la siguiente sintaxis:\n",
    "\n",
    "```python\n",
    "elemento_1 in conjunto_1 \n",
    "```"
   ]
  },
  {
   "cell_type": "markdown",
   "metadata": {},
   "source": [
    "**Nota:** también podemos realizar este tipo de consulta con listas y tuplas."
   ]
  },
  {
   "cell_type": "markdown",
   "metadata": {},
   "source": [
    "### 3.4. Métodos y otras características"
   ]
  },
  {
   "cell_type": "markdown",
   "metadata": {},
   "source": [
    "Otra característica ya mencionada es que los conjuntos no son inmutables, por lo que se les puede adicionar elementos con los siguientes dos métodos: `add` y `update`. Con `add` se puede agregar un solo elemento al conjunto; similar al método `append` de las listas. Por otra parte, el método `update` cumple con una función similar al método `extend` de las listas, permitiéndonos agregar múltiples elementos al conjunto; a este método se le ingresa como parámetro una lista, una tupla, u otro conjunto."
   ]
  },
  {
   "cell_type": "markdown",
   "metadata": {},
   "source": [
    "#### Ejemplo 11"
   ]
  },
  {
   "cell_type": "markdown",
   "metadata": {},
   "source": [
    "En la siguiente celda vas a encontrar un conjunto con algunas de las principales petroleras a nivel mundial. Se nos solicita lo siguiente: \n",
    "\n",
    "* Consultar si `\"Shell\"` se encuentra en el conjunto.\n",
    "* Agregar la compañía `\"Exxon Mobil\"` al conjunto.\n",
    "* Incluir simultáneamente a `\"Chevron\"` y a `\"Halliburton\"` en el conjunto. "
   ]
  },
  {
   "cell_type": "code",
   "execution_count": 28,
   "metadata": {},
   "outputs": [],
   "source": [
    "conjunto_petroleras = {\"Saudi Aramco\", \"Shell\", \"British Petroleum\", \"Total\"}"
   ]
  },
  {
   "cell_type": "markdown",
   "metadata": {},
   "source": [
    "Para empezar, resolvamos el primer requerimiento."
   ]
  },
  {
   "cell_type": "code",
   "execution_count": 29,
   "metadata": {},
   "outputs": [
    {
     "data": {
      "text/plain": [
       "True"
      ]
     },
     "execution_count": 29,
     "metadata": {},
     "output_type": "execute_result"
    }
   ],
   "source": [
    "\"Shell\" in conjunto_petroleras"
   ]
  },
  {
   "cell_type": "markdown",
   "metadata": {},
   "source": [
    "Para agregar a `\"Exxon Mobil\"` utilizamos el método `add`."
   ]
  },
  {
   "cell_type": "code",
   "execution_count": 30,
   "metadata": {
    "scrolled": true
   },
   "outputs": [
    {
     "data": {
      "text/plain": [
       "{'British Petroleum', 'Exxon Mobil', 'Saudi Aramco', 'Shell', 'Total'}"
      ]
     },
     "execution_count": 30,
     "metadata": {},
     "output_type": "execute_result"
    }
   ],
   "source": [
    "conjunto_petroleras.add(\"Exxon Mobil\")\n",
    "conjunto_petroleras"
   ]
  },
  {
   "cell_type": "markdown",
   "metadata": {},
   "source": [
    "Finalmente, realicemos la tercera solicitud utilizando el método `update`."
   ]
  },
  {
   "cell_type": "code",
   "execution_count": 31,
   "metadata": {
    "scrolled": true
   },
   "outputs": [
    {
     "data": {
      "text/plain": [
       "{'British Petroleum',\n",
       " 'Chevron',\n",
       " 'Exxon Mobil',\n",
       " 'Halliburton',\n",
       " 'Saudi Aramco',\n",
       " 'Shell',\n",
       " 'Total'}"
      ]
     },
     "execution_count": 31,
     "metadata": {},
     "output_type": "execute_result"
    }
   ],
   "source": [
    "conjunto_petroleras.update([\"Chevron\", \"Halliburton\"])\n",
    "conjunto_petroleras"
   ]
  },
  {
   "cell_type": "markdown",
   "metadata": {},
   "source": [
    "## 4. Diccionarios"
   ]
  },
  {
   "cell_type": "markdown",
   "metadata": {},
   "source": [
    "### 4.1. Usos y características principales"
   ]
  },
  {
   "cell_type": "markdown",
   "metadata": {},
   "source": [
    "Los diccionarios son estructuras de datos no ordenadas que identifican relaciones de correspondencia entre llaves y valores. Los diccionarios buscan entonces indexar una colección de valores a una colección de llaves.\n",
    "\n",
    "* Llaves:   \n",
    "    * Pueden ser un número, una cadena de caracteres, una tupla, entre otros. \n",
    "    * Son inmutables.\n",
    "    * Son un elemento único que se registra en el diccionario. No puede haber dos llaves iguales.\n",
    "    * Dos o más llaves pueden tener un mismo valor.\n",
    "    * Podemos usar el método `keys` para separarlas de sus valores.<br><br>\n",
    "    \n",
    "* Valores:\n",
    "    * Pueden ser cadenas de caracteres, tuplas, listas, otro diccionario, etc.\n",
    "    * Podemos usar el método `values` para separarlos de sus llaves."
   ]
  },
  {
   "cell_type": "markdown",
   "metadata": {},
   "source": [
    "### 4.2. Declaración"
   ]
  },
  {
   "cell_type": "markdown",
   "metadata": {},
   "source": [
    "Para declarar un diccionario utilizamos el caracter llave (`{ }`) y separamos sus elementos por medio de comas. Cada elemento se compone de una llave y un valor, los cuales se separan por dos puntos (`:`). En este caso, a diferencia de las listas y las tuplas, no importa el orden de los elementos. De forma general, su representación sería la siguiente: \n",
    "\n",
    "```python\n",
    "diccionario = {llave_1: valor_1, llave_2: valor_2, llave_3: valor_3}\n",
    "```"
   ]
  },
  {
   "cell_type": "markdown",
   "metadata": {},
   "source": [
    "### 4.3. Consulta y modificación"
   ]
  },
  {
   "cell_type": "markdown",
   "metadata": {},
   "source": [
    "#### Consulta "
   ]
  },
  {
   "cell_type": "markdown",
   "metadata": {},
   "source": [
    "Para consultar un valor específico utilizamos la misma sintaxis de las listas y tuplas, teniendo presente que los índices de un diccionario son sus llaves. A continuación se muestra un ejemplo:\n",
    "\n",
    "```python\n",
    "diccionario[llave_1]\n",
    "```"
   ]
  },
  {
   "cell_type": "markdown",
   "metadata": {},
   "source": [
    "Además, al igual que en los conjuntos, podemos consultar si una llave existe en un diccionario como se muestra a continuación:\n",
    "```python\n",
    "llave_1 in diccionario\n",
    "```"
   ]
  },
  {
   "cell_type": "markdown",
   "metadata": {},
   "source": [
    "#### Modificación "
   ]
  },
  {
   "cell_type": "markdown",
   "metadata": {},
   "source": [
    "Para modificar el valor asociado a una llave, volvemos a usar el igual asignar el nuevo valor. \n",
    "```python\n",
    "diccionario[llave_1] = nuevo_valor\n",
    "```"
   ]
  },
  {
   "cell_type": "markdown",
   "metadata": {},
   "source": [
    "##### Ejemplo 12"
   ]
  },
  {
   "cell_type": "markdown",
   "metadata": {},
   "source": [
    "Un niño le pidió ayuda para crear un diccionario de la edad de su familia. Su mamá y su papá tienen 40 años cada uno, su hermana 8 años y su hermano 11 años. A continuación, se presenta un diagrama con las relaciones de correspondencia:"
   ]
  },
  {
   "cell_type": "markdown",
   "metadata": {},
   "source": [
    "![diccionarios.png](Archivos/diccionarios.png)"
   ]
  },
  {
   "cell_type": "markdown",
   "metadata": {},
   "source": [
    "Se nos solicita lo siguiente: \n",
    "\n",
    "* Declarar el diccionario.\n",
    "* Consultar la edad del hermano del niño.\n",
    "* Consultar si la tía está en el diccionario. \n",
    "* Modificar la edad de la hermana que hace poco cumplió 9 años.\n",
    "* Agregar la edad de una tía de 45 años al diccionario."
   ]
  },
  {
   "cell_type": "markdown",
   "metadata": {},
   "source": [
    "Primero, usamos la sintaxis definida para declarar un diccionario:"
   ]
  },
  {
   "cell_type": "code",
   "execution_count": 32,
   "metadata": {},
   "outputs": [],
   "source": [
    "familia = {\"Mama\": 40, \"Papa\": 40, \"Hermana\": 8, \"Hermano\": 11}"
   ]
  },
  {
   "cell_type": "markdown",
   "metadata": {},
   "source": [
    "Para consultar la edad del hermano escribimos la siguiente instrucción:"
   ]
  },
  {
   "cell_type": "code",
   "execution_count": 33,
   "metadata": {},
   "outputs": [
    {
     "data": {
      "text/plain": [
       "11"
      ]
     },
     "execution_count": 33,
     "metadata": {},
     "output_type": "execute_result"
    }
   ],
   "source": [
    "familia[\"Hermano\"]"
   ]
  },
  {
   "cell_type": "markdown",
   "metadata": {},
   "source": [
    "Para consultar si está la tía en el diccionario realizamos lo siguiente:"
   ]
  },
  {
   "cell_type": "code",
   "execution_count": 34,
   "metadata": {
    "scrolled": true
   },
   "outputs": [
    {
     "data": {
      "text/plain": [
       "False"
      ]
     },
     "execution_count": 34,
     "metadata": {},
     "output_type": "execute_result"
    }
   ],
   "source": [
    "\"Tia\" in familia "
   ]
  },
  {
   "cell_type": "markdown",
   "metadata": {},
   "source": [
    "Pese a que las llaves son inmutables, sí se les puede cambiar el valor que tienen asignado. Por lo tanto, es posible  cumplir con el cuarto requerimiento como hacemos a continuación:"
   ]
  },
  {
   "cell_type": "code",
   "execution_count": 35,
   "metadata": {
    "scrolled": true
   },
   "outputs": [],
   "source": [
    "familia[\"Hermana\"] = 9 "
   ]
  },
  {
   "cell_type": "markdown",
   "metadata": {},
   "source": [
    "Para agregar un nuevo elemento, en este caso la tía de 45 años, utilizamos la misma sintaxis de la modificación. "
   ]
  },
  {
   "cell_type": "code",
   "execution_count": 36,
   "metadata": {},
   "outputs": [],
   "source": [
    "familia[\"Tia\"] = 45"
   ]
  },
  {
   "cell_type": "markdown",
   "metadata": {},
   "source": [
    "##### Ejemplo 13"
   ]
  },
  {
   "cell_type": "markdown",
   "metadata": {},
   "source": [
    "Partiendo del diccionario `familia` declarado en el Ejemplo 12, creemos una lista con sus llaves y otra con sus valores. Por último, necesitamos almacenar ambas listas en una tupla y visualizarla."
   ]
  },
  {
   "cell_type": "markdown",
   "metadata": {},
   "source": [
    "Inicialmente podemos separar las llaves de los valores usando el método `keys`, el cual retorna una estructura de datos predefinida en Python que se llama `dict_keys`."
   ]
  },
  {
   "cell_type": "code",
   "execution_count": 37,
   "metadata": {},
   "outputs": [
    {
     "name": "stdout",
     "output_type": "stream",
     "text": [
      "dict_keys(['Mama', 'Papa', 'Hermana', 'Hermano', 'Tia'])\n"
     ]
    },
    {
     "data": {
      "text/plain": [
       "dict_keys"
      ]
     },
     "execution_count": 37,
     "metadata": {},
     "output_type": "execute_result"
    }
   ],
   "source": [
    "llaves = familia.keys()\n",
    "print(llaves)\n",
    "type(llaves)"
   ]
  },
  {
   "cell_type": "markdown",
   "metadata": {},
   "source": [
    "De la misma manera, el método `values` retorna los valores de un diccionario en un estructura especial de datos, llamada `dict_values`."
   ]
  },
  {
   "cell_type": "code",
   "execution_count": 38,
   "metadata": {},
   "outputs": [
    {
     "name": "stdout",
     "output_type": "stream",
     "text": [
      "dict_values([40, 40, 9, 11, 45])\n"
     ]
    },
    {
     "data": {
      "text/plain": [
       "dict_values"
      ]
     },
     "execution_count": 38,
     "metadata": {},
     "output_type": "execute_result"
    }
   ],
   "source": [
    "valores = familia.values()\n",
    "print(valores)\n",
    "type(valores)"
   ]
  },
  {
   "cell_type": "markdown",
   "metadata": {},
   "source": [
    "Para almacenar las llaves y los valores en listas independientes, utilizamos la función `list` de Pyhton. "
   ]
  },
  {
   "cell_type": "code",
   "execution_count": 39,
   "metadata": {
    "scrolled": true
   },
   "outputs": [
    {
     "name": "stdout",
     "output_type": "stream",
     "text": [
      "Las llaves del diccionario son: ['Mama', 'Papa', 'Hermana', 'Hermano', 'Tia']\n",
      "Los valores del diccionario son: [40, 40, 9, 11, 45]\n"
     ]
    }
   ],
   "source": [
    "lista_llaves = list(llaves)\n",
    "print(\"Las llaves del diccionario son: \" + str(lista_llaves))\n",
    "\n",
    "lista_valores = list(valores)\n",
    "print(\"Los valores del diccionario son: \" + str(lista_valores))"
   ]
  },
  {
   "cell_type": "markdown",
   "metadata": {},
   "source": [
    "Finalmente, almacenamos ambas listas en una tupla y la visualizamos."
   ]
  },
  {
   "cell_type": "code",
   "execution_count": 40,
   "metadata": {
    "scrolled": true
   },
   "outputs": [
    {
     "data": {
      "text/plain": [
       "(['Mama', 'Papa', 'Hermana', 'Hermano', 'Tia'], [40, 40, 9, 11, 45])"
      ]
     },
     "execution_count": 40,
     "metadata": {},
     "output_type": "execute_result"
    }
   ],
   "source": [
    "tupla_familia = (lista_llaves, lista_valores)\n",
    "tupla_familia"
   ]
  },
  {
   "cell_type": "markdown",
   "metadata": {},
   "source": [
    "### 4.4. Métodos y particularidades"
   ]
  },
  {
   "cell_type": "markdown",
   "metadata": {},
   "source": [
    "#### Métodos de los diccionarios"
   ]
  },
  {
   "cell_type": "markdown",
   "metadata": {},
   "source": [
    "Al igual que las listas, las tuplas y los conjuntos, los diccionarios disponen de los siguientes métodos: "
   ]
  },
  {
   "cell_type": "markdown",
   "metadata": {},
   "source": [
    "|<center>Método<center>|<center>Descripción<center>|\n",
    "|:-------|:-----------|\n",
    "|`clear()`|Remueve todos los elementos del diccionario|\n",
    "|`copy()`|Retorna una copia del diccionario|\n",
    "|`items()`|Retorna una tupla con las parejas llave-valor|\n",
    "|`pop(v)`|Remueve del diccionario aquellas llaves cuyo valor sea `v`|\n",
    "|`update(d)`|Concatena el dicccionario actual con el diccionario `d`| \n",
    "|`get(l, valor)`|Retorna el valor asociado a la llave `l` (si la llave no está en el dicccionario, retorna `valor)|\n",
    "|`dict.fromkeys(lista_llaves, valor)`|Retorna un diccionario cuyas llaves son los elementos de `lista_llaves` y el valor de todas es `valor`|"
   ]
  },
  {
   "cell_type": "markdown",
   "metadata": {},
   "source": [
    "##### Ejemplo 14 "
   ]
  },
  {
   "cell_type": "markdown",
   "metadata": {},
   "source": [
    "Se nos solicita construir un diccionario de tuplas que almacene la tabla de posiciones final de las eliminatorias para los mundiales 2010, 2014 y 2018. Como insumo se tendrán las tuplas de 2010 y 2014 y un diccionario con las de 2018. "
   ]
  },
  {
   "cell_type": "code",
   "execution_count": 41,
   "metadata": {},
   "outputs": [],
   "source": [
    "tupla_2010 = (\"Brasil\", \"Chile\", \"Paraguay\", \"Argentina\", \"Uruguay\", \"Ecuador\", \"Colombia\", \"Venezuela\", \"Bolivia\", \"Perú\")\n",
    "tupla_2014 = (\"Argentina\", \"Colombia\", \"Chile\", \"Ecuador\", \"Uruguay\",\"Venezuela\", \"Perú\", \"Bolivia\", \"Paraguay\")\n",
    "diccionario_2018 = {2018: (\"Brasil\", \"Uruguay\", \"Argentina\", \"Colombia\", \"Perú\", \"Chile\", \"Paraguay\", \"Ecuador\", \"Bolivia\", \"Venezuela\")}"
   ]
  },
  {
   "cell_type": "markdown",
   "metadata": {},
   "source": [
    "El procedimiento a seguir consiste en declarar el diccionario con las tuplas de 2010 y 2014 y posteriormente usar el método `update` para incluir la información del mundial 2018."
   ]
  },
  {
   "cell_type": "code",
   "execution_count": 42,
   "metadata": {
    "scrolled": false
   },
   "outputs": [
    {
     "data": {
      "text/plain": [
       "{2010: ('Brasil',\n",
       "  'Chile',\n",
       "  'Paraguay',\n",
       "  'Argentina',\n",
       "  'Uruguay',\n",
       "  'Ecuador',\n",
       "  'Colombia',\n",
       "  'Venezuela',\n",
       "  'Bolivia',\n",
       "  'Perú'),\n",
       " 2014: ('Argentina',\n",
       "  'Colombia',\n",
       "  'Chile',\n",
       "  'Ecuador',\n",
       "  'Uruguay',\n",
       "  'Venezuela',\n",
       "  'Perú',\n",
       "  'Bolivia',\n",
       "  'Paraguay'),\n",
       " 2018: ('Brasil',\n",
       "  'Uruguay',\n",
       "  'Argentina',\n",
       "  'Colombia',\n",
       "  'Perú',\n",
       "  'Chile',\n",
       "  'Paraguay',\n",
       "  'Ecuador',\n",
       "  'Bolivia',\n",
       "  'Venezuela')}"
      ]
     },
     "execution_count": 42,
     "metadata": {},
     "output_type": "execute_result"
    }
   ],
   "source": [
    "diccionarioEliminatorias = {2010: tupla_2010, 2014: tupla_2014}\n",
    "diccionarioEliminatorias.update(diccionario_2018)\n",
    "diccionarioEliminatorias"
   ]
  },
  {
   "cell_type": "markdown",
   "metadata": {},
   "source": [
    "## Referencias"
   ]
  },
  {
   "cell_type": "markdown",
   "metadata": {},
   "source": [
    "Downey, A., Elkner, J., & Meyers, C. (2012). How To Think Like A Computer Scientist: Learning with Python. Segunda Edición. Disponible en: https://www.openbookproject.net/thinkcs/python/english2e/index.html\n",
    "\n",
    "Los métodos y definiciones se consultaron en el portal: https://www.w3schools.com/"
   ]
  },
  {
   "cell_type": "markdown",
   "metadata": {},
   "source": [
    "## Créditos"
   ]
  },
  {
   "cell_type": "markdown",
   "metadata": {},
   "source": [
    "__Autores:__ Jorge Esteban Camargo Forero, Juan Felipe Rengifo Méndez, Alejandro Mantilla Redondo, Diego Alejandro Cely Gómez\n",
    "\n",
    "__Actualizado por__: Jose Fernando Barrera De Plaza\n",
    "\n",
    "__Fecha última actualización:__ 06/08/2023"
   ]
  }
 ],
 "metadata": {
  "kernelspec": {
   "display_name": "Python 3 (ipykernel)",
   "language": "python",
   "name": "python3"
  },
  "language_info": {
   "codemirror_mode": {
    "name": "ipython",
    "version": 3
   },
   "file_extension": ".py",
   "mimetype": "text/x-python",
   "name": "python",
   "nbconvert_exporter": "python",
   "pygments_lexer": "ipython3",
   "version": "3.8.13"
  }
 },
 "nbformat": 4,
 "nbformat_minor": 2
}

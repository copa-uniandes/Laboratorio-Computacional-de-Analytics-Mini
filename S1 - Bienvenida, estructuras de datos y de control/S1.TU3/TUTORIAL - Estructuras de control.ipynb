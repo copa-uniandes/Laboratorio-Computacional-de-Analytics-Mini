{
 "cells": [
  {
   "cell_type": "markdown",
   "metadata": {},
   "source": [
    "![miad4.png](Archivos/miad4.png)"
   ]
  },
  {
   "cell_type": "code",
   "execution_count": null,
   "metadata": {
    "tags": [
     "hide-input",
     "thebe-init"
    ]
   },
   "outputs": [],
   "source": [
    "import os\n",
    "# Por precaución, cambiamos el directorio activo de Python a aquel que contenga este notebook\n",
    "if \"PAD-book\" in os.listdir():\n",
    "    os.chdir(r\"PAD-book/Laboratorio-Computacional-de-Analytics/S1 - Bienvenida, estructuras de datos y de control/S1.TU3/\")"
   ]
  },
  {
   "cell_type": "markdown",
   "metadata": {},
   "source": [
    "# Estructuras de control: condicionales y ciclos"
   ]
  },
  {
   "cell_type": "markdown",
   "metadata": {},
   "source": [
    "En programación, las estructuras de control operan como señales que determinan si ejecutar o no ciertas operaciones y cuando hacerlo. Cuando programamos definimos este tipo de reglas sobre cómo se ejecuta un procedimiento. A estas reglas las llamamos condicionales y son parte fundamental de todo programa."
   ]
  },
  {
   "cell_type": "markdown",
   "metadata": {},
   "source": [
    "Por otro lado, existen las estructuras de control llamadas ciclos. Estas son especialmente útiles para realizar código repetitivo de manera eficiente, pues mediante una instrucción, los ciclos permiten ejecutar una cantidad arbirtraria de repeticiones de algún bloque de código de interés. Utilizar ciclos para llevar a cabo estas acciones repetitivas disminuye la cantidad de instrucciones a usar, el tamaño del programa y el tiempo de programación."
   ]
  },
  {
   "cell_type": "markdown",
   "metadata": {},
   "source": [
    "En este tutorial establecemos nociones fundamentales sobre el uso de estructuras de control en programación, para integrarlos en procesos de análisis de datos."
   ]
  },
  {
   "cell_type": "markdown",
   "metadata": {},
   "source": [
    "## Requisitos"
   ]
  },
  {
   "cell_type": "markdown",
   "metadata": {},
   "source": [
    "Para desarrollar este tutorial necesitarás:\n",
    "\n",
    "* Declarar y utilizar diferentes tipos de variables.\n",
    "* Declarar y utilizar diferentes tipos de estructuras de datos."
   ]
  },
  {
   "cell_type": "markdown",
   "metadata": {},
   "source": [
    "## Objetivos"
   ]
  },
  {
   "cell_type": "markdown",
   "metadata": {},
   "source": [
    "Al final de este tutorial podrás:\n",
    "\n",
    "**1.** Utilizar los tres tipos de operadores más frecuentes para construir expresiones lógicas.<br>\n",
    "**2.** Implementar condicionales simples y compuestos.<br>\n",
    "**3.** Implementar diferentes tipos de ciclos según su condición de parada.<br>"
   ]
  },
  {
   "cell_type": "markdown",
   "metadata": {},
   "source": [
    "## 1. Expresiones lógicas"
   ]
  },
  {
   "cell_type": "markdown",
   "metadata": {},
   "source": [
    "Una expresión lógica es una afirmación que al evaluarse retorna un valor lógico (`True` o `False`). Utilizamos tres tipos de operadores para crear expresiones lógicas:\n",
    "\n",
    "- Operadores relacionales\n",
    "- Operadores lógicos\n",
    "- Operadores de pertenencia"
   ]
  },
  {
   "cell_type": "markdown",
   "metadata": {},
   "source": [
    "### 1.1. Operadores relacionales"
   ]
  },
  {
   "cell_type": "markdown",
   "metadata": {},
   "source": [
    "Utilizamos este tipo de operadores para comparar dos valores. En la siguiente tabla podrás ver los operadores con su respectiva descripción."
   ]
  },
  {
   "cell_type": "markdown",
   "metadata": {},
   "source": [
    "|<center>Operador<center>|<center>Descripción<center>\n",
    "|:----------:|:----\n",
    "|`==`|retorna `True` si los dos valores comparados son iguales\n",
    "|`!=`|retorna `True` si los dos valores comparados son diferentes\n",
    "|`>`|retorna `True` si el valor de la izquierda es mayor al valor de la derecha\n",
    "|`<`|retorna `True` si el valor de la derecha es mayor al valor de la izquierda\n",
    "|`>=`|retorna `True` si el valor de la izquierda es mayor o igual al valor de la derecha\n",
    "|`<=`|retorna `True` si el valor de la derecha es mayor o igual al valor de la izquierda"
   ]
  },
  {
   "cell_type": "markdown",
   "metadata": {},
   "source": [
    "Evaluemos las siguientes cuatro condiciones:"
   ]
  },
  {
   "cell_type": "code",
   "execution_count": 1,
   "metadata": {
    "scrolled": true
   },
   "outputs": [
    {
     "data": {
      "text/plain": [
       "True"
      ]
     },
     "execution_count": 1,
     "metadata": {},
     "output_type": "execute_result"
    }
   ],
   "source": [
    "1 == 1"
   ]
  },
  {
   "cell_type": "code",
   "execution_count": 2,
   "metadata": {},
   "outputs": [
    {
     "data": {
      "text/plain": [
       "False"
      ]
     },
     "execution_count": 2,
     "metadata": {},
     "output_type": "execute_result"
    }
   ],
   "source": [
    "2 == \"2\""
   ]
  },
  {
   "cell_type": "code",
   "execution_count": 3,
   "metadata": {},
   "outputs": [
    {
     "data": {
      "text/plain": [
       "True"
      ]
     },
     "execution_count": 3,
     "metadata": {},
     "output_type": "execute_result"
    }
   ],
   "source": [
    "\"Laura\" != \"Julio\""
   ]
  },
  {
   "cell_type": "code",
   "execution_count": 4,
   "metadata": {
    "scrolled": true
   },
   "outputs": [
    {
     "data": {
      "text/plain": [
       "False"
      ]
     },
     "execution_count": 4,
     "metadata": {},
     "output_type": "execute_result"
    }
   ],
   "source": [
    "4 <= 1"
   ]
  },
  {
   "cell_type": "markdown",
   "metadata": {},
   "source": [
    "### 1.2. Operadores lógicos"
   ]
  },
  {
   "cell_type": "markdown",
   "metadata": {},
   "source": [
    "Utilizamos este tipo de operadores para construir expresiones lógicas compuestas, las cuales se componen de más de una condición. Existen los siguientes tres operadores lógicos: "
   ]
  },
  {
   "cell_type": "markdown",
   "metadata": {},
   "source": [
    "|<center>Operador<center>|<center>Descripción<center>\n",
    "|:----------:|:----\n",
    "|`and`|retorna `True` si las dos condiciones evaluadas retornan `True`\n",
    "|`or`|retorna `True` si al menos una de las dos condiciones evaluadas retorna `True`\n",
    "|`not`|retorna la negación de la condicion evaluada"
   ]
  },
  {
   "cell_type": "markdown",
   "metadata": {},
   "source": [
    "Evaluemos las siguientes cuatro condiciones:"
   ]
  },
  {
   "cell_type": "code",
   "execution_count": 5,
   "metadata": {
    "scrolled": true
   },
   "outputs": [
    {
     "data": {
      "text/plain": [
       "False"
      ]
     },
     "execution_count": 5,
     "metadata": {},
     "output_type": "execute_result"
    }
   ],
   "source": [
    "2 > 1 and \"123\" == \"456\""
   ]
  },
  {
   "cell_type": "code",
   "execution_count": 6,
   "metadata": {
    "scrolled": true
   },
   "outputs": [
    {
     "data": {
      "text/plain": [
       "True"
      ]
     },
     "execution_count": 6,
     "metadata": {},
     "output_type": "execute_result"
    }
   ],
   "source": [
    "2 > 1 or \"123\" == \"456\""
   ]
  },
  {
   "cell_type": "code",
   "execution_count": 7,
   "metadata": {},
   "outputs": [
    {
     "data": {
      "text/plain": [
       "False"
      ]
     },
     "execution_count": 7,
     "metadata": {},
     "output_type": "execute_result"
    }
   ],
   "source": [
    "not 1 == 1"
   ]
  },
  {
   "cell_type": "code",
   "execution_count": 8,
   "metadata": {},
   "outputs": [
    {
     "data": {
      "text/plain": [
       "True"
      ]
     },
     "execution_count": 8,
     "metadata": {},
     "output_type": "execute_result"
    }
   ],
   "source": [
    "(\"1\" == \"2\" or not 5 != 5) and 3 >= 3"
   ]
  },
  {
   "cell_type": "markdown",
   "metadata": {},
   "source": [
    "### 1.3. Operadores de pertenencia"
   ]
  },
  {
   "cell_type": "markdown",
   "metadata": {},
   "source": [
    "También existen operadores que nos permiten determinar si un elemento pertenece a una estructura de datos. Existen los siguientes dos operadores de pertenencia:\n",
    "\n",
    "|<center>Operador<center>|<center>Descripción<center>\n",
    "|:----------:|:----\n",
    "|`in`|Retorna `True` si el elemento hace parte de la estructura de datos\n",
    "|`not in`|Retorna `True` si el elemento no hace parte de la estructura de datos\n",
    "\n",
    "Evaluemos las siguientes cinco condiciones:"
   ]
  },
  {
   "cell_type": "code",
   "execution_count": 9,
   "metadata": {},
   "outputs": [
    {
     "data": {
      "text/plain": [
       "True"
      ]
     },
     "execution_count": 9,
     "metadata": {},
     "output_type": "execute_result"
    }
   ],
   "source": [
    "lista = [1,2,3,4]\n",
    "1 in lista"
   ]
  },
  {
   "cell_type": "code",
   "execution_count": 10,
   "metadata": {},
   "outputs": [
    {
     "data": {
      "text/plain": [
       "False"
      ]
     },
     "execution_count": 10,
     "metadata": {},
     "output_type": "execute_result"
    }
   ],
   "source": [
    "2 not in lista"
   ]
  },
  {
   "cell_type": "code",
   "execution_count": 11,
   "metadata": {
    "scrolled": false
   },
   "outputs": [
    {
     "data": {
      "text/plain": [
       "True"
      ]
     },
     "execution_count": 11,
     "metadata": {},
     "output_type": "execute_result"
    }
   ],
   "source": [
    "dic = {1:\"a\",2:\"b\"}\n",
    "1 in dic"
   ]
  },
  {
   "cell_type": "code",
   "execution_count": 12,
   "metadata": {},
   "outputs": [
    {
     "data": {
      "text/plain": [
       "False"
      ]
     },
     "execution_count": 12,
     "metadata": {},
     "output_type": "execute_result"
    }
   ],
   "source": [
    "\"a\" in dic"
   ]
  },
  {
   "cell_type": "code",
   "execution_count": 13,
   "metadata": {},
   "outputs": [
    {
     "data": {
      "text/plain": [
       "True"
      ]
     },
     "execution_count": 13,
     "metadata": {},
     "output_type": "execute_result"
    }
   ],
   "source": [
    "\"a\" in dic.values()"
   ]
  },
  {
   "cell_type": "markdown",
   "metadata": {},
   "source": [
    "## 2. Estructuras de control: condicionales"
   ]
  },
  {
   "cell_type": "markdown",
   "metadata": {},
   "source": [
    "Ahora que hemos entendido cómo funcionan las expresiones lógicas y los diferentes tipos de operadores, procedamos con el concepto de condicionales. "
   ]
  },
  {
   "cell_type": "markdown",
   "metadata": {},
   "source": [
    "### 2.1. `if`"
   ]
  },
  {
   "cell_type": "markdown",
   "metadata": {},
   "source": [
    "En un condicional simple se revisa la condicion especificada por el `if` y se ejecuta un bloque de código si esta es verdadera. De lo contrario, se omite el bloque de código que se encuentra dentro del `if`. Idealmente, la condición debe retornar un valor lógico (`True` o `False`)."
   ]
  },
  {
   "cell_type": "markdown",
   "metadata": {},
   "source": [
    "![IfSimpleN.PNG](Archivos/IfSimpleN.PNG)"
   ]
  },
  {
   "cell_type": "markdown",
   "metadata": {},
   "source": [
    "La sintaxis en Python es la siguiente:\n",
    "\n",
    "```python\n",
    "if condicion:\n",
    "    bloque_de_codigo\n",
    "```"
   ]
  },
  {
   "cell_type": "markdown",
   "metadata": {},
   "source": [
    "En este caso, si la condición retorna `True`, se ejecutará el bloque de código.\n",
    "\n",
    "**Nota:** la indentación es la única manera en la que Python identifica cuáles líneas de código van dentro de la estructura de control."
   ]
  },
  {
   "cell_type": "markdown",
   "metadata": {},
   "source": [
    "#### Ejemplo 1"
   ]
  },
  {
   "cell_type": "markdown",
   "metadata": {},
   "source": [
    "En este ejemplo vamos a verificar si el número 5 es mayor al número 2. Si esta condición es cierta, imprimiremos `\"5 es mayor a 2\"` en la consola, de lo contrario no ocurrirá nada. "
   ]
  },
  {
   "cell_type": "code",
   "execution_count": 14,
   "metadata": {
    "scrolled": true
   },
   "outputs": [
    {
     "name": "stdout",
     "output_type": "stream",
     "text": [
      "5 es mayor a 2\n"
     ]
    }
   ],
   "source": [
    "if 5 > 2:\n",
    "    print(\"5 es mayor a 2\")"
   ]
  },
  {
   "cell_type": "markdown",
   "metadata": {},
   "source": [
    "#### Ejemplo 2"
   ]
  },
  {
   "cell_type": "markdown",
   "metadata": {},
   "source": [
    "Un deportista tiene como objetivo ganar la medalla de oro en los juegos olímpicos. En caso que no haya cumplido con su objetivo, debemos decirle `\"No lograste tu objetivo.\"`."
   ]
  },
  {
   "cell_type": "code",
   "execution_count": 15,
   "metadata": {},
   "outputs": [
    {
     "name": "stdout",
     "output_type": "stream",
     "text": [
      "No lograste tu objetivo.\n"
     ]
    }
   ],
   "source": [
    "objetivo = \"oro\"\n",
    "medalla_obtenida = \"plata\"\n",
    "condicion = medalla_obtenida != objetivo \n",
    "\n",
    "if condicion:\n",
    "    print(\"No lograste tu objetivo.\")"
   ]
  },
  {
   "cell_type": "markdown",
   "metadata": {},
   "source": [
    "### 2.2. `if` - `else`"
   ]
  },
  {
   "cell_type": "markdown",
   "metadata": {},
   "source": [
    "En un condicional compuesto con estructura `if` - `else`, se revisa la condicion especificada por el `if` y se ejecuta el bloque de código correspondiente si esta es verdadera. De lo contrario, se ejecuta el bloque de código que se encuentra dentro del `else`."
   ]
  },
  {
   "cell_type": "markdown",
   "metadata": {},
   "source": [
    "![IfElse.PNG](Archivos/IfElse.PNG)"
   ]
  },
  {
   "cell_type": "markdown",
   "metadata": {},
   "source": [
    "La sintaxis en Python es la siguiente:\n",
    "\n",
    "```python\n",
    "if condicion:\n",
    "    bloque_de_codigo_1\n",
    "else:\n",
    "    bloque_de_codigo_2\n",
    "```"
   ]
  },
  {
   "cell_type": "markdown",
   "metadata": {},
   "source": [
    "En este caso, si la condición es verdadera, se ejecutará el bloque de código 1. Si, de lo contrario, la condición es falsa, se ejecutará el bloque de código 2."
   ]
  },
  {
   "cell_type": "markdown",
   "metadata": {},
   "source": [
    "#### Ejemplo 3"
   ]
  },
  {
   "cell_type": "markdown",
   "metadata": {},
   "source": [
    "Para poder entrar a una película de terror hay que tener al menos 18 años. Por lo tanto, determinemos si una persona cumple o no con la condición. De este modo, si la persona tiene al menos 18 años imprimiremos `\"¡Puede entrar a la película!\"`, y de lo contrario imprimiremos `\"¡No puede entrar a la película!\"`."
   ]
  },
  {
   "cell_type": "code",
   "execution_count": 16,
   "metadata": {},
   "outputs": [
    {
     "name": "stdout",
     "output_type": "stream",
     "text": [
      "¡No puede entrar a la película!\n"
     ]
    }
   ],
   "source": [
    "edad = 17\n",
    "\n",
    "if edad >= 18:\n",
    "    print(\"¡Puede entrar a la película!\")\n",
    "else:\n",
    "    print(\"¡No puede entrar a la película!\")"
   ]
  },
  {
   "cell_type": "markdown",
   "metadata": {},
   "source": [
    "#### Ejemplo 4"
   ]
  },
  {
   "cell_type": "markdown",
   "metadata": {},
   "source": [
    "En este ejemplo determinaremos si una persona se encuentra en la lista de alumnos de una clase. Para esto vamos a crear una lista de los alumnos de la clase y luego vamos a verificar si el alumno ingresado pertenece o no a la clase. Si el alumno pertenece, imprimiremos `\"El alumno pertenece a la clase\"`, si de lo contrario no pertenece, lo agregaremos a la clase e imprimiremos `\"El alumno no pertenecía a la clase, pero ha sido añadido\"`. Finalmente, imprimiremos todos los alumnos de la clase."
   ]
  },
  {
   "cell_type": "code",
   "execution_count": 17,
   "metadata": {},
   "outputs": [
    {
     "name": "stdout",
     "output_type": "stream",
     "text": [
      "El alumno no pertenecía a la clase, pero ha sido añadido.\n",
      "\n",
      "Los alumnos de la clase son: ['Jorge', 'Laura', 'Juliana', 'Mario', 'Juan']\n"
     ]
    }
   ],
   "source": [
    "alumnos = [\"Jorge\",\"Laura\",\"Juliana\",\"Mario\"]\n",
    "nombre_ingresado = \"Juan\"\n",
    "\n",
    "if nombre_ingresado in alumnos:\n",
    "    print(\"El alumno pertenece a la clase.\")\n",
    "else:\n",
    "    alumnos.append(nombre_ingresado)\n",
    "    print(\"El alumno no pertenecía a la clase, pero ha sido añadido.\")\n",
    "\n",
    "print() # Este print vacio se escribe con el objetivo de generar un espacio entre las dos líneas impresas.\n",
    "print(\"Los alumnos de la clase son: \" + str(alumnos))"
   ]
  },
  {
   "cell_type": "markdown",
   "metadata": {},
   "source": [
    "### 2.3. `if` - `elif` - `else`"
   ]
  },
  {
   "cell_type": "markdown",
   "metadata": {},
   "source": [
    "En un condicional compuesto con estructura `if` - `elif` - `else`, se empieza revisando la primera condición especificada por el `if`, si esta es verdadera se ejecuta el bloque de código correspondiente. Si, de lo contrario, la condición es falsa, se procede a revisar las condiciones especificadas por los `elif`. Cuando se encuentra la primera condición verdadera se ejecuta el bloque de código especificado. Si, por el contrario, no se encuentra ninguna condición verdadera, se ejecuta el bloque de código especificado por el `else`. Es importante aclarar que se revisarán las condiciones en orden y solo se ejecutará el bloque de código de la primera condición verdadera."
   ]
  },
  {
   "cell_type": "markdown",
   "metadata": {},
   "source": [
    "![IfAnidado.PNG](Archivos/IfAnidado.PNG)"
   ]
  },
  {
   "cell_type": "markdown",
   "metadata": {},
   "source": [
    "La sintaxis en Python es la siguiente:\n",
    "\n",
    "```python\n",
    "if condicion_1:\n",
    "    bloque_de_codigo_1\n",
    "elif condicion_2:\n",
    "    bloque_de_codigo_2\n",
    "elif condicion_3:\n",
    "    bloque_de_codigo_3\n",
    "else:\n",
    "    bloque_de_codigo_4\n",
    "```"
   ]
  },
  {
   "cell_type": "markdown",
   "metadata": {},
   "source": [
    "En este caso, si la condición 1 es verdadera, se ejecutará el bloque de código 1. Si, por el contrario, la condición 1 es falsa y la condición 2 es verdadera, se ejecutará el bloque de código 2. Ahora, en caso de que las anteriores dos condiciones sean falsas y la condición 3 sea verdadera, se ejecutará el bloque de código 3. Finalmente, si las tres condiciones son falsas, se ejecutará el bloque de código 4."
   ]
  },
  {
   "cell_type": "markdown",
   "metadata": {},
   "source": [
    "#### Ejemplo 5"
   ]
  },
  {
   "cell_type": "markdown",
   "metadata": {},
   "source": [
    "Juan necesita cambiar la contraseña de su correo electrónico. Su nueva contraseña debe cumplir con las siguientes dos condiciones:\n",
    "\n",
    "* Tener una longitud de al menos 8 caracteres.\n",
    "* Ser diferente a la contraseña actual."
   ]
  },
  {
   "cell_type": "markdown",
   "metadata": {},
   "source": [
    "Para esto crearemos una contraseña y verificaremos si cumple con las condiciones."
   ]
  },
  {
   "cell_type": "code",
   "execution_count": 18,
   "metadata": {},
   "outputs": [
    {
     "name": "stdout",
     "output_type": "stream",
     "text": [
      "La contraseña sí es valida\n"
     ]
    }
   ],
   "source": [
    "contraseña_actual = \"Juanito2020\"\n",
    "contraseña_nueva = \"Juanito2021\"\n",
    "\n",
    "if len(contraseña_nueva) < 8 :\n",
    "    print(\"La contraseña no es valida\")\n",
    "elif contraseña_nueva == contraseña_actual:\n",
    "    print(\"La contraseña no es valida\")\n",
    "else:\n",
    "    print(\"La contraseña sí es valida\")"
   ]
  },
  {
   "cell_type": "markdown",
   "metadata": {},
   "source": [
    "#### Ejemplo 6"
   ]
  },
  {
   "cell_type": "markdown",
   "metadata": {},
   "source": [
    "En este ejemplo vamos a determinar si una persona es un niño (0 a 12 años), un adolescente (13 a 18 años), o un adulto (19 o más años)."
   ]
  },
  {
   "cell_type": "code",
   "execution_count": 19,
   "metadata": {},
   "outputs": [
    {
     "name": "stdout",
     "output_type": "stream",
     "text": [
      "¡Es un adolescente!\n"
     ]
    }
   ],
   "source": [
    "edad = 15\n",
    "\n",
    "if edad>=0 and edad<=12:\n",
    "    print(\"¡Es un niño!\")\n",
    "elif edad>=13 and edad<=18:\n",
    "    print(\"¡Es un adolescente!\")\n",
    "elif edad>=19:\n",
    "    print(\"¡Es un adulto!\")"
   ]
  },
  {
   "cell_type": "markdown",
   "metadata": {},
   "source": [
    "## 3. Estructuras de control: ciclos"
   ]
  },
  {
   "cell_type": "markdown",
   "metadata": {},
   "source": [
    "Estructuras de datos como las tuplas, las listas, los diccionarios y las cadenas de carácteres, pueden ser recorridas secuencialmente (iterables). En estas estructuras, cada uno de los elementos se puede asociar con un índice en particular, por medio del cual puede ser referenciado. Si quisieramos visualizar el valor de todas las posiciones de una estructura de datos, podríamos hacerlo imprimiendo directamente cada posición.\n",
    "\n",
    "**Nota:** una cadena de caracteres se puede ver como una lista en la que sus elementos son cada uno de los caracteres que la componen."
   ]
  },
  {
   "cell_type": "code",
   "execution_count": 20,
   "metadata": {},
   "outputs": [
    {
     "name": "stdout",
     "output_type": "stream",
     "text": [
      "La posición 1 de la cadena es:  H\n",
      "La posición 2 de la cadena es:  o\n",
      "La posición 3 de la cadena es:  l\n",
      "La posición 4 de la cadena es:  a\n",
      "La posición 5 de la cadena es:   \n",
      "La posición 6 de la cadena es:  m\n",
      "La posición 7 de la cadena es:  u\n",
      "La posición 8 de la cadena es:  n\n",
      "La posición 9 de la cadena es:  d\n",
      "La posición 10 de la cadena es:  o\n"
     ]
    }
   ],
   "source": [
    "cadena = \"Hola mundo\"\n",
    "\n",
    "print(\"La posición 1 de la cadena es: \", cadena[0])\n",
    "print(\"La posición 2 de la cadena es: \", cadena[1])\n",
    "print(\"La posición 3 de la cadena es: \", cadena[2])\n",
    "print(\"La posición 4 de la cadena es: \", cadena[3])\n",
    "print(\"La posición 5 de la cadena es: \", cadena[4])\n",
    "print(\"La posición 6 de la cadena es: \", cadena[5])\n",
    "print(\"La posición 7 de la cadena es: \", cadena[6])\n",
    "print(\"La posición 8 de la cadena es: \", cadena[7])\n",
    "print(\"La posición 9 de la cadena es: \", cadena[8])\n",
    "print(\"La posición 10 de la cadena es: \", cadena[9])"
   ]
  },
  {
   "cell_type": "markdown",
   "metadata": {},
   "source": [
    "Este proceso resulta muy repetitivo, tedioso y poco eficiente, ya que implica escribir la misma línea de código varias veces. Para evitar esto, en programación se han diseñado otras estructuras de control llamadas ciclos o bucles, las cuales se utilizan para repetir tareas similares de forma secuencial. Estas estructuras son los ciclos `for` y `while`, y aunque ambos pueden servir en la mayoría de casos, cada una tiene particularidades que vale la pena conocer."
   ]
  },
  {
   "cell_type": "markdown",
   "metadata": {},
   "source": [
    "### 3.1.  `for`"
   ]
  },
  {
   "cell_type": "markdown",
   "metadata": {},
   "source": [
    "Un ciclo `for` es una estructura de control que nos permite repetir un bloque de código varias veces. De esta forma, podemos recorrer los objetos de una estructura iterable con los índices de las posiciones u obteniendo directamente el objeto de cada posición."
   ]
  },
  {
   "cell_type": "markdown",
   "metadata": {},
   "source": [
    "![For.PNG](Archivos/For.PNG)"
   ]
  },
  {
   "cell_type": "markdown",
   "metadata": {},
   "source": [
    "La sintaxis en Python es la siguiente:\n",
    "\n",
    "```python\n",
    "for indices in estructura_iterable:\n",
    "    bloque_de_codigo \n",
    "\n",
    "```"
   ]
  },
  {
   "cell_type": "markdown",
   "metadata": {},
   "source": [
    "Para todos los índices que hay en la estructura iterable se ejecuta el mismo bloque de código. En este caso, la variable `indices` nos sirve como iterador sobre la estructura de datos `estructura_iterable`."
   ]
  },
  {
   "cell_type": "markdown",
   "metadata": {},
   "source": [
    "#### Ejemplo 7"
   ]
  },
  {
   "cell_type": "markdown",
   "metadata": {},
   "source": [
    "Vivian quiere decorar el cuarto de su novio con el mensaje `\"Te quiero\"`. Para que sea visible, necesita imprimir su mensaje letra por letra, para que cada letra ocupe una hoja."
   ]
  },
  {
   "cell_type": "code",
   "execution_count": 21,
   "metadata": {},
   "outputs": [
    {
     "name": "stdout",
     "output_type": "stream",
     "text": [
      "T\n",
      "e\n",
      " \n",
      "q\n",
      "u\n",
      "i\n",
      "e\n",
      "r\n",
      "o\n"
     ]
    }
   ],
   "source": [
    "for caracter in \"Te quiero\":\n",
    "    print(caracter)"
   ]
  },
  {
   "cell_type": "markdown",
   "metadata": {},
   "source": [
    "#### Ejemplo 8"
   ]
  },
  {
   "cell_type": "markdown",
   "metadata": {},
   "source": [
    "Para su tarea de geografía, Santiago necesita imprimir los nombres de los países que va a exponer, los cuales estan en la lista `paises`."
   ]
  },
  {
   "cell_type": "code",
   "execution_count": 22,
   "metadata": {},
   "outputs": [
    {
     "name": "stdout",
     "output_type": "stream",
     "text": [
      "Japon\n",
      "China\n",
      "España\n",
      "Estados Unidos\n",
      "Indonesia\n"
     ]
    }
   ],
   "source": [
    "paises = ['Japon', 'China', 'España', 'Estados Unidos', 'Indonesia']\n",
    "\n",
    "for pais in paises:\n",
    "    print(pais)"
   ]
  },
  {
   "cell_type": "markdown",
   "metadata": {},
   "source": [
    "#### El ciclo `for` con la función `range` "
   ]
  },
  {
   "cell_type": "markdown",
   "metadata": {},
   "source": [
    "La función `range` devuelve una secuencia de números que, predeterminadamente, inicia en cero, termina una unidad antes del número que se especifica como parámetro, y avanza de uno en uno. En caso de que queramos cambiar el inicio y la magnitud del paso debemos tener en cuenta que debemos organizar los parámetros de la siguiente manera:\n",
    "\n",
    "```python\n",
    "range(inicio, fin, paso)\n",
    "```"
   ]
  },
  {
   "cell_type": "code",
   "execution_count": 23,
   "metadata": {},
   "outputs": [
    {
     "name": "stdout",
     "output_type": "stream",
     "text": [
      "2\n",
      "4\n",
      "6\n",
      "8\n"
     ]
    }
   ],
   "source": [
    "for i in range(2,9,2):\n",
    "    print(i)"
   ]
  },
  {
   "cell_type": "markdown",
   "metadata": {},
   "source": [
    "Retomando el Ejemplo 8, con el uso de `range` en un ciclo `for` podríamos imprimir los elementos de la lista de países de Santiago consultándolos."
   ]
  },
  {
   "cell_type": "code",
   "execution_count": 24,
   "metadata": {},
   "outputs": [
    {
     "name": "stdout",
     "output_type": "stream",
     "text": [
      "Japon\n",
      "China\n",
      "España\n",
      "Estados Unidos\n",
      "Indonesia\n"
     ]
    }
   ],
   "source": [
    "for indice in range(len(paises)):\n",
    "    print (paises[indice])"
   ]
  },
  {
   "cell_type": "markdown",
   "metadata": {},
   "source": [
    "#### Iteración de diccionarios"
   ]
  },
  {
   "cell_type": "markdown",
   "metadata": {},
   "source": [
    "En Python los ciclos son útiles para explorar y manipular cada elemento de los diccionarios. Por lo cual, es preciso ilustrar cómo podemos recorrer sus valores, sus llaves y ambos elementos a la vez."
   ]
  },
  {
   "cell_type": "markdown",
   "metadata": {},
   "source": [
    "La sintaxis para recorrer las llaves de un diccionario es la siguiente:\n",
    "\n",
    "```python\n",
    "for llave in diccionario:\n",
    "    bloque_de_codigo\n",
    "```"
   ]
  },
  {
   "cell_type": "markdown",
   "metadata": {},
   "source": [
    "De manera alternativa podemos utilizar el método `keys`.\n",
    "\n",
    "```python\n",
    "for llave in diccionario.keys():\n",
    "    bloque_de_codigo\n",
    "\n",
    "```"
   ]
  },
  {
   "cell_type": "markdown",
   "metadata": {},
   "source": [
    "Para recorrer los valores de un diccionario utilizamos el método `values`.\n",
    "\n",
    "```python\n",
    "for valor in diccionario.values():\n",
    "    bloque_de_codigo\n",
    "\n",
    "```"
   ]
  },
  {
   "cell_type": "markdown",
   "metadata": {},
   "source": [
    "Para recorrer los valores y las llaves de un diccionario al tiempo utilizamos el método `items`.\n",
    "```python\n",
    "for llave,valor in diccionario.items():\n",
    "    bloque_de_codigo\n",
    "\n",
    "```"
   ]
  },
  {
   "cell_type": "markdown",
   "metadata": {},
   "source": [
    "##### Ejemplo 9"
   ]
  },
  {
   "cell_type": "markdown",
   "metadata": {},
   "source": [
    "Jorge tiene un directorio de contactos en el que guarda la profesión, el correo electronico y el número de celular de cada persona que conoce."
   ]
  },
  {
   "cell_type": "code",
   "execution_count": 25,
   "metadata": {},
   "outputs": [],
   "source": [
    "directorio = {\"Rocio\" : [\"Carpintero\", \"rocio@gmail.com\", 3158534775], \n",
    "              \"Camilo\" : [\"Cerrajero\", \"camilo@yahoo.com\", 3129543435],\n",
    "              \"Ariadna\" : [\"Plomero\", \"ariadna@outlook.com\", 2593238695],\n",
    "              \"Diego\" : [\"Cerrajero\", \"diego@gmail.com\", 2045834458],\n",
    "              \"Juan Felipe\": [\"Electricista\", \"juanfelipe@yahoo.com\", 1423854033]}"
   ]
  },
  {
   "cell_type": "markdown",
   "metadata": {},
   "source": [
    "Al llegar del trabajo, Jorge se dio cuenta que habia olvidado sus llaves de la casa, por lo que necesita llamar a un cerrajero. A continuación utilizamos la iteración de diccionarios para obtener el número de celular de todos los cerrajeros que tiene Jorge en su directorio.  "
   ]
  },
  {
   "cell_type": "code",
   "execution_count": 26,
   "metadata": {},
   "outputs": [
    {
     "name": "stdout",
     "output_type": "stream",
     "text": [
      "Camilo: 3129543435\n",
      "Diego: 2045834458\n"
     ]
    }
   ],
   "source": [
    "for contacto,info in directorio.items():\n",
    "    profesion = info[0]\n",
    "    \n",
    "    if profesion == \"Cerrajero\":\n",
    "        print(contacto + \": \" + str(info[2]))"
   ]
  },
  {
   "cell_type": "markdown",
   "metadata": {},
   "source": [
    "### 3.2. `while`"
   ]
  },
  {
   "cell_type": "markdown",
   "metadata": {},
   "source": [
    "Un ciclo `while` es una estructura de control que nos permite repetir un bloque de código dependiendo del cumplimiento de una condición. De esta manera, en cada iteración se evalua la condición y si su valor es `True`, se ejecuta el bloque de código; el ciclo se detiene cuando la condición retorna por primera vez `False`."
   ]
  },
  {
   "cell_type": "markdown",
   "metadata": {},
   "source": [
    "![While.PNG](Archivos/While.PNG)"
   ]
  },
  {
   "cell_type": "markdown",
   "metadata": {},
   "source": [
    "La sintaxis en Python es la siguiente:\n",
    "\n",
    "```python  \n",
    "while(condicion):\n",
    "    bloque_de_codigo\n",
    "``` "
   ]
  },
  {
   "cell_type": "markdown",
   "metadata": {},
   "source": [
    "#### Contador "
   ]
  },
  {
   "cell_type": "markdown",
   "metadata": {},
   "source": [
    "Un contandor es un número entero, el cual se aumenta o disminuye, dependiendo del caso, para contabilizar cuando ocurre un suceso. Es necesario que este se declare previamente al ciclo en el cual se irán contabilizando los sucesos."
   ]
  },
  {
   "cell_type": "markdown",
   "metadata": {},
   "source": [
    "##### Ejemplo 10"
   ]
  },
  {
   "cell_type": "markdown",
   "metadata": {},
   "source": [
    "Pablo quiere participar en una lotería. Para esto debe escoger cinco números del 0 al 10 y decide programar un ciclo que genere los cinco números aleatorios. Adicionalmente, hay que tener en cuenta que Pablo quiere que todos los números sean diferentes."
   ]
  },
  {
   "cell_type": "code",
   "execution_count": 27,
   "metadata": {},
   "outputs": [
    {
     "data": {
      "text/plain": [
       "[4, 2, 5, 3, 7]"
      ]
     },
     "execution_count": 27,
     "metadata": {},
     "output_type": "execute_result"
    }
   ],
   "source": [
    "from random import random\n",
    "\n",
    "numeros_aleatorios = []\n",
    "contador = 0\n",
    "\n",
    "while contador < 5:\n",
    "    aleatorio = int(random()*10)\n",
    "    if aleatorio not in numeros_aleatorios:\n",
    "        numeros_aleatorios.append(aleatorio)\n",
    "        contador += 1                           # Esta línea de código equivale a escribir: contador = contador + 1\n",
    "\n",
    "numeros_aleatorios"
   ]
  },
  {
   "cell_type": "markdown",
   "metadata": {},
   "source": [
    "#### Ciclo infinito"
   ]
  },
  {
   "cell_type": "markdown",
   "metadata": {},
   "source": [
    "Un ciclo infinito ocurre cuando la condición del `while` nunca retorna `False`. De esta forma, el ciclo se ejecutará infinitamente, lo cual no es deseable. Ejemplo:\n",
    "\n",
    "```python  \n",
    "x = 1\n",
    "while( x > 0 ):\n",
    "    x = x + 1\n",
    "```"
   ]
  },
  {
   "cell_type": "markdown",
   "metadata": {},
   "source": [
    "En este caso, `x` siempre será mayor a 0, por lo cual, el ciclo nunca parará."
   ]
  },
  {
   "cell_type": "markdown",
   "metadata": {},
   "source": [
    "##### Ejemplo 11"
   ]
  },
  {
   "cell_type": "markdown",
   "metadata": {},
   "source": [
    "Camilo quiere imprimir los números naturales (empezando desde el 1) hasta llegar al segundo múltiplo de 3 (incluyéndolo)."
   ]
  },
  {
   "cell_type": "code",
   "execution_count": 28,
   "metadata": {},
   "outputs": [
    {
     "name": "stdout",
     "output_type": "stream",
     "text": [
      "1\n",
      "2\n",
      "3\n",
      "4\n",
      "5\n",
      "6\n"
     ]
    }
   ],
   "source": [
    "continuar = True\n",
    "numero = 1\n",
    "\n",
    "while continuar:\n",
    "    print(numero)\n",
    "    \n",
    "    if(numero%3 == 0 and not numero == 3):\n",
    "        continuar = False   # Podemos obtener el mismo resultado reemplazando esta línea de código por: break  \n",
    "\n",
    "    numero = numero + 1"
   ]
  },
  {
   "cell_type": "markdown",
   "metadata": {},
   "source": [
    "## Referencias "
   ]
  },
  {
   "cell_type": "markdown",
   "metadata": {},
   "source": [
    "Bustamante, Sebastian. (2021). Operadores Básicos en Python con ejemplos. En: freeCodeCamp. Recuperado de: https://www.freecodecamp.org/espanol/news/operadores-basicos-en-python-con-ejemplos/\n",
    " \n",
    "https://www.explicacion.net/ciclos-de-programacion/#:~:text=En%20otras%20palabras%2C%20la%20importancia,Programar%20con%20mayor%20rapidez.\n",
    "Notebook Pablo- Módulo 3, Nivel 1: Iteradores y funciones"
   ]
  },
  {
   "cell_type": "markdown",
   "metadata": {},
   "source": [
    "## Créditos "
   ]
  },
  {
   "cell_type": "markdown",
   "metadata": {},
   "source": [
    "__Autores__: Camilo Falla Moreno, Ariadna Sofía de Ávila Bula, Juan Felipe Rengifo Méndez, Alejandro Mantilla Redondo, Diego Alejandro Cely Gómez\n",
    "\n",
    "__Actualizado por__: Jose Fernando Barrera De Plaza\n",
    "\n",
    "__Fecha última actualización:__ 06/08/2023"
   ]
  }
 ],
 "metadata": {
  "kernelspec": {
   "display_name": "Python 3 (ipykernel)",
   "language": "python",
   "name": "python3"
  },
  "language_info": {
   "codemirror_mode": {
    "name": "ipython",
    "version": 3
   },
   "file_extension": ".py",
   "mimetype": "text/x-python",
   "name": "python",
   "nbconvert_exporter": "python",
   "pygments_lexer": "ipython3",
   "version": "3.8.13"
  }
 },
 "nbformat": 4,
 "nbformat_minor": 2
}

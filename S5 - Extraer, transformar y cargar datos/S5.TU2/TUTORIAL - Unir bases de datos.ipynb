{
 "cells": [
  {
   "cell_type": "markdown",
   "metadata": {},
   "source": [
    "![miad4.png](Archivos/miad4.png)"
   ]
  },
  {
   "cell_type": "code",
   "execution_count": 1,
   "metadata": {
    "tags": [
     "hide-input",
     "thebe-init"
    ]
   },
   "outputs": [],
   "source": [
    "import os\n",
    "# Por precaución, cambiamos el directorio activo de Python a aquel que contenga este notebook\n",
    "if \"PAD-book\" in os.listdir():\n",
    "    os.chdir(r\"PAD-book/Laboratorio-Computacional-de-Analytics/S5 - Extraer, transformar y cargar datos/S5.TU2/\")"
   ]
  },
  {
   "cell_type": "markdown",
   "metadata": {},
   "source": [
    "# Unir bases de datos utilizando `pandas`"
   ]
  },
  {
   "cell_type": "markdown",
   "metadata": {},
   "source": [
    "La información para analizar un problema no siempre se encuentra toda en un mismo archivo. Por lo anterior, es necesario unir la información disponible de múltiples fuentes en una misma base de datos. A continuación, expondremos los métodos disponibles en `pandas` para llevar a cabo esa tarea."
   ]
  },
  {
   "cell_type": "markdown",
   "metadata": {},
   "source": [
    "## Requisitos"
   ]
  },
  {
   "cell_type": "markdown",
   "metadata": {},
   "source": [
    "Para desarrollar este tutorial necesitarás:\n",
    "\n",
    "* Conocer las principales características de los arreglos en `numpy` y de los `DataFrame` de `pandas`.\n",
    "* Importar datos a un `DataFrame` desde distintos formatos.\n",
    "* Indexar un `DataFrame` a partir de una o más columnas."
   ]
  },
  {
   "cell_type": "markdown",
   "metadata": {},
   "source": [
    "## Objetivos"
   ]
  },
  {
   "cell_type": "markdown",
   "metadata": {},
   "source": [
    "Al final de este tutorial podrás:\n",
    "\n",
    "**1.** Agregar columnas de un `DataFrame` a otro `DataFrame`. <br>\n",
    "**2.** Agregar filas de un `DataFrame` a otro `DataFrame`. <br>\n",
    "**3.** Unir dos `DataFrame` de forma más flexible por coincidencia de filas o columnas."
   ]
  },
  {
   "cell_type": "markdown",
   "metadata": {},
   "source": [
    "## 1. Unir bases de datos "
   ]
  },
  {
   "cell_type": "markdown",
   "metadata": {},
   "source": [
    "Unir bases de datos significa consolidar la información existente en dos o más bases de datos de acuerdo con la coincidencia, bien sea de sus columnas, o de sus filas."
   ]
  },
  {
   "cell_type": "markdown",
   "metadata": {},
   "source": [
    "### 1.1. Unir bases de datos por coincidencia de filas"
   ]
  },
  {
   "cell_type": "markdown",
   "metadata": {},
   "source": [
    "Estos métodos agregan a un `DataFrame` las columnas de otro según coincidan las filas en los dos."
   ]
  },
  {
   "cell_type": "markdown",
   "metadata": {},
   "source": [
    "#### Método `join`"
   ]
  },
  {
   "cell_type": "markdown",
   "metadata": {},
   "source": [
    "Agrega a un `DataFrame` las columnas de otro según coincidan los indices en los dos. Puede usarse una columna en lugar de su índice para el `DataFrame` que llama al método.\n",
    "\n",
    "```python\n",
    "DataFrame.join(other, on=None, how='left', lsuffix='', rsuffix='', sort=False)\n",
    "```"
   ]
  },
  {
   "cell_type": "markdown",
   "metadata": {},
   "source": [
    "A continuación una explicación de los parámetros.\n",
    "\n",
    "* `other`: el `DataFrame` a unir.<br><br>\n",
    "\n",
    "* `on`: permite usar una o varias columnas del `DataFrame` que llama al método para encontrar las coincidencias. De no especificarla, se encuentran las coincidencias en los índices.<br><br>\n",
    "\n",
    "* `how`: es `\"left\"` por defecto.<br><br>\n",
    "\n",
    "    * `how=\"left\"`: el `DataFrame` resultante tendrá el mismo número de filas que el `DataFrame` que llama al método, ya que se usan solo las coincidencias con el índice o columna de este `Dataframe`.\n",
    "\n",
    "    * `how=\"right\"`: el `DataFrame` resultante tendrá el mismo número de filas que el `DataFrame` entra por parámetro, ya que se usan solo las coincidencias con el índice o columna de este `Dataframe`.\n",
    "\n",
    "    * `how=\"outer\"`: el `DataFrame` resultante tendrá todas las filas de ambos `DataFrame`, ya que se aceptan todas las coincidencias y no coincidencias de ambos `DataFrame`. \n",
    "\n",
    "    * `how=\"inner\"`: el `DataFrame` resultante solo tendrá los índices que exisan en ambos `DataFrame`.<br><br>\n",
    "\n",
    "* `lsufix`: si hay una o más columnas que tienen el mismo nombre en ambos `DataFrame`, se le puede asignar un sufijo a las columnas del `DataFrame` que llama al método para así diferenciarlas de las columnas del otro `DataFrame`.<br><br>\n",
    "\n",
    "* `rsuffix`: si hay una o más columnas que tienen el mismo nombre en ambos `DataFrame`, se les puede asignar un sufijo a las columnas del `DataFrame` que entra por parámetro para así diferenciarlas de las columnas del `DataFrame` que llama al método.<br><br>\n",
    " \n",
    "* `sort`: es `False` por defecto.<br><br>\n",
    "\n",
    "    * `sort=True`: asigna un orden lexicográfico a las filas del `DataFrame` resultante.\n",
    "\n",
    "    * `sort=False`: preserva el orden en el que aparecen las filas de los `DataFrame` originales."
   ]
  },
  {
   "cell_type": "markdown",
   "metadata": {},
   "source": [
    "#### Método `merge`"
   ]
  },
  {
   "cell_type": "markdown",
   "metadata": {},
   "source": [
    "Agrega a un `DataFrame` las columnas de otro según coincidan los indices en los dos. Puede usarse una columna en lugar de su índice para ambos `DataFrame`. En este sentido, `merge` es más flexible que `join`, puesto que permite usar las coincidencias con las columnas del otro `DataFrame`.\n",
    "\n",
    "```python\n",
    "    DataFrame.merge(right, how='inner', on=None, left_on=None, right_on=None, left_index=False,\n",
    "                    right_index=False, sort=False, suffixes=('_x', '_y'), indicator=False)\n",
    "```"
   ]
  },
  {
   "cell_type": "markdown",
   "metadata": {},
   "source": [
    "Al escoger la coincidencia de columnas. Si el `DataDrame` que llama el método tiene $n$ filas y el `DataFrame` por parámetro tiene $m$ filas, el `DataFrame` resultante tendrá $n+m$ filas. A continuación una explicación de los parámetros. El resultado aplica también para la coincidencia de filas, sumándose las columnas."
   ]
  },
  {
   "cell_type": "markdown",
   "metadata": {},
   "source": [
    "A continuación una explicación de los parámetros. \n",
    "\n",
    "* `right`: el `DataFrame` a unir.<br><br>\n",
    "\n",
    "* `how`: se tienen las mismas opciones que con el método `join`: `\"left\"`, `\"right\"`, `\"outer\"` e `\"inner\"`.<br><br>\n",
    "\n",
    "* `on`: nombre de una columna que se encuentre en ambos `DataFrame` para identificar las coincidencias de la unión. Alternativamente pueden usarse los parámetros `left_on` (o `left_index`) y `right_on` (o `right_index`).<br><br>\n",
    "\n",
    "* `left_on`: nombres de las columnas del `DataFrame` que llama al método, utilizadas para identificar las coincidencias.<br><br>\n",
    "\n",
    "* `right_on`: nombres de las columnas del `DataFrame` que entra por parámetro, utilizadas para identificar las coincidencias.<br><br>\n",
    "\n",
    "* `left_index`: es `False` por defecto.<br><br>\n",
    "\n",
    "    * `left_index=True`: especifica que se usa el índice del `DataFrame` que llama al método, para identificar las coincidencias.\n",
    "\n",
    "    * `left_index=False`: toma las columnas especificadas en `on` o en `left_on`.<br><br>\n",
    "\n",
    "* `right_index`: es `False` por defecto.<br><br>\n",
    "\n",
    "    * `right_index=True`: especifica que se usa el índice del `DataFrame` que entra por parámetro, para identificar las coincidencias.\n",
    "\n",
    "    * `right_index=False`: toma las columnas especificadas en `on` o en `right_on`.<br><br>\n",
    "\n",
    "* `sort`: es `False` por defecto.<br><br>\n",
    "\n",
    "    * `sort=True`: asigna un orden lexicográfico a las filas del `DataFrame` resultante.\n",
    "\n",
    "    * `sort=False`: preserva el orden en el que aparecen las filas de los `DataFrame` originales.<br><br>\n",
    "\n",
    "* `suffixes`: recibe una tupla de dos posiciones con los sufijos que se usarán para distinguir en caso de que existan columnas de nombre repetido.<br><br>\n",
    "\n",
    "* `indicator`: agrega una columna que indica el `DataFrame` del cual proviene la fila."
   ]
  },
  {
   "cell_type": "markdown",
   "metadata": {},
   "source": [
    "#### Uniones uno a uno"
   ]
  },
  {
   "cell_type": "markdown",
   "metadata": {},
   "source": [
    "Recordemos que la llave de una base de datos es una columna cuyos registros no se repiten. Podemos usar esta llave para indexar nuestro `DataFrame` y este puede estar compuesto por una o más columnas."
   ]
  },
  {
   "cell_type": "markdown",
   "metadata": {},
   "source": [
    "La unión uno a uno se hace entre dos bases de datos de acuerdo con las coincidencias entre las llaves de ambas. Se entiende como una unión uno a uno, ya que en ambas bases de datos las llaves deben ser únicas y por lo tanto no existen coincidencias repetidas."
   ]
  },
  {
   "cell_type": "markdown",
   "metadata": {},
   "source": [
    "Importamos el paquete `pandas`."
   ]
  },
  {
   "cell_type": "code",
   "execution_count": 2,
   "metadata": {},
   "outputs": [],
   "source": [
    "import pandas as pd"
   ]
  },
  {
   "cell_type": "markdown",
   "metadata": {},
   "source": [
    "##### Ejemplo 1"
   ]
  },
  {
   "cell_type": "markdown",
   "metadata": {},
   "source": [
    "Consideremos los siguientes `DataFrame`."
   ]
  },
  {
   "cell_type": "code",
   "execution_count": 3,
   "metadata": {},
   "outputs": [],
   "source": [
    "df = pd.DataFrame([[1, 2],\n",
    "                   [3, 4],\n",
    "                   [1, 2]],\n",
    "                  columns=[\"A\", \"B\"])\n",
    "\n",
    "df2 = pd.DataFrame([[3, 2, 4],\n",
    "                    [3, 4, 1]],\n",
    "                   columns=[\"C\", \"D\", \"E\"])"
   ]
  },
  {
   "cell_type": "markdown",
   "metadata": {},
   "source": [
    "Debemos agregar a `df` las columnas de `df2` según coincidencia de índices uno a uno, preservar todas las filas de `df` y solo las filas que coinciden de `df2`."
   ]
  },
  {
   "cell_type": "markdown",
   "metadata": {},
   "source": [
    "Utilicemos el método `merge`, especificando que la unión será por coincidencias interiores (que suceden en ambos) y activando las opciones de `left_index` y `right_index`."
   ]
  },
  {
   "cell_type": "code",
   "execution_count": 4,
   "metadata": {
    "scrolled": false
   },
   "outputs": [
    {
     "data": {
      "text/html": [
       "<div>\n",
       "<style scoped>\n",
       "    .dataframe tbody tr th:only-of-type {\n",
       "        vertical-align: middle;\n",
       "    }\n",
       "\n",
       "    .dataframe tbody tr th {\n",
       "        vertical-align: top;\n",
       "    }\n",
       "\n",
       "    .dataframe thead th {\n",
       "        text-align: right;\n",
       "    }\n",
       "</style>\n",
       "<table border=\"1\" class=\"dataframe\">\n",
       "  <thead>\n",
       "    <tr style=\"text-align: right;\">\n",
       "      <th></th>\n",
       "      <th>A</th>\n",
       "      <th>B</th>\n",
       "      <th>C</th>\n",
       "      <th>D</th>\n",
       "      <th>E</th>\n",
       "    </tr>\n",
       "  </thead>\n",
       "  <tbody>\n",
       "    <tr>\n",
       "      <th>0</th>\n",
       "      <td>1</td>\n",
       "      <td>2</td>\n",
       "      <td>3</td>\n",
       "      <td>2</td>\n",
       "      <td>4</td>\n",
       "    </tr>\n",
       "    <tr>\n",
       "      <th>1</th>\n",
       "      <td>3</td>\n",
       "      <td>4</td>\n",
       "      <td>3</td>\n",
       "      <td>4</td>\n",
       "      <td>1</td>\n",
       "    </tr>\n",
       "  </tbody>\n",
       "</table>\n",
       "</div>"
      ],
      "text/plain": [
       "   A  B  C  D  E\n",
       "0  1  2  3  2  4\n",
       "1  3  4  3  4  1"
      ]
     },
     "execution_count": 4,
     "metadata": {},
     "output_type": "execute_result"
    }
   ],
   "source": [
    "df3 = df.merge(df2, how='inner', left_index=True, right_index=True)\n",
    "df3"
   ]
  },
  {
   "cell_type": "markdown",
   "metadata": {},
   "source": [
    "Alternativamente, podemos utilizar el método `join`. Con este solo necesitamos dos argumentos, puesto que por defecto se usa el índice para la coincidencia de filas de los `DataFrame`."
   ]
  },
  {
   "cell_type": "code",
   "execution_count": 5,
   "metadata": {
    "scrolled": true
   },
   "outputs": [
    {
     "data": {
      "text/html": [
       "<div>\n",
       "<style scoped>\n",
       "    .dataframe tbody tr th:only-of-type {\n",
       "        vertical-align: middle;\n",
       "    }\n",
       "\n",
       "    .dataframe tbody tr th {\n",
       "        vertical-align: top;\n",
       "    }\n",
       "\n",
       "    .dataframe thead th {\n",
       "        text-align: right;\n",
       "    }\n",
       "</style>\n",
       "<table border=\"1\" class=\"dataframe\">\n",
       "  <thead>\n",
       "    <tr style=\"text-align: right;\">\n",
       "      <th></th>\n",
       "      <th>A</th>\n",
       "      <th>B</th>\n",
       "      <th>C</th>\n",
       "      <th>D</th>\n",
       "      <th>E</th>\n",
       "    </tr>\n",
       "  </thead>\n",
       "  <tbody>\n",
       "    <tr>\n",
       "      <th>0</th>\n",
       "      <td>1</td>\n",
       "      <td>2</td>\n",
       "      <td>3</td>\n",
       "      <td>2</td>\n",
       "      <td>4</td>\n",
       "    </tr>\n",
       "    <tr>\n",
       "      <th>1</th>\n",
       "      <td>3</td>\n",
       "      <td>4</td>\n",
       "      <td>3</td>\n",
       "      <td>4</td>\n",
       "      <td>1</td>\n",
       "    </tr>\n",
       "  </tbody>\n",
       "</table>\n",
       "</div>"
      ],
      "text/plain": [
       "   A  B  C  D  E\n",
       "0  1  2  3  2  4\n",
       "1  3  4  3  4  1"
      ]
     },
     "execution_count": 5,
     "metadata": {},
     "output_type": "execute_result"
    }
   ],
   "source": [
    "df3 = df.join(df2, how = 'inner')\n",
    "df3"
   ]
  },
  {
   "cell_type": "markdown",
   "metadata": {},
   "source": [
    "#### Uniones uno a $n$"
   ]
  },
  {
   "cell_type": "markdown",
   "metadata": {},
   "source": [
    "La unión uno a $n$ se hace entre dos bases de datos de acuerdo con las coincidencias entre la llave de la primera y una columna cualquiera de la segunda (esta columna puede contener valores repetidos). Se entiende como una unión uno a $n$, ya que para cada registro de la llave de la primera base de datos pueden existir hasta $n$ coincidencias en la segunda."
   ]
  },
  {
   "cell_type": "markdown",
   "metadata": {},
   "source": [
    "##### Ejemplo 2"
   ]
  },
  {
   "cell_type": "markdown",
   "metadata": {},
   "source": [
    "Consideremos los siquientes `DataFrame`."
   ]
  },
  {
   "cell_type": "code",
   "execution_count": 6,
   "metadata": {},
   "outputs": [],
   "source": [
    "df = pd.DataFrame([[\"Juan\",    \"Contabilidad\", 2100],\n",
    "                   [\"Ignacio\", \"Ingeniería\",   2000],\n",
    "                   [\"Andrea\",  \"Ingeniería\",   2000]],\n",
    "                  columns = [\"Empleado\", \"Equipo\", \"Salario\"])\n",
    "\n",
    "df2 = pd.DataFrame([[\"Ingeniería\",   \"Alex\"   ],\n",
    "                    [\"Contabilidad\", \"Antonia\"]],\n",
    "                   columns = [\"Equipo\", \"Supervisor\"])"
   ]
  },
  {
   "cell_type": "markdown",
   "metadata": {},
   "source": [
    "Debemos agregar a `df` las columnas de `df2` según coincidencia de índices uno a $n$, preservar todas las filas de `df` y solo las filas que coinciden de `df2`."
   ]
  },
  {
   "cell_type": "markdown",
   "metadata": {},
   "source": [
    "Utilicemos el método `merge`, especificando que la unión será por coincidencias interiores (que suceden en ambos), y que la columna `\"Equipo\"` existe en ambos `DataFrame`."
   ]
  },
  {
   "cell_type": "code",
   "execution_count": 7,
   "metadata": {},
   "outputs": [
    {
     "data": {
      "text/html": [
       "<div>\n",
       "<style scoped>\n",
       "    .dataframe tbody tr th:only-of-type {\n",
       "        vertical-align: middle;\n",
       "    }\n",
       "\n",
       "    .dataframe tbody tr th {\n",
       "        vertical-align: top;\n",
       "    }\n",
       "\n",
       "    .dataframe thead th {\n",
       "        text-align: right;\n",
       "    }\n",
       "</style>\n",
       "<table border=\"1\" class=\"dataframe\">\n",
       "  <thead>\n",
       "    <tr style=\"text-align: right;\">\n",
       "      <th></th>\n",
       "      <th>Empleado</th>\n",
       "      <th>Equipo</th>\n",
       "      <th>Salario</th>\n",
       "      <th>Supervisor</th>\n",
       "    </tr>\n",
       "  </thead>\n",
       "  <tbody>\n",
       "    <tr>\n",
       "      <th>0</th>\n",
       "      <td>Juan</td>\n",
       "      <td>Contabilidad</td>\n",
       "      <td>2100</td>\n",
       "      <td>Antonia</td>\n",
       "    </tr>\n",
       "    <tr>\n",
       "      <th>1</th>\n",
       "      <td>Ignacio</td>\n",
       "      <td>Ingeniería</td>\n",
       "      <td>2000</td>\n",
       "      <td>Alex</td>\n",
       "    </tr>\n",
       "    <tr>\n",
       "      <th>2</th>\n",
       "      <td>Andrea</td>\n",
       "      <td>Ingeniería</td>\n",
       "      <td>2000</td>\n",
       "      <td>Alex</td>\n",
       "    </tr>\n",
       "  </tbody>\n",
       "</table>\n",
       "</div>"
      ],
      "text/plain": [
       "  Empleado        Equipo  Salario Supervisor\n",
       "0     Juan  Contabilidad     2100    Antonia\n",
       "1  Ignacio    Ingeniería     2000       Alex\n",
       "2   Andrea    Ingeniería     2000       Alex"
      ]
     },
     "execution_count": 7,
     "metadata": {},
     "output_type": "execute_result"
    }
   ],
   "source": [
    "df3 = df.merge(df2, how = \"inner\",  on = \"Equipo\")\n",
    "df3"
   ]
  },
  {
   "cell_type": "markdown",
   "metadata": {},
   "source": [
    "Habriamos podido especificar cuál columna usar en cada `DataFrame`, pero esto no fue necesario puesto que las columnas tienen el mismo nombre."
   ]
  },
  {
   "cell_type": "code",
   "execution_count": 8,
   "metadata": {},
   "outputs": [
    {
     "data": {
      "text/html": [
       "<div>\n",
       "<style scoped>\n",
       "    .dataframe tbody tr th:only-of-type {\n",
       "        vertical-align: middle;\n",
       "    }\n",
       "\n",
       "    .dataframe tbody tr th {\n",
       "        vertical-align: top;\n",
       "    }\n",
       "\n",
       "    .dataframe thead th {\n",
       "        text-align: right;\n",
       "    }\n",
       "</style>\n",
       "<table border=\"1\" class=\"dataframe\">\n",
       "  <thead>\n",
       "    <tr style=\"text-align: right;\">\n",
       "      <th></th>\n",
       "      <th>Empleado</th>\n",
       "      <th>Equipo</th>\n",
       "      <th>Salario</th>\n",
       "      <th>Supervisor</th>\n",
       "    </tr>\n",
       "  </thead>\n",
       "  <tbody>\n",
       "    <tr>\n",
       "      <th>0</th>\n",
       "      <td>Juan</td>\n",
       "      <td>Contabilidad</td>\n",
       "      <td>2100</td>\n",
       "      <td>Antonia</td>\n",
       "    </tr>\n",
       "    <tr>\n",
       "      <th>1</th>\n",
       "      <td>Ignacio</td>\n",
       "      <td>Ingeniería</td>\n",
       "      <td>2000</td>\n",
       "      <td>Alex</td>\n",
       "    </tr>\n",
       "    <tr>\n",
       "      <th>2</th>\n",
       "      <td>Andrea</td>\n",
       "      <td>Ingeniería</td>\n",
       "      <td>2000</td>\n",
       "      <td>Alex</td>\n",
       "    </tr>\n",
       "  </tbody>\n",
       "</table>\n",
       "</div>"
      ],
      "text/plain": [
       "  Empleado        Equipo  Salario Supervisor\n",
       "0     Juan  Contabilidad     2100    Antonia\n",
       "1  Ignacio    Ingeniería     2000       Alex\n",
       "2   Andrea    Ingeniería     2000       Alex"
      ]
     },
     "execution_count": 8,
     "metadata": {},
     "output_type": "execute_result"
    }
   ],
   "source": [
    "df3 = df.merge(df2, how = \"inner\", left_on = \"Equipo\", right_on = \"Equipo\")\n",
    "df3"
   ]
  },
  {
   "cell_type": "markdown",
   "metadata": {},
   "source": [
    "Si quisieramos usar el método `join` debemos indexar el segundo `DataFrame` según su columna con la que evaluamos las coincidencias."
   ]
  },
  {
   "cell_type": "code",
   "execution_count": 9,
   "metadata": {},
   "outputs": [
    {
     "data": {
      "text/html": [
       "<div>\n",
       "<style scoped>\n",
       "    .dataframe tbody tr th:only-of-type {\n",
       "        vertical-align: middle;\n",
       "    }\n",
       "\n",
       "    .dataframe tbody tr th {\n",
       "        vertical-align: top;\n",
       "    }\n",
       "\n",
       "    .dataframe thead th {\n",
       "        text-align: right;\n",
       "    }\n",
       "</style>\n",
       "<table border=\"1\" class=\"dataframe\">\n",
       "  <thead>\n",
       "    <tr style=\"text-align: right;\">\n",
       "      <th></th>\n",
       "      <th>Empleado</th>\n",
       "      <th>Equipo</th>\n",
       "      <th>Salario</th>\n",
       "      <th>Supervisor</th>\n",
       "    </tr>\n",
       "  </thead>\n",
       "  <tbody>\n",
       "    <tr>\n",
       "      <th>0</th>\n",
       "      <td>Juan</td>\n",
       "      <td>Contabilidad</td>\n",
       "      <td>2100</td>\n",
       "      <td>Antonia</td>\n",
       "    </tr>\n",
       "    <tr>\n",
       "      <th>1</th>\n",
       "      <td>Ignacio</td>\n",
       "      <td>Ingeniería</td>\n",
       "      <td>2000</td>\n",
       "      <td>Alex</td>\n",
       "    </tr>\n",
       "    <tr>\n",
       "      <th>2</th>\n",
       "      <td>Andrea</td>\n",
       "      <td>Ingeniería</td>\n",
       "      <td>2000</td>\n",
       "      <td>Alex</td>\n",
       "    </tr>\n",
       "  </tbody>\n",
       "</table>\n",
       "</div>"
      ],
      "text/plain": [
       "  Empleado        Equipo  Salario Supervisor\n",
       "0     Juan  Contabilidad     2100    Antonia\n",
       "1  Ignacio    Ingeniería     2000       Alex\n",
       "2   Andrea    Ingeniería     2000       Alex"
      ]
     },
     "execution_count": 9,
     "metadata": {},
     "output_type": "execute_result"
    }
   ],
   "source": [
    "df2 = df2.set_index(\"Equipo\")\n",
    "df3 = df.join(df2, how = \"inner\", on = \"Equipo\")\n",
    "df3"
   ]
  },
  {
   "cell_type": "markdown",
   "metadata": {},
   "source": [
    "#### Uniones $n$ a uno"
   ]
  },
  {
   "cell_type": "markdown",
   "metadata": {},
   "source": [
    "Es equivalente a una unión uno a $n$, donde la columna seleccionada para las coincidencias de la primera base de datos puede tener valores repetidos y las coincidencias con la segunda base de datos se evalúan utilizando su llave."
   ]
  },
  {
   "cell_type": "markdown",
   "metadata": {},
   "source": [
    "#### Uniones $n$ a $n$ "
   ]
  },
  {
   "cell_type": "markdown",
   "metadata": {},
   "source": [
    "La unión $n$ a $n$ se hace entre dos bases de datos de acuerdo con las coincidencias entre una columna (o grupo de columnas) de la primera y una columna (o grupo de columnas) de la segunda. Se entiende como una unión $n$ a $n$, ya que para cada registro (repetido o no) de la primera base de datos pueden existir hasta $n$ coincidencias en la segunda. No es relevante que en una o en otra se evalúe la coincidencia de una llave."
   ]
  },
  {
   "cell_type": "markdown",
   "metadata": {},
   "source": [
    "Es importante mencionar que este tipo de unión es poco común y en ocasiones hasta desaconsejado por algunos programas especializados en manejo de datos (Stata, 2013)."
   ]
  },
  {
   "cell_type": "markdown",
   "metadata": {},
   "source": [
    "##### Ejemplo 3"
   ]
  },
  {
   "cell_type": "markdown",
   "metadata": {},
   "source": [
    "Consideramos los siguientes `DataFrame`."
   ]
  },
  {
   "cell_type": "code",
   "execution_count": 10,
   "metadata": {},
   "outputs": [],
   "source": [
    "df = pd.DataFrame([[\"Juan\",    \"Tennis\"    ],\n",
    "                   [\"Ignacio\", \"Tennis\"    ], \n",
    "                   [\"Andrea\",  \"Baloncesto\"]],\n",
    "                  columns = [\"Alex\", \"Deporte\"])\n",
    "\n",
    "df2 = pd.DataFrame([[\"Tennis\",     \"Raquetas\"],\n",
    "                    [\"Tennis\",     \"Pelotas\" ],\n",
    "                    [\"Baloncesto\", \"Balón\"   ],\n",
    "                    [\"Baloncesto\", \"Red\"     ],\n",
    "                    [\"Natación\",   \"Piscina\" ]],\n",
    "                   columns = [\"Deporte\", \"Implemento\"])"
   ]
  },
  {
   "cell_type": "markdown",
   "metadata": {},
   "source": [
    "Debemos unir los `DataFrame` de la celda de código en una relación $n$ a $n$ entre las columnas `\"Deporte\"`. Además debemos emplear todas las coincidencias.\n",
    "\n",
    "Debemos agregar a `df` las columnas de `df2` según coincidencia de índices $n$ a $n$, preservar todas las filas de `df` y todas las filas de `df2`.\n",
    "\n",
    "Utilizamos el método `merge`: "
   ]
  },
  {
   "cell_type": "code",
   "execution_count": 11,
   "metadata": {},
   "outputs": [
    {
     "data": {
      "text/html": [
       "<div>\n",
       "<style scoped>\n",
       "    .dataframe tbody tr th:only-of-type {\n",
       "        vertical-align: middle;\n",
       "    }\n",
       "\n",
       "    .dataframe tbody tr th {\n",
       "        vertical-align: top;\n",
       "    }\n",
       "\n",
       "    .dataframe thead th {\n",
       "        text-align: right;\n",
       "    }\n",
       "</style>\n",
       "<table border=\"1\" class=\"dataframe\">\n",
       "  <thead>\n",
       "    <tr style=\"text-align: right;\">\n",
       "      <th></th>\n",
       "      <th>Alex</th>\n",
       "      <th>Deporte</th>\n",
       "      <th>Implemento</th>\n",
       "    </tr>\n",
       "  </thead>\n",
       "  <tbody>\n",
       "    <tr>\n",
       "      <th>0</th>\n",
       "      <td>Juan</td>\n",
       "      <td>Tennis</td>\n",
       "      <td>Raquetas</td>\n",
       "    </tr>\n",
       "    <tr>\n",
       "      <th>1</th>\n",
       "      <td>Juan</td>\n",
       "      <td>Tennis</td>\n",
       "      <td>Pelotas</td>\n",
       "    </tr>\n",
       "    <tr>\n",
       "      <th>2</th>\n",
       "      <td>Ignacio</td>\n",
       "      <td>Tennis</td>\n",
       "      <td>Raquetas</td>\n",
       "    </tr>\n",
       "    <tr>\n",
       "      <th>3</th>\n",
       "      <td>Ignacio</td>\n",
       "      <td>Tennis</td>\n",
       "      <td>Pelotas</td>\n",
       "    </tr>\n",
       "    <tr>\n",
       "      <th>4</th>\n",
       "      <td>Andrea</td>\n",
       "      <td>Baloncesto</td>\n",
       "      <td>Balón</td>\n",
       "    </tr>\n",
       "    <tr>\n",
       "      <th>5</th>\n",
       "      <td>Andrea</td>\n",
       "      <td>Baloncesto</td>\n",
       "      <td>Red</td>\n",
       "    </tr>\n",
       "    <tr>\n",
       "      <th>6</th>\n",
       "      <td>NaN</td>\n",
       "      <td>Natación</td>\n",
       "      <td>Piscina</td>\n",
       "    </tr>\n",
       "  </tbody>\n",
       "</table>\n",
       "</div>"
      ],
      "text/plain": [
       "      Alex     Deporte Implemento\n",
       "0     Juan      Tennis   Raquetas\n",
       "1     Juan      Tennis    Pelotas\n",
       "2  Ignacio      Tennis   Raquetas\n",
       "3  Ignacio      Tennis    Pelotas\n",
       "4   Andrea  Baloncesto      Balón\n",
       "5   Andrea  Baloncesto        Red\n",
       "6      NaN    Natación    Piscina"
      ]
     },
     "execution_count": 11,
     "metadata": {},
     "output_type": "execute_result"
    }
   ],
   "source": [
    "df3 = df.merge(df2, how = \"outer\",  on = \"Deporte\")\n",
    "df3"
   ]
  },
  {
   "cell_type": "markdown",
   "metadata": {},
   "source": [
    "Declaramos `\"Deporte\"` como el índice para poder utilizar el método `join`."
   ]
  },
  {
   "cell_type": "code",
   "execution_count": 12,
   "metadata": {},
   "outputs": [
    {
     "data": {
      "text/html": [
       "<div>\n",
       "<style scoped>\n",
       "    .dataframe tbody tr th:only-of-type {\n",
       "        vertical-align: middle;\n",
       "    }\n",
       "\n",
       "    .dataframe tbody tr th {\n",
       "        vertical-align: top;\n",
       "    }\n",
       "\n",
       "    .dataframe thead th {\n",
       "        text-align: right;\n",
       "    }\n",
       "</style>\n",
       "<table border=\"1\" class=\"dataframe\">\n",
       "  <thead>\n",
       "    <tr style=\"text-align: right;\">\n",
       "      <th></th>\n",
       "      <th>Alex</th>\n",
       "      <th>Deporte</th>\n",
       "      <th>Implemento</th>\n",
       "    </tr>\n",
       "  </thead>\n",
       "  <tbody>\n",
       "    <tr>\n",
       "      <th>0.0</th>\n",
       "      <td>Juan</td>\n",
       "      <td>Tennis</td>\n",
       "      <td>Raquetas</td>\n",
       "    </tr>\n",
       "    <tr>\n",
       "      <th>0.0</th>\n",
       "      <td>Juan</td>\n",
       "      <td>Tennis</td>\n",
       "      <td>Pelotas</td>\n",
       "    </tr>\n",
       "    <tr>\n",
       "      <th>1.0</th>\n",
       "      <td>Ignacio</td>\n",
       "      <td>Tennis</td>\n",
       "      <td>Raquetas</td>\n",
       "    </tr>\n",
       "    <tr>\n",
       "      <th>1.0</th>\n",
       "      <td>Ignacio</td>\n",
       "      <td>Tennis</td>\n",
       "      <td>Pelotas</td>\n",
       "    </tr>\n",
       "    <tr>\n",
       "      <th>2.0</th>\n",
       "      <td>Andrea</td>\n",
       "      <td>Baloncesto</td>\n",
       "      <td>Balón</td>\n",
       "    </tr>\n",
       "    <tr>\n",
       "      <th>2.0</th>\n",
       "      <td>Andrea</td>\n",
       "      <td>Baloncesto</td>\n",
       "      <td>Red</td>\n",
       "    </tr>\n",
       "    <tr>\n",
       "      <th>NaN</th>\n",
       "      <td>NaN</td>\n",
       "      <td>Natación</td>\n",
       "      <td>Piscina</td>\n",
       "    </tr>\n",
       "  </tbody>\n",
       "</table>\n",
       "</div>"
      ],
      "text/plain": [
       "        Alex     Deporte Implemento\n",
       "0.0     Juan      Tennis   Raquetas\n",
       "0.0     Juan      Tennis    Pelotas\n",
       "1.0  Ignacio      Tennis   Raquetas\n",
       "1.0  Ignacio      Tennis    Pelotas\n",
       "2.0   Andrea  Baloncesto      Balón\n",
       "2.0   Andrea  Baloncesto        Red\n",
       "NaN      NaN    Natación    Piscina"
      ]
     },
     "execution_count": 12,
     "metadata": {},
     "output_type": "execute_result"
    }
   ],
   "source": [
    "df2 = df2.set_index(\"Deporte\")\n",
    "df3 = df.join(df2, how = \"outer\", on = \"Deporte\")\n",
    "df3"
   ]
  },
  {
   "cell_type": "markdown",
   "metadata": {},
   "source": [
    "### 1.2 Unir bases de datos por coincidencia de filas o columnas"
   ]
  },
  {
   "cell_type": "markdown",
   "metadata": {},
   "source": [
    "#### Método `concat `"
   ]
  },
  {
   "cell_type": "markdown",
   "metadata": {},
   "source": [
    "Agrega por coincidencia de filas o columnas (no ambas al tiempo) y permite flexibilidad para nombrar los índices y las columnas.\n",
    "\n",
    "```python\n",
    "concat(objs, axis=0, join='outer', ignore_index=False, keys=None, sort=False)\n",
    "```\n",
    "\n",
    "* `objs`: en este caso no hay un `DataFrame` que llame al método. Para este argumento debe incluirse una lista con dos o más `DataFrame` para unir.<br><br>\n",
    "\n",
    "* `axis`: es `0` por defecto.<br><br>\n",
    "\n",
    "    * `axis=0`: define la unión de los `DataFrame` por coincidencia de filas.\n",
    "    * `axis=1`: define la unión de los `DataFrame` por coincidencia de columnas.<br><br>\n",
    "\n",
    "* `join`: es `\"outer\"` por defecto.<br><br>\n",
    "\n",
    "    * `join=\"inner\"`: permite únicamente permite coincidencias mutuas.\n",
    "    * `join=\"outer\"`: permite la totalidad de las filas de ambos.<br><br>\n",
    "\n",
    "* `ignore_index`: es `False` por defecto.<br><br>\n",
    "\n",
    "    * `ignore_index=True`: la base de datos resultante no tendrá en cuenta los índices de ninguno de los dos `DataFrame` y asignará un índice numérico.\n",
    "\n",
    "    * `ignore_index=False`: el índice de la base de datos resultante conserva los índices de los dos `DataFrame` originales. <br><br>\n",
    "\n",
    "* `keys`: con el objetivo de conservar las columnas o los índices de ambas bases de datos se le puede asignar una llave por cada `DataFrame`, de tal manera que se pueda construir un índice múltiple o columnas múltiple. Los índices y columnas pasan de ser sencillos a representarse con tuplas.<br><br>\n",
    "\n",
    "* `sort`: es `False` por defecto.<br><br>\n",
    "\n",
    "    * `sort=True`: asigna un orden lexicográfico a las filas o columnas del `DataFrame` resultante.\n",
    "\n",
    "    * `sort=False`: preserva el orden en el que aparecen las filas o columnas de los `DataFrame` originales."
   ]
  },
  {
   "cell_type": "markdown",
   "metadata": {},
   "source": [
    "##### Ejemplo 4"
   ]
  },
  {
   "cell_type": "markdown",
   "metadata": {},
   "source": [
    "Consideramos los siguientes `DataFrame`."
   ]
  },
  {
   "cell_type": "code",
   "execution_count": 15,
   "metadata": {
    "scrolled": true
   },
   "outputs": [],
   "source": [
    "df = pd.DataFrame([[1, 2],\n",
    "                   [3, 4],\n",
    "                   [1, 3]],\n",
    "                  columns=['A', 'B'])\n",
    "\n",
    "df2 = pd.DataFrame([[3, 2, 4],\n",
    "                    [3, 4, 6],\n",
    "                    [1, 0, 1]],\n",
    "                   columns=['B', 'C', 'E'])"
   ]
  },
  {
   "cell_type": "markdown",
   "metadata": {},
   "source": [
    "Debemos unir los `DataFrame` por coincidencia de columnas y crear un índice múltiple (de tipo tupla) para diferenciar la información proveniente de cada uno de ellos."
   ]
  },
  {
   "cell_type": "code",
   "execution_count": 16,
   "metadata": {
    "scrolled": true
   },
   "outputs": [
    {
     "data": {
      "text/html": [
       "<div>\n",
       "<style scoped>\n",
       "    .dataframe tbody tr th:only-of-type {\n",
       "        vertical-align: middle;\n",
       "    }\n",
       "\n",
       "    .dataframe tbody tr th {\n",
       "        vertical-align: top;\n",
       "    }\n",
       "\n",
       "    .dataframe thead th {\n",
       "        text-align: right;\n",
       "    }\n",
       "</style>\n",
       "<table border=\"1\" class=\"dataframe\">\n",
       "  <thead>\n",
       "    <tr style=\"text-align: right;\">\n",
       "      <th></th>\n",
       "      <th></th>\n",
       "      <th>A</th>\n",
       "      <th>B</th>\n",
       "      <th>C</th>\n",
       "      <th>E</th>\n",
       "    </tr>\n",
       "  </thead>\n",
       "  <tbody>\n",
       "    <tr>\n",
       "      <th rowspan=\"3\" valign=\"top\">d1</th>\n",
       "      <th>0</th>\n",
       "      <td>1.0</td>\n",
       "      <td>2</td>\n",
       "      <td>NaN</td>\n",
       "      <td>NaN</td>\n",
       "    </tr>\n",
       "    <tr>\n",
       "      <th>1</th>\n",
       "      <td>3.0</td>\n",
       "      <td>4</td>\n",
       "      <td>NaN</td>\n",
       "      <td>NaN</td>\n",
       "    </tr>\n",
       "    <tr>\n",
       "      <th>2</th>\n",
       "      <td>1.0</td>\n",
       "      <td>3</td>\n",
       "      <td>NaN</td>\n",
       "      <td>NaN</td>\n",
       "    </tr>\n",
       "    <tr>\n",
       "      <th rowspan=\"3\" valign=\"top\">d2</th>\n",
       "      <th>0</th>\n",
       "      <td>NaN</td>\n",
       "      <td>3</td>\n",
       "      <td>2.0</td>\n",
       "      <td>4.0</td>\n",
       "    </tr>\n",
       "    <tr>\n",
       "      <th>1</th>\n",
       "      <td>NaN</td>\n",
       "      <td>3</td>\n",
       "      <td>4.0</td>\n",
       "      <td>6.0</td>\n",
       "    </tr>\n",
       "    <tr>\n",
       "      <th>2</th>\n",
       "      <td>NaN</td>\n",
       "      <td>1</td>\n",
       "      <td>0.0</td>\n",
       "      <td>1.0</td>\n",
       "    </tr>\n",
       "  </tbody>\n",
       "</table>\n",
       "</div>"
      ],
      "text/plain": [
       "        A  B    C    E\n",
       "d1 0  1.0  2  NaN  NaN\n",
       "   1  3.0  4  NaN  NaN\n",
       "   2  1.0  3  NaN  NaN\n",
       "d2 0  NaN  3  2.0  4.0\n",
       "   1  NaN  3  4.0  6.0\n",
       "   2  NaN  1  0.0  1.0"
      ]
     },
     "execution_count": 16,
     "metadata": {},
     "output_type": "execute_result"
    }
   ],
   "source": [
    "df3 = pd.concat([df,df2], keys=['d1', 'd2'], sort=True)\n",
    "df3"
   ]
  },
  {
   "cell_type": "markdown",
   "metadata": {},
   "source": [
    "El índice del `DataFrame` está compuesto por tuplas, y no por valores sencillos como en los `DataFrame` vistos anteriormente."
   ]
  },
  {
   "cell_type": "code",
   "execution_count": 17,
   "metadata": {},
   "outputs": [
    {
     "data": {
      "text/plain": [
       "MultiIndex([('d1', 0),\n",
       "            ('d1', 1),\n",
       "            ('d1', 2),\n",
       "            ('d2', 0),\n",
       "            ('d2', 1),\n",
       "            ('d2', 2)],\n",
       "           )"
      ]
     },
     "execution_count": 17,
     "metadata": {},
     "output_type": "execute_result"
    }
   ],
   "source": [
    "df3.index"
   ]
  },
  {
   "cell_type": "markdown",
   "metadata": {},
   "source": [
    "Ahora, uniremos los `DataFrame` por coincidencia de filas y crearemos un índice múltiple (de tipo tupla) para diferenciar la información proveniente de cada uno de ellos."
   ]
  },
  {
   "cell_type": "code",
   "execution_count": 18,
   "metadata": {},
   "outputs": [
    {
     "data": {
      "text/html": [
       "<div>\n",
       "<style scoped>\n",
       "    .dataframe tbody tr th:only-of-type {\n",
       "        vertical-align: middle;\n",
       "    }\n",
       "\n",
       "    .dataframe tbody tr th {\n",
       "        vertical-align: top;\n",
       "    }\n",
       "\n",
       "    .dataframe thead tr th {\n",
       "        text-align: left;\n",
       "    }\n",
       "</style>\n",
       "<table border=\"1\" class=\"dataframe\">\n",
       "  <thead>\n",
       "    <tr>\n",
       "      <th></th>\n",
       "      <th colspan=\"2\" halign=\"left\">d1</th>\n",
       "      <th colspan=\"3\" halign=\"left\">d2</th>\n",
       "    </tr>\n",
       "    <tr>\n",
       "      <th></th>\n",
       "      <th>A</th>\n",
       "      <th>B</th>\n",
       "      <th>B</th>\n",
       "      <th>C</th>\n",
       "      <th>E</th>\n",
       "    </tr>\n",
       "  </thead>\n",
       "  <tbody>\n",
       "    <tr>\n",
       "      <th>0</th>\n",
       "      <td>1</td>\n",
       "      <td>2</td>\n",
       "      <td>3</td>\n",
       "      <td>2</td>\n",
       "      <td>4</td>\n",
       "    </tr>\n",
       "    <tr>\n",
       "      <th>1</th>\n",
       "      <td>3</td>\n",
       "      <td>4</td>\n",
       "      <td>3</td>\n",
       "      <td>4</td>\n",
       "      <td>6</td>\n",
       "    </tr>\n",
       "    <tr>\n",
       "      <th>2</th>\n",
       "      <td>1</td>\n",
       "      <td>3</td>\n",
       "      <td>1</td>\n",
       "      <td>0</td>\n",
       "      <td>1</td>\n",
       "    </tr>\n",
       "  </tbody>\n",
       "</table>\n",
       "</div>"
      ],
      "text/plain": [
       "  d1    d2      \n",
       "   A  B  B  C  E\n",
       "0  1  2  3  2  4\n",
       "1  3  4  3  4  6\n",
       "2  1  3  1  0  1"
      ]
     },
     "execution_count": 18,
     "metadata": {},
     "output_type": "execute_result"
    }
   ],
   "source": [
    "df4 = pd.concat([df,df2], axis=1, keys=['d1', 'd2'], sort=True)\n",
    "df4"
   ]
  },
  {
   "cell_type": "markdown",
   "metadata": {},
   "source": [
    "Las columnas del `DataFrame` están compuestas por tuplas, y no por valores sencillos como en los `DataFrame` vistos anteriormente."
   ]
  },
  {
   "cell_type": "code",
   "execution_count": 19,
   "metadata": {},
   "outputs": [
    {
     "data": {
      "text/plain": [
       "MultiIndex([('d1', 'A'),\n",
       "            ('d1', 'B'),\n",
       "            ('d2', 'B'),\n",
       "            ('d2', 'C'),\n",
       "            ('d2', 'E')],\n",
       "           )"
      ]
     },
     "execution_count": 19,
     "metadata": {},
     "output_type": "execute_result"
    }
   ],
   "source": [
    "df4.columns"
   ]
  },
  {
   "cell_type": "markdown",
   "metadata": {},
   "source": [
    "## Referencias"
   ]
  },
  {
   "cell_type": "markdown",
   "metadata": {},
   "source": [
    "Python (2020). Documentación sobre `datetime`. Recuperado el 14 de diciembre de 2020 de: \n",
    "https://docs.python.org/es/3/library/datetime.html\n",
    "\n",
    "Stata (2013). Documentación sobre Merge. Recuperado el 14 de diciembre de 2020 de: \n",
    "https://www.stata.com/manuals13/dmerge.pdf\n",
    "\n",
    "J. VanderPlas (2016) Python Data Science Handbook: Essential Tools for Working with Data O'Reilly Media, Inc."
   ]
  },
  {
   "cell_type": "markdown",
   "metadata": {},
   "source": [
    "## Créditos"
   ]
  },
  {
   "cell_type": "markdown",
   "metadata": {},
   "source": [
    "**Autores:** Jorge Esteban Camargo Forero, Alejandro Mantilla Redondo, Diego Alejandro Cely Gomez\n",
    "\n",
    "**Fecha última actualización:** 31/08/2022"
   ]
  }
 ],
 "metadata": {
  "kernelspec": {
   "display_name": "Python 3 (ipykernel)",
   "language": "python",
   "name": "python3"
  },
  "language_info": {
   "codemirror_mode": {
    "name": "ipython",
    "version": 3
   },
   "file_extension": ".py",
   "mimetype": "text/x-python",
   "name": "python",
   "nbconvert_exporter": "python",
   "pygments_lexer": "ipython3",
   "version": "3.8.13"
  }
 },
 "nbformat": 4,
 "nbformat_minor": 2
}

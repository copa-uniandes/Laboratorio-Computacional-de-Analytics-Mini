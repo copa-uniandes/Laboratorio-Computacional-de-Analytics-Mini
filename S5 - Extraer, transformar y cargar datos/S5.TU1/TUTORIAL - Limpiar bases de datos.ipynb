{
 "cells": [
  {
   "cell_type": "markdown",
   "metadata": {},
   "source": [
    "![miad4.png](Archivos/miad4.png)"
   ]
  },
  {
   "cell_type": "code",
   "execution_count": null,
   "metadata": {
    "tags": [
     "hide-input",
     "thebe-init"
    ]
   },
   "outputs": [],
   "source": [
    "import os\n",
    "# Por precaución, cambiamos el directorio activo de Python a aquel que contenga este notebook\n",
    "if \"PAD-book\" in os.listdir():\n",
    "    os.chdir(r\"PAD-book/Laboratorio-Computacional-de-Analytics/S5 - Extraer, transformar y cargar datos/S5.TU1/\")"
   ]
  },
  {
   "cell_type": "markdown",
   "metadata": {},
   "source": [
    "# Modificar y limpiar datos utilizando `pandas`"
   ]
  },
  {
   "cell_type": "markdown",
   "metadata": {},
   "source": [
    "Con lo aprendido hasta ahora, somos capaces de cargar un `DataFrame` que contenga los datos a analizar. Además, podemos indexar este `DataFrame` en las filas según el contexto del problema y renombrar sus columnas según las prácticas recomendadas. No obstante, antes de realizar un análisis de datos, debemos revisar algunos aspectos importantes del manejo de bases de datos. Aprenderemos acerca de las estrategias que podemos aplicar sobre registros faltantes, y sobre el manejo de cadenas de texto y su transformación a fechas en los `DataFrame`."
   ]
  },
  {
   "cell_type": "markdown",
   "metadata": {},
   "source": [
    "## Requisitos"
   ]
  },
  {
   "cell_type": "markdown",
   "metadata": {},
   "source": [
    "Para desarrollar este tutorial necesitarás:\n",
    "\n",
    "* Conocer las principales características de los arreglos en `numpy` y de los `DataFrame` de `pandas`.\n",
    "* Importar datos a un `DataFrame` desde distintos formatos.\n",
    "* Indexar un `DataFrame` a partir de una o más columnas."
   ]
  },
  {
   "cell_type": "markdown",
   "metadata": {},
   "source": [
    "## Objetivos"
   ]
  },
  {
   "cell_type": "markdown",
   "metadata": {},
   "source": [
    "Al final de este tutorial podrás:\n",
    "\n",
    "**1.** Modificar cadenas de texto contenidas en un `Series`.<br>\n",
    "**2.** Representar fechas utilizando el paquete `datetime`.<br>\n",
    "**3.** Imputar datos faltantes en un `DataFrame`.<br>"
   ]
  },
  {
   "cell_type": "markdown",
   "metadata": {},
   "source": [
    "## 1. Modificar cadenas de texto contenidas en un `Series` utilizando la librería `pandas`"
   ]
  },
  {
   "cell_type": "markdown",
   "metadata": {},
   "source": [
    "En `pandas`, las cadenas de texto contenidas en un `Series` (o en columnas de un `DataFrame`) heredan varios métodos propios de los objetos de tipo cadena de texto. Para acceder a ellos los llamamos del módulo `Series.str` (o `DataFrame.str`).    "
   ]
  },
  {
   "cell_type": "markdown",
   "metadata": {},
   "source": [
    "A continuación explicamos la documentación de algunos de los métodos más comunes: `split`, `get_dummies`, `capitalize`, `lower`, `upper` y `strip`.\n",
    "\n",
    "* `split`: divide cada cadena del `Series` cada vez que encuentra la subcadena especificada en el parámetro `pat`. Utilizamos el parámetro `n` para limitar la cantidad de divisiones que realizamos en las cadenas. Utilizamos el parámetro expand para retornar los segmentos de las cadenas en un `DataFrame` (`expand = True`) o en un `Series` de listas (`expand = false`). <br><br>\n",
    "\n",
    "* `get_dummies`: crea un `DataFrame` donde las columnas corresponden a cada uno de los valores únicos del `Series`, las filas corresponden a los elementos del `Series` y los valores son binarios (`0` o `1`) dependiendo de si el elemento toma el valor que indica la columna.<br><br>\n",
    "\n",
    "* `capitalize`: revisa si el primer caracter de cada cadena es una letra minúscula y lo convierte en mayúscula y vuelve minúscula el resto de las letras en la cadena.    <br><br>\n",
    "\n",
    "* `lower`: convierte todas las letras de cada cadena en minúsculas.<br><br>\n",
    "    \n",
    "* `upper`: convierte todas las letras de cada cadena en mayúsculas.    <br><br>\n",
    "    \n",
    "* `strip`: elimina del inicio y del final de cada cadena del `Series`, la subcadena especificada en el parámetro `to_strip`. Si la subcadena no es especificada, por defecto se supone la subcadena `\" \"` (espacio)."
   ]
  },
  {
   "cell_type": "markdown",
   "metadata": {},
   "source": [
    "Importamos el paquete `pandas`."
   ]
  },
  {
   "cell_type": "code",
   "execution_count": 1,
   "metadata": {},
   "outputs": [],
   "source": [
    "import pandas as pd"
   ]
  },
  {
   "cell_type": "markdown",
   "metadata": {},
   "source": [
    "### Ejemplo 1"
   ]
  },
  {
   "cell_type": "markdown",
   "metadata": {},
   "source": [
    "En la siguiente celda de código declaramos un `Series` con el nombre de algunos libros. Se nos pide que extraigamos el artículo del título de los libros que se encuentran dentro del `DataFrame`."
   ]
  },
  {
   "cell_type": "code",
   "execution_count": 2,
   "metadata": {
    "scrolled": false
   },
   "outputs": [
    {
     "data": {
      "text/plain": [
       "0    El\n",
       "1    La\n",
       "2    La\n",
       "dtype: object"
      ]
     },
     "execution_count": 2,
     "metadata": {},
     "output_type": "execute_result"
    }
   ],
   "source": [
    "serie_libros = pd.Series([\"El Extranjero\", \"La Peste\", \"La Caída\"])\n",
    "serie_articulos = serie_libros.str[:2] # Tomamos los primeros dos caracteres del título.\n",
    "serie_articulos"
   ]
  },
  {
   "cell_type": "markdown",
   "metadata": {},
   "source": [
    "Puede cumplirse lo mismo con el método `split`, como se ve a continuación:"
   ]
  },
  {
   "cell_type": "code",
   "execution_count": 3,
   "metadata": {
    "scrolled": false
   },
   "outputs": [
    {
     "data": {
      "text/plain": [
       "0    El\n",
       "1    La\n",
       "2    La\n",
       "Name: 0, dtype: object"
      ]
     },
     "execution_count": 3,
     "metadata": {},
     "output_type": "execute_result"
    }
   ],
   "source": [
    "serie_articulos = serie_libros.str.split(' ', expand=True)\n",
    "serie_articulos[0]"
   ]
  },
  {
   "cell_type": "markdown",
   "metadata": {},
   "source": [
    "## 2. Representar fechas utilizando la librería `datetime`"
   ]
  },
  {
   "cell_type": "markdown",
   "metadata": {},
   "source": [
    "Una de las grandes ventajas de la programación de rutinas de código en Python es la versatilidad que ofrece. El caso de la manipulación de información temporal no es la excepción, en tanto Python permite representar los principales formatos de fechas que se usan en lenguajes de manipulación de bases de datos como SQL. El principal módulo a importar para trabajar con fechas es `datetime`. "
   ]
  },
  {
   "cell_type": "markdown",
   "metadata": {},
   "source": [
    "### 2.1. El módulo `datetime`"
   ]
  },
  {
   "cell_type": "markdown",
   "metadata": {},
   "source": [
    "La principal característica del módulo `datetime` es que permite trabajar simultáneamente con fechas (*Dates*) y tiempos (*Time*). Es decir, al crear un objeto con el módulo `datetime`, este contendrá la información de la fecha (día, mes y año) y un registro detallado del dato de tiempo (hora, minuto, segundo, microsegundo). Para importar el módulo `datetime` se puede usar la siguiente sintaxis:\n",
    "\n",
    "```python\n",
    "from datetime import datetime\n",
    "```"
   ]
  },
  {
   "cell_type": "markdown",
   "metadata": {},
   "source": [
    "Esta sintaxis permite declarar de forma directa objetos de tipo `datetime` ya que importa los métodos del módulo (y no todo el paquete) `datetime`. Así, resulta innecesario referenciar nuevamente un objeto de este módulo. Para declarar una fecha se usa la siguiente sintaxis, empleando valores enteros como argumentos: \n",
    "\n",
    "```python\n",
    "fecha = datetime(anho, mes, dia)\n",
    "```"
   ]
  },
  {
   "cell_type": "markdown",
   "metadata": {},
   "source": [
    "A esta fecha se le asignará por defecto la primera hora del día (00:00:00). Si se desea, también se puede especificar el total de la información como en la siguiente declaración:\n",
    "\n",
    "```python\n",
    "tiempo = datetime(anho, mes, dia, hora, minuto, segundo, microsegundo)\n",
    "```"
   ]
  },
  {
   "cell_type": "markdown",
   "metadata": {},
   "source": [
    "A continuación, trabajaremos los principales métodos del módulo `datetime`."
   ]
  },
  {
   "cell_type": "markdown",
   "metadata": {},
   "source": [
    "### 2.2. Métodos de los objetos tipo `datetime`"
   ]
  },
  {
   "cell_type": "markdown",
   "metadata": {},
   "source": [
    "|<center>Métodos</center>|<center>Descripción</center>|\n",
    "|:-|:-|\n",
    "|`weekday()`| Obtiene el día de la semana correspondiente a la fecha|\n",
    "|`isoweekday()`| Obtiene el día de la semana correspondiente a la fecha en formato ISO|\n",
    "|`__format__(formato)` | Confiere a un `datetime` el `formato` especificado|\n",
    "|`replace()` | Permite modificar cualquiera de los valores de una fecha particular (año, mes, dia)|"
   ]
  },
  {
   "cell_type": "markdown",
   "metadata": {},
   "source": [
    "### 2.3 Métodos del módulo `datetime`"
   ]
  },
  {
   "cell_type": "markdown",
   "metadata": {},
   "source": [
    "|<center>Métodos</center>|<center>Descripción</center>|\n",
    "|:-|:-|\n",
    "|`stftime(formato)` | Retorna una cadena de texto con la información de la fecha según el `formato` especificado|\n",
    "|`strptime(cadena_fecha)` | Crea un `datetime` con base en una fecha descrita por una cadena de texto (`cadena_fecha`)|"
   ]
  },
  {
   "cell_type": "markdown",
   "metadata": {},
   "source": [
    "Para usar los métodos `stftime` y `strptime` se usan las siguientes convenciones:"
   ]
  },
  {
   "cell_type": "markdown",
   "metadata": {},
   "source": [
    "|<center>Convención</center>|<center>Descripción</center>|\n",
    "|:-:|:-|\n",
    "|`'%a'`|Referencia los primeros caracteres del día de la semana 'Wed'|\n",
    "|`'%A'`|Referencia el nombre completo 'Wednesday' |\n",
    "|`'%B'`|Referencia el nombre completo del mes 'Septiembre'|\n",
    "|`'%w'`|Referencia el día de la semana con números del 0 al 6 donde el Domingo es el 0 |\n",
    "|`'%m'`|Referencia el número del mes del '01' al '12' |\n",
    "|`'%p'`|Referencia la hora en formato AM/PM|\n",
    "|`'%y'`|Referencia el año usando únicamente los últimos dos dígitos |\n",
    "|`'%Y'`|Referencia el año usando todos los dígitos |\n",
    "|`'%Z'`|Referencia la zona horaria|\n",
    "|`'%z'`|Referencia la zona horaria en formato UTC|\n",
    "|`'%j'`|Referencia el día del año del '001' al '366' |\n",
    "|`'%W'`|Referencia el día |\n",
    "|`'%U'`|Referencia el número de la semana en el año desde el '00' hasta el '53'|"
   ]
  },
  {
   "cell_type": "markdown",
   "metadata": {},
   "source": [
    "Ejemplificaremos el uso de los métodos `strftime` y `strptime` según estas."
   ]
  },
  {
   "cell_type": "markdown",
   "metadata": {},
   "source": [
    "Importamos el módulo `datetime`."
   ]
  },
  {
   "cell_type": "code",
   "execution_count": 4,
   "metadata": {},
   "outputs": [],
   "source": [
    "from datetime import datetime"
   ]
  },
  {
   "cell_type": "markdown",
   "metadata": {},
   "source": [
    "#### Ejemplo 2"
   ]
  },
  {
   "cell_type": "markdown",
   "metadata": {},
   "source": [
    "Vamos a convertir la cadena de texto con formato `\"%y-%m-%d\"` en un objeto `datetime`."
   ]
  },
  {
   "cell_type": "code",
   "execution_count": 5,
   "metadata": {
    "scrolled": false
   },
   "outputs": [
    {
     "data": {
      "text/plain": [
       "datetime.datetime(2018, 12, 31, 0, 0)"
      ]
     },
     "execution_count": 5,
     "metadata": {},
     "output_type": "execute_result"
    }
   ],
   "source": [
    "cadena_fecha = \"18-12-31\"\n",
    "fecha = datetime.strptime(cadena_fecha,\"%y-%m-%d\")\n",
    "fecha"
   ]
  },
  {
   "cell_type": "markdown",
   "metadata": {},
   "source": [
    "También se habría podido lograr esta fecha con la cadena de texto que contiene todos los dígitos del año:"
   ]
  },
  {
   "cell_type": "code",
   "execution_count": 6,
   "metadata": {},
   "outputs": [
    {
     "data": {
      "text/plain": [
       "datetime.datetime(2018, 12, 31, 0, 0)"
      ]
     },
     "execution_count": 6,
     "metadata": {},
     "output_type": "execute_result"
    }
   ],
   "source": [
    "cadena_fecha = \"2018-12-31\"\n",
    "fecha = datetime.strptime(cadena_fecha,\"%Y-%m-%d\")\n",
    "fecha"
   ]
  },
  {
   "cell_type": "markdown",
   "metadata": {},
   "source": [
    "Recuerde que también se puede recuperar la cadena de texto original sobre la cual se creó la fecha usando el método `strftime`."
   ]
  },
  {
   "cell_type": "code",
   "execution_count": 7,
   "metadata": {},
   "outputs": [
    {
     "data": {
      "text/plain": [
       "'2018-12-31'"
      ]
     },
     "execution_count": 7,
     "metadata": {},
     "output_type": "execute_result"
    }
   ],
   "source": [
    "cadena_fecha = datetime.strftime(fecha,\"%Y-%m-%d\")\n",
    "cadena_fecha # tipo: cadena de texto"
   ]
  },
  {
   "cell_type": "markdown",
   "metadata": {},
   "source": [
    "### 2.3. Columnas con formato de fechas"
   ]
  },
  {
   "cell_type": "markdown",
   "metadata": {},
   "source": [
    "Una vez conocemos el procedimiento para transformar cadenas de texto en objetos `datetime` podemos pensar en cómo transformar columnas o `Series` de enteros o cadenas de texto en fechas. La manera más frecuente es por medio del método `to_datetime` de `pandas`: \n",
    "\n",
    "```python\n",
    "to_datetime(arg=cadena_fecha, UTC=None, format=None)\n",
    "```"
   ]
  },
  {
   "cell_type": "markdown",
   "metadata": {},
   "source": [
    "A continuación, describimos el uso de los parámetros.\n",
    "\n",
    "* `arg`: cadena de texto, entero, lista, arreglo o fecha (`datetime`) a transformar en una fecha (`datetime`). <br><br>\n",
    "\n",
    "* `UTC`: especifica la zona horaria.<br><br>\n",
    "\n",
    "* `format`: recibe una cadena de texto que indica el formato de la fecha según las convenciones."
   ]
  },
  {
   "cell_type": "markdown",
   "metadata": {},
   "source": [
    "#### Ejemplo 3"
   ]
  },
  {
   "cell_type": "markdown",
   "metadata": {},
   "source": [
    "En la celda de código a continuación, importamos el índice de los títulos de deuda pública de los TES de Corto Plazo para los años comprendidos entre el 2010 y 2019. Estos datos fueron descargados directamente de la página de la Bolsa de Valores de Colombia disponible en las referencias. Declaramos un `DataFrame` indexado por su columna `\"fecha\"`."
   ]
  },
  {
   "cell_type": "markdown",
   "metadata": {},
   "source": [
    "Empecemos inspeccionando la base de datos:"
   ]
  },
  {
   "cell_type": "code",
   "execution_count": 8,
   "metadata": {
    "scrolled": false
   },
   "outputs": [
    {
     "name": "stdout",
     "output_type": "stream",
     "text": [
      "<class 'pandas.core.frame.DataFrame'>\n",
      "Float64Index: 2902 entries, nan to nan\n",
      "Data columns (total 8 columns):\n",
      " #   Column               Non-Null Count  Dtype  \n",
      "---  ------               --------------  -----  \n",
      " 0   Fecha                2902 non-null   int64  \n",
      " 1   Indice               2902 non-null   object \n",
      " 2   Valor Hoy            2902 non-null   float64\n",
      " 3   Valor Ayer           2902 non-null   float64\n",
      " 4   Variacion %          2902 non-null   float64\n",
      " 5   VariaciÃ³n Absoluta  2902 non-null   float64\n",
      " 6   Variacion 12 meses   2902 non-null   float64\n",
      " 7   VariaciÃ³n Anual     2902 non-null   float64\n",
      "dtypes: float64(6), int64(1), object(1)\n",
      "memory usage: 204.0+ KB\n"
     ]
    }
   ],
   "source": [
    "dfTES = pd.read_excel('Archivos/Indices.xls', index_col=0, header=1)\n",
    "dfTES.info()"
   ]
  },
  {
   "cell_type": "markdown",
   "metadata": {},
   "source": [
    "Notamos que la base de datos está indexada por el número de fila, por lo que podemos indexar el `DataFrame` en la fecha sin perder información, como se muestra a continuación:"
   ]
  },
  {
   "cell_type": "code",
   "execution_count": 9,
   "metadata": {
    "scrolled": false
   },
   "outputs": [
    {
     "data": {
      "text/plain": [
       "DatetimeIndex(['2010-01-01', '2010-01-02', '2010-01-03', '2010-01-04',\n",
       "               '2010-01-05', '2010-01-06', '2010-01-07', '2010-01-08',\n",
       "               '2010-01-09', '2010-01-10',\n",
       "               ...\n",
       "               '2019-12-16', '2019-12-17', '2019-12-18', '2019-12-19',\n",
       "               '2019-12-20', '2019-12-23', '2019-12-24', '2019-12-26',\n",
       "               '2019-12-27', '2019-12-30'],\n",
       "              dtype='datetime64[ns]', name='Fecha', length=2902, freq=None)"
      ]
     },
     "execution_count": 9,
     "metadata": {},
     "output_type": "execute_result"
    }
   ],
   "source": [
    "dfTES.index = pd.to_datetime(dfTES[\"Fecha\"], format=\"%Y%m%d\") \n",
    "dfTES.index"
   ]
  },
  {
   "cell_type": "markdown",
   "metadata": {},
   "source": [
    "Como el índice es de tipo `datetime`, podemos utilizar los métodos de este módulo. Por ejemplo, `weekday` para el día de la semana."
   ]
  },
  {
   "cell_type": "code",
   "execution_count": 10,
   "metadata": {
    "scrolled": false
   },
   "outputs": [
    {
     "data": {
      "text/plain": [
       "Int64Index([4, 5, 6, 0, 1, 2, 3, 4, 5, 6,\n",
       "            ...\n",
       "            0, 1, 2, 3, 4, 0, 1, 3, 4, 0],\n",
       "           dtype='int64', name='Fecha', length=2902)"
      ]
     },
     "execution_count": 10,
     "metadata": {},
     "output_type": "execute_result"
    }
   ],
   "source": [
    "dfTES.index.weekday"
   ]
  },
  {
   "cell_type": "markdown",
   "metadata": {},
   "source": [
    "## 3. Imputar datos faltantes en un `DataFrame`, utilizando la librería `pandas`"
   ]
  },
  {
   "cell_type": "markdown",
   "metadata": {},
   "source": [
    "### 3.1. Representación de datos faltantes dentro de Python"
   ]
  },
  {
   "cell_type": "markdown",
   "metadata": {},
   "source": [
    "Python cuenta con dos alternativas para representar datos faltantes: el objeto `None` y el valor `nan` (*Not a Number*) del paquete `numpy`. El valor `nan` es almacenado como un objeto de tipo `float`. Así, podemos aplicar métodos de `numpy` sobre arreglos numéricos, incluso si contienen valores `nan`. Dado que `nan` es un elemento del paquete, podemos asignarlo a variables o invocarlo de la misma manera que cualquier método o constante."
   ]
  },
  {
   "cell_type": "markdown",
   "metadata": {},
   "source": [
    "Importemos el paquete `numpy`."
   ]
  },
  {
   "cell_type": "code",
   "execution_count": 11,
   "metadata": {},
   "outputs": [],
   "source": [
    "import numpy as np"
   ]
  },
  {
   "cell_type": "markdown",
   "metadata": {},
   "source": [
    "Al aplicar métodos de `numpy` sobre arreglos que contienen valores `nan`, el resultado suele ser `nan`."
   ]
  },
  {
   "cell_type": "code",
   "execution_count": 12,
   "metadata": {
    "scrolled": true
   },
   "outputs": [
    {
     "data": {
      "text/plain": [
       "nan"
      ]
     },
     "execution_count": 12,
     "metadata": {},
     "output_type": "execute_result"
    }
   ],
   "source": [
    "numeros = np.array([1, 2, 3, 4, np.nan]) \n",
    "promedio = np.mean(numeros)\n",
    "promedio"
   ]
  },
  {
   "cell_type": "markdown",
   "metadata": {},
   "source": [
    "Pese a no ser un número, `nan` es de tipo numérico (`float`)."
   ]
  },
  {
   "cell_type": "code",
   "execution_count": 13,
   "metadata": {},
   "outputs": [
    {
     "data": {
      "text/plain": [
       "float"
      ]
     },
     "execution_count": 13,
     "metadata": {},
     "output_type": "execute_result"
    }
   ],
   "source": [
    "type(np.nan)"
   ]
  },
  {
   "cell_type": "markdown",
   "metadata": {},
   "source": [
    "En este caso, para poder calcular el promedio utilizamos el método `nanmean`, el cual omite los valores `nan`."
   ]
  },
  {
   "cell_type": "code",
   "execution_count": 14,
   "metadata": {
    "scrolled": false
   },
   "outputs": [
    {
     "data": {
      "text/plain": [
       "2.5"
      ]
     },
     "execution_count": 14,
     "metadata": {},
     "output_type": "execute_result"
    }
   ],
   "source": [
    "numeros = np.array([1, 2, 3, 4, np.nan]) \n",
    "promedio = np.nanmean(numeros)\n",
    "promedio"
   ]
  },
  {
   "cell_type": "markdown",
   "metadata": {},
   "source": [
    "Ninguno de estos métodos sirve para un objeto `None`, ya que `numpy` no lo tiene definido como de tipo numérico. Veamos un ejemplo."
   ]
  },
  {
   "cell_type": "code",
   "execution_count": 15,
   "metadata": {
    "scrolled": false
   },
   "outputs": [
    {
     "name": "stdout",
     "output_type": "stream",
     "text": [
      "El arreglo tiene valores faltantes.\n",
      "El arreglo contiene valores no numéricos.\n"
     ]
    }
   ],
   "source": [
    "numeros = np.array([1, 2, 3, 4, None])\n",
    "try:\n",
    "    np.mean(numeros) \n",
    "except:\n",
    "    print(\"El arreglo tiene valores faltantes.\")\n",
    "try:\n",
    "    np.nanmean(numeros)\n",
    "except:\n",
    "    print(\"El arreglo contiene valores no numéricos.\")"
   ]
  },
  {
   "cell_type": "markdown",
   "metadata": {},
   "source": [
    "### 3.2. Imputar datos faltantes utilizando la librería `pandas `"
   ]
  },
  {
   "cell_type": "markdown",
   "metadata": {},
   "source": [
    "Debido a que `numpy` puede operar sobre los objetos `nan` y no sobre los `None`, `pandas` representa los datos faltantes en un `Series` con el valor `nan`. Al introducir valores faltantes dentro de un `Series`, `pandas` transforma el tipo de dato para que sea compatible con el de los valores `nan`. "
   ]
  },
  {
   "cell_type": "markdown",
   "metadata": {},
   "source": [
    "Al introducir un valor `nan` a un `Series`, `pandas`:\n",
    "\n",
    "* convierte el `Series` en tipo `float`, si este es un `Series` de enteros.<br><br>\n",
    "* convierte el `Series` en tipo `object`, si este es un `Series` de valores lógicos.<br><br>\n",
    "* conserva el tipo del `Series`, si este es de tipo `float` u `object`.\n",
    "\n",
    "**Nota:** recuerda que toda la información aplicable a un `Series` es igualmente aplicable a una columna de un `DataFrame`."
   ]
  },
  {
   "cell_type": "markdown",
   "metadata": {},
   "source": [
    "#### Ejemplo 4"
   ]
  },
  {
   "cell_type": "markdown",
   "metadata": {},
   "source": [
    "Para ilustrar el cambio de tipo de dato, creamos un `Series` con los enteros del 1 al 10. Ya creado, reemplazamos el primer elemento por un `nan`."
   ]
  },
  {
   "cell_type": "code",
   "execution_count": 16,
   "metadata": {
    "scrolled": false
   },
   "outputs": [
    {
     "data": {
      "text/plain": [
       "0      NaN\n",
       "1      1.0\n",
       "2      2.0\n",
       "3      3.0\n",
       "4      4.0\n",
       "5      5.0\n",
       "6      6.0\n",
       "7      7.0\n",
       "8      8.0\n",
       "9      9.0\n",
       "10    10.0\n",
       "dtype: float64"
      ]
     },
     "execution_count": 16,
     "metadata": {},
     "output_type": "execute_result"
    }
   ],
   "source": [
    "numeros = pd.Series(range(11), dtype=int)\n",
    "numeros[0] = np.nan\n",
    "numeros"
   ]
  },
  {
   "cell_type": "markdown",
   "metadata": {},
   "source": [
    "Confirmamos que el `Series` en la variable `numeros` pasó de ser de tipo entero a ser de tipo `float`. Ahora bien, ¿cómo haríamos para detectar los faltantes y después eliminarlos o reemplazarlos?. Hay varias maneras, una de ellas es usar los métodos `notnull` e `isnull`. Estos métodos generan un `Series` de booleanos que identifican los datos faltantes con el valor de `True` para el método `isnull` y `False` para el método `notnull`. El siguiente ejemplo ilustra el uso del método `notnull`."
   ]
  },
  {
   "cell_type": "markdown",
   "metadata": {},
   "source": [
    "#### Ejemplo 5"
   ]
  },
  {
   "cell_type": "markdown",
   "metadata": {},
   "source": [
    "Vamos a usar el método `notnull` para eliminar los datos faltantes del `Series` en la celda de código:"
   ]
  },
  {
   "cell_type": "code",
   "execution_count": 17,
   "metadata": {
    "scrolled": false
   },
   "outputs": [
    {
     "data": {
      "text/plain": [
       "0     0.0\n",
       "1     1.0\n",
       "2     2.0\n",
       "3     3.0\n",
       "4     4.0\n",
       "5     NaN\n",
       "6     6.0\n",
       "7     7.0\n",
       "8     8.0\n",
       "9     9.0\n",
       "10    NaN\n",
       "dtype: float64"
      ]
     },
     "execution_count": 17,
     "metadata": {},
     "output_type": "execute_result"
    }
   ],
   "source": [
    "numeros = pd.Series([*range(5), np.nan, *range(6,10), np.nan])\n",
    "numeros"
   ]
  },
  {
   "cell_type": "code",
   "execution_count": 18,
   "metadata": {},
   "outputs": [
    {
     "data": {
      "text/plain": [
       "0    0.0\n",
       "1    1.0\n",
       "2    2.0\n",
       "3    3.0\n",
       "4    4.0\n",
       "6    6.0\n",
       "7    7.0\n",
       "8    8.0\n",
       "9    9.0\n",
       "dtype: float64"
      ]
     },
     "execution_count": 18,
     "metadata": {},
     "output_type": "execute_result"
    }
   ],
   "source": [
    "numeros = numeros[numeros.notnull()]\n",
    "numeros # Se quitaron las filas con índices 5 y 10"
   ]
  },
  {
   "cell_type": "markdown",
   "metadata": {},
   "source": [
    "### 3.3. Métodos para imputar faltantes utilizando la librería `pandas`"
   ]
  },
  {
   "cell_type": "markdown",
   "metadata": {},
   "source": [
    "Existen dos métodos en `pandas` para manipular los datos faltantes: `dropna` y `fillna`."
   ]
  },
  {
   "cell_type": "markdown",
   "metadata": {},
   "source": [
    "#### Método `dropna`"
   ]
  },
  {
   "cell_type": "markdown",
   "metadata": {},
   "source": [
    "Este método elimina aquellas columnas o filas que contengan entradas `nan`. \n",
    "\n",
    "```python\n",
    "DataFrame.dropna(axis=0, how='any', thresh=0, subset=DataFrame.columns)\n",
    "```\n",
    "\n",
    "* `axis`: indica si aplicar el método sobre sobre las filas (`axis = 0`) o sobre las columnas (`axis = 1`). Por defecto es sobre las filas.<br><br>\n",
    "\n",
    "* `how`: <br><br>\n",
    "    * `how = 'any'`: elimina la fila o la columna si contiene al menos un faltante.\n",
    "    * `how = 'all'`: elimina la fila o la columna si solo contiene faltantes.<br><br>\n",
    "\n",
    "* `thresh`: elimina todas las filas o columnas con más datos faltantes que el umbral (de tipo `int`) especificado. <br><br>\n",
    "\n",
    "* `subset`: permite seleccionar un subconjunto de columnas o de filas sobre el cual aplicar el método."
   ]
  },
  {
   "cell_type": "markdown",
   "metadata": {},
   "source": [
    "##### Ejemplo 6"
   ]
  },
  {
   "cell_type": "markdown",
   "metadata": {},
   "source": [
    "A continuación, declaramos un `DataFrame` para ejemplificar el uso del método `dropna`."
   ]
  },
  {
   "cell_type": "code",
   "execution_count": 19,
   "metadata": {
    "scrolled": true
   },
   "outputs": [
    {
     "data": {
      "text/html": [
       "<div>\n",
       "<style scoped>\n",
       "    .dataframe tbody tr th:only-of-type {\n",
       "        vertical-align: middle;\n",
       "    }\n",
       "\n",
       "    .dataframe tbody tr th {\n",
       "        vertical-align: top;\n",
       "    }\n",
       "\n",
       "    .dataframe thead th {\n",
       "        text-align: right;\n",
       "    }\n",
       "</style>\n",
       "<table border=\"1\" class=\"dataframe\">\n",
       "  <thead>\n",
       "    <tr style=\"text-align: right;\">\n",
       "      <th></th>\n",
       "      <th>A</th>\n",
       "      <th>B</th>\n",
       "      <th>C</th>\n",
       "      <th>D</th>\n",
       "    </tr>\n",
       "  </thead>\n",
       "  <tbody>\n",
       "    <tr>\n",
       "      <th>0</th>\n",
       "      <td>1.0</td>\n",
       "      <td>NaN</td>\n",
       "      <td>NaN</td>\n",
       "      <td>2.0</td>\n",
       "    </tr>\n",
       "    <tr>\n",
       "      <th>1</th>\n",
       "      <td>NaN</td>\n",
       "      <td>NaN</td>\n",
       "      <td>1.0</td>\n",
       "      <td>NaN</td>\n",
       "    </tr>\n",
       "    <tr>\n",
       "      <th>2</th>\n",
       "      <td>NaN</td>\n",
       "      <td>0.0</td>\n",
       "      <td>NaN</td>\n",
       "      <td>2.0</td>\n",
       "    </tr>\n",
       "  </tbody>\n",
       "</table>\n",
       "</div>"
      ],
      "text/plain": [
       "     A    B    C    D\n",
       "0  1.0  NaN  NaN  2.0\n",
       "1  NaN  NaN  1.0  NaN\n",
       "2  NaN  0.0  NaN  2.0"
      ]
     },
     "execution_count": 19,
     "metadata": {},
     "output_type": "execute_result"
    }
   ],
   "source": [
    "tabla_numeros = pd.DataFrame([[1     , np.nan, np.nan, 2     ],\n",
    "                              [np.nan, np.nan, 1     , np.nan],\n",
    "                              [np.nan, 0     , np.nan, 2     ]],\n",
    "                             columns=[\"A\", \"B\", \"C\", \"D\"])\n",
    "tabla_numeros"
   ]
  },
  {
   "cell_type": "markdown",
   "metadata": {},
   "source": [
    "Utilizamos el método `dropna` para eliminar aquellas filas que solo contienen datos faltantes en el subconjunto de columnas `A` y `C`."
   ]
  },
  {
   "cell_type": "code",
   "execution_count": 20,
   "metadata": {},
   "outputs": [
    {
     "data": {
      "text/html": [
       "<div>\n",
       "<style scoped>\n",
       "    .dataframe tbody tr th:only-of-type {\n",
       "        vertical-align: middle;\n",
       "    }\n",
       "\n",
       "    .dataframe tbody tr th {\n",
       "        vertical-align: top;\n",
       "    }\n",
       "\n",
       "    .dataframe thead th {\n",
       "        text-align: right;\n",
       "    }\n",
       "</style>\n",
       "<table border=\"1\" class=\"dataframe\">\n",
       "  <thead>\n",
       "    <tr style=\"text-align: right;\">\n",
       "      <th></th>\n",
       "      <th>A</th>\n",
       "      <th>B</th>\n",
       "      <th>C</th>\n",
       "      <th>D</th>\n",
       "    </tr>\n",
       "  </thead>\n",
       "  <tbody>\n",
       "    <tr>\n",
       "      <th>0</th>\n",
       "      <td>1.0</td>\n",
       "      <td>NaN</td>\n",
       "      <td>NaN</td>\n",
       "      <td>2.0</td>\n",
       "    </tr>\n",
       "    <tr>\n",
       "      <th>1</th>\n",
       "      <td>NaN</td>\n",
       "      <td>NaN</td>\n",
       "      <td>1.0</td>\n",
       "      <td>NaN</td>\n",
       "    </tr>\n",
       "  </tbody>\n",
       "</table>\n",
       "</div>"
      ],
      "text/plain": [
       "     A   B    C    D\n",
       "0  1.0 NaN  NaN  2.0\n",
       "1  NaN NaN  1.0  NaN"
      ]
     },
     "execution_count": 20,
     "metadata": {},
     "output_type": "execute_result"
    }
   ],
   "source": [
    "tabla_numeros.dropna(how=\"all\", subset=[\"A\",\"C\"])"
   ]
  },
  {
   "cell_type": "markdown",
   "metadata": {},
   "source": [
    "#### Método `fillna`"
   ]
  },
  {
   "cell_type": "markdown",
   "metadata": {},
   "source": [
    "```python\n",
    "DataFrame.fillna(value=None, method=None, axis=None, inplace=False, limit=0)\n",
    "```\n",
    "\n",
    "* `value`: indica el valor o diccionario de valores para imputar en las entradas `nan`.<br><br>\n",
    "\n",
    "* `method`:<br><br>\n",
    "    * `method = 'ffil'`: (*forward fill*) rellena cada dato faltante con el dato no faltante anterior.   \n",
    "    * `method = 'bfill'`: (*backward fill*) rellena cada dato faltante con el dato no faltante siguiente.<br><br>\n",
    "\n",
    "* `axis`: <br><br>\n",
    "    * `0`: aplica el método sobre las filas.\n",
    "    * `1`: aplica el método sobre las columnas.<br><br>\n",
    "\n",
    "* `inplace`:<br><br>\n",
    "    * `inplace = True`: aplica los cambios sobre la variable que invoca el método.\n",
    "    * `inplace = False`: aplica los cambios sobre una copia de la variable que invoca el método.<br><br>\n",
    "\n",
    "* `limit`: limita el número máximo de datos a imputar hacia adelante (o hacia atrás), según lo especificado en el parámetro `method`."
   ]
  },
  {
   "cell_type": "markdown",
   "metadata": {},
   "source": [
    "##### Ejemplo 7"
   ]
  },
  {
   "cell_type": "markdown",
   "metadata": {},
   "source": [
    "Vamos a completar los datos del siguiente `DataFrame` reemplazando los valores faltantes por su anterior no faltante en la misma fila."
   ]
  },
  {
   "cell_type": "code",
   "execution_count": 21,
   "metadata": {},
   "outputs": [
    {
     "data": {
      "text/html": [
       "<div>\n",
       "<style scoped>\n",
       "    .dataframe tbody tr th:only-of-type {\n",
       "        vertical-align: middle;\n",
       "    }\n",
       "\n",
       "    .dataframe tbody tr th {\n",
       "        vertical-align: top;\n",
       "    }\n",
       "\n",
       "    .dataframe thead th {\n",
       "        text-align: right;\n",
       "    }\n",
       "</style>\n",
       "<table border=\"1\" class=\"dataframe\">\n",
       "  <thead>\n",
       "    <tr style=\"text-align: right;\">\n",
       "      <th></th>\n",
       "      <th>A</th>\n",
       "      <th>B</th>\n",
       "      <th>C</th>\n",
       "      <th>D</th>\n",
       "    </tr>\n",
       "  </thead>\n",
       "  <tbody>\n",
       "    <tr>\n",
       "      <th>0</th>\n",
       "      <td>1.0</td>\n",
       "      <td>NaN</td>\n",
       "      <td>NaN</td>\n",
       "      <td>2.0</td>\n",
       "    </tr>\n",
       "    <tr>\n",
       "      <th>1</th>\n",
       "      <td>NaN</td>\n",
       "      <td>NaN</td>\n",
       "      <td>1.0</td>\n",
       "      <td>NaN</td>\n",
       "    </tr>\n",
       "    <tr>\n",
       "      <th>2</th>\n",
       "      <td>NaN</td>\n",
       "      <td>0.0</td>\n",
       "      <td>NaN</td>\n",
       "      <td>2.0</td>\n",
       "    </tr>\n",
       "  </tbody>\n",
       "</table>\n",
       "</div>"
      ],
      "text/plain": [
       "     A    B    C    D\n",
       "0  1.0  NaN  NaN  2.0\n",
       "1  NaN  NaN  1.0  NaN\n",
       "2  NaN  0.0  NaN  2.0"
      ]
     },
     "execution_count": 21,
     "metadata": {},
     "output_type": "execute_result"
    }
   ],
   "source": [
    "tabla_numeros = pd.DataFrame([[1     , np.nan, np.nan, 2     ],\n",
    "                              [np.nan, np.nan, 1     , np.nan],\n",
    "                              [np.nan, 0     , np.nan, 2     ]],\n",
    "                             columns  =[\"A\", \"B\", \"C\", \"D\"])\n",
    "tabla_numeros"
   ]
  },
  {
   "cell_type": "markdown",
   "metadata": {},
   "source": [
    "Para esto, debemos especificar `axis=1`. Además, como utilizaremos los valores precedentes, especificamos `method = ffill`."
   ]
  },
  {
   "cell_type": "code",
   "execution_count": 22,
   "metadata": {},
   "outputs": [
    {
     "data": {
      "text/html": [
       "<div>\n",
       "<style scoped>\n",
       "    .dataframe tbody tr th:only-of-type {\n",
       "        vertical-align: middle;\n",
       "    }\n",
       "\n",
       "    .dataframe tbody tr th {\n",
       "        vertical-align: top;\n",
       "    }\n",
       "\n",
       "    .dataframe thead th {\n",
       "        text-align: right;\n",
       "    }\n",
       "</style>\n",
       "<table border=\"1\" class=\"dataframe\">\n",
       "  <thead>\n",
       "    <tr style=\"text-align: right;\">\n",
       "      <th></th>\n",
       "      <th>A</th>\n",
       "      <th>B</th>\n",
       "      <th>C</th>\n",
       "      <th>D</th>\n",
       "    </tr>\n",
       "  </thead>\n",
       "  <tbody>\n",
       "    <tr>\n",
       "      <th>0</th>\n",
       "      <td>1.0</td>\n",
       "      <td>1.0</td>\n",
       "      <td>1.0</td>\n",
       "      <td>2.0</td>\n",
       "    </tr>\n",
       "    <tr>\n",
       "      <th>1</th>\n",
       "      <td>NaN</td>\n",
       "      <td>NaN</td>\n",
       "      <td>1.0</td>\n",
       "      <td>1.0</td>\n",
       "    </tr>\n",
       "    <tr>\n",
       "      <th>2</th>\n",
       "      <td>NaN</td>\n",
       "      <td>0.0</td>\n",
       "      <td>0.0</td>\n",
       "      <td>2.0</td>\n",
       "    </tr>\n",
       "  </tbody>\n",
       "</table>\n",
       "</div>"
      ],
      "text/plain": [
       "     A    B    C    D\n",
       "0  1.0  1.0  1.0  2.0\n",
       "1  NaN  NaN  1.0  1.0\n",
       "2  NaN  0.0  0.0  2.0"
      ]
     },
     "execution_count": 22,
     "metadata": {},
     "output_type": "execute_result"
    }
   ],
   "source": [
    "tabla_numeros = tabla_numeros.fillna(axis=1, method=\"ffill\")\n",
    "tabla_numeros"
   ]
  },
  {
   "cell_type": "markdown",
   "metadata": {},
   "source": [
    "##### Ejemplo 8"
   ]
  },
  {
   "cell_type": "markdown",
   "metadata": {},
   "source": [
    "Imputamos cada una de las entradas faltantes (columna `A`, fila `1`; columna `A`, fila `2`; columna `B` , fila `1`) del objeto `tabla_numeros` con el valor del promedio de la columna a la que pertenece."
   ]
  },
  {
   "cell_type": "code",
   "execution_count": 23,
   "metadata": {},
   "outputs": [
    {
     "data": {
      "text/html": [
       "<div>\n",
       "<style scoped>\n",
       "    .dataframe tbody tr th:only-of-type {\n",
       "        vertical-align: middle;\n",
       "    }\n",
       "\n",
       "    .dataframe tbody tr th {\n",
       "        vertical-align: top;\n",
       "    }\n",
       "\n",
       "    .dataframe thead th {\n",
       "        text-align: right;\n",
       "    }\n",
       "</style>\n",
       "<table border=\"1\" class=\"dataframe\">\n",
       "  <thead>\n",
       "    <tr style=\"text-align: right;\">\n",
       "      <th></th>\n",
       "      <th>A</th>\n",
       "      <th>B</th>\n",
       "      <th>C</th>\n",
       "      <th>D</th>\n",
       "    </tr>\n",
       "  </thead>\n",
       "  <tbody>\n",
       "    <tr>\n",
       "      <th>0</th>\n",
       "      <td>1.0</td>\n",
       "      <td>1.0</td>\n",
       "      <td>1.0</td>\n",
       "      <td>2.0</td>\n",
       "    </tr>\n",
       "    <tr>\n",
       "      <th>1</th>\n",
       "      <td>1.0</td>\n",
       "      <td>0.5</td>\n",
       "      <td>1.0</td>\n",
       "      <td>1.0</td>\n",
       "    </tr>\n",
       "    <tr>\n",
       "      <th>2</th>\n",
       "      <td>1.0</td>\n",
       "      <td>0.0</td>\n",
       "      <td>0.0</td>\n",
       "      <td>2.0</td>\n",
       "    </tr>\n",
       "  </tbody>\n",
       "</table>\n",
       "</div>"
      ],
      "text/plain": [
       "     A    B    C    D\n",
       "0  1.0  1.0  1.0  2.0\n",
       "1  1.0  0.5  1.0  1.0\n",
       "2  1.0  0.0  0.0  2.0"
      ]
     },
     "execution_count": 23,
     "metadata": {},
     "output_type": "execute_result"
    }
   ],
   "source": [
    "tabla_numeros = tabla_numeros.fillna(tabla_numeros.mean())\n",
    "tabla_numeros"
   ]
  },
  {
   "cell_type": "markdown",
   "metadata": {},
   "source": [
    "## Referencias"
   ]
  },
  {
   "cell_type": "markdown",
   "metadata": {},
   "source": [
    "Bolsa de Valores de Colombia (2020). Índices de TES de Corto Plazo [Base deDatos]. Recuperado el 14 de diciembre de 2020 de :\n",
    "https://www.bvc.com.co/pps/tibco/portalbvc\n",
    "\n",
    "J. VanderPlas (2016) Python Data Science Handbook: Essential Tools for Working with Data O'Reilly Media, Inc."
   ]
  },
  {
   "cell_type": "markdown",
   "metadata": {},
   "source": [
    "## Créditos"
   ]
  },
  {
   "cell_type": "markdown",
   "metadata": {},
   "source": [
    "**Autores**: Jorge Esteban Camargo Forero, Alejandro Mantilla Redondo, Diego Alejandro Cely Gomez\n",
    "\n",
    "**Fecha última actualización:** 15/07/2022"
   ]
  }
 ],
 "metadata": {
  "kernelspec": {
   "display_name": "Python 3 (ipykernel)",
   "language": "python",
   "name": "python3"
  },
  "language_info": {
   "codemirror_mode": {
    "name": "ipython",
    "version": 3
   },
   "file_extension": ".py",
   "mimetype": "text/x-python",
   "name": "python",
   "nbconvert_exporter": "python",
   "pygments_lexer": "ipython3",
   "version": "3.8.13"
  }
 },
 "nbformat": 4,
 "nbformat_minor": 2
}

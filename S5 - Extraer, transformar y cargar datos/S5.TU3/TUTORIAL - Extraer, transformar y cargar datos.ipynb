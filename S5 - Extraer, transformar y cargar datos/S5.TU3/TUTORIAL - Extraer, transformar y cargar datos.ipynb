{
 "cells": [
  {
   "cell_type": "markdown",
   "metadata": {},
   "source": [
    "![miad4.png](Archivos/miad4.png)"
   ]
  },
  {
   "cell_type": "code",
   "execution_count": 1,
   "metadata": {
    "tags": [
     "hide-input",
     "thebe-init"
    ]
   },
   "outputs": [],
   "source": [
    "import os\n",
    "# Por precaución, cambiamos el directorio activo de Python a aquel que contenga este notebook\n",
    "if \"PAD-book\" in os.listdir():\n",
    "    os.chdir(r\"PAD-book/Laboratorio-Computacional-de-Analytics/S5 - Extraer, transformar y cargar datos/S5.TU3/\")"
   ]
  },
  {
   "cell_type": "markdown",
   "metadata": {},
   "source": [
    "# Extracción, transformación y carga de datos: `pyspark`\n",
    "\n",
    "<!--# ETL y principios de _Big Data_ ????-->"
   ]
  },
  {
   "cell_type": "markdown",
   "metadata": {},
   "source": [
    "Extraer, transformar y cargar (ETL por sus siglas en inglés), describe un proceso en tres etapas:\n",
    "\n",
    "1. obtener datos de una o más fuentes; <br>\n",
    "2. transformar los datos, sea haciéndoles limpieza, combinándolos o añadiendo registros; <br>\n",
    "3. grabar los datos, sea cargándolos a su misma fuente, persistiéndolos en archivos locales o alimentando consumidores que dependen de los resultados (aplicaciones _downstream_)."
   ]
  },
  {
   "cell_type": "markdown",
   "metadata": {},
   "source": [
    "Hasta ahora hemos tratado fuentes de datos almacenadas localmente en archivos de texto o formatos de herramientas estadísticas como Stata. La realidad es que los datos existen en un sinfín de contextos, casi siempre, en formatos altamente dedicados que exigen procesos especializados de extracción, como SQL (_Structured Query Language_) para bases de datos relacionales. También nos hemos enfocado solo en consumir los datos sin preocuparnos mucho acerca de cómo podemos hacer nuestros resultados disponibles en ocasiones futuras o para otros usuarios."
   ]
  },
  {
   "cell_type": "markdown",
   "metadata": {},
   "source": [
    "Las bases de datos, como las hemos trabajado, existen únicamente en la memoria volátil de nuestro computador y no persisten de una sesión de Python a la siguiente. Podemos hacer persistir los cambios si los grabamos en archivos tipo `.txt` o `.csv`, pero esto no es manejable a escala o, por ejemplo, cuando queremos desagregar los datos y distribuirlos en distintas tablas para que sean compatibles con operaciones del álgebra relacional (lo que hacen las funciones `join` y `merge` de `pandas`)."
   ]
  },
  {
   "cell_type": "markdown",
   "metadata": {},
   "source": [
    "En este tutorial exploraremos el uso de la librería `pyspark` para el manejo de bases de datos relacionales, en el contexto de procesos de ETL para analítica de datos."
   ]
  },
  {
   "cell_type": "markdown",
   "metadata": {},
   "source": [
    "## Requisitos"
   ]
  },
  {
   "cell_type": "markdown",
   "metadata": {},
   "source": [
    "Para desarrollar este tutorial necesitarás:\n",
    "\n",
    "* Importar y exportar archivos de texto en formato `.txt` o `.csv` por medio de un *file handle*. <br>\n",
    "* Utilizar operaciones sencillas y vectorizadas en `numpy` y `pandas`. <br>\n",
    "* Crear, consultar y utilizar métodos para explorar y manipular objetos tipo `DataFrame` en `pandas`. <br>"
   ]
  },
  {
   "cell_type": "markdown",
   "metadata": {},
   "source": [
    "## Objetivos"
   ]
  },
  {
   "cell_type": "markdown",
   "metadata": {},
   "source": [
    "Al final de este tutorial podrás:\n",
    "\n",
    "**1.** Distinguir situaciones en las que resulta más beneficioso utilizar herramientas de ETL como `pyspark`.<br>\n",
    "**2.** Reconocer estructuras de datos que permiten operar en paralelo.<br>\n",
    "**3.** Extraer y transformar tablas de bases de datos relacionales con operaciones de algebra relacional. <br>\n",
    "**4.** Crear y cargar tablas en bases de datos relacionales."
   ]
  },
  {
   "cell_type": "markdown",
   "metadata": {},
   "source": [
    "## 1. Entorno de desarrollo en Apache Spark"
   ]
  },
  {
   "cell_type": "markdown",
   "metadata": {},
   "source": [
    "La fundación de _software_ Apache es una comunidad dedicada al desarrollo de herramientas _open source_, entre estas, Spark: un motor de procesamiento de datos altamente eficiente. Spark está diseñado para desplegarse en entornos de cómputo distribuido (_cluster_) y paraleliza sus operaciones de manera implícita, lo que lo hace ideal para el procesamiento de altos volúmenes de datos (_Big Data_). Cualquier aplicación puede llegar a imlementar Spark en su flujo de datos por medio de sus APIs (_Application Program Interface_) para distintos lenguajes de programación, como `pyspark` para Python o `SparkR` para R."
   ]
  },
  {
   "cell_type": "markdown",
   "metadata": {},
   "source": [
    "Resulta útil trabajar con herramientas como Spark en contextos donde paralelizar el procesamiento de los datos representaría un ahorro significativo en el tiempo de ejecución."
   ]
  },
  {
   "cell_type": "markdown",
   "metadata": {},
   "source": [
    "Así como Spark es una aplicación externa a Python a la que accedemos por medio de su API, debemos:\n",
    "\n",
    "* importar la API;\n",
    "* configurar la sesión;\n",
    "* inicializar la aplicación."
   ]
  },
  {
   "cell_type": "markdown",
   "metadata": {},
   "source": [
    "Nos enfocaremos en el módulo `sql` para procesos de ETL con bases de datos relacionales."
   ]
  },
  {
   "cell_type": "code",
   "execution_count": 2,
   "metadata": {},
   "outputs": [
    {
     "name": "stderr",
     "output_type": "stream",
     "text": [
      "Setting default log level to \"WARN\".\n",
      "To adjust logging level use sc.setLogLevel(newLevel). For SparkR, use setLogLevel(newLevel).\n"
     ]
    },
    {
     "name": "stdout",
     "output_type": "stream",
     "text": [
      "22/09/15 08:09:21 WARN NativeCodeLoader: Unable to load native-hadoop library for your platform... using builtin-java classes where applicable\n",
      "22/09/15 08:09:21 WARN Utils: Service 'SparkUI' could not bind on port 4040. Attempting port 4041.\n"
     ]
    },
    {
     "data": {
      "text/html": [
       "\n",
       "            <div>\n",
       "                <p><b>SparkSession - hive</b></p>\n",
       "                \n",
       "        <div>\n",
       "            <p><b>SparkContext</b></p>\n",
       "\n",
       "            <p><a href=\"http://alejoman-pc:4041\">Spark UI</a></p>\n",
       "\n",
       "            <dl>\n",
       "              <dt>Version</dt>\n",
       "                <dd><code>v3.3.0</code></dd>\n",
       "              <dt>Master</dt>\n",
       "                <dd><code>local[*]</code></dd>\n",
       "              <dt>AppName</dt>\n",
       "                <dd><code>Instancia_Tutorial_PySpark</code></dd>\n",
       "            </dl>\n",
       "        </div>\n",
       "        \n",
       "            </div>\n",
       "        "
      ],
      "text/plain": [
       "<pyspark.sql.session.SparkSession at 0x7f184850d220>"
      ]
     },
     "execution_count": 2,
     "metadata": {},
     "output_type": "execute_result"
    }
   ],
   "source": [
    "# Importamos la clase SparkSession\n",
    "from pyspark.sql import SparkSession\n",
    "from pyspark.sql.types import StructType, StructField, StringType, IntegerType\n",
    "import cloudpickle\n",
    "import pyspark\n",
    "print(f\"Cloudpickle version: {cloudpickle.__version__}\")\n",
    "print(f\"PySpark version: {pyspark.__version__}\")\n",
    "\n",
    "# Invocamos un constructor de sesiones de Spark SQL\n",
    "spark = SparkSession.builder\n",
    "\n",
    "# Aplicamos una configuración básica\n",
    "spark = spark.master(\"local[*]\")\n",
    "\n",
    "# Nombramos la instancia\n",
    "spark = spark.appName(\"Instancia_Tutorial_PySpark\")\n",
    "\n",
    "# Exigimos a Spark que almacene sus datos en el directorio Archivos.\n",
    "spark = spark.config(\"spark.sql.warehouse.dir\", \"./Archivos/\")\n",
    "\n",
    "# Habilitamos la interacción con archivos de bases de datos\n",
    "spark = spark.enableHiveSupport()\n",
    "\n",
    "# Inicializamos la instancia\n",
    "spark = spark.getOrCreate()\n",
    "\n",
    "# Aunque no lo recomendamos para tu desarrollo, apagaremos las advertencias de este notebook.\n",
    "spark.sparkContext.setLogLevel(\"OFF\")\n",
    "spark.catalog.clearCache()\n",
    "spark"
   ]
  },
  {
   "cell_type": "markdown",
   "metadata": {},
   "source": [
    "El método `master` nos permite definir el contexto de paralelización de los procesos. Veamos algunos parámetros que puede recibir:\n",
    "\n",
    "* `\"local[<n>]\"` le indica a la aplicación que debe ejecutarse en el mismo computador, con `n` cantidad de procesos para paralelizar las tareas (`n` = `*` es la máxima cantidad de procesos para el poder de procesamiento disponible); <br><br>\n",
    "\n",
    "* `\"Yarn\"` (u otro nombre de un administrador de _clusters_), le indican a la aplicación que debe ejecutarse en un _cluster_, el cual tendríamos que configurar."
   ]
  },
  {
   "cell_type": "markdown",
   "metadata": {},
   "source": [
    "Al hacer clic en el enlace del _output_ de la celda (Spark UI), podrás acceder a una interfaz web, igual a la de la imágen, con detalles de la aplicación. Esto funciona solo si expones a la red el puerto de la aplicación o si ejecutas el programa en tu propio computador, ya que necesitas acceso al servicio web desplegado por Spark."
   ]
  },
  {
   "cell_type": "markdown",
   "metadata": {},
   "source": [
    "![Spark_GUI.png](Archivos/Spark_GUI.png)"
   ]
  },
  {
   "cell_type": "markdown",
   "metadata": {},
   "source": [
    "## 2. Estructuras de datos en `pyspark`"
   ]
  },
  {
   "cell_type": "markdown",
   "metadata": {},
   "source": [
    "Para facilitar la ejecución de tareas en paralelo, Spark incluye dos estructuras de datos que permiten distribuir sus operaciones sobre distintos objetos en memoria."
   ]
  },
  {
   "cell_type": "markdown",
   "metadata": {},
   "source": [
    "### 2.1. Objeto RDD (_Resilient Distributed Dataset_)"
   ]
  },
  {
   "cell_type": "markdown",
   "metadata": {},
   "source": [
    "Un RDD es la representación de una colección de objetos que pueden distribuirse en distintos procesos o incluso almacenarse en distintos nodos de nuestro _cluster_. Resultan bastante útiles y eficientes para procesar grandes cantidades de datos, pero resultan poco convenientes si nuestra intención es hacer cambios sobre los datos, ya que son inmutables (una vez creados, no pueden editarse).\n",
    "\n",
    "Esta representación es poco restrictiva en cuanto a qué consideramos un objeto de la colección. Para nuestras intenciones, podríamos pensar en un RDD como un `DataFrame` de `pandas` cuyas filas hemos almacenado en distintas variables. Alternativamente, podríamos particionar sobre las columnas, en cuyo caso tendríamos una colección de objetos tipo `Series` o, si una partición toma más de una columna, una colección de objetos tipo `DataFrame`."
   ]
  },
  {
   "cell_type": "markdown",
   "metadata": {},
   "source": [
    "#### Declaración"
   ]
  },
  {
   "cell_type": "markdown",
   "metadata": {},
   "source": [
    "Podemos declarar un RDD a partir de diferentes estructuras de datos. A continuación, vemos un ejemplo de cómo declarar uno a partir de una lista de listas:"
   ]
  },
  {
   "cell_type": "code",
   "execution_count": 3,
   "metadata": {},
   "outputs": [
    {
     "data": {
      "text/plain": [
       "ParallelCollectionRDD[0] at readRDDFromFile at PythonRDD.scala:274"
      ]
     },
     "execution_count": 3,
     "metadata": {},
     "output_type": "execute_result"
    }
   ],
   "source": [
    "data_list = [[\"Programa_1\", 2000, 4500, \"LAN\"],\n",
    "             [\"Programa_2\", 3401, 7000, \"LAS\"],\n",
    "             [\"Programa_3\", 50,   7000, \"LAS\"],\n",
    "             [\"Programa_4\", 7850, 3300, \"USW\"],\n",
    "             [\"Programa_5\", 8000, 3505, \"LAN\"]]\n",
    "\n",
    "rdd = spark.sparkContext.parallelize(data_list)\n",
    "rdd"
   ]
  },
  {
   "cell_type": "markdown",
   "metadata": {},
   "source": [
    "Nota que al intentar imprimir el RDD, nos encontramos con que la representación en el _output_ de la celda no muestra el contenido. Esto se debe a que las operaciones sobre los RDD son _lazy_ (perezosas) y no se ejecutarán hasta que sea absolutamente necesario. Este esquema de ejecución diferida permite optimizar de manera anticipada las consultas y operaciones para minimizar el tiempo de ejecución y la ocupación de la memoria."
   ]
  },
  {
   "cell_type": "markdown",
   "metadata": {},
   "source": [
    "#### Operaciones y consulta"
   ]
  },
  {
   "cell_type": "markdown",
   "metadata": {},
   "source": [
    "Por ahora, basta con saber que hay acciones y transformaciones. Bajo ninguna circunstancia estas operaciones modificarán el RDD original; en su lugar, Spark crea una copia del RDD con los cambios necesarios una vez se hayan realizado las operaciones cargadas de manera perezosa."
   ]
  },
  {
   "cell_type": "markdown",
   "metadata": {},
   "source": [
    "Veámos a continuación un ejemplo de cómo operar sobre los elementos de la colección."
   ]
  },
  {
   "cell_type": "code",
   "execution_count": 4,
   "metadata": {},
   "outputs": [
    {
     "data": {
      "text/plain": [
       "PythonRDD[1] at RDD at PythonRDD.scala:53"
      ]
     },
     "execution_count": 4,
     "metadata": {},
     "output_type": "execute_result"
    }
   ],
   "source": [
    "# Opcional: Declaramos una funcion que tome los elementos con indice 1 y 2 de un iterable y los multiplique.\n",
    "def mult_elements(partition):\n",
    "    for x in partition:\n",
    "        yield x[1] * x[2]\n",
    "\n",
    "# Opcional: Pasamos la función como parámetro a map\n",
    "nuevo_rdd = rdd.map(mult_elements)\n",
    "\n",
    "# La transformacion map toma cada objeto contenido en el RDD y ejecuta la funcion que recibe por parametro.\n",
    "#nuevo_rdd = rdd.map(lambda x: x[1] * x[2])\n",
    "#result = nuevo_rdd.collect()\n",
    "\n",
    "# Podemos tomar la versión en pandas DataFrame\n",
    "df = spark.createDataFrame(data_list, [\"Program\", \"Value1\", \"Value2\", \"Region\"])\n",
    "\n",
    "# Perform a simple transformation using Spark DataFrame API (Traído directamente de la documentación de Pyspark)\n",
    "df = df.withColumn(\"Product\", df[\"Value1\"] * df[\"Value2\"])\n",
    "df.show()"
   ]
  },
  {
   "cell_type": "markdown",
   "metadata": {},
   "source": [
    "La variable `nuevo_rdd` contiene un RDD distinto a `rdd` para el cual aún no se ha efectuado la transformación. Hacemos uso del método `collect` para ejecutar las operaciones pendientes y recolectar los resultados en Python."
   ]
  },
  {
   "cell_type": "code",
   "execution_count": 5,
   "metadata": {},
   "outputs": [
    {
     "data": {
      "text/plain": [
       "[['Programa_1', 2000, 4500, 'LAN'],\n",
       " ['Programa_2', 3401, 7000, 'LAS'],\n",
       " ['Programa_3', 50, 7000, 'LAS'],\n",
       " ['Programa_4', 7850, 3300, 'USW'],\n",
       " ['Programa_5', 8000, 3505, 'LAN']]"
      ]
     },
     "execution_count": 5,
     "metadata": {},
     "output_type": "execute_result"
    }
   ],
   "source": [
    "rdd.collect()"
   ]
  },
  {
   "cell_type": "code",
   "execution_count": 6,
   "metadata": {},
   "outputs": [
    {
     "data": {
      "text/plain": [
       "[9000000, 23807000, 350000, 25905000, 28040000]"
      ]
     },
     "execution_count": 6,
     "metadata": {},
     "output_type": "execute_result"
    }
   ],
   "source": [
    "nuevo_rdd.collect()"
   ]
  },
  {
   "cell_type": "markdown",
   "metadata": {},
   "source": [
    "Tener que recolectar los objetos de RDD resulta útil en escenarios donde debemos procesar nuestros datos en distintas etapas y no nos interesa el resultado de operaciones intermedias. La ejecución perezosa de las transformaciones nos permite concatenarlas sin ocupar memoria de manera redundante y optimiza automáticamente e inteligentemente las instrucciones para no repetir tareas."
   ]
  },
  {
   "cell_type": "markdown",
   "metadata": {},
   "source": [
    "### 2.2. Objeto `DataFrame`"
   ]
  },
  {
   "cell_type": "markdown",
   "metadata": {},
   "source": [
    "Similar a los `DataFrame` en `pandas`, los `DataFrame` en `pyspark` son una colección mutable de datos organizados por columnas. A diferencia de `pandas`, que opera de manera secuencial, la implementación de `pyspark` almacena las filas de manera distribuida y opera sobre ellas en paralelo. "
   ]
  },
  {
   "cell_type": "markdown",
   "metadata": {},
   "source": [
    "#### Declaración"
   ]
  },
  {
   "cell_type": "markdown",
   "metadata": {},
   "source": [
    "Podemos declarar un `DataFrame` a partir de diferentes estructuras de datos. A continuación, vemos un ejemplo de cómo declarar uno a partir de una lista de listas:"
   ]
  },
  {
   "cell_type": "code",
   "execution_count": 7,
   "metadata": {},
   "outputs": [
    {
     "data": {
      "text/plain": [
       "DataFrame[Nombre: string, Descargas: bigint, Lineas_de_codigo: bigint, Region: string]"
      ]
     },
     "execution_count": 7,
     "metadata": {},
     "output_type": "execute_result"
    }
   ],
   "source": [
    "# Define schema explicitly\n",
    "schema = StructType([\n",
    "    StructField(\"Nombre\", StringType(), True),\n",
    "    StructField(\"Descargas\", IntegerType(), True),\n",
    "    StructField(\"Lineas_de_codigo\", IntegerType(), True),\n",
    "    StructField(\"Region\", StringType(), True)\n",
    "])\n",
    "# Nombres de las columnas columns = [\"Nombre\", \"Descargas\", \"Lineas_de_codigo\", \"Region\"]\n",
    "df = spark.createDataFrame(data=data_list, schema=schema)\n",
    "df"
   ]
  },
  {
   "cell_type": "markdown",
   "metadata": {},
   "source": [
    "El parámetro `schema` (esquema) hace referencia a los campos de una estructura de datos. En el caso de nuestra lista de listas, el esquema es el nombre de las columnas. Si tuvieramos un diccionario de listas, el esquema serían sus llaves."
   ]
  },
  {
   "cell_type": "markdown",
   "metadata": {},
   "source": [
    "En `pyspark` existen métodos dedicados a cargar datos desde una gran variedad de formatos. Consideremos, por lo pronto, un formato con el que estemos familiarizados."
   ]
  },
  {
   "cell_type": "code",
   "execution_count": 8,
   "metadata": {},
   "outputs": [
    {
     "name": "stdout",
     "output_type": "stream",
     "text": [
      "root\n",
      " |-- id: string (nullable = true)\n",
      " |-- medios_noti_redessociales: string (nullable = true)\n",
      " |-- medios_noti_chat: string (nullable = true)\n",
      " |-- medios_noti_periodicos: string (nullable = true)\n",
      " |-- medios_noti_tv: string (nullable = true)\n",
      " |-- medios_noti_radio: string (nullable = true)\n",
      " |-- medios_covid_redessociales: string (nullable = true)\n",
      " |-- medios_covid_chat: string (nullable = true)\n",
      " |-- medios_covid_periodicos: string (nullable = true)\n",
      " |-- medios_covid_tv: string (nullable = true)\n",
      " |-- medios_covid_radio: string (nullable = true)\n",
      "\n"
     ]
    }
   ],
   "source": [
    "df_covid_19 = spark.read.option(\"header\",\"true\").csv(\"Archivos/BID-Cornell.csv\")\n",
    "df_covid_19.printSchema()"
   ]
  },
  {
   "cell_type": "markdown",
   "metadata": {},
   "source": [
    "#### Operaciones y consulta"
   ]
  },
  {
   "cell_type": "markdown",
   "metadata": {},
   "source": [
    "Tenemos distintas alternativas para consultar el contenido de nuestros `DataFrame`. Podemos utilizar el método `show` para imprimir de manera estilizada la tabla o los métodos `head` y `tail` para retornar las primeras o últimas filas de la tabla."
   ]
  },
  {
   "cell_type": "code",
   "execution_count": 9,
   "metadata": {
    "scrolled": true
   },
   "outputs": [
    {
     "name": "stdout",
     "output_type": "stream",
     "text": [
      "+----------+---------+----------------+------+\n",
      "|    Nombre|Descargas|Lineas_de_codigo|Region|\n",
      "+----------+---------+----------------+------+\n",
      "|Programa_1|     2000|            4500|   LAN|\n",
      "|Programa_2|     3401|            7000|   LAS|\n",
      "|Programa_3|       50|            7000|   LAS|\n",
      "|Programa_4|     7850|            3300|   USW|\n",
      "|Programa_5|     8000|            3505|   LAN|\n",
      "+----------+---------+----------------+------+\n",
      "\n"
     ]
    }
   ],
   "source": [
    "df.show()"
   ]
  },
  {
   "cell_type": "code",
   "execution_count": 10,
   "metadata": {},
   "outputs": [
    {
     "data": {
      "text/plain": [
       "[Row(Nombre='Programa_1', Descargas=2000, Lineas_de_codigo=4500, Region='LAN'),\n",
       " Row(Nombre='Programa_2', Descargas=3401, Lineas_de_codigo=7000, Region='LAS'),\n",
       " Row(Nombre='Programa_3', Descargas=50, Lineas_de_codigo=7000, Region='LAS')]"
      ]
     },
     "execution_count": 10,
     "metadata": {},
     "output_type": "execute_result"
    }
   ],
   "source": [
    "df.head(3)"
   ]
  },
  {
   "cell_type": "code",
   "execution_count": 11,
   "metadata": {},
   "outputs": [
    {
     "data": {
      "text/plain": [
       "[Row(Nombre='Programa_4', Descargas=7850, Lineas_de_codigo=3300, Region='USW'),\n",
       " Row(Nombre='Programa_5', Descargas=8000, Lineas_de_codigo=3505, Region='LAN')]"
      ]
     },
     "execution_count": 11,
     "metadata": {},
     "output_type": "execute_result"
    }
   ],
   "source": [
    "df.tail(2)"
   ]
  },
  {
   "cell_type": "markdown",
   "metadata": {},
   "source": [
    "Cabe notar que por medio de los métodos `head` y `tail`, obtenemos objetos de tipo `Row` que son los que distribuye Spark para paralelizar las operaciones. Alternativamente, el método `limit` nos permite obtener las primeras filas del `DataFrame`."
   ]
  },
  {
   "cell_type": "code",
   "execution_count": 12,
   "metadata": {},
   "outputs": [
    {
     "name": "stdout",
     "output_type": "stream",
     "text": [
      "+----------+---------+----------------+------+\n",
      "|    Nombre|Descargas|Lineas_de_codigo|Region|\n",
      "+----------+---------+----------------+------+\n",
      "|Programa_1|     2000|            4500|   LAN|\n",
      "|Programa_2|     3401|            7000|   LAS|\n",
      "|Programa_3|       50|            7000|   LAS|\n",
      "+----------+---------+----------------+------+\n",
      "\n"
     ]
    }
   ],
   "source": [
    "df.limit(3).show()"
   ]
  },
  {
   "cell_type": "markdown",
   "metadata": {},
   "source": [
    "En ocasiones puede ser deseable convertir los `DataFrame` en `pyspark` a sus equivalentes en `pandas`. Transformar un `DataFrame` de `pyspark` a `pandas` es recomendable solo si se cuenta con suficiente memoria. Los altos volúmenes de datos que manejamos en `pyspark` con gran eficiencia en memoria y procesamiento pueden no ser compatibles con otras librerías."
   ]
  },
  {
   "cell_type": "code",
   "execution_count": 13,
   "metadata": {},
   "outputs": [
    {
     "data": {
      "text/html": [
       "<div>\n",
       "<style scoped>\n",
       "    .dataframe tbody tr th:only-of-type {\n",
       "        vertical-align: middle;\n",
       "    }\n",
       "\n",
       "    .dataframe tbody tr th {\n",
       "        vertical-align: top;\n",
       "    }\n",
       "\n",
       "    .dataframe thead th {\n",
       "        text-align: right;\n",
       "    }\n",
       "</style>\n",
       "<table border=\"1\" class=\"dataframe\">\n",
       "  <thead>\n",
       "    <tr style=\"text-align: right;\">\n",
       "      <th></th>\n",
       "      <th>Nombre</th>\n",
       "      <th>Descargas</th>\n",
       "      <th>Lineas_de_codigo</th>\n",
       "      <th>Region</th>\n",
       "    </tr>\n",
       "  </thead>\n",
       "  <tbody>\n",
       "    <tr>\n",
       "      <th>0</th>\n",
       "      <td>Programa_1</td>\n",
       "      <td>2000</td>\n",
       "      <td>4500</td>\n",
       "      <td>LAN</td>\n",
       "    </tr>\n",
       "    <tr>\n",
       "      <th>1</th>\n",
       "      <td>Programa_2</td>\n",
       "      <td>3401</td>\n",
       "      <td>7000</td>\n",
       "      <td>LAS</td>\n",
       "    </tr>\n",
       "    <tr>\n",
       "      <th>2</th>\n",
       "      <td>Programa_3</td>\n",
       "      <td>50</td>\n",
       "      <td>7000</td>\n",
       "      <td>LAS</td>\n",
       "    </tr>\n",
       "    <tr>\n",
       "      <th>3</th>\n",
       "      <td>Programa_4</td>\n",
       "      <td>7850</td>\n",
       "      <td>3300</td>\n",
       "      <td>USW</td>\n",
       "    </tr>\n",
       "    <tr>\n",
       "      <th>4</th>\n",
       "      <td>Programa_5</td>\n",
       "      <td>8000</td>\n",
       "      <td>3505</td>\n",
       "      <td>LAN</td>\n",
       "    </tr>\n",
       "  </tbody>\n",
       "</table>\n",
       "</div>"
      ],
      "text/plain": [
       "       Nombre  Descargas  Lineas_de_codigo Region\n",
       "0  Programa_1       2000              4500    LAN\n",
       "1  Programa_2       3401              7000    LAS\n",
       "2  Programa_3         50              7000    LAS\n",
       "3  Programa_4       7850              3300    USW\n",
       "4  Programa_5       8000              3505    LAN"
      ]
     },
     "execution_count": 13,
     "metadata": {},
     "output_type": "execute_result"
    }
   ],
   "source": [
    "pandas_df = df.toPandas()\n",
    "pandas_df"
   ]
  },
  {
   "cell_type": "markdown",
   "metadata": {},
   "source": [
    "De manera similar a los RDD, podemos operar sobre los registros de un `DataFrame` en `pyspark` con funciones nativas o por medio de funciones definidas por el usuario. El método `withColumn` nos permite agregar o reemplazar una columna en un `DataFrame`, poblándola registro a registro. El resultado es un nuevo `DataFrame` que refleja estos cambios.\n",
    "\n",
    "```python\n",
    "df.withColumn(colName, col)\n",
    "```"
   ]
  },
  {
   "cell_type": "markdown",
   "metadata": {},
   "source": [
    "El parámetro `colName` permite definir el nombre que tendrá la columna en el nuevo `DataFrame`. El parámetro `col` recibe una expresión en función de las columnas existentes a partir de la cual `pyspark` calcula el valor para cada registro de la columna `colName`."
   ]
  },
  {
   "cell_type": "markdown",
   "metadata": {},
   "source": [
    "Importamos la función `col` para crear la expresión del parámetro `col`."
   ]
  },
  {
   "cell_type": "code",
   "execution_count": 14,
   "metadata": {},
   "outputs": [
    {
     "name": "stdout",
     "output_type": "stream",
     "text": [
      "+----------+---------+----------------+------+----------------+\n",
      "|    Nombre|Descargas|Lineas_de_codigo|Region|DescargasXLineas|\n",
      "+----------+---------+----------------+------+----------------+\n",
      "|Programa_1|     2000|            4500|   LAN|         9000000|\n",
      "|Programa_2|     3401|            7000|   LAS|        23807000|\n",
      "|Programa_3|       50|            7000|   LAS|          350000|\n",
      "|Programa_4|     7850|            3300|   USW|        25905000|\n",
      "|Programa_5|     8000|            3505|   LAN|        28040000|\n",
      "+----------+---------+----------------+------+----------------+\n",
      "\n"
     ]
    }
   ],
   "source": [
    "from pyspark.sql.functions import col\n",
    "nuevo_df = df.withColumn(\"DescargasXLineas\", col(\"Descargas\") * col(\"Lineas_de_codigo\"))\n",
    "nuevo_df.show()"
   ]
  },
  {
   "cell_type": "markdown",
   "metadata": {},
   "source": [
    "Veamos algunas operaciones de `pyspark` cuyo comportamiento es similar al de `pandas`."
   ]
  },
  {
   "cell_type": "markdown",
   "metadata": {},
   "source": [
    "##### Métodos para imputar faltantes"
   ]
  },
  {
   "cell_type": "markdown",
   "metadata": {},
   "source": [
    "###### Método `dropna`"
   ]
  },
  {
   "cell_type": "markdown",
   "metadata": {},
   "source": [
    "Este método elimina aquellas filas que contengan entradas nulas. \n",
    "\n",
    "```python\n",
    "DataFrame.dropna(how, thresh=0, subset=DataFrame.columns)\n",
    "```\n",
    "\n",
    "* `how`: <br>\n",
    "    * `how = 'any'`: elimina la fila si contiene al menos un faltante.\n",
    "    * `how = 'all'`: elimina la fila si solo contiene faltantes.<br><br>\n",
    "\n",
    "* `thresh`: elimina todas las filas con más datos faltantes que el umbral (de tipo `int`) especificado. <br><br>\n",
    "\n",
    "* `subset`: permite seleccionar un subconjunto de columnas sobre el cual aplicar el método."
   ]
  },
  {
   "cell_type": "markdown",
   "metadata": {},
   "source": [
    "A continuación, declaramos un `DataFrame` para ejemplificar el uso del método `dropna`."
   ]
  },
  {
   "cell_type": "code",
   "execution_count": 15,
   "metadata": {
    "scrolled": true
   },
   "outputs": [
    {
     "name": "stdout",
     "output_type": "stream",
     "text": [
      "+----+----+----+----+\n",
      "|   A|   B|   C|   D|\n",
      "+----+----+----+----+\n",
      "|   1|null|null|   2|\n",
      "|null|null|   1|null|\n",
      "|null|   0|null|   2|\n",
      "+----+----+----+----+\n",
      "\n"
     ]
    }
   ],
   "source": [
    "schema = StructType([\n",
    "    StructField(\"A\", IntegerType(), True),\n",
    "    StructField(\"B\", IntegerType(), True),\n",
    "    StructField(\"C\", IntegerType(), True),\n",
    "    StructField(\"D\", IntegerType(), True)\n",
    "])\n",
    "\n",
    "data = [[1   , None, None, 2   ],\n",
    "        [None, None, 1   , None],\n",
    "        [None, 0   , None, 2   ]]\n",
    "\n",
    "columns = [\"A\", \"B\", \"C\", \"D\"]\n",
    "\n",
    "# En versiones con inferencia de tipo: df_numeros = spark.createDataFrame(data=data, schema=columns)\n",
    "df_numeros = spark.createDataFrame(data=data, schema=schema)\n",
    "df_numeros.show()"
   ]
  },
  {
   "cell_type": "markdown",
   "metadata": {},
   "source": [
    "Utilizamos el método `dropna` para eliminar aquellas filas que solo contienen datos faltantes en el subconjunto de columnas `A` y `C`."
   ]
  },
  {
   "cell_type": "code",
   "execution_count": 16,
   "metadata": {},
   "outputs": [
    {
     "name": "stdout",
     "output_type": "stream",
     "text": [
      "+----+----+----+----+\n",
      "|   A|   B|   C|   D|\n",
      "+----+----+----+----+\n",
      "|   1|null|null|   2|\n",
      "|null|null|   1|null|\n",
      "+----+----+----+----+\n",
      "\n"
     ]
    }
   ],
   "source": [
    "nuevo_df_numeros = df_numeros.dropna(how=\"all\", subset=[\"A\",\"C\"])\n",
    "nuevo_df_numeros.show()"
   ]
  },
  {
   "cell_type": "markdown",
   "metadata": {},
   "source": [
    "###### Método `fillna`"
   ]
  },
  {
   "cell_type": "markdown",
   "metadata": {},
   "source": [
    "Este método reemplaza las entradas nulas.\n",
    "\n",
    "```python\n",
    "DataFrame.fillna(value=None, method=None, axis=None, inplace=False, limit=0)\n",
    "```\n",
    "\n",
    "* `value`: indica el valor o diccionario de valores para imputar en las entradas nulas.<br><br>\n",
    "\n",
    "* `subset`: permite seleccionar un subconjunto de columnas sobre el cual aplicar el método."
   ]
  },
  {
   "cell_type": "markdown",
   "metadata": {},
   "source": [
    "Vamos a completar los datos del `DataFrame` `df_numeros`, reemplazando cada valor faltante por un valor predeterminado para su respectiva columna."
   ]
  },
  {
   "cell_type": "code",
   "execution_count": 17,
   "metadata": {},
   "outputs": [
    {
     "name": "stdout",
     "output_type": "stream",
     "text": [
      "+---+---+---+---+\n",
      "|  A|  B|  C|  D|\n",
      "+---+---+---+---+\n",
      "|  1|  0|  1|  2|\n",
      "|  1|  0|  1|  2|\n",
      "|  1|  0|  1|  2|\n",
      "+---+---+---+---+\n",
      "\n"
     ]
    }
   ],
   "source": [
    "nuevo_df_numeros = df_numeros.fillna(value={\"A\": 1, \"B\": 0, \"C\": 1, \"D\": 2})\n",
    "nuevo_df_numeros.show()"
   ]
  },
  {
   "cell_type": "markdown",
   "metadata": {},
   "source": [
    "##### Métodos para unir tablas"
   ]
  },
  {
   "cell_type": "markdown",
   "metadata": {},
   "source": [
    "######  Método `join`"
   ]
  },
  {
   "cell_type": "markdown",
   "metadata": {},
   "source": [
    "Agrega a un `DataFrame` las columnas de otro según coincidan las columnas especificadas en los dos.\n",
    "\n",
    "```python\n",
    "DataFrame.join(other, on=None, how='inner')\n",
    "```\n",
    "\n",
    "* `other`: el `DataFrame` a unir.<br><br>\n",
    "\n",
    "* `on`: permite usar una o varias columnas de los `DataFrame` para encontrar las coincidencias. Las columnas especificadas deben existir en ambos `DataFrame`.<br><br>\n",
    "\n",
    "* `how`: es `\"inner\"` por defecto. Puedes consultar los posibles valores en la [documentación](https://spark.apache.org/docs/3.1.1/api/python/reference/api/pyspark.sql.DataFrame.join.html#pyspark.sql.DataFrame.join), aunque por lo general todas las operaciones `join` tienen la misma nomenclatura independiente del programa de manejo de datos. <br>"
   ]
  },
  {
   "cell_type": "markdown",
   "metadata": {},
   "source": [
    "Consideremos los siguientes `DataFrame`."
   ]
  },
  {
   "cell_type": "code",
   "execution_count": 18,
   "metadata": {},
   "outputs": [
    {
     "name": "stdout",
     "output_type": "stream",
     "text": [
      "+---+---+\n",
      "|  A|  B|\n",
      "+---+---+\n",
      "|  1|  2|\n",
      "|  3|  4|\n",
      "|  1|  3|\n",
      "+---+---+\n",
      "\n"
     ]
    }
   ],
   "source": [
    "schema = StructType([\n",
    "    StructField(\"A\", IntegerType(), True),\n",
    "    StructField(\"B\", IntegerType(), True)\n",
    "])\n",
    "\n",
    "data = [[1, 2],\n",
    "        [3, 4],\n",
    "        [1, 3]]\n",
    "\n",
    "columns = [\"A\", \"B\"]\n",
    "\n",
    "df1 = spark.createDataFrame(data = data, schema=schema)\n",
    "df1.show()"
   ]
  },
  {
   "cell_type": "code",
   "execution_count": 19,
   "metadata": {},
   "outputs": [
    {
     "name": "stdout",
     "output_type": "stream",
     "text": [
      "+---+---+---+\n",
      "|  B|  C|  D|\n",
      "+---+---+---+\n",
      "|  3|  2|  4|\n",
      "|  3|  4|  1|\n",
      "+---+---+---+\n",
      "\n"
     ]
    }
   ],
   "source": [
    "schema = StructType([\n",
    "    StructField(\"A\", IntegerType(), True),\n",
    "    StructField(\"B\", IntegerType(), True)\n",
    "])\n",
    "\n",
    "data = [[3, 2, 4],\n",
    "        [3, 4, 1]]\n",
    "\n",
    "columns = [\"B\", \"C\", \"D\"]\n",
    "\n",
    "df2 = spark.createDataFrame(data = data, schema=schema)\n",
    "df2.show()"
   ]
  },
  {
   "cell_type": "markdown",
   "metadata": {},
   "source": [
    "Debemos agregar a `df1` las columnas de `df2` según coincidencia de la columna `\"B\"`, preservando todas las filas de `df1` y solo las filas que coinciden de `df2`. Utilicemos el método `join`, especificando que la unión será por coincidencia izquierda externa."
   ]
  },
  {
   "cell_type": "code",
   "execution_count": 20,
   "metadata": {
    "scrolled": true
   },
   "outputs": [
    {
     "name": "stdout",
     "output_type": "stream",
     "text": [
      "+---+---+----+----+\n",
      "|  B|  A|   C|   D|\n",
      "+---+---+----+----+\n",
      "|  2|  1|null|null|\n",
      "|  4|  3|null|null|\n",
      "|  3|  1|   4|   1|\n",
      "|  3|  1|   2|   4|\n",
      "+---+---+----+----+\n",
      "\n"
     ]
    }
   ],
   "source": [
    "df_join = df1.join(df2, on = \"B\", how = 'left')\n",
    "df_join.show()"
   ]
  },
  {
   "cell_type": "markdown",
   "metadata": {},
   "source": [
    "##### Métodos de consulta tipo SQL"
   ]
  },
  {
   "cell_type": "markdown",
   "metadata": {},
   "source": [
    "###### Método `select`"
   ]
  },
  {
   "cell_type": "markdown",
   "metadata": {},
   "source": [
    "Por medio del método `select` podemos indicar las columnas de un `DataFrame` que queremos consultar. Retorna un nuevo `DataFrame`."
   ]
  },
  {
   "cell_type": "markdown",
   "metadata": {},
   "source": [
    "###### Método `where`"
   ]
  },
  {
   "cell_type": "markdown",
   "metadata": {},
   "source": [
    "Permite filtrar las filas de un `DataFrame` según una condición especificada."
   ]
  },
  {
   "cell_type": "markdown",
   "metadata": {},
   "source": [
    "###### Métodos `groupBy` y `agg`"
   ]
  },
  {
   "cell_type": "markdown",
   "metadata": {},
   "source": [
    "El método `groupBy` permite agrupar los registros de un `DataFrame` según los valores únicos de la combinación de una o más columnas. El método `agg` permite calcular conteos, sumas, promedios y otras operaciones para cada uno de los grupos resultantes de la función `groupBy`."
   ]
  },
  {
   "cell_type": "markdown",
   "metadata": {},
   "source": [
    "###### Método `orderBy`"
   ]
  },
  {
   "cell_type": "markdown",
   "metadata": {},
   "source": [
    "Ordena los registros de un `DataFrame` a partir de los valores de las columnas especificadas."
   ]
  },
  {
   "cell_type": "markdown",
   "metadata": {},
   "source": [
    "Veamos un ejemplo de una consulta elaborada a un `DataFrame`."
   ]
  },
  {
   "cell_type": "markdown",
   "metadata": {},
   "source": [
    "Trabajarémos con los datos importados anteriormente en la variable `df_covid_19`. La intención es calcular, para cada combinación única de los valores de las variables `\"medios_noti_chat\"`, `\"medios_noti_periodicos\"` y `\"medios_noti_tv\"`, la cantidad de registros correspondientes. Reportaremos solo aquellas combinaciones con más de 3000 ocurrencias, ordenadas de mayor a menor."
   ]
  },
  {
   "cell_type": "code",
   "execution_count": 21,
   "metadata": {},
   "outputs": [
    {
     "name": "stdout",
     "output_type": "stream",
     "text": [
      "+----------------+----------------------+--------------+-----+\n",
      "|medios_noti_chat|medios_noti_periodicos|medios_noti_tv|Count|\n",
      "+----------------+----------------------+--------------+-----+\n",
      "|         Siempre|               Siempre|       Siempre|12526|\n",
      "|         A veces|               A veces|       A veces|10317|\n",
      "|         A veces|               A veces|  Casi siempre| 9099|\n",
      "|         Siempre|               A veces|       Siempre| 7980|\n",
      "|         A veces|                 Nunca|       A veces| 7267|\n",
      "|    Casi siempre|               A veces|       A veces| 7232|\n",
      "|    Casi siempre|               A veces|  Casi siempre| 6765|\n",
      "|         Siempre|               A veces|       A veces| 6578|\n",
      "|    Casi siempre|          Casi siempre|  Casi siempre| 5811|\n",
      "|         A veces|          Casi siempre|  Casi siempre| 5610|\n",
      "|         A veces|                 Nunca|  Casi siempre| 5357|\n",
      "|         A veces|               A veces|       Siempre| 4860|\n",
      "|         Siempre|                 Nunca|       Siempre| 4768|\n",
      "|         Siempre|               A veces|  Casi siempre| 4691|\n",
      "|    Casi siempre|                 Nunca|       A veces| 4592|\n",
      "|    Casi siempre|               A veces|       Siempre| 4422|\n",
      "|         Siempre|                 Nunca|       A veces| 4259|\n",
      "|         Siempre|          Casi siempre|       Siempre| 4212|\n",
      "|         A veces|          Casi siempre|       A veces| 4055|\n",
      "|         A veces|                 Nunca|       Siempre| 3913|\n",
      "+----------------+----------------------+--------------+-----+\n",
      "only showing top 20 rows\n",
      "\n"
     ]
    }
   ],
   "source": [
    "from pyspark.sql.functions import count\n",
    "\n",
    "\n",
    "df_consulta = df_covid_19.groupBy(\"medios_noti_chat\", \"medios_noti_periodicos\", \"medios_noti_tv\")\\\n",
    "                         .agg(count(\"*\").alias(\"Count\")) \\\n",
    "                         .where(col(\"Count\") >= 3000) \\\n",
    "                         .orderBy(col(\"Count\").desc())\n",
    "df_consulta.show()"
   ]
  },
  {
   "cell_type": "markdown",
   "metadata": {},
   "source": [
    "###### Métodos `createOrReplaceTempView` y `sql`"
   ]
  },
  {
   "cell_type": "markdown",
   "metadata": {},
   "source": [
    "Ejecuta una consulta sobre un `DataFrame` a partir de un `str` que contiene una consulta escrita en SQL."
   ]
  },
  {
   "cell_type": "markdown",
   "metadata": {},
   "source": [
    "La especificación del lenguaje SQL reserva algunas palabras a las cuales les atribuye significados particulares. Una consulta puede resultar en ediciones de la base de datos, aunque por lo general solo hacemos consultas de selección."
   ]
  },
  {
   "cell_type": "markdown",
   "metadata": {},
   "source": [
    "Algunas de las palabras reservadas para las consultas de selección son:\n",
    "\n",
    "* `SELECT`: permite especificar las columnas que deben incluirse en el resultado de la consulta. Funciones como `COUNT` incluyen columnas caluladas en el resultado. Pueden seleccionarse todas las columnas existentes con `*` y `AS` permite nombrar columnas con un alias.<br><br>\n",
    "\n",
    "* `FROM`: permite especificar de qué tabla deben extraerse las columnas seleccionadas o calculadas. La tabla puede ser directamente una existente en la base de datos o una construida a partir de varias operaciones.<br><br>\n",
    "\n",
    "    * `JOIN` y `ON`: permiten unir tablas según las mismas reglas de unión que ya conocemos. Puede especificarse el tipo de unión con declaraciones como `LEFT JOIN`, `INNER JOIN` o `OUTER JOIN`, entre otros. Incluimos `ON` para indicar una expresión que compare las columnas, con lo cual se decide si se realiza la unión en cada registro.<br><br>\n",
    "\n",
    "    * `WHERE`: permite filtrar los registros de la tabla construida hasta el momento, según una expresión lógica que aplica para cada registro de las columnas especificadas. Podemos concatenar condiciones con las palabras `OR` y `AND`.<br><br>\n",
    "    \n",
    "* `GROUP BY`: realiza la misma operación de agrupación por combinaciones de columnas que conocemos de `pandas` y `pyspark`.<br><br>\n",
    "\n",
    "* `HAVING`: permite filtrar de manera similar a `WHERE`, luego de haber agrupado y seleccionado las columnas especificadas con `SELECT` y `GROUP BY`.<br><br>\n",
    "\n",
    "* `ORDER BY`: permite ordenar la tabla resultante según sus columnas. Podemos agregar las palabras `ASC` o `DESC` para especificar el orden."
   ]
  },
  {
   "cell_type": "markdown",
   "metadata": {},
   "source": [
    "Una consulta de selección puede verse de la siguiente forma:\n",
    "\n",
    "```sql\n",
    "SELECT Columna_1, Columna_2, COUNT(*) AS Conteo\n",
    "FROM Tabla_1\n",
    "INNER JOIN Tabla_2 ON Columna_2\n",
    "WHERE Columna_1 = 'Valor_1'\n",
    "GROUP BY Columna_1, Columna_2\n",
    "HAVING Columna_2 != 'Valor_2'\n",
    "ORDER BY Columna_1 DESC;\n",
    "```"
   ]
  },
  {
   "cell_type": "markdown",
   "metadata": {},
   "source": [
    "Aunque `pyspark` es bastante versátil al momento de realizar consultas sobre una base de datos, hay ocasiones en las que resulta beneficioso poder realizar consultas directamente con la sintaxis de SQL. El método `createOrReplaceTempView` hace el `DataFrame` visible al administrador de `SQL`."
   ]
  },
  {
   "cell_type": "markdown",
   "metadata": {},
   "source": [
    "Presentamos un ejemplo de cómo podemos realizar la misma consulta sobre el `DataFrame` `df_covid_19`, por medio del método `sql`."
   ]
  },
  {
   "cell_type": "code",
   "execution_count": 22,
   "metadata": {},
   "outputs": [
    {
     "name": "stdout",
     "output_type": "stream",
     "text": [
      "+----------------+----------------------+--------------+-----+\n",
      "|medios_noti_chat|medios_noti_periodicos|medios_noti_tv|Count|\n",
      "+----------------+----------------------+--------------+-----+\n",
      "|         Siempre|               Siempre|       Siempre|12526|\n",
      "|         A veces|               A veces|       A veces|10317|\n",
      "|         A veces|               A veces|  Casi siempre| 9099|\n",
      "|         Siempre|               A veces|       Siempre| 7980|\n",
      "|         A veces|                 Nunca|       A veces| 7267|\n",
      "|    Casi siempre|               A veces|       A veces| 7232|\n",
      "|    Casi siempre|               A veces|  Casi siempre| 6765|\n",
      "|         Siempre|               A veces|       A veces| 6578|\n",
      "|    Casi siempre|          Casi siempre|  Casi siempre| 5811|\n",
      "|         A veces|          Casi siempre|  Casi siempre| 5610|\n",
      "|         A veces|                 Nunca|  Casi siempre| 5357|\n",
      "|         A veces|               A veces|       Siempre| 4860|\n",
      "|         Siempre|                 Nunca|       Siempre| 4768|\n",
      "|         Siempre|               A veces|  Casi siempre| 4691|\n",
      "|    Casi siempre|                 Nunca|       A veces| 4592|\n",
      "|    Casi siempre|               A veces|       Siempre| 4422|\n",
      "|         Siempre|                 Nunca|       A veces| 4259|\n",
      "|         Siempre|          Casi siempre|       Siempre| 4212|\n",
      "|         A veces|          Casi siempre|       A veces| 4055|\n",
      "|         A veces|                 Nunca|       Siempre| 3913|\n",
      "+----------------+----------------------+--------------+-----+\n",
      "only showing top 20 rows\n",
      "\n"
     ]
    }
   ],
   "source": [
    "df_covid_19.createOrReplaceTempView(\"df_covid_19\")\n",
    "\n",
    "consulta = \\\n",
    "'''\\\n",
    "SELECT medios_noti_chat, medios_noti_periodicos, medios_noti_tv, COUNT(*) AS Count\n",
    "FROM df_covid_19\n",
    "GROUP BY medios_noti_chat, medios_noti_periodicos, medios_noti_tv\n",
    "HAVING Count >= 3000\n",
    "ORDER BY Count DESC;\n",
    "'''\n",
    "\n",
    "spark.sql(consulta).show()"
   ]
  },
  {
   "cell_type": "markdown",
   "metadata": {},
   "source": [
    "## 3. Cargar datos en `pyspark`"
   ]
  },
  {
   "cell_type": "markdown",
   "metadata": {},
   "source": [
    "Para almacenar nuestros datos de manera eficiente y poder acceder a ellos en el futuro, nos apoyamos en los administradores de bases de datos relacionales (tipo SQL). Spark incluye su propio administrador de bases de datos (Apache Hive) que nos permite interactuar con archivos compatibles con extensión `.db`, aunque pueden configurarse otros administradores."
   ]
  },
  {
   "cell_type": "markdown",
   "metadata": {},
   "source": [
    "Utilicemos una consulta de definición para crear una base de datos (llamada `demo_db`) que pueda almacenar varias tablas. Siempre que queramos crear una base de datos o crear dentro de ella una tabla, utilizamos el comando `CREATE` de SQL. La práctica más común es crear una única base de datos y almacenar en esta todas las tablas que queramos almacenar."
   ]
  },
  {
   "cell_type": "code",
   "execution_count": 23,
   "metadata": {},
   "outputs": [],
   "source": [
    "consulta = \\\n",
    "'''\\\n",
    "CREATE DATABASE IF NOT EXISTS demo_db;\n",
    "'''\n",
    "\n",
    "_ = spark.sql(consulta)"
   ]
  },
  {
   "cell_type": "markdown",
   "metadata": {},
   "source": [
    "`IF NOT EXISTS` nos permite evitar comportamiento inesperado. En caso de que ya exista un objeto del mismo tipo que queremos crear, con el nombre especificado, la consulta no tendrá efecto."
   ]
  },
  {
   "cell_type": "markdown",
   "metadata": {},
   "source": [
    "Podemos consultar las bases de datos disponibles para `pyspark` con la consulta `SHOW DATABASES`. El resultado es un `DataFrame` cuya única columna es `namespace` y cuyos valores son los nombres de las bases de datos. La base de datos `default` es temporal y se borra con el final de la sesión, mientras que las otras persisten en almacenamiento."
   ]
  },
  {
   "cell_type": "code",
   "execution_count": 24,
   "metadata": {},
   "outputs": [
    {
     "name": "stdout",
     "output_type": "stream",
     "text": [
      "+---------+\n",
      "|namespace|\n",
      "+---------+\n",
      "|  default|\n",
      "|  demo_db|\n",
      "+---------+\n",
      "\n"
     ]
    }
   ],
   "source": [
    "consulta = \\\n",
    "'''\\\n",
    "SHOW DATABASES;\n",
    "'''\n",
    "\n",
    "spark.sql(consulta).show()"
   ]
  },
  {
   "cell_type": "markdown",
   "metadata": {},
   "source": [
    "Luego de crear la base de datos, encontraremos un archivo o directorio llamado `demo_db.db` en nuestra carpeta de archivos."
   ]
  },
  {
   "cell_type": "code",
   "execution_count": 25,
   "metadata": {},
   "outputs": [
    {
     "data": {
      "text/plain": [
       "['Archivos/demo_db.db']"
      ]
     },
     "execution_count": 25,
     "metadata": {},
     "output_type": "execute_result"
    }
   ],
   "source": [
    "import glob\n",
    "\n",
    "\n",
    "# Retorna una lista con la ruta relativa a cualquier directorio\n",
    "# o archivo terminado en `\".db\"`, dentro de la carpeta `\"Archivos\"`.\n",
    "glob.glob(\"Archivos/*.db\")"
   ]
  },
  {
   "cell_type": "markdown",
   "metadata": {},
   "source": [
    "Cuando creamos una tabla, debemos especificar qué columnas va a tener y el tipo de datos que van a almacenar. Para que las bases de datos de SQL sean eficientes, necesitan conocimiento absoluto acerca de cuánto espacio van a ocupar sus datos. Introducimos una tabla vacía con nombre `tabla_1`, columnas `id`, `name` y `age`, de tipos `INT` (entero), `STRING` (cadena de texto) e `INT`, respectivamente. Para garantizar que la tabla se crea dentro de la base de datos, seguimos el patrón: `<database_name>.<table_name>`."
   ]
  },
  {
   "cell_type": "code",
   "execution_count": 26,
   "metadata": {},
   "outputs": [],
   "source": [
    "consulta = \\\n",
    "'''\\\n",
    "CREATE TABLE IF NOT EXISTS demo_db.tabla_1\n",
    "   (id INT,\n",
    "    name STRING,\n",
    "    age INT)\n",
    "STORED AS ORC;\n",
    "'''\n",
    "\n",
    "_ = spark.sql(consulta)"
   ]
  },
  {
   "cell_type": "markdown",
   "metadata": {},
   "source": [
    "Validamos que existe la tabla en la base de datos, aunque esta no contenga registros."
   ]
  },
  {
   "cell_type": "code",
   "execution_count": 27,
   "metadata": {},
   "outputs": [
    {
     "name": "stdout",
     "output_type": "stream",
     "text": [
      "+---+----+---+\n",
      "| id|name|age|\n",
      "+---+----+---+\n",
      "+---+----+---+\n",
      "\n"
     ]
    }
   ],
   "source": [
    "consulta = \\\n",
    "'''\\\n",
    "SELECT *\n",
    "FROM demo_db.tabla_1;\n",
    "'''\n",
    "\n",
    "spark.sql(consulta).show()"
   ]
  },
  {
   "cell_type": "markdown",
   "metadata": {},
   "source": [
    "Utilizamos el comando `INSERT INTO` para ingresar nuevas filas en una tabla."
   ]
  },
  {
   "cell_type": "code",
   "execution_count": 28,
   "metadata": {},
   "outputs": [],
   "source": [
    "consulta = \\\n",
    "'''\\\n",
    "INSERT INTO demo_db.tabla_1\n",
    "VALUES (1, 'Camilo Gomez', NULL);\n",
    "'''\n",
    "\n",
    "_ = spark.sql(consulta)"
   ]
  },
  {
   "cell_type": "markdown",
   "metadata": {},
   "source": [
    "Volvemos a consultar la tabla para validar que agregamos el registro correctamente."
   ]
  },
  {
   "cell_type": "code",
   "execution_count": 29,
   "metadata": {},
   "outputs": [
    {
     "name": "stdout",
     "output_type": "stream",
     "text": [
      "+---+------------+----+\n",
      "| id|        name| age|\n",
      "+---+------------+----+\n",
      "|  1|Camilo Gomez|null|\n",
      "+---+------------+----+\n",
      "\n"
     ]
    }
   ],
   "source": [
    "consulta = \\\n",
    "'''\\\n",
    "SELECT *\n",
    "FROM demo_db.tabla_1;\n",
    "'''\n",
    "\n",
    "spark.sql(consulta).show()"
   ]
  },
  {
   "cell_type": "markdown",
   "metadata": {},
   "source": [
    "En lugar de crear una tabla registro por registro, podemos utilizar los `DataFrame` con los que venimos trabajando que ya existen en `pyspark`. Por ejemplo, podemos ingresar a nuestra base de datos la tabla `df_covid_19` (recuerda que esta la hicimos visible a SQL por medio del método `createOrReplaceTempView`)."
   ]
  },
  {
   "cell_type": "code",
   "execution_count": 30,
   "metadata": {},
   "outputs": [],
   "source": [
    "consulta = \\\n",
    "'''\\\n",
    "CREATE TABLE IF NOT EXISTS demo_db.df_covid_19 STORED AS ORC\n",
    "    AS SELECT * FROM df_covid_19;\n",
    "'''\n",
    "\n",
    "_ = spark.sql(consulta)"
   ]
  },
  {
   "cell_type": "markdown",
   "metadata": {},
   "source": [
    "Validamos que la tabla existe en la base de datos."
   ]
  },
  {
   "cell_type": "code",
   "execution_count": 31,
   "metadata": {},
   "outputs": [
    {
     "name": "stdout",
     "output_type": "stream",
     "text": [
      "+---------+-------------------------+----------------+----------------------+--------------+-----------------+--------------------------+-----------------+-----------------------+---------------+------------------+\n",
      "|       id|medios_noti_redessociales|medios_noti_chat|medios_noti_periodicos|medios_noti_tv|medios_noti_radio|medios_covid_redessociales|medios_covid_chat|medios_covid_periodicos|medios_covid_tv|medios_covid_radio|\n",
      "+---------+-------------------------+----------------+----------------------+--------------+-----------------+--------------------------+-----------------+-----------------------+---------------+------------------+\n",
      "|4022452.0|                  Siempre|         Siempre|                 Nunca|       Siempre|          Siempre|                   Siempre|     Casi siempre|                  Nunca|        Siempre|           Siempre|\n",
      "|4013528.0|                  Siempre|         Siempre|                 Nunca|       Siempre|          Siempre|                   Siempre|          Siempre|                  Nunca|        Siempre|           Siempre|\n",
      "|4005685.0|                  Siempre|         Siempre|               Siempre|       Siempre|          Siempre|                   Siempre|          Siempre|                Siempre|        Siempre|           Siempre|\n",
      "+---------+-------------------------+----------------+----------------------+--------------+-----------------+--------------------------+-----------------+-----------------------+---------------+------------------+\n",
      "\n"
     ]
    }
   ],
   "source": [
    "consulta = \\\n",
    "'''\\\n",
    "SELECT *\n",
    "FROM demo_db.df_covid_19;\n",
    "'''\n",
    "\n",
    "spark.sql(consulta).limit(3).show()"
   ]
  },
  {
   "cell_type": "markdown",
   "metadata": {},
   "source": [
    "Ahora conocemos nuevas formas en las que podemos interactuar con nuestros datos en Python. En breve, podemos extraer datos de casi cualquier formato (incluyendo bases de datos de SQL), transformar sus representaciones en Python como `DataFrame` y cargarlos para ocasiones futuras en otra o la misma base de datos de SQL."
   ]
  },
  {
   "cell_type": "markdown",
   "metadata": {},
   "source": [
    "## Referencias"
   ]
  },
  {
   "cell_type": "markdown",
   "metadata": {},
   "source": [
    "SparkBy{Examples}. Spark with Python (PySpark) Tutorial For Beginners. Recuperado el 12 de Agosto de 2022 de: \n",
    "https://sparkbyexamples.com/pyspark-tutorial/\n",
    "\n",
    "Apache PySpark. pyspark.sql.DataFrame. Recuperado el 12 de Agosto de 2022 de: https://spark.apache.org/docs/3.1.1/api/python/reference/api/pyspark.sql.DataFrame.html"
   ]
  },
  {
   "cell_type": "markdown",
   "metadata": {},
   "source": [
    "## Créditos"
   ]
  },
  {
   "cell_type": "markdown",
   "metadata": {},
   "source": [
    "**Autores:** Alejandro Mantilla Redondo, Diego Alejandro Cely Gómez\n",
    "\n",
    "**Fecha última actualización:** 09/09/2024 Jose Fernando Barrera"
   ]
  }
 ],
 "metadata": {
  "kernelspec": {
   "display_name": "Python 3 (ipykernel)",
   "language": "python",
   "name": "python3"
  },
  "language_info": {
   "codemirror_mode": {
    "name": "ipython",
    "version": 3
   },
   "file_extension": ".py",
   "mimetype": "text/x-python",
   "name": "python",
   "nbconvert_exporter": "python",
   "pygments_lexer": "ipython3",
   "version": "3.8.13"
  }
 },
 "nbformat": 4,
 "nbformat_minor": 4
}

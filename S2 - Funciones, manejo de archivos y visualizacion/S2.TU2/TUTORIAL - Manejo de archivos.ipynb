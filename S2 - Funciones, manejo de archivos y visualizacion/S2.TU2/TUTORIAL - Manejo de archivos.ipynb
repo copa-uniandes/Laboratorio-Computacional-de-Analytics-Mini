{
 "cells": [
  {
   "cell_type": "markdown",
   "metadata": {},
   "source": [
    "![miad4.png](Archivos/miad4.png)"
   ]
  },
  {
   "cell_type": "code",
   "execution_count": null,
   "metadata": {
    "tags": [
     "hide-input",
     "thebe-init"
    ]
   },
   "outputs": [],
   "source": [
    "import os\n",
    "# Por precaución, cambiamos el directorio activo de Python a aquel que contenga este notebook\n",
    "if \"PAD-book\" in os.listdir():\n",
    "    os.chdir(r\"PAD-book/Laboratorio-Computacional-de-Analytics/S2 - Funciones, manejo de archivos y visualizacion/S2.TU2/\")"
   ]
  },
  {
   "cell_type": "markdown",
   "metadata": {},
   "source": [
    "# Manejo de archivos de texto"
   ]
  },
  {
   "cell_type": "markdown",
   "metadata": {},
   "source": [
    "Todo proyecto de analítica de datos parte de tener acceso a datos, ya sea a partir de Internet, de una base de datos, o de archivos locales. Aunque existen paquetes especializados que facilitan la interacción con fuentes de datos, es importante conocer las herramientas básicas de Python para importar y exportar archivos. "
   ]
  },
  {
   "cell_type": "markdown",
   "metadata": {},
   "source": [
    "## Requisitos"
   ]
  },
  {
   "cell_type": "markdown",
   "metadata": {},
   "source": [
    "Para desarrollar este tutorial necesitarás:\n",
    "\n",
    "* Utilizar listas y diccionarios.\n",
    "* Implementar condicionales y ciclos. "
   ]
  },
  {
   "cell_type": "markdown",
   "metadata": {},
   "source": [
    "## Objetivos"
   ]
  },
  {
   "cell_type": "markdown",
   "metadata": {},
   "source": [
    "Al final de este tutorial podrás:\n",
    "\n",
    "**1.** Aplicar los métodos y los atributos principales de las cadenas de texto. <br>\n",
    "**2.** Importar y exportar archivos de texto en formato `.txt` o `.csv` por medio de un *file handle*. <br>\n",
    "**3.** Procesar archivos de texto delimitados y no delimitados valiendose del uso de los métodos de las cadenas de texto y de los *file handle*. <br>"
   ]
  },
  {
   "cell_type": "markdown",
   "metadata": {},
   "source": [
    "## 1. Cadenas de caracteres"
   ]
  },
  {
   "cell_type": "markdown",
   "metadata": {},
   "source": [
    "Dado que la lectura de archivos usualmente implica trabajar con cadenas de caracteres (`str`), señalaremos algunas características de estas para ampliar nuestro conocimiento de las cadenas de caracteres. Esencialmente, una cadena de caracteres es una estructura de datos ordenada e inmutable con un índice numérico, por lo que vienen compartiendo características similares a las tuplas. Siendo que son ordenadas, heredan las propiedades de rebanado que conocemos. "
   ]
  },
  {
   "cell_type": "markdown",
   "metadata": {},
   "source": [
    "### Ejemplo 1"
   ]
  },
  {
   "cell_type": "markdown",
   "metadata": {},
   "source": [
    "A partir de la cadena de caracteres \"Stack Overflow es un portal web muy útil para solucionar dudas de Python\" requerimos: \n",
    "\n",
    "* Encontrar el primer carácter de la cadena de caracteres.\n",
    "* Encontrar el último carácter de la cadena de caracteres.\n",
    "* Extraer la palabra \"Python\" de la cadena de caracteres."
   ]
  },
  {
   "cell_type": "markdown",
   "metadata": {},
   "source": [
    "Resolvemos estos requerimientos utilizando el siguiente código."
   ]
  },
  {
   "cell_type": "code",
   "execution_count": null,
   "metadata": {
    "scrolled": false
   },
   "outputs": [],
   "source": [
    "texto = \"Stack Overflow es un portal web muy útil para solucionar dudas de Python\"\n",
    "print(\"El primer carácter de la cadena de caracteres es: \" + texto[0])\n",
    "print(\"El último carácter de la cadena de caracteres es: \" + texto[-1])\n",
    "print(\"La palabra a extraer es: \" + texto[-6:])"
   ]
  },
  {
   "cell_type": "markdown",
   "metadata": {},
   "source": [
    "Al ser inmutables no se puede modificar una cadena de caracteres recurriendo a los índices."
   ]
  },
  {
   "cell_type": "code",
   "execution_count": null,
   "metadata": {
    "scrolled": true
   },
   "outputs": [],
   "source": [
    "try: \n",
    "    texto[0] = 1\n",
    "except: \n",
    "    print(\"No es posible usar asignaciones por índice\")"
   ]
  },
  {
   "cell_type": "markdown",
   "metadata": {},
   "source": [
    "Pese a lo anterior, los datos tipo `str` cuentan con un amplio número de métodos que facilitan todo tipo de operaciones de interés. Aquí listamos los más comunes: "
   ]
  },
  {
   "cell_type": "markdown",
   "metadata": {},
   "source": [
    "|Método|Descripción|\n",
    "|:-------|:-----------|\n",
    "|`capitalize()`|Convierte la primera letra de una cadena de caracteres a mayúscula|\n",
    "|`count('abc')`|Cuenta el número de veces que la cadena de caracteres `'abc'` se encuentra dentro de una cadena de caracteres|\n",
    "|`center(num)`|Alinea al centro una cadena de caracteres dentro de una cadena de caracteres de tamaño `num` compuesta de espacios|\n",
    "|`find('abc')`|Retorna la posición donde se encuentra por primera vez la cadena de caracteres `'abc'` dentro de una cadena de caracteres (si no encuentra la cadena retorna -1)|\n",
    "|`isalnum()`|Indica si una cadena de caracteres está compuesta únicamente de caracteres alfanuméricos|\n",
    "|`isalpha()`|Indica si una cadena de caracteres está compuesta únicamente de letras|\n",
    "|`isdigit()`|Indica si una cadena de caracteres está compuesta únicamente de dígitos|\n",
    "|`isspace()`|Indica si una cadena de caracteres está compuesta únicamente de espacios (' ')|\n",
    "|`lower()`|Convierte todas las letras de una cadena de caracteres a minúsculas|\n",
    "|`ljust(num)`|Alinea al la izquierda una cadena de caracteres dentro de una cadena de caracteres de tamaño `num` compuesta de espacios|\n",
    "|`rfind(abc)`|Retorna la posición donde se encuentra por última vez la cadena de caracteres `'abc'` dentro de una cadena de caracteres (si no encuentra la cadena retorna -1)|\n",
    "|`rjust(num)`|Alinea a la derecha una cadena de caracteres dentro de una cadena de caracteres de tamaño `num` compuesta de espacios|\n",
    "|`split('abc', num)`|Separa una cadena de caracteres utilizando como separador las primeras `num` ocurrencias de la cadena de caracteres `'abc'`|\n",
    "|`splitlines()`|Retorna una lista con las línas de una cadena de caracteres|\n",
    "|`strip()`|Remueve de una cadena de caracteres los espacios que contiene al inicio y al final|\n",
    "|`title()`|Convierte todas las letras de una cadena de caracteres a mayúscula|\n",
    "|`upper()`|Convierte todas las letras de una cadena de caracteres a mayúsculas|"
   ]
  },
  {
   "cell_type": "markdown",
   "metadata": {},
   "source": [
    "### Ejemplo 2"
   ]
  },
  {
   "cell_type": "markdown",
   "metadata": {},
   "source": [
    "Usando la cadena de caracteres encontrada en la caja de código se requiere: \n",
    "\n",
    "* Reemplazar los númerales (`\"#\"`) por espacios para que su lectura sea más fácil.\n",
    "* Eliminar todo lo escrito después del punto y coma (`\";\"`) \n",
    "* Transformar a formato tipo oración (solo la primera palabra va con mayúscula)."
   ]
  },
  {
   "cell_type": "code",
   "execution_count": null,
   "metadata": {
    "scrolled": true
   },
   "outputs": [],
   "source": [
    "texto2 = \"Era#Necesario#Que#El#Hospital#Permaneciese#Abierto#Toda#La#Noche;#Hubo#Que#Establecer#Turnos.\""
   ]
  },
  {
   "cell_type": "markdown",
   "metadata": {},
   "source": [
    "Primero, reemplazamos los numerales por espacios. Para ello, utilizamos el método `replace` cuyos parámetros indican la cadena de caracteres a reemplazar y la cadena de caracteres que la va a reemplazar."
   ]
  },
  {
   "cell_type": "code",
   "execution_count": null,
   "metadata": {
    "scrolled": false
   },
   "outputs": [],
   "source": [
    "texto2 = texto2.replace('#',' ')\n",
    "print(texto2)"
   ]
  },
  {
   "cell_type": "markdown",
   "metadata": {},
   "source": [
    "El método `split` separa una cadena de caracteres cada vez que encuentra la subcadena ingresada como parámetro y retorna una lista en la que se encuentran almacenados los fragmentos de la cadena de caracteres original. A continuación, veamos el resultado de aplicar el método `split` a la cadena `texto2` ingresando como parámetro la subcadena `\";\"`."
   ]
  },
  {
   "cell_type": "code",
   "execution_count": null,
   "metadata": {
    "scrolled": true
   },
   "outputs": [],
   "source": [
    "print(texto2.split(';'))"
   ]
  },
  {
   "cell_type": "markdown",
   "metadata": {},
   "source": [
    "Para quedarnos con la información que nos interesa, ejecutamos una consulta sobre esta lista. "
   ]
  },
  {
   "cell_type": "code",
   "execution_count": null,
   "metadata": {
    "scrolled": true
   },
   "outputs": [],
   "source": [
    "texto2 = texto2.split(';')[0]\n",
    "print(texto2)"
   ]
  },
  {
   "cell_type": "markdown",
   "metadata": {},
   "source": [
    "Eliminamos las mayúsculas al comienzo de cada palabra utilizando el método `lower`."
   ]
  },
  {
   "cell_type": "code",
   "execution_count": null,
   "metadata": {
    "scrolled": true
   },
   "outputs": [],
   "source": [
    "texto2 = texto2.lower()\n",
    "print(texto2)"
   ]
  },
  {
   "cell_type": "markdown",
   "metadata": {},
   "source": [
    "Por último, utilizamos el método `capitalize` para tener el formato tipo oración requerido. "
   ]
  },
  {
   "cell_type": "code",
   "execution_count": null,
   "metadata": {
    "scrolled": true
   },
   "outputs": [],
   "source": [
    "texto2 = texto2.capitalize() + '.'\n",
    "print(texto2)"
   ]
  },
  {
   "cell_type": "markdown",
   "metadata": {},
   "source": [
    "### 1.2. Cadenas de caracteres interpretadas como `True` o `False`"
   ]
  },
  {
   "cell_type": "markdown",
   "metadata": {},
   "source": [
    "En Python, aplicamos un condicional a una cadena de caracteres, lista o cualquier otra estructura de datos, para verificar si está vacía. El condicional retorna: `False`, si la estructura está vacía; `True`, de lo contrario. Esto será especialmente útil para identificar líneas vacías al leer archivos."
   ]
  },
  {
   "cell_type": "code",
   "execution_count": null,
   "metadata": {},
   "outputs": [],
   "source": [
    "texto3 = \"\"\n",
    "if texto3:\n",
    "    print(\"La cadena de caracteres no esta vacía\")\n",
    "else:\n",
    "    print(\"La cadena de caracteres está vacía\")"
   ]
  },
  {
   "cell_type": "code",
   "execution_count": null,
   "metadata": {
    "scrolled": true
   },
   "outputs": [],
   "source": [
    "texto4 = \"Python\"\n",
    "if texto4:\n",
    "    print(\"La cadena de caracteres no está vacía\")\n",
    "else:\n",
    "    print(\"La cadena de caracteres está vacía\")"
   ]
  },
  {
   "cell_type": "markdown",
   "metadata": {},
   "source": [
    "## 2. Importación de archivos de texto `\".csv\"` y `\".txt\"`"
   ]
  },
  {
   "cell_type": "markdown",
   "metadata": {},
   "source": [
    "Según el Instituto de Ingenieros Eléctricos y Electrónicos (IEEE por sus siglas en Inglés), un archivo de texto, el cual es típicamente almacenado con extensión `'.txt'`, es un documento estándar de texto organizado en cero o más líneas (IEEE, 2018). Las líneas no pueden contener un carácter _Null_ y tampoco pueden exceder la constante de la extensión máxima de una línea (específicada en bytes). Generalmente, para marcar el final de una línea (*EOL* por sus siglas en Inglés) se usa la expresión `\"\\n\"`, aunque esta práctica varía entre sistemas operativos."
   ]
  },
  {
   "cell_type": "markdown",
   "metadata": {},
   "source": [
    "En Python, los archivos se pueden modificar como si fueran variables. Utilizamos propiedades similares a las que hemos visto, puesto que disponemos de métodos para realizar las operaciones que necesitemos. La palabra *open* está reservada en Python para una función integrada llamada `open`, la cuál recibe como parámetro indispensable un archivo. Esta función abre un archivo y retorna un Objeto Archivo (*File Object*). Según el tipo de archivo que se haya importado, este objeto se encontrará en alguna de las siguientes categorías: binario sin procesar, binario procesado o texto. Esta sería la sintaxis básica para importar un archivo: \n",
    "\n",
    "```python\n",
    "f = open(\"Archivos/archivo.txt\")\n",
    "```"
   ]
  },
  {
   "cell_type": "markdown",
   "metadata": {},
   "source": [
    "### 2.1. Parámetros de la función `open`"
   ]
  },
  {
   "cell_type": "markdown",
   "metadata": {},
   "source": [
    "Como estamos trabajando con archivos de texto, el objeto `f` será del tipo archivo de texto, y estará en capacidad de leer y escribir cadenas de caracteres. Antes de explicar los métodos que tendrá el objeto `f`, explicaremos los argumentos que ofrece la función `open()`, que son relevantes para el manejo de archivos de texto.\n",
    "\n",
    "```python\n",
    "f = open(file, mode, encoding, newline) \n",
    "```"
   ]
  },
  {
   "cell_type": "markdown",
   "metadata": {},
   "source": [
    "* **file:** se refiere a la ruta en el directorio del archivo a abrir.\n",
    "    \n",
    "    * Ruta absoluta: siempre contiene el directorio raiz y la ruta completa que incluye cada uno de los subdirectorios que llevan al archivo. Ej. `\"C:/home/sally/statusReport\"` <br>\n",
    "    \n",
    "    * Ruta relativa: para archivos que se encuentran en el directorio actual o subdirectorios del mismo, basta con declarar los subdirectorios que llevan al archivo solo a partir del directorio actual. Ej. `\"./sally/statusReport\"` se refiere al archivo a abrir. Podemos escribir el nombre del archivo si se encuentra dentro del directorio de trabajo, como hicimos en la línea de código anterior, o la ruta absoluta en el directorio desde la raiz del directorio. \n",
    "\n",
    "* **mode:** se refiere a las opciones para abrir el archivo, a continuación presentamos algunos valores que puede tomar el parámetro y la función que ejecuta. La opción por defecto es `'r'`. \n",
    "\n",
    "|Código|Función|\n",
    "|-------|-----------|\n",
    "|`'r'`| Abre el archivo para su lectura ubicando el cursor al inicio de este|\n",
    "|`'w'` | Abre el archivo para su escritura o lo crea si no existe|\n",
    "|`'a'`| Permite agregar más líneas al archivo sin editar las demás|\n",
    "|`'r+'`| Abre el archivo para su lectura y escritura ubicando el cursor al inicio de este|\n",
    "\n",
    "* **encoding**: hace referencia a la codificación de caracteres empleada para facilitar el procedimiento de lectura del archivo.  Típicamente, las tres mas usadas son \"UTF-8\", \"ISO-8859-1\" y \"Windows-1251\", estas tienen algunas variaciones sobre las que puede investigar. \n",
    "\n",
    "* **newline**: hace referencia al caracter empleado para distinguir el final de una línea. El caracter por defecto es `None`.\n",
    "\n",
    "|Código|Descripción|\n",
    "|-------|-----------|\n",
    "|`'\\n'`| Utiliza únicamente la convención `\\n`| \n",
    "|`'\\r'`| Utiliza únicamente la convención `\\r`|\n",
    "|`'\\r\\n'` | Utiliza únicamente la convención `\\r\\n`|\n",
    "|`'None'`| Permite usar cualquiera de las anteriores convenciones|"
   ]
  },
  {
   "cell_type": "markdown",
   "metadata": {},
   "source": [
    "### 2.2.  Métodos del Objeto Archivo"
   ]
  },
  {
   "cell_type": "markdown",
   "metadata": {},
   "source": [
    "Los métodos más utilizados del Objeto Archivo son los siguientes:"
   ]
  },
  {
   "cell_type": "markdown",
   "metadata": {},
   "source": [
    "|Método|Descripción|\n",
    "|-------|-----------|\n",
    "|`read(num)`| Lee el archivo completo o el número `num` de caracteres especificado por parámetro| \n",
    "|`readline()`|  Lee la línea actual del archivo|\n",
    "|`readlines()` | Lee todo el contenido del archivo y almacena sus líneas en una lista|\n",
    "|`write(str)`| Escribe en el archivo la cadena de caracteres `str` ingresada por parámetro|\n",
    "|`close()`| Cierra el archivo dando por terminada su edición y lectura| "
   ]
  },
  {
   "cell_type": "markdown",
   "metadata": {},
   "source": [
    "Otro método importante es el método `seek`, el cuál sirve para desplazar el cursor a cualquier parte del archivo. Este método tiene dos parámetros: uno obligatorio (`num`) y otro opcional (`desp`). A continuación los explicamos:\n",
    "\n",
    "* **num**: número de caracteres que deseamos desplazar el cursor.\n",
    "\n",
    "* **desp**: 0 (por defecto), desplaza el cursor `num` caracteres adelante con respecto al inicio del archivo; 1, desplaza el cursor `num` caracteres adelante con respecto a la posición en la que se encuentra actualmente el cursor; 2, desplaza el cursor `num` caracteres atrás con respecto al final del archivo. \n",
    "\n",
    "**Nota:** los métodos de lectura en Python (`read`, `readline`, `readlines`) leen archivos de forma secuencial (línea por línea). Una vez leído el archivo, si volvemos a ejecutar alguno de estos métodos, este retorna una cadena de caracteres vacía. A continuación vemos un ejemplo de lectura de archivos."
   ]
  },
  {
   "cell_type": "markdown",
   "metadata": {},
   "source": [
    "#### Ejemplo 3"
   ]
  },
  {
   "cell_type": "markdown",
   "metadata": {},
   "source": [
    "En el archivo de texto \"capitales.txt\" encontramos las siguientes líneas:\n",
    "\n",
    "```\n",
    "\"Capitales del mundo:\"\n",
    "\"\"\n",
    "\"Nueva Delhi es la capital de India\"\n",
    "\"Washington es la capital de Estados Unidos\"\n",
    "\"Abuya es la capital de Nigeria\"\n",
    "\"Buenos Aires es la capital de Argentina\"\n",
    "\"Suva es la capital de Fiji\"\n",
    "```"
   ]
  },
  {
   "cell_type": "markdown",
   "metadata": {},
   "source": [
    "Se nos pide lo siguiente: \n",
    "\n",
    "* Leer la primera línea del archivo.\n",
    "* Leer la segunda línea del archivo.\n",
    "* Leer el resto del archivo.\n",
    "* Leer nuevamente todo el archivo por líneas.\n",
    "* Cerrar el archivo."
   ]
  },
  {
   "cell_type": "markdown",
   "metadata": {},
   "source": [
    "Resolvamos la primera solicitud utilizando la función `open`."
   ]
  },
  {
   "cell_type": "code",
   "execution_count": null,
   "metadata": {
    "scrolled": false
   },
   "outputs": [],
   "source": [
    "f = open(\"Archivos/Capitales.txt\", \"r\")"
   ]
  },
  {
   "cell_type": "markdown",
   "metadata": {},
   "source": [
    "Para leer la primera línea utilizamos el método `readline`."
   ]
  },
  {
   "cell_type": "code",
   "execution_count": null,
   "metadata": {
    "scrolled": false
   },
   "outputs": [],
   "source": [
    "f.readline()"
   ]
  },
  {
   "cell_type": "markdown",
   "metadata": {},
   "source": [
    "La instrucción anterior desplazó el cursor al inicio de la segunda línea. Por lo tanto, para leer la segunda línea utilizamos otra vez el método `readline`."
   ]
  },
  {
   "cell_type": "code",
   "execution_count": null,
   "metadata": {
    "scrolled": true
   },
   "outputs": [],
   "source": [
    "f.readline()"
   ]
  },
  {
   "cell_type": "markdown",
   "metadata": {},
   "source": [
    "Para leer el resto de las líneas utilizamos el método `read`. "
   ]
  },
  {
   "cell_type": "code",
   "execution_count": null,
   "metadata": {
    "scrolled": true
   },
   "outputs": [],
   "source": [
    "f.read()"
   ]
  },
  {
   "cell_type": "markdown",
   "metadata": {},
   "source": [
    "Para leer nuevamente el archivo, primero debemos desplazar el cursor al inicio. Utilizamos el método `seek`, estebleciendo en cero el valor de sus dos parámetros. Por defecto el valor del segundo parámetro es cero."
   ]
  },
  {
   "cell_type": "code",
   "execution_count": null,
   "metadata": {
    "scrolled": true
   },
   "outputs": [],
   "source": [
    "f.seek(0)"
   ]
  },
  {
   "cell_type": "markdown",
   "metadata": {},
   "source": [
    "Ahora sí podemos leer nuevamente el archivo completo."
   ]
  },
  {
   "cell_type": "code",
   "execution_count": null,
   "metadata": {
    "scrolled": false
   },
   "outputs": [],
   "source": [
    "f.readlines()"
   ]
  },
  {
   "cell_type": "markdown",
   "metadata": {},
   "source": [
    "Finalmente, para cerrar el archivo utilizamos el método `close`."
   ]
  },
  {
   "cell_type": "code",
   "execution_count": null,
   "metadata": {
    "scrolled": true
   },
   "outputs": [],
   "source": [
    "f.close()"
   ]
  },
  {
   "cell_type": "markdown",
   "metadata": {},
   "source": [
    "### 2.3. Atributos del Objeto Archivo"
   ]
  },
  {
   "cell_type": "markdown",
   "metadata": {},
   "source": [
    "Los atributos más utilizados del Objeto Archivo son los siguientes:"
   ]
  },
  {
   "cell_type": "markdown",
   "metadata": {},
   "source": [
    "|Atributo|Descripción|\n",
    "|-------|-----------|\n",
    "|`closed `| Retorna `True` si el archivo ya está cerrado| \n",
    "|`encoding`|  Retorna el encoding elegido para leer el archivo|\n",
    "|`mode` | Retorna el modo elegido para abrir el archivo|\n",
    "|`name`| Retorna el nombre del archivo|"
   ]
  },
  {
   "cell_type": "markdown",
   "metadata": {},
   "source": [
    "### 2.4. Sintaxis de apertura y cierre automático de archivos"
   ]
  },
  {
   "cell_type": "markdown",
   "metadata": {},
   "source": [
    "Hasta el momento, hemos trabajado con los archivos de texto suministrando una instrucción de apertura del archivo y una instrucción de cierre. Con este proceder corremos el riesgo de olvidar cerrar el archivo, lo cuál se presta para confusiones, consume memoria, y bloquea el uso o apertura del archivo fuera de nuestro Notebook. Para evitar este riesgo, podemos utilizar la siguiente sintaxis: \n",
    "\n",
    "```python\n",
    "with open(\"myfile.txt\", mode, encoding, newline) as f:\n",
    "    # Código a ejecutar con el archivo abierto: \n",
    "    # Instrucción_1\n",
    "    # Instrucción_2\n",
    "```"
   ]
  },
  {
   "cell_type": "markdown",
   "metadata": {},
   "source": [
    "La sintaxis anterior abre el archivo, lo asigna a un Objeto Archivo (`f`), nos permite realizar operaciones y lo cierre de manera automática."
   ]
  },
  {
   "cell_type": "markdown",
   "metadata": {},
   "source": [
    "## 3. Archivos de textos delimitados"
   ]
  },
  {
   "cell_type": "markdown",
   "metadata": {},
   "source": [
    "Los archivo de texto se dividen en archivos de texto delimitados y archivos de texto no delimitados. Los primeros resultan más sencillos para trabajar pues, como su nombre lo indica, cada línea de un archivo de texto delimitado esta separada por un delimitador. Los archivos `\".csv\"`, por ejemplo, se encuentran delimitados por comas (`\",\"`) o por punto y comas (`\";\"`), según convención. Otro delimitador muy común para separar los campos de texto es la tabulación `\"\\t\"`, la cual se usa regularmente en los archivos con formato `\".txt\"`. "
   ]
  },
  {
   "cell_type": "markdown",
   "metadata": {},
   "source": [
    "Para trabajar con archivos de texto delimitados podemos utilizar los métodos de las cadenas de caracteres. En particular, una estrategía muy común es utilizar el método `split` para separar las línea del archivo. Este uso quedará ilustrado en el siguiente ejemplo."
   ]
  },
  {
   "cell_type": "markdown",
   "metadata": {},
   "source": [
    "###  Ejemplo 4"
   ]
  },
  {
   "cell_type": "markdown",
   "metadata": {},
   "source": [
    "Se creó un archivo \"DiccionarioPaises.csv\" con codificación \"UTF-8\" para almacenar en inglés y en español el nombre de los países del mundo. Se nos solicita que llevemos a cabo las siguientes tareas:\n",
    "\n",
    "* Identificar cuál es el delimitador del archivo. \n",
    "* Crear un diccionario inglés-español de los países."
   ]
  },
  {
   "cell_type": "markdown",
   "metadata": {},
   "source": [
    "Una buena práctica para resolver estos requerimientos es utilizar la sintaxis de apertura y cierre automático de archivos. Para identificar el delimitador del archivo procedemos a leer e imprimir su contenido."
   ]
  },
  {
   "cell_type": "code",
   "execution_count": null,
   "metadata": {
    "scrolled": true,
    "tags": [
     "output_scroll"
    ]
   },
   "outputs": [],
   "source": [
    "# Abrimos el archivo para su lectura. \n",
    "with open(\"Archivos/DiccionarioPaises.csv\", encoding = \"utf-8-sig\") as f:\n",
    "    # Leemos e imprimimos el contenido del archivo.\n",
    "    print(f.read())"
   ]
  },
  {
   "cell_type": "markdown",
   "metadata": {},
   "source": [
    "Ahora, creemos el diccionario inglés-español de los países que nos fueron solicitados."
   ]
  },
  {
   "cell_type": "code",
   "execution_count": null,
   "metadata": {
    "scrolled": true
   },
   "outputs": [],
   "source": [
    "# Creamos un diccionario vacío\n",
    "dicc_paises = {}\n",
    "\n",
    "# Abrimos el archivo para su lectura. \n",
    "with open(\"Archivos/DiccionarioPaises.csv\", encoding = 'utf-8-sig') as f: \n",
    "    # Leemos el archivo como una sola cadena de caracteres\n",
    "    lineas = f.read()\n",
    "    # Separamos su contenido por líneas\n",
    "    lineas = lineas.splitlines()\n",
    "    \n",
    "    # Recorremos la lista de líneas sin incluir los nombres de las columnas: \"País en español\" y \"País en inglés\"\n",
    "    for i in lineas[1:]: \n",
    "        # La llave y el valor de cada elemento del diccionario son el nombre del país en inglés y en español, respectivamente.\n",
    "        dicc_paises[i.split(\";\")[1]] = i.split(\";\")[0]\n",
    "\n",
    "# Veamos el valor de nuestro diccionario para la llave 'Germany'\n",
    "dicc_paises['Germany']"
   ]
  },
  {
   "cell_type": "markdown",
   "metadata": {},
   "source": [
    "## 4. Archivos de textos no delimitados"
   ]
  },
  {
   "cell_type": "markdown",
   "metadata": {},
   "source": [
    "Los archivos de texto no delimitados no tienen un delimitador para distinguir los campos de texto. Sin embargo, suelen agrupar la información en campos de texto de ancho fijo. A continuación, se presenta una matriz de números con tres columnas de ancho fijo:\n",
    "\n",
    "```\n",
    "col1    col2    col3 \n",
    "------  ------  ------\n",
    "10000   500     60  \n",
    "8500    3000    9\n",
    "11000   2500    30\n",
    "9000    2000    21\n",
    "```"
   ]
  },
  {
   "cell_type": "markdown",
   "metadata": {},
   "source": [
    "Los archivos de ancho fijo pueden estar alineados a la izquierda (como en el caso anterior) o la derecha. Si están alineados a la izquierda, la distancia entre el primer carácter de un campo y el primer carácter del siguiente campo es siempre la misma, entre cada par de campos. De manera analóga, si estan alineados a la derecha, la distancia entre cada par de últimos carácteres es fija. A continuación un ejemplo de alineación a la derecha:\n",
    "```\n",
    "col1    col2    col3   \n",
    "------  ------  ------  \n",
    " 10000     500      60  \n",
    "  8500    3000       9  \n",
    " 11000    2500      30\n",
    "  9000    2000      21\n",
    "```"
   ]
  },
  {
   "cell_type": "markdown",
   "metadata": {},
   "source": [
    "Puesto que la característica principal de los archivos de ancho fijo es que hay espacios entre las columnas, generalmente utilizamos el método `split` para separarlos, ingresando como parámetro una cadena vacía. También es posible utilizar una cadena de guíones (`\"----\"`) para identificar donde empieza cada columna. Los ejemplos a continuación ilustran estos casos."
   ]
  },
  {
   "cell_type": "markdown",
   "metadata": {},
   "source": [
    "### Ejemplo 5"
   ]
  },
  {
   "cell_type": "markdown",
   "metadata": {},
   "source": [
    "El archivo `\"matriz.txt\"` contiene la matriz de tres columnas definida en la celda anterior. Se nos solicita guardar cada columna de la matriz en una lista independiente y mostrar las tres en una sola tupla."
   ]
  },
  {
   "cell_type": "markdown",
   "metadata": {},
   "source": [
    "En la celda de código procedemos de la siguiente manera:"
   ]
  },
  {
   "cell_type": "code",
   "execution_count": null,
   "metadata": {
    "scrolled": true
   },
   "outputs": [],
   "source": [
    "# Creamos las tres listas vacías\n",
    "lista_col1 = []\n",
    "lista_col2 = []\n",
    "lista_col3 = []\n",
    "\n",
    "# Abrirmos el archivo para su lectura \n",
    "with open(\"Archivos/Matriz.txt\") as f:\n",
    "    # Utilizamos el método readlines de los Objetos Archivo para guardar en una lista las líneas del archivo\n",
    "    lineas_matriz = f.readlines()\n",
    "    \n",
    "    # Recorremos cada línea de la lista de líneas de archivo iniciando en la tercera línea \n",
    "    for i in lineas_matriz[2:]: \n",
    "        # Separamos cada línea en sus tres columnas\n",
    "        lista_lineas = i.split()\n",
    "        # Añadimos el valor que toma el registro actual a la lista correspondiente a cada columna.\n",
    "        lista_col1.append(lista_lineas[0])\n",
    "        lista_col2.append(lista_lineas[1])\n",
    "        lista_col3.append(lista_lineas[2])\n",
    "\n",
    "# Imprimimos las listas como una sola tupla  \n",
    "lista_col1, lista_col2, lista_col3"
   ]
  },
  {
   "cell_type": "markdown",
   "metadata": {},
   "source": [
    "### Ejemplo 6"
   ]
  },
  {
   "cell_type": "markdown",
   "metadata": {},
   "source": [
    "Requerimos analizar la distribución del monto de títulos del tesoro americano de los Estados Unidos que se encuentra en cuentas afuera de su país. El archivo `\"mfh.txt\"` (*Major foreign holders*) recopila esta información para los países donde se concentran un mayor montor de estos títulos. En relación con este archivo se nos solicita inspeccionar el archivo, guardar en una lista la información de los tenedores de bonos en el tiempo, y eliminar el encabezado, las líneas vacías y el gran total del monto de los títulos del tesoro americano."
   ]
  },
  {
   "cell_type": "markdown",
   "metadata": {},
   "source": [
    "Iniciamos con la impresión del archivo de texto para inspeccionarlo:"
   ]
  },
  {
   "cell_type": "code",
   "execution_count": null,
   "metadata": {
    "scrolled": true,
    "tags": [
     "output_scroll"
    ]
   },
   "outputs": [],
   "source": [
    "with open(\"Archivos/mfh.txt\", \"r\") as mfh: \n",
    "    lista_mfh = mfh.read()\n",
    "    print(lista_mfh)"
   ]
  },
  {
   "cell_type": "markdown",
   "metadata": {},
   "source": [
    "Para extraer la información necesitamos seleccionar dos palabras o caracteres que nos indiquen donde inicia y donde termina la tabla. En este caso, podemos usar la palabra '*Period*' para marcar el inicio, dado que esta es la última palabra del encabezado antes de iniciar la tabla. Por su parte, podemos usar la palabra 'Grand' para marcar el final, dado que la instrucción nos indica que hasta esa línea llega la información de interés. "
   ]
  },
  {
   "cell_type": "markdown",
   "metadata": {},
   "source": [
    "En la celda de código procedemos de la siguiente manera:"
   ]
  },
  {
   "cell_type": "code",
   "execution_count": null,
   "metadata": {
    "scrolled": true,
    "tags": [
     "output_scroll"
    ]
   },
   "outputs": [],
   "source": [
    "with open(\"Archivos/mfh.txt\", \"r\") as mfh:  #ACÁ DE PRONTO NO ES CLARO LO DEL GRAND PORQUE A VECES NO MUESTRA LA TABLA COMPLETA.\n",
    "    # Leemos el archivo y lo almacenamos en una sola cadena de caracteres\n",
    "    mfh = mfh.read()\n",
    "    # Seleccionamos la cadena de caracteres que se encuentra entre la palabra 'Period' y la palabra 'Grand'\n",
    "    mfh = mfh.split('PERIOD')[1].split('Grand')[0]\n",
    "    # Declaramos una lista con las líneas de nuestra cadena de caracteres\n",
    "    lista_mfh = mfh.splitlines()\n",
    "    # Nos quedamos únicamente con las líneas no vacías\n",
    "    lista_mfh = [x for x in lista_mfh if x]\n",
    "\n",
    "lista_mfh"
   ]
  },
  {
   "cell_type": "markdown",
   "metadata": {},
   "source": [
    "### Ejemplo 7"
   ]
  },
  {
   "cell_type": "markdown",
   "metadata": {},
   "source": [
    "Ahora se nos solicita que traduzcamos del Inglés al Español el nombre de los países y de los meses incluidos en la `lista_mfh` que recién creamos. Para traducir los países podemos usar el diccionario `dicc_paises` creado en el Ejemplo 4, mientras que para traducir los meses utilizaremos el diccionario `dicc_meses` declarado en la siguiente celda. "
   ]
  },
  {
   "cell_type": "code",
   "execution_count": null,
   "metadata": {},
   "outputs": [],
   "source": [
    "dicc_meses = {'Jan':'ENE', 'Feb': 'FEB', 'Mar':'MAR', 'Apr':'ABR', 'May':'MAY' ,'Jun': 'JUN', 'Jul':'JUL',\n",
    "              'Aug': 'AGO', 'Sep': 'SEP', 'Oct':'OCT', 'Nov':'NOV', 'Dec':'DIC'}"
   ]
  },
  {
   "cell_type": "markdown",
   "metadata": {},
   "source": [
    "Para resolver este requerimiento debemos saber en que posición se ubica cada columna de números. A continuación encontramos dichas posiciones."
   ]
  },
  {
   "cell_type": "code",
   "execution_count": null,
   "metadata": {},
   "outputs": [],
   "source": [
    "# Declaramos las siguientes variables: \n",
    "# Lista vacía para almacenar las posiciones de inicio de cada columna de números.\n",
    "lista_inicio_cols = []\n",
    "# Lista vacía para almacenar la última posición de cada columna de números. \n",
    "lista_fin_cols = []\n",
    "# Cadena de caracteres que almacena la fila de guíones contenida en el archivo.\n",
    "fila_guiones = lista_mfh[2]\n",
    "# Variable de tipo entero para marcar el inicio de la busqueda a partir de cada columna. \n",
    "inicio_columna = 0\n",
    "# Variable de tipo lógica para indicar si ya llegamos al final de la lista.\n",
    "booleano = True\n",
    "\n",
    "# Iteramos mientras el booleano se mantenga igual a `True`. \n",
    "while(booleano):\n",
    "    # Declaramos el inicio de una nueva columna encontrando el siguiente guión.\n",
    "    pos_inicio = inicio_columna + fila_guiones[inicio_columna:].find('-')  \n",
    "    # Declaramos el ancho de la columna encontrando el siguiente espacio vacío.  \n",
    "    ancho_columna = fila_guiones[pos_inicio:].find(' ')\n",
    "    \n",
    "    # Si encuentra dicho espacio\n",
    "    if(ancho_columna != -1):\n",
    "        # Almacenamos la posición de inicio de la columna.\n",
    "        lista_inicio_cols.append(pos_inicio)\n",
    "        # Declaramos la posición final de la columna.\n",
    "        pos_final = pos_inicio + ancho_columna \n",
    "        # Almacenamos la posición final de la columna.\n",
    "        lista_fin_cols.append(pos_final) \n",
    "        # Actualizamos el inicio de la columna para la siguiente iteración.\n",
    "        inicio_columna = pos_final\n",
    "    \n",
    "    #Si no se pudo encontrar mas espacios no se se sigue iterando ya que no hay mas columnas.    \n",
    "    else:\n",
    "        booleano = False"
   ]
  },
  {
   "cell_type": "markdown",
   "metadata": {},
   "source": [
    "Traduzcamos los meses utlizando el diccionario `dicc_meses`."
   ]
  },
  {
   "cell_type": "code",
   "execution_count": null,
   "metadata": {
    "scrolled": true
   },
   "outputs": [],
   "source": [
    "# Consultar los meses y años a partir del archivo\n",
    "meses = lista_mfh[0]\n",
    "anhos = lista_mfh[1] \n",
    "\n",
    "# Recorremos las llaves de los diccionarios para reemaplazar los meses en inglés por los meses en español\n",
    "for j in dicc_meses.keys(): \n",
    "    meses = meses.replace(j, dicc_meses[j])\n",
    "\n",
    "meses"
   ]
  },
  {
   "cell_type": "markdown",
   "metadata": {},
   "source": [
    "Al reemplazar una cadena de caracteres que se encuentra en inglés por una cadena de caracteres que contiene su traducción al español, debemos tener en cuenta que estas dos no necesariamente tienen el mismo tamaño. Por ejemplo, si reemplazamos la cadena de caracteres `\"Country\"` (tamaño = 7) por la cadena de caracteres `\"Pais\"` (tamaño = 4), todos los elementos de la fila se moverían tres caracteres a la izquierda, alterando el formato de ancho de columna fijo. "
   ]
  },
  {
   "cell_type": "markdown",
   "metadata": {},
   "source": [
    "Una opción que tenemos para evitar alterar el formato es contabilizar el número de caracteres que hay desde el inicio de la línea hasta el inicio de la siguiente columna (`lista_inicio_cols[0]`). Utilizamos el método `ljust` para crear una cadena de caracteres de dicho tamaño compuesta únicamente de espacios y escribimos la traducción dentro de dicha cadena según la alineación del archivo original (en este caso a la izquierda). Posteriormente, concatenamos la cadena resultante con el resto de la línea. "
   ]
  },
  {
   "cell_type": "code",
   "execution_count": 94,
   "metadata": {},
   "outputs": [
    {
     "data": {
      "text/plain": [
       "'Pais                              2020    2020    2020    2020    2020    2020    2020    2020    2020    2019    2019    2019    2019'"
      ]
     },
     "execution_count": 94,
     "metadata": {},
     "output_type": "execute_result"
    }
   ],
   "source": [
    "anhos = \"Pais\".ljust(lista_inicio_cols[0]) + anhos[lista_inicio_cols[0]:]\n",
    "anhos"
   ]
  },
  {
   "cell_type": "markdown",
   "metadata": {},
   "source": [
    "Traducimos y reemplazamos los nombres de países siguiendo lógica anterior."
   ]
  },
  {
   "cell_type": "code",
   "execution_count": 95,
   "metadata": {
    "scrolled": true,
    "tags": [
     "output_scroll"
    ]
   },
   "outputs": [
    {
     "data": {
      "text/plain": [
       "['Japón                           1276.2  1278.4  1293.0  1261.5  1260.4  1266.5  1272.6  1268.6  1211.8  1155.2  1160.6  1168.5  1146.2',\n",
       " 'China                           1061.7  1068.0  1073.4  1074.4  1083.7  1072.8  1081.6  1092.3  1078.6  1069.9  1089.1  1101.5  1102.4',\n",
       " 'Reino Unido                      428.9   419.9   424.7   445.6   445.8   429.2   469.7   477.1   450.3   392.1   400.5   412.7   412.7',\n",
       " 'Irlanda                          315.8   335.3   330.8   330.3   324.2   301.3   271.6   282.8   271.7   281.9   289.7   285.4   274.1',\n",
       " 'Brasil                           265.1   265.0   265.7   264.1   264.4   259.5   264.4   285.9   283.3   281.8   293.3   298.5   303.0',\n",
       " 'Luxemburgo                       262.5   268.8   264.7   267.6   262.7   265.5   246.1   260.8   255.2   254.6   261.9   263.0   252.3',\n",
       " 'Suiza                            255.3   253.1   250.7   247.4   243.1   241.3   244.6   243.7   238.1   237.5   233.4   233.2   231.1',\n",
       " 'Hong kong                        245.5   250.9   267.1   266.4   269.0   259.4   256.0   268.4   253.0   249.7   249.7   243.6   242.5',\n",
       " 'Islas Caimán                     231.6   228.9   222.3   224.0   216.7   213.0   209.4   228.2   225.1   238.2   234.2   236.8   250.9',\n",
       " 'Bélgica                          218.1   215.0   211.9   218.7   212.1   210.2   206.1   218.0   206.5   207.4   202.4   205.6   215.5',\n",
       " 'Taiwán                           213.5   212.0   209.7   204.6   199.2   201.7   205.0   201.9   199.2   193.1   188.6   191.2   189.0',\n",
       " 'La India                         213.5   196.5   194.6   182.7   169.9   157.4   156.5   177.5   164.3   162.0   159.2   161.4   160.7',\n",
       " 'Singapur                         159.0   160.3   158.6   150.5   142.1   146.1   151.5   165.4   160.7   147.9   150.6   138.8   141.8',\n",
       " 'Francia                          135.4   133.6   130.3   144.2   130.5   137.7   156.0   147.6   134.0   127.7   123.0   133.4   132.2',\n",
       " 'Arabia Saudí                     131.2   130.0   124.6   124.9   123.5   125.3   159.1   184.4   182.9   179.8   179.7   178.9   181.5',\n",
       " 'Canadá                           128.0   131.0   133.9   127.5   129.9   136.3   131.5   148.3   157.9   143.3   155.2   157.1   153.4',\n",
       " 'Corea del Sur                    123.2   122.7   123.1   122.7   117.3   120.0   110.8   116.1   121.1   121.9   117.2   117.1   118.5',\n",
       " 'Noruega                           91.3    91.4    90.6    89.5    87.6    93.2    98.0   103.3    97.7    90.1    96.0   100.3    99.2',\n",
       " 'Tailandia                         83.2    85.7    87.9    85.5    85.8    80.5    81.8    91.3    96.0    90.5    91.2    95.2    93.5',\n",
       " 'Alemania                          74.8    78.9    78.3    79.5    80.6    77.7    77.3    86.0    83.7    78.3    79.9    84.0    84.9',\n",
       " 'Bermudas                          73.6    70.9    66.6    66.8    63.9    65.5    64.2    65.9    64.8    71.3    68.2    65.4    69.6',\n",
       " 'Países Bajos                      69.2    68.5    71.2    69.4    67.9    66.2    69.1    70.9    67.7    65.1    62.2    61.7    62.1',\n",
       " 'Israel                            51.5    47.7    48.4    47.6    46.8    43.2    41.1    45.1    45.6    43.1    45.6    45.4    46.0',\n",
       " 'México                            49.2    49.5    47.6    47.0    47.4    45.4    40.9    47.5    45.8    45.3    49.1    49.1    51.5',\n",
       " 'Filipinas                         46.7    47.6    43.8    44.2    42.7    42.7    43.1    41.8    40.4    34.8    37.4    34.6    34.0',\n",
       " 'Kuwait                            46.6    46.4    47.9    44.9    43.6    44.5    40.1    43.6    41.9    43.3    43.0    43.8    44.1',\n",
       " 'Polonia                           44.1    43.8    42.5    39.7    38.0    34.4    35.6    38.8    37.7    38.8    38.5    35.7    36.8',\n",
       " 'Italia                            44.0    43.5    42.6    42.4    41.4    41.5    44.8    46.8    44.6    45.3    45.7    47.1    47.2',\n",
       " 'España                            41.3    41.3    41.9    44.0    47.3    44.0    43.8    46.2    43.9    50.4    44.4    45.6    43.1',\n",
       " 'Australia                         38.3    41.6    42.8    41.9    43.5    44.8    46.3    43.7    45.1    41.8    44.6    45.4    39.6',\n",
       " 'Suecia                            38.2    38.3    40.0    39.1    37.1    36.5    39.5    45.4    45.0    48.7    49.5    46.9    47.3',\n",
       " 'Emiratos Árabes Unidos (EAU)      33.1    36.6    29.5    26.1    27.9    26.3    28.0    37.3    39.8    40.7    39.9    38.4    37.3',\n",
       " 'Vietnam                           30.4    30.1    29.9    30.3    30.3    29.6    30.7    31.0    30.3    30.5    29.9    29.2    28.8',\n",
       " 'Otros                            551.1   551.8   566.1   551.5   551.8   544.1   532.4   574.8   563.4   542.3   548.7   551.8   550.7']"
      ]
     },
     "execution_count": 95,
     "metadata": {},
     "output_type": "execute_result"
    }
   ],
   "source": [
    "# Creamos una lista vacía para almacenar las líneas en español\n",
    "traducidos = []\n",
    "# Almacenamos en una variable la posición en la que inicia la primera columna de números\n",
    "ancho_col = lista_inicio_cols[0]\n",
    "\n",
    "# Recorremos las líneas desde la cuarta hasta la penúltima\n",
    "for linea in lista_mfh[3:-1]: \n",
    "    # Usamos un rebanado y el método strip para extraer el país de la línea\n",
    "    pais_ing = linea[:ancho_col].strip(' ')\n",
    "    # Lo traducimos\n",
    "    pais_esp = dicc_paises[pais_ing]\n",
    "    # Agregamos a nuestra lista de traducidos la línea completa  \n",
    "    traducidos.append(pais_esp.ljust(ancho_col) + linea[ancho_col:])\n",
    "\n",
    "# Traducimos la última línea\n",
    "traducidos.append(\"Otros\".ljust(ancho_col) + lista_mfh[-1][ancho_col:]) \n",
    "traducidos"
   ]
  },
  {
   "cell_type": "markdown",
   "metadata": {},
   "source": [
    "### Ejemplo 8"
   ]
  },
  {
   "cell_type": "markdown",
   "metadata": {},
   "source": [
    "Requerimos imprimir la tabla traducida en un archivo llamado `\"tft.txt\"` (Tenedores Fóraneos de Tesoros), incluyendo encabezados y pies de tablas. "
   ]
  },
  {
   "cell_type": "code",
   "execution_count": 96,
   "metadata": {},
   "outputs": [],
   "source": [
    "# Abrimos el archivo paras su escritura\n",
    "with open(\"Archivos/tft.txt\", \"w\", encoding = \"UTF-8\") as tft: \n",
    "    # Escribimos el encabezado centrado\n",
    "    tft.write(\"TENEDORES FORÁNEOS DE BONOS DEL TESORO AMERICANO\".center(len(fila_guiones)) + \"\\n\" + \"\\n\")\n",
    "    # Escribimos los títulos de las columnas \n",
    "    tft.write(meses + \"\\n\")\n",
    "    tft.write(anhos + \"\\n\")\n",
    "    tft.write(fila_guiones + \"\\n\" + \"\\n\")\n",
    "    # Escribimos las líneas correspondientes a la información de los países\n",
    "    \n",
    "    for i in traducidos: \n",
    "        tft.write(i + \"\\n\")\n",
    "    \n",
    "    # Escribimos el pie de tabla alineado a la derecha\n",
    "    tft.write(\"\\n\" + \"Cifras en Millones de Dólares al cierre del periodo\".rjust(len(fila_guiones)))"
   ]
  },
  {
   "cell_type": "markdown",
   "metadata": {},
   "source": [
    "## Referencias"
   ]
  },
  {
   "cell_type": "markdown",
   "metadata": {},
   "source": [
    "The Java Tutorials (1995). What Is a Path? (And Other File System Facts). Recuperado el 17 de agosto de 2021. https://docs.oracle.com/javase/tutorial/essential/io/path.html\n",
    " \n",
    "Biblioteca Estándar de Python (2020). Built in Functions. Recuperado el 8 de mayo de 2020. https://docs.python.org/es/3/library/functions.html#open \n",
    " \n",
    "IEEE Std, The Open Group Technical Standard Base Specifications (2018). The open group base specifications issue 7. https://pubs.opengroup.org/onlinepubs/9699919799/basedefs/V1_chap03.html#tag_03_403\n",
    " \n",
    "File Handling in Python (2020). OverIQ. Recuperado el 16 de noviembre de 2020 de: https://owl.purdue.edu/owl/research_and_citation/apa_style/apa_formatting_and_style_guide/reference_list_electronic_sources.html \n",
    " \n",
    "RAE(2020). Punto y coma. Recuperado el 17 de noviembre de 2020 de: \n",
    "https://www.rae.es/dpd/punto%20y%20coma\n",
    " \n",
    "Departamento del Tesoro Americano (2020). Principales tenedores foráneos de títulos del tesoro [Base de Datos]. Recuperado el  15 de septiembre de 2020 de : \n",
    "https://ticdata.treasury.gov/Publish/mfh.txt."
   ]
  },
  {
   "cell_type": "markdown",
   "metadata": {},
   "source": [
    "## Créditos "
   ]
  },
  {
   "cell_type": "markdown",
   "metadata": {},
   "source": [
    "__Autores__: Jorge Esteban Camargo Forero, Alejandro Mantilla Redondo, Diego Alejandro Cely Gómez\n",
    " \n",
    "__Fecha última actualización__: 12/07/2022"
   ]
  }
 ],
 "metadata": {
  "celltoolbar": "Edit Metadata",
  "kernelspec": {
   "display_name": "Python 3 (ipykernel)",
   "language": "python",
   "name": "python3"
  },
  "language_info": {
   "codemirror_mode": {
    "name": "ipython",
    "version": 3
   },
   "file_extension": ".py",
   "mimetype": "text/x-python",
   "name": "python",
   "nbconvert_exporter": "python",
   "pygments_lexer": "ipython3",
   "version": "3.7.4"
  }
 },
 "nbformat": 4,
 "nbformat_minor": 2
}

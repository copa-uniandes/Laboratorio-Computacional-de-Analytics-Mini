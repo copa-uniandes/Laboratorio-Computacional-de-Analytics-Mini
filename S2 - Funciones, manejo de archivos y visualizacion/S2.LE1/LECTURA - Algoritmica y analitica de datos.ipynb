{
 "cells": [
  {
   "cell_type": "markdown",
   "metadata": {},
   "source": [
    "![miad4.png](Archivos/miad4.png)"
   ]
  },
  {
   "cell_type": "code",
   "execution_count": null,
   "metadata": {
    "tags": [
     "hide-input",
     "thebe-init"
    ]
   },
   "outputs": [],
   "source": [
    "import os\n",
    "# Por precaución, cambiamos el directorio activo de Python a aquel que contenga este notebook\n",
    "if \"PAD-book\" in os.listdir():\n",
    "    os.chdir(r\"PAD-book/Laboratorio-Computacional-de-Analytics/S2 - Funciones, manejo de archivos y visualizacion/S2.LE1/\")"
   ]
  },
  {
   "cell_type": "markdown",
   "metadata": {},
   "source": [
    "# ¿Qué tiene que ver la algorítmica con la analítica de datos?"
   ]
  },
  {
   "cell_type": "markdown",
   "metadata": {},
   "source": [
    "## La algorítmica y la analítica de datos"
   ]
  },
  {
   "cell_type": "markdown",
   "metadata": {},
   "source": [
    "La analítica de datos, de forma muy gruesa, implica identificar una pregunta de negocio y desarrollar una solución analítica que provea insumos para responderla a partir de los datos disponibles. Esto conlleva procesos iterativos de exploración y preparación de datos, así como selección y evaluación de modelos, e implementación de un entregable final, que puede ser un reporte, una aplicación o un tablero de control. Sin embargo, no es tan transparente cómo definir una pregunta de negocio o una herramienta analítica adecuada, ni cómo llegar de una a la otra. El pensamiento algorítmico constituye un apoyo importante para estructurar los procesos necesarios para abordar proyectos complejos de analítica de datos. En ese sentido, algunos retos son:"
   ]
  },
  {
   "cell_type": "markdown",
   "metadata": {},
   "source": [
    "* Formular una pregunta de negocio no es algo trivial: toma demasiadas horas de interactuar con *stakeholders*, deseablemente mediante metodologías estructuradas que ayuden a construir modelos mentales compartidos del problema (para evitar enfrascarse en discusiones que no contribuyan específicamente a construir la pregunta). Luego, durante el desarrollo del proyecto hay que validar y re-negociar los acuerdos con estas personas según los hallazgos y circunstancias que van apareciendo. Al final, se debe presentar, en términos que todos entiendan, los resultados obtenidos y, si es el caso, proveer una instrucción sobre cómo usar las herramientas que se hayan desarrollado, pues hay casos en los que la herramienta se desarrolla para resolver el problema, pero no se pretende que la organización la use directamente."
   ]
  },
  {
   "cell_type": "markdown",
   "metadata": {},
   "source": [
    "* Los datos no están listos para ser usados y su manejo es muy técnico: puede que los datos no existan y haya que diseñar la manera de obtenerlos. Luego, implementar el proceso de recolección, verificar que los formatos y tipos de datos sean adecuados, manejar datos erroneos y faltates, identificar formas seguras, eficientes y escalables para almacenarlos, de manera que se puedan usar fácilmente a lo largo del tiempo en aquellas dependencias donde se necesiten."
   ]
  },
  {
   "cell_type": "markdown",
   "metadata": {},
   "source": [
    "* Existen diversos métodos y técnicas de análisis para diferentes propósitos. Seleccionar adecuadamente el tipo de métodos a utilizar es una tarea que requiere conocimiento técnico y experiencia práctica: algunos modelos se concentran en entender y dar sentido a la información que está directamente en los datos (modelos descriptivos); otros buscan entender relaciones entre variables o estimar posibles comportamientos futuros a partir de los datos, tratando de ir más allá de la información explícita allí contenida (modelos predictivos); finalmente, existen técnicas que buscan utilizar esos datos para encontrar y evaluar alternativas de solución o decisión para responder de manera adecuada ante una situación dada (modelos prescriptivos). Adicionalmente, al interior de cada una de estas familias, se debe seleccionar una técnica específica. Por ejemplo, un modelo de clasificación en lugar de uno de regresión, o un modelo de simulación en lugar de uno de optimización, según la pregunta de negocio que se busca resolver.\n",
    "\n",
    "* Una vez seleccionada una técnica específica, es necesario seleccionar las variables que se tendrán en cuenta, los subconjuntos de datos a utilizar (por ejemplo, para etrenar y validar modelos), los parámetros que puedan requerir los modelos seleccionados. Para esto, resulta crucial implementar una serie de experimentos que permitan evaluar cuáles modelos, variables y parámetros conducen a conclusiones válidas y/o mejor desempeño según métricas que dependen de la pregunta de negocio. La ejecución de estos experimentos es una tarea repetitiva que se ajusta perfectamente a las fortalezas que ofrece la programación. Así, el analista debe tener la claridad (en términos de negocio) de saber qué técnicas considerar y qué experimentos plantear, así como la habilidad técnica de programar rutinas que ejecuten los experimentos y generen reportes adecuados para el análisis. Esto, por supuesto, requiere un entendimiento profundo de lo que se busca con la pregunta de negocio y un conocimiento del funcionamiento, requerimientos y supuestos de los modelos que se podrían llegar a utilizar.\n",
    "\n",
    "* Solucionar el problema va más allá de reportar el resultado de un modelo. Con frecuencia, el interés de los tomadores de decisiones no es un resultado numérico para el momento, sino un proceso o sistema que les permita: mejorar su entendimiento de la organización y los procesos de toma de decisiones; y tener herramientas de navegación para abordar problemas de decisión no solo para los datos de hoy, sino a lo largo del tiempo, lo cual implica un tipo de solución diferente (ej., una aplicación de software) y unos retos frente al mantenimiento de la misma.</br></br>\n",
    "\n",
    "* Finalmente, la implementación de una unidad de analítica de datos en una organización normalmente implica capacitación del personal y transformaciones de los procesos y la cultura, sumados a la instalación y mantenimiento de la plataforma tecnológica necesaria."
   ]
  },
  {
   "cell_type": "markdown",
   "metadata": {},
   "source": [
    "Así pues, aunque un proyecto de analítica de datos no es lo mismo que un proyecto de software, sí hay un componente común de diseño que es muy importante: cómo hacer que la solución desarrollada (cuya implementación última es código en ambos casos) responda a las necesidades del cliente. Por esto, el diseño y el pensamiento algorítmico son el pegamento de otros componentes importantes en la solución analítica. La pregunta es: cómo concebir la articulación de los múltiples procesos involucrados, de forma que se cumplan adecuadamente unos requerimientos."
   ]
  },
  {
   "cell_type": "markdown",
   "metadata": {},
   "source": [
    "## Diagrama de flujo"
   ]
  },
  {
   "cell_type": "markdown",
   "metadata": {},
   "source": [
    "Como venimos discutiendo, la programación es más que simplemente escribir instrucciones puntuales para el computador. La mejor parte de la programación tiene que ver con el diseño de procedimientos computacionales. En el caso de la analítica de datos, el procedimiento general normalmente obedece a los pasos que se plantean en la guía de estudio para la certificación CAP. Sin embargo, en cada proyecto el analista debe diseñar una implementación específica de ese procedimiento. En algunos casos, el trabajo más extensivo estará en el procesamiento de los datos; en otros casos, puede ser la selección de algún tipo de modelo la que toma mayor importancia; en otros, será el entrenamiento específico de un modelo, o la forma de visualizar cierta información. En cualquiera de los casos, el analista será quien orqueste el proceso de solución al diseñar el procedimiento general y cada uno de los pasos que lo componen. El uso de diagramas de flujo o pseudo-código constituye una herramienta fundamental para facilitar la labor del analista y del programador."
   ]
  },
  {
   "cell_type": "markdown",
   "metadata": {},
   "source": [
    "![anal_diag_flow.png](Archivos/anal_diag_flow.png)"
   ]
  },
  {
   "cell_type": "markdown",
   "metadata": {},
   "source": [
    "La anterior figura muestra un ejemplo de un diagrama de flujo; este describe un procedimiento que podría darse en un proyecto de analítica de datos. Cada una de las cajas que aparecen allí podrían tener su propio diagrama de flujo, especificando los pasos necesarios para completar la tarea descrita. El rol del programador apunta a eso: a orquestar las tareas necesarias para lograr las implementaciones que requiere un proyecto complejo, siendo diseñador de los procesos y, en algunos casos, también quién los implementa en código."
   ]
  },
  {
   "cell_type": "markdown",
   "metadata": {},
   "source": [
    "## Créditos"
   ]
  },
  {
   "cell_type": "markdown",
   "metadata": {},
   "source": [
    "__Autores__: Camilo Hernando Gómez Castro, Alejandro Mantilla Redondo, Diego Alejandro Cely Gómez\n",
    " \n",
    "__Fecha última actualización__: 07/07/2022"
   ]
  }
 ],
 "metadata": {
  "kernelspec": {
   "display_name": "Python 3 (ipykernel)",
   "language": "python",
   "name": "python3"
  },
  "language_info": {
   "codemirror_mode": {
    "name": "ipython",
    "version": 3
   },
   "file_extension": ".py",
   "mimetype": "text/x-python",
   "name": "python",
   "nbconvert_exporter": "python",
   "pygments_lexer": "ipython3",
   "version": "3.8.13"
  }
 },
 "nbformat": 4,
 "nbformat_minor": 4
}
